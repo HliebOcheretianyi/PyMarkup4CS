{
 "cells": [
  {
   "cell_type": "code",
   "execution_count": null,
   "id": "initial_id",
   "metadata": {
    "collapsed": true
   },
   "outputs": [],
   "source": [
    "import pandas as pd\n",
    "import numpy as np\n",
    "import json\n",
    "import re\n",
    "import os\n",
    "\n",
    "from transformers import AutoTokenizer, AutoModelForCausalLM\n",
    "\n",
    "import torch"
   ]
  },
  {
   "metadata": {},
   "cell_type": "code",
   "outputs": [],
   "execution_count": null,
   "source": [
    "DATA_FOLDER = '../data'\n",
    "MODELS_FOLDER = '../data/DocProperties/incore-exporter/Workflow.DTO/Models'"
   ],
   "id": "2172f5b73b5c986"
  },
  {
   "metadata": {},
   "cell_type": "code",
   "outputs": [],
   "execution_count": null,
   "source": "model_id = \"Qwen/Qwen3-0.6B\"",
   "id": "96c5721038195aef"
  },
  {
   "metadata": {},
   "cell_type": "code",
   "outputs": [],
   "execution_count": null,
   "source": [
    "tokenizer = AutoTokenizer.from_pretrained(model_id)\n",
    "model = AutoModelForCausalLM.from_pretrained(model_id, device_map=\"auto\", trust_remote_code=True)"
   ],
   "id": "e05c810677a44202"
  },
  {
   "metadata": {},
   "cell_type": "code",
   "outputs": [],
   "execution_count": null,
   "source": [
    "snippets = []\n",
    "with open(f\"{DATA_FOLDER}/DocProperties_JSONL.jsonl\", \"r\", encoding=\"utf-8\") as f:\n",
    "    for line in f:\n",
    "        snippets.append(json.loads(line))"
   ],
   "id": "c1a593a050b67b6a"
  },
  {
   "metadata": {},
   "cell_type": "code",
   "outputs": [],
   "execution_count": null,
   "source": [
    "prompt_template = lambda code: f\"Explain what this C# code does:\\n{code}\\nПояснення:\"\n",
    "\n",
    "def generate_explanation(code):\n",
    "    input_text = prompt_template(code)\n",
    "    input_ids = tokenizer(input_text, return_tensors=\"pt\").input_ids.to(model.device)\n",
    "    output = model.generate(\n",
    "        input_ids,\n",
    "        max_new_tokens=128,\n",
    "        do_sample=True,\n",
    "        temperature=0.5,\n",
    "        repetition_penalty=1.2,\n",
    "        pad_token_id=tokenizer.pad_token_id,\n",
    "        eos_token_id=tokenizer.eos_token_id,\n",
    "    )\n",
    "    generated = tokenizer.decode(output[0], skip_special_tokens=True)\n",
    "    return generated.replace(input_text, \"\", 1).strip().split(\"\\n\")[0].strip()"
   ],
   "id": "d5df3928e0afb268"
  },
  {
   "metadata": {},
   "cell_type": "code",
   "outputs": [],
   "execution_count": null,
   "source": [
    "for s in snippets:\n",
    "    s[\"explanation\"] = generate_explanation(s[\"messages\"][1][\"content\"])\n",
    "snippets.sort(key=lambda s: s[\"id\"])\n",
    "snippets"
   ],
   "id": "5d660bf9742556e4"
  }
 ],
 "metadata": {
  "kernelspec": {
   "display_name": "Python 3",
   "language": "python",
   "name": "python3"
  },
  "language_info": {
   "codemirror_mode": {
    "name": "ipython",
    "version": 2
   },
   "file_extension": ".py",
   "mimetype": "text/x-python",
   "name": "python",
   "nbconvert_exporter": "python",
   "pygments_lexer": "ipython2",
   "version": "2.7.6"
  }
 },
 "nbformat": 4,
 "nbformat_minor": 5
}
