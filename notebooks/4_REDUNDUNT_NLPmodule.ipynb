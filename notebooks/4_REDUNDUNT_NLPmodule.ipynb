{
 "cells": [
  {
   "metadata": {},
   "cell_type": "markdown",
   "source": "python -m spacy download uk_core_news_sm",
   "id": "ab0de3edf1490633"
  },
  {
   "cell_type": "code",
   "id": "initial_id",
   "metadata": {
    "collapsed": true,
    "ExecuteTime": {
     "end_time": "2025-08-21T14:40:05.657903Z",
     "start_time": "2025-08-21T14:40:02.476085Z"
    }
   },
   "source": [
    "import spacy\n",
    "from spacy.tokens import DocBin\n",
    "from collections import defaultdict\n",
    "import math\n",
    "import random\n",
    "from paths import *\n",
    "import pandas as pd\n",
    "import json\n",
    "import torch"
   ],
   "outputs": [],
   "execution_count": 1
  },
  {
   "metadata": {
    "ExecuteTime": {
     "end_time": "2025-08-21T14:40:07.575934Z",
     "start_time": "2025-08-21T14:40:07.559932Z"
    }
   },
   "cell_type": "code",
   "source": "spacy.util.get_installed_models()",
   "id": "b59e0fa5ea1ee010",
   "outputs": [
    {
     "data": {
      "text/plain": [
       "['uk_core_news_sm']"
      ]
     },
     "execution_count": 2,
     "metadata": {},
     "output_type": "execute_result"
    }
   ],
   "execution_count": 2
  },
  {
   "metadata": {
    "ExecuteTime": {
     "end_time": "2025-08-21T14:40:09.672909Z",
     "start_time": "2025-08-21T14:40:08.777669Z"
    }
   },
   "cell_type": "code",
   "source": "nlp = spacy.load(\"uk_core_news_sm\")\n",
   "id": "e0d508fbe8bc117a",
   "outputs": [],
   "execution_count": 3
  },
  {
   "metadata": {
    "ExecuteTime": {
     "end_time": "2025-08-20T18:20:01.035104Z",
     "start_time": "2025-08-20T18:20:01.019930Z"
    }
   },
   "cell_type": "code",
   "source": [
    "with open(f'{DATA_FOLDER}/DocProperties/annotations.json', encoding='utf-8') as f:\n",
    "    json_data = json.load(f)"
   ],
   "id": "1a3d350e2baadeef",
   "outputs": [],
   "execution_count": 36
  },
  {
   "metadata": {
    "ExecuteTime": {
     "end_time": "2025-08-20T18:22:27.659091Z",
     "start_time": "2025-08-20T18:22:27.642089Z"
    }
   },
   "cell_type": "code",
   "source": [
    "converted_data = []\n",
    "for item in json_data[\"annotations\"]:\n",
    "    if item is None:\n",
    "        continue\n",
    "    text, annotation = item\n",
    "    entities = annotation[\"entities\"]\n",
    "    converted_data.append((text, entities))"
   ],
   "id": "98182d89cceb6146",
   "outputs": [],
   "execution_count": 40
  },
  {
   "metadata": {
    "ExecuteTime": {
     "end_time": "2025-08-20T18:24:10.523724Z",
     "start_time": "2025-08-20T18:24:10.504717Z"
    }
   },
   "cell_type": "code",
   "source": [
    "with open(f\"{PROCESSED_DATA_FOLDER}/training_data_augmented.txt\", \"w\", encoding=\"utf-8\") as f:\n",
    "    for entry in converted_data:\n",
    "        f.write(f\"{entry}\\n\")"
   ],
   "id": "6a4e5bfc200050e4",
   "outputs": [],
   "execution_count": 42
  },
  {
   "metadata": {
    "ExecuteTime": {
     "end_time": "2025-08-21T14:40:26.855901Z",
     "start_time": "2025-08-21T14:40:26.844895Z"
    }
   },
   "cell_type": "code",
   "source": [
    "def convert_to_spacy_format(data, nlp):\n",
    "    doc_bin = DocBin()\n",
    "    for item in data:\n",
    "        text, annotations = item\n",
    "        doc = nlp.make_doc(text)\n",
    "        ents = []\n",
    "        for start, end, label in annotations:\n",
    "            span = doc.char_span(start, end, label=label)\n",
    "            if span:\n",
    "                ents.append(span)\n",
    "        doc.ents = ents\n",
    "        doc_bin.add(doc)\n",
    "    return doc_bin"
   ],
   "id": "78197162021bf5cd",
   "outputs": [],
   "execution_count": 4
  },
  {
   "metadata": {
    "ExecuteTime": {
     "end_time": "2025-08-21T14:40:30.027676Z",
     "start_time": "2025-08-21T14:40:29.984661Z"
    }
   },
   "cell_type": "code",
   "source": [
    "data = [\n",
    "    eval(line.strip().rstrip(\",\"))\n",
    "    for line in open(f\"{PROCESSED_DATA_FOLDER}/training_data.txt\", encoding=\"utf-8\")\n",
    "]"
   ],
   "id": "a4f132df51b5c937",
   "outputs": [],
   "execution_count": 5
  },
  {
   "metadata": {
    "ExecuteTime": {
     "end_time": "2025-08-21T14:40:32.233684Z",
     "start_time": "2025-08-21T14:40:32.225683Z"
    }
   },
   "cell_type": "code",
   "source": [
    "class_data = defaultdict(list)\n",
    "for item in data:\n",
    "    if isinstance(item, tuple) and len(item) == 2:\n",
    "        _, annotations = item\n",
    "        for _, _, label in annotations:\n",
    "            class_data[label].append(item)\n",
    "            break"
   ],
   "id": "f13dc3f9b8267c5a",
   "outputs": [],
   "execution_count": 6
  },
  {
   "metadata": {
    "ExecuteTime": {
     "end_time": "2025-08-21T14:40:33.753912Z",
     "start_time": "2025-08-21T14:40:33.747912Z"
    }
   },
   "cell_type": "code",
   "source": [
    "train_ratio = 0.7\n",
    "dev_ratio = 0.2\n",
    "test_ratio = 0.1\n",
    "\n",
    "train_data = []\n",
    "dev_data = []\n",
    "test_data = []"
   ],
   "id": "e78566fba68c017b",
   "outputs": [],
   "execution_count": 7
  },
  {
   "metadata": {
    "ExecuteTime": {
     "end_time": "2025-08-21T14:40:35.273004Z",
     "start_time": "2025-08-21T14:40:35.270003Z"
    }
   },
   "cell_type": "code",
   "source": [
    "for label, items in class_data.items():\n",
    "    n_items = len(items)\n",
    "    n_train = math.ceil(train_ratio * n_items)\n",
    "    n_dev = math.ceil(dev_ratio * n_items)\n",
    "    n_test = n_items - n_train - n_dev  # Оставшееся количество идёт в тестовый набор\n",
    "\n",
    "    # Добавляем данные в наборы\n",
    "    train_data.extend(items[:n_train])\n",
    "    dev_data.extend(items[n_train:n_train + n_dev])\n",
    "    test_data.extend(items[n_train + n_dev:])"
   ],
   "id": "c9661b63c82ab42a",
   "outputs": [],
   "execution_count": 8
  },
  {
   "metadata": {
    "ExecuteTime": {
     "end_time": "2025-08-21T14:40:36.724213Z",
     "start_time": "2025-08-21T14:40:36.718214Z"
    }
   },
   "cell_type": "code",
   "source": [
    "random.shuffle(train_data)\n",
    "random.shuffle(dev_data)\n",
    "random.shuffle(test_data)"
   ],
   "id": "fd917d975c582e01",
   "outputs": [],
   "execution_count": 9
  },
  {
   "metadata": {
    "ExecuteTime": {
     "end_time": "2025-08-21T14:40:37.824615Z",
     "start_time": "2025-08-21T14:40:37.672536Z"
    }
   },
   "cell_type": "code",
   "source": [
    "train_doc_bin = convert_to_spacy_format(train_data, nlp)\n",
    "train_doc_bin.to_disk(f\"{PROCESSED_DATA_FOLDER}/train.spacy\")\n",
    "\n",
    "dev_doc_bin = convert_to_spacy_format(dev_data, nlp)\n",
    "dev_doc_bin.to_disk(f\"{PROCESSED_DATA_FOLDER}/dev.spacy\")\n",
    "\n",
    "test_doc_bin = convert_to_spacy_format(test_data, nlp)\n",
    "test_doc_bin.to_disk(f\"{PROCESSED_DATA_FOLDER}/test.spacy\")"
   ],
   "id": "4af79cc4e1f0cc7d",
   "outputs": [],
   "execution_count": 10
  },
  {
   "metadata": {
    "ExecuteTime": {
     "end_time": "2025-08-20T23:50:27.956907Z",
     "start_time": "2025-08-20T23:50:27.896894Z"
    }
   },
   "cell_type": "code",
   "source": "torch.cuda.get_device_name(0)",
   "id": "3f558649dffa0727",
   "outputs": [
    {
     "data": {
      "text/plain": [
       "'NVIDIA GeForce RTX 3060'"
      ]
     },
     "execution_count": 53,
     "metadata": {},
     "output_type": "execute_result"
    }
   ],
   "execution_count": 53
  },
  {
   "metadata": {},
   "cell_type": "code",
   "outputs": [],
   "execution_count": null,
   "source": "# TODO change cfg for cpu",
   "id": "8c340527468d85a5"
  }
 ],
 "metadata": {
  "kernelspec": {
   "display_name": "Python 3",
   "language": "python",
   "name": "python3"
  },
  "language_info": {
   "codemirror_mode": {
    "name": "ipython",
    "version": 2
   },
   "file_extension": ".py",
   "mimetype": "text/x-python",
   "name": "python",
   "nbconvert_exporter": "python",
   "pygments_lexer": "ipython2",
   "version": "2.7.6"
  }
 },
 "nbformat": 4,
 "nbformat_minor": 5
}
