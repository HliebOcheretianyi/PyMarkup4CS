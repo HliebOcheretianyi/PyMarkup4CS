{
 "cells": [
  {
   "cell_type": "code",
   "id": "initial_id",
   "metadata": {
    "collapsed": true
   },
   "source": [
    "import pandas as pd\n",
    "import numpy as np\n",
    "\n",
    "from sklearn.feature_extraction.text import TfidfVectorizer\n",
    "from sklearn.feature_extraction.text import CountVectorizer\n",
    "\n",
    "from paths import *"
   ],
   "outputs": [],
   "execution_count": null
  },
  {
   "metadata": {
    "ExecuteTime": {
     "end_time": "2025-08-02T01:00:48.428479Z",
     "start_time": "2025-08-02T01:00:48.355463Z"
    }
   },
   "cell_type": "code",
   "source": [
    "df = pd.read_excel(f\"{DATA_FOLDER}/DocProperties/DocProperties_filled.xlsx\")\n",
    "df"
   ],
   "id": "192fdb09584957fb",
   "outputs": [
    {
     "data": {
      "text/plain": [
       "                        Name  \\\n",
       "0      750InsPremAutocivilka   \n",
       "1            750InsPremAsist   \n",
       "2             704LandAddress   \n",
       "3              739ParamSport   \n",
       "4                 769Rate249   \n",
       "..                       ...   \n",
       "946        MedPaymentSumEURO   \n",
       "947    MedInsuranceSumDollar   \n",
       "948      MedInsuranceSumEURO   \n",
       "949  BranchNameFromParameter   \n",
       "950            DirectionCode   \n",
       "\n",
       "                                                                                                                                                                                                                                                                                                                                                                                                                                                                                                                                                                                                                                                                                                                                                                                                                                                                                                                                                                                                                                                                                                                                                                                                                                                     Expression  \\\n",
       "0                                                                                                                                                                                                                                                                                                                                                                                                                                                                                                                                                                                                                                                                                                                                                                                                                                                           __Result = \"---\";\\nWorkflow.DTO.Models.Program prog = __Product.Programs.FirstOrDefault(p => p.GetInsuranceTypeCode() == \"247\");\\nif (prog != null)\\n{\\n\\tif (__Product.PaymentPeriods != null && __Product.PaymentPeriods.Count() > 0)\\n\\t{\\n\\t\\t__Result = __Product.PaymentPeriods.Sum(pp => pp.PlanedPayments.Where(p => p.ProgramGID == prog.gid).Sum(p => p.Value)).ToString(\"N2\");\\n\\t}\\n}\\n   \n",
       "1                                                                                                                                                                                                                                                                                                                                                                                                                                                                                                                                                                                                                                                                                                                                                                                                                                                           __Result = \"---\";\\nWorkflow.DTO.Models.Program prog = __Product.Programs.FirstOrDefault(p => p.GetInsuranceTypeCode() == \"148\");\\nif (prog != null)\\n{\\n\\tif (__Product.PaymentPeriods != null && __Product.PaymentPeriods.Count() > 0)\\n\\t{\\n\\t\\t__Result = __Product.PaymentPeriods.Sum(pp => pp.PlanedPayments.Where(p => p.ProgramGID == prog.gid).Sum(p => p.Value)).ToString(\"N2\");\\n\\t}\\n}\\n   \n",
       "2    __Result = \"\";\\nWorkflow.DTO.Models.Program program = __Product.Programs.FirstOrDefault(p => p.GetInsuranceTypeCode() == \"396\");\\nif (program != null)\\n{\\n\\tWorkflow.DTO.Models.InsuranceObject insuranceObject = program.InsuranceObjects.FirstOrDefault(i => i.GetObjectTypeName() == \"Земельна ділянка\");\\n\\tif (insuranceObject != null)\\n\\t{\\n\\t\\tWorkflow.DTO.Models.Estate estate = (Workflow.DTO.Models.Estate)insuranceObject.Object;\\n\\t\\tif (estate.PostAddressObject != null)\\n\\t\\t{\\n\\t\\t\\t__Result = __Result + \", \" + estate.PostAddressObject.PostCode + \" \" + estate.PostAddressObject.GetParentRegionName() + \", \" + estate.PostAddressObject.GetSettlementName() + \", \" + estate.PostAddressObject.GetStreetTypeName() + \" \" + estate.PostAddressObject.Street + \", б. \" + estate.PostAddressObject.House;\\n\\t\\t}\\n\\t\\telse\\n\\t\\t{\\n\\t\\t\\t\\t\\t__Result = __Result + \", \" + estate.PostAddressObject.PostCode + \" \" + estate.PostAddressObject.GetParentRegionName() + \", \" + estate.PostAddressObject.GetRegionName() + \", \" + estate.PostAddressObject.GetSettlementName() + \", \" + estate.PostAddressObject.GetStreetTypeName() + \" \" + estate.PostAddressObject.Street + \", б. \" + estate.PostAddressObject.House;\\n\\t\\t}\\n\\t}\\n}\\n   \n",
       "3                                                                                                                                                                                                                                                                                                                                                                                                                                                                                                                                                                                                                                                                                                                                                                                                                                                        __Result = \"Ні\";\\nWorkflow.DTO.Models.Program program = GetProgramMed;\\nif (program != null)\\n{\\n\\tWorkflow.DTO.Models.ProgramParameterValue param = program.Parameters.FirstOrDefault(pr => pr.GetParameterName() == \"Відпочинок з риз. видами спорта\");\\n\\tif (param != null)\\n\\t{\\n\\t\\tif (param.GetParameterValueCaption().ToString() != \"False\")\\n\\t\\t{\\n\\t\\t\\t__Result = \"Так\";\\n\\t\\t}\\n\\t}\\n}\\n   \n",
       "4                                                                                                                                                                                                                                                                                                                                                                                                                                                                                                                                                                                                                                                                                                                                                                                   __Result = \"---\";\\nWorkflow.DTO.Models.Program program = __Product.Programs.FirstOrDefault(p => p.GetInsuranceTypeCode() == \"249\");\\nif (program != null)\\n{\\n\\tint count = program.InsuranceObjects.Where(i => i.GetInsuranceObjectTypeName() == \"Об’єкт страхування\").Count();\\n\\tif (count >= 2)\\n\\t{\\n\\t\\t__Result = \"Згідно з Додатком 2 до Договору\";\\n\\t}\\n\\telse\\n\\t{\\n\\t\\t\\tdecimal value = program.InsuranceRate;\\n\\t\\t__Result = value.ToString(\"N4\");\\n\\t}\\n}\\n   \n",
       "..                                                                                                                                                                                                                                                                                                                                                                                                                                                                                                                                                                                                                                                                                                                                                                                                                                                                                                                                                                                                                                                                                                                                                                                                                                                          ...   \n",
       "946                                                                                                                                                                                                                                                                                               Workflow.DTO.Models.Program prog = GetProgramMed;\\n__Result = \"-----\";\\nif (prog != null)\\n{\\n\\tWorkflow.DTO.Models.ProgramParameterValue paramCurr = prog.Parameters.FirstOrDefault(pr => pr.GetParameterCaption() == \"Страховий платіж в EURO\");\\n\\tWorkflow.DTO.Models.ProgramParameterValue paramCurrency = prog.Parameters.FirstOrDefault(pr => pr.GetParameterCaption() == \"Валюта\");\\n\\tif (paramCurr != null)\\n\\t{\\n\\t\\t__Result = paramCurr.GetParameterValueCaption().ToString();\\n\\t}\\n\\telse\\n\\t{\\n\\t\\t\\tif (paramCurrency.GetParameterValueCaption().ToString() == \"EURO\" || paramCurrency.GetParameterValueCaption().ToString() == \"EUR\")\\n\\t\\t{\\n\\t\\t\\tdecimal calculatedPayment = __Product.PaymentPeriods.Sum(pp => pp.PlanedPayments.Where(pp1 => pp1.ProgramGID == prog.gid).Sum(pp1 => pp1.Value));\\n\\t\\t\\t__Result = __Context.ExchangePrimaryMoney(calculatedPayment, \"EUR\", __Product.RegisteredDate).ToString(\"N2\");\\n\\t\\t}\\n\\t}\\n}\\n   \n",
       "947                                                                                                                                                                                                                                                                                                                                                                                                                                                                                                                                                                                             Workflow.DTO.Models.Program prog = GetProgramMed;\\n__Result = \"-----\";\\nif (prog != null)\\n{\\n\\tWorkflow.DTO.Models.ProgramParameterValue paramCurr = prog.Parameters.FirstOrDefault(pr => pr.GetParameterCaption() == \"Страхова сума в USD\");\\n\\tWorkflow.DTO.Models.ProgramParameterValue paramCurrency = prog.Parameters.FirstOrDefault(pr => pr.GetParameterCaption() == \"Валюта\");\\n\\tif (paramCurr != null && paramCurrency.GetParameterValueCaption().ToString() == \"USD\")\\n\\t{\\n\\t\\tdecimal resultSum = decimal.Parse(paramCurr.GetParameterValueCaption().ToString()) * prog.InsuranceObjects.Count();\\n\\t\\t__Result = resultSum.ToString();\\n\\t}\\n}\\n   \n",
       "948                                                                                                                                                                                                                                                                                                                                                                                                                                                                                                                     Workflow.DTO.Models.Program prog = GetProgramMed;\\n__Result = \"-----\";\\nif (prog != null)\\n{\\n\\tWorkflow.DTO.Models.ProgramParameterValue paramCurr = prog.Parameters.FirstOrDefault(pr => pr.GetParameterCaption() == \"Страхова сума в EURO\");\\n\\tWorkflow.DTO.Models.ProgramParameterValue paramCurrency = prog.Parameters.FirstOrDefault(pr => pr.GetParameterCaption() == \"Валюта\");\\n\\tif (paramCurr != null && (paramCurrency.GetParameterValueCaption().ToString() == \"EURO\" || paramCurrency.GetParameterValueCaption().ToString() == \"EUR\"))\\n\\t{\\n\\t\\tdecimal resultSum = decimal.Parse(paramCurr.GetParameterValueCaption().ToString()) * prog.InsuranceObjects.Count();\\n\\t\\t__Result = resultSum.ToString(\"N0\");\\n\\t}\\n}\\n   \n",
       "949                                                                                                                                                                                                                                                                                                                                                                                                                                                                                                                                                                                                                                                                                                                                                                                                                                                                                                                               Workflow.DTO.Models.ProgramParameterValue parameter = __Product.Programs[0].Parameters.FirstOrDefault(p => p.GetParameterName() == \"Місце укладання\");\\nif (parameter != null)\\n{\\n\\t__Result = parameter.ParameterValue.ToString();\\n}\\nif (string.IsNullOrEmpty(__Result))\\n{\\n\\t__Result = __Product.GetBranchName();\\n}\\n   \n",
       "950                                                                                                                                                                                                                                                                                                                                                                                                                                                                                                                                                                                                                                                                                                                                                                                                                                                                          __Result = \"---\";\\nWorkflow.DTO.Models.Branch direction = __Context.GetDirectionBranch(__Product.BranchGID);\\nif (direction != null && direction.OrganizationGID != null)\\n{\\n\\tWorkflow.DTO.Models.Face directorFace = (Workflow.DTO.Models.Face)__Context.GetObject(direction.OrganizationGID);\\n\\tif (directorFace != null)\\n\\t{\\n\\t\\t__Result = directorFace.EDRPOU;\\n\\t}\\n}\\n   \n",
       "\n",
       "                                                                                                                                                                                                                                                                         Description  \n",
       "0    Код знаходить програму з кодом типу страхування \"247\" у продукті, і якщо така існує та є платіжні періоди, обчислює загальну суму запланованих платежів по цій програмі та повертає її у форматі з двома десятковими знаками. Якщо умови не виконані, результат дорівнює \"---\".  \n",
       "1                                                                                             Код обчислює загальну суму запланованих платежів по програмі з кодом типу страхування \"148\" та повертає її у форматі з двома десятковими знаками; якщо дані відсутні — повертає \"---\".  \n",
       "2                                                                                                                                             Код формує текстову адресу земельної ділянки з програми з кодом \"396\", якщо така існує і має відповідний об'єкт страхування та адресу.  \n",
       "3                                                                                                         Код перевіряє, чи в програмі GetProgramMed встановлений параметр \"Відпочинок з риз. видами спорта\" в значення, відмінне від \"False\", і повертає \"Так\" або \"Ні\" відповідно.  \n",
       "4                                                                  Код перевіряє кількість об'єктів страхування в програмі з кодом \"249\"; якщо їх більше одного — повертає текст \"Згідно з Додатком 2 до Договору\", інакше — повертає страхову ставку з точністю до чотирьох знаків.  \n",
       "..                                                                                                                                                                                                                                                                               ...  \n",
       "946                                                                                                                                                                                                                                                                              NaN  \n",
       "947                                                                                                                                                                                                                                                                              NaN  \n",
       "948                                                                                                                                                                                                                                                                              NaN  \n",
       "949                                                                                                                                                                                                                                                                              NaN  \n",
       "950                                                                                                                                                                                                                                                                              NaN  \n",
       "\n",
       "[951 rows x 3 columns]"
      ],
      "text/html": [
       "<div>\n",
       "<style scoped>\n",
       "    .dataframe tbody tr th:only-of-type {\n",
       "        vertical-align: middle;\n",
       "    }\n",
       "\n",
       "    .dataframe tbody tr th {\n",
       "        vertical-align: top;\n",
       "    }\n",
       "\n",
       "    .dataframe thead th {\n",
       "        text-align: right;\n",
       "    }\n",
       "</style>\n",
       "<table border=\"1\" class=\"dataframe\">\n",
       "  <thead>\n",
       "    <tr style=\"text-align: right;\">\n",
       "      <th></th>\n",
       "      <th>Name</th>\n",
       "      <th>Expression</th>\n",
       "      <th>Description</th>\n",
       "    </tr>\n",
       "  </thead>\n",
       "  <tbody>\n",
       "    <tr>\n",
       "      <th>0</th>\n",
       "      <td>750InsPremAutocivilka</td>\n",
       "      <td>__Result = \"---\";\\nWorkflow.DTO.Models.Program prog = __Product.Programs.FirstOrDefault(p =&gt; p.GetInsuranceTypeCode() == \"247\");\\nif (prog != null)\\n{\\n\\tif (__Product.PaymentPeriods != null &amp;&amp; __Product.PaymentPeriods.Count() &gt; 0)\\n\\t{\\n\\t\\t__Result = __Product.PaymentPeriods.Sum(pp =&gt; pp.PlanedPayments.Where(p =&gt; p.ProgramGID == prog.gid).Sum(p =&gt; p.Value)).ToString(\"N2\");\\n\\t}\\n}\\n</td>\n",
       "      <td>Код знаходить програму з кодом типу страхування \"247\" у продукті, і якщо така існує та є платіжні періоди, обчислює загальну суму запланованих платежів по цій програмі та повертає її у форматі з двома десятковими знаками. Якщо умови не виконані, результат дорівнює \"---\".</td>\n",
       "    </tr>\n",
       "    <tr>\n",
       "      <th>1</th>\n",
       "      <td>750InsPremAsist</td>\n",
       "      <td>__Result = \"---\";\\nWorkflow.DTO.Models.Program prog = __Product.Programs.FirstOrDefault(p =&gt; p.GetInsuranceTypeCode() == \"148\");\\nif (prog != null)\\n{\\n\\tif (__Product.PaymentPeriods != null &amp;&amp; __Product.PaymentPeriods.Count() &gt; 0)\\n\\t{\\n\\t\\t__Result = __Product.PaymentPeriods.Sum(pp =&gt; pp.PlanedPayments.Where(p =&gt; p.ProgramGID == prog.gid).Sum(p =&gt; p.Value)).ToString(\"N2\");\\n\\t}\\n}\\n</td>\n",
       "      <td>Код обчислює загальну суму запланованих платежів по програмі з кодом типу страхування \"148\" та повертає її у форматі з двома десятковими знаками; якщо дані відсутні — повертає \"---\".</td>\n",
       "    </tr>\n",
       "    <tr>\n",
       "      <th>2</th>\n",
       "      <td>704LandAddress</td>\n",
       "      <td>__Result = \"\";\\nWorkflow.DTO.Models.Program program = __Product.Programs.FirstOrDefault(p =&gt; p.GetInsuranceTypeCode() == \"396\");\\nif (program != null)\\n{\\n\\tWorkflow.DTO.Models.InsuranceObject insuranceObject = program.InsuranceObjects.FirstOrDefault(i =&gt; i.GetObjectTypeName() == \"Земельна ділянка\");\\n\\tif (insuranceObject != null)\\n\\t{\\n\\t\\tWorkflow.DTO.Models.Estate estate = (Workflow.DTO.Models.Estate)insuranceObject.Object;\\n\\t\\tif (estate.PostAddressObject != null)\\n\\t\\t{\\n\\t\\t\\t__Result = __Result + \", \" + estate.PostAddressObject.PostCode + \" \" + estate.PostAddressObject.GetParentRegionName() + \", \" + estate.PostAddressObject.GetSettlementName() + \", \" + estate.PostAddressObject.GetStreetTypeName() + \" \" + estate.PostAddressObject.Street + \", б. \" + estate.PostAddressObject.House;\\n\\t\\t}\\n\\t\\telse\\n\\t\\t{\\n\\t\\t\\t\\t\\t__Result = __Result + \", \" + estate.PostAddressObject.PostCode + \" \" + estate.PostAddressObject.GetParentRegionName() + \", \" + estate.PostAddressObject.GetRegionName() + \", \" + estate.PostAddressObject.GetSettlementName() + \", \" + estate.PostAddressObject.GetStreetTypeName() + \" \" + estate.PostAddressObject.Street + \", б. \" + estate.PostAddressObject.House;\\n\\t\\t}\\n\\t}\\n}\\n</td>\n",
       "      <td>Код формує текстову адресу земельної ділянки з програми з кодом \"396\", якщо така існує і має відповідний об'єкт страхування та адресу.</td>\n",
       "    </tr>\n",
       "    <tr>\n",
       "      <th>3</th>\n",
       "      <td>739ParamSport</td>\n",
       "      <td>__Result = \"Ні\";\\nWorkflow.DTO.Models.Program program = GetProgramMed;\\nif (program != null)\\n{\\n\\tWorkflow.DTO.Models.ProgramParameterValue param = program.Parameters.FirstOrDefault(pr =&gt; pr.GetParameterName() == \"Відпочинок з риз. видами спорта\");\\n\\tif (param != null)\\n\\t{\\n\\t\\tif (param.GetParameterValueCaption().ToString() != \"False\")\\n\\t\\t{\\n\\t\\t\\t__Result = \"Так\";\\n\\t\\t}\\n\\t}\\n}\\n</td>\n",
       "      <td>Код перевіряє, чи в програмі GetProgramMed встановлений параметр \"Відпочинок з риз. видами спорта\" в значення, відмінне від \"False\", і повертає \"Так\" або \"Ні\" відповідно.</td>\n",
       "    </tr>\n",
       "    <tr>\n",
       "      <th>4</th>\n",
       "      <td>769Rate249</td>\n",
       "      <td>__Result = \"---\";\\nWorkflow.DTO.Models.Program program = __Product.Programs.FirstOrDefault(p =&gt; p.GetInsuranceTypeCode() == \"249\");\\nif (program != null)\\n{\\n\\tint count = program.InsuranceObjects.Where(i =&gt; i.GetInsuranceObjectTypeName() == \"Об’єкт страхування\").Count();\\n\\tif (count &gt;= 2)\\n\\t{\\n\\t\\t__Result = \"Згідно з Додатком 2 до Договору\";\\n\\t}\\n\\telse\\n\\t{\\n\\t\\t\\tdecimal value = program.InsuranceRate;\\n\\t\\t__Result = value.ToString(\"N4\");\\n\\t}\\n}\\n</td>\n",
       "      <td>Код перевіряє кількість об'єктів страхування в програмі з кодом \"249\"; якщо їх більше одного — повертає текст \"Згідно з Додатком 2 до Договору\", інакше — повертає страхову ставку з точністю до чотирьох знаків.</td>\n",
       "    </tr>\n",
       "    <tr>\n",
       "      <th>...</th>\n",
       "      <td>...</td>\n",
       "      <td>...</td>\n",
       "      <td>...</td>\n",
       "    </tr>\n",
       "    <tr>\n",
       "      <th>946</th>\n",
       "      <td>MedPaymentSumEURO</td>\n",
       "      <td>Workflow.DTO.Models.Program prog = GetProgramMed;\\n__Result = \"-----\";\\nif (prog != null)\\n{\\n\\tWorkflow.DTO.Models.ProgramParameterValue paramCurr = prog.Parameters.FirstOrDefault(pr =&gt; pr.GetParameterCaption() == \"Страховий платіж в EURO\");\\n\\tWorkflow.DTO.Models.ProgramParameterValue paramCurrency = prog.Parameters.FirstOrDefault(pr =&gt; pr.GetParameterCaption() == \"Валюта\");\\n\\tif (paramCurr != null)\\n\\t{\\n\\t\\t__Result = paramCurr.GetParameterValueCaption().ToString();\\n\\t}\\n\\telse\\n\\t{\\n\\t\\t\\tif (paramCurrency.GetParameterValueCaption().ToString() == \"EURO\" || paramCurrency.GetParameterValueCaption().ToString() == \"EUR\")\\n\\t\\t{\\n\\t\\t\\tdecimal calculatedPayment = __Product.PaymentPeriods.Sum(pp =&gt; pp.PlanedPayments.Where(pp1 =&gt; pp1.ProgramGID == prog.gid).Sum(pp1 =&gt; pp1.Value));\\n\\t\\t\\t__Result = __Context.ExchangePrimaryMoney(calculatedPayment, \"EUR\", __Product.RegisteredDate).ToString(\"N2\");\\n\\t\\t}\\n\\t}\\n}\\n</td>\n",
       "      <td>NaN</td>\n",
       "    </tr>\n",
       "    <tr>\n",
       "      <th>947</th>\n",
       "      <td>MedInsuranceSumDollar</td>\n",
       "      <td>Workflow.DTO.Models.Program prog = GetProgramMed;\\n__Result = \"-----\";\\nif (prog != null)\\n{\\n\\tWorkflow.DTO.Models.ProgramParameterValue paramCurr = prog.Parameters.FirstOrDefault(pr =&gt; pr.GetParameterCaption() == \"Страхова сума в USD\");\\n\\tWorkflow.DTO.Models.ProgramParameterValue paramCurrency = prog.Parameters.FirstOrDefault(pr =&gt; pr.GetParameterCaption() == \"Валюта\");\\n\\tif (paramCurr != null &amp;&amp; paramCurrency.GetParameterValueCaption().ToString() == \"USD\")\\n\\t{\\n\\t\\tdecimal resultSum = decimal.Parse(paramCurr.GetParameterValueCaption().ToString()) * prog.InsuranceObjects.Count();\\n\\t\\t__Result = resultSum.ToString();\\n\\t}\\n}\\n</td>\n",
       "      <td>NaN</td>\n",
       "    </tr>\n",
       "    <tr>\n",
       "      <th>948</th>\n",
       "      <td>MedInsuranceSumEURO</td>\n",
       "      <td>Workflow.DTO.Models.Program prog = GetProgramMed;\\n__Result = \"-----\";\\nif (prog != null)\\n{\\n\\tWorkflow.DTO.Models.ProgramParameterValue paramCurr = prog.Parameters.FirstOrDefault(pr =&gt; pr.GetParameterCaption() == \"Страхова сума в EURO\");\\n\\tWorkflow.DTO.Models.ProgramParameterValue paramCurrency = prog.Parameters.FirstOrDefault(pr =&gt; pr.GetParameterCaption() == \"Валюта\");\\n\\tif (paramCurr != null &amp;&amp; (paramCurrency.GetParameterValueCaption().ToString() == \"EURO\" || paramCurrency.GetParameterValueCaption().ToString() == \"EUR\"))\\n\\t{\\n\\t\\tdecimal resultSum = decimal.Parse(paramCurr.GetParameterValueCaption().ToString()) * prog.InsuranceObjects.Count();\\n\\t\\t__Result = resultSum.ToString(\"N0\");\\n\\t}\\n}\\n</td>\n",
       "      <td>NaN</td>\n",
       "    </tr>\n",
       "    <tr>\n",
       "      <th>949</th>\n",
       "      <td>BranchNameFromParameter</td>\n",
       "      <td>Workflow.DTO.Models.ProgramParameterValue parameter = __Product.Programs[0].Parameters.FirstOrDefault(p =&gt; p.GetParameterName() == \"Місце укладання\");\\nif (parameter != null)\\n{\\n\\t__Result = parameter.ParameterValue.ToString();\\n}\\nif (string.IsNullOrEmpty(__Result))\\n{\\n\\t__Result = __Product.GetBranchName();\\n}\\n</td>\n",
       "      <td>NaN</td>\n",
       "    </tr>\n",
       "    <tr>\n",
       "      <th>950</th>\n",
       "      <td>DirectionCode</td>\n",
       "      <td>__Result = \"---\";\\nWorkflow.DTO.Models.Branch direction = __Context.GetDirectionBranch(__Product.BranchGID);\\nif (direction != null &amp;&amp; direction.OrganizationGID != null)\\n{\\n\\tWorkflow.DTO.Models.Face directorFace = (Workflow.DTO.Models.Face)__Context.GetObject(direction.OrganizationGID);\\n\\tif (directorFace != null)\\n\\t{\\n\\t\\t__Result = directorFace.EDRPOU;\\n\\t}\\n}\\n</td>\n",
       "      <td>NaN</td>\n",
       "    </tr>\n",
       "  </tbody>\n",
       "</table>\n",
       "<p>951 rows × 3 columns</p>\n",
       "</div>"
      ]
     },
     "execution_count": 64,
     "metadata": {},
     "output_type": "execute_result"
    }
   ],
   "execution_count": 64
  },
  {
   "metadata": {},
   "cell_type": "code",
   "source": "df.info()",
   "id": "6cc6577d5ccfa09c",
   "outputs": [],
   "execution_count": null
  },
  {
   "metadata": {},
   "cell_type": "code",
   "source": "count_variant = CountVectorizer(lowercase=False, ngram_range=(1, 1), min_df=2)",
   "id": "a9c5b8cb4b6762e8",
   "outputs": [],
   "execution_count": null
  },
  {
   "metadata": {},
   "cell_type": "code",
   "source": [
    "X_count_variant = count_variant.fit_transform(df[\"Expression\"])\n",
    "X_count_words = count_variant.fit(df[\"Expression\"])\n",
    "X_count_vectors = count_variant.transform(df[\"Expression\"])"
   ],
   "id": "ac55b09aa1357e04",
   "outputs": [],
   "execution_count": null
  },
  {
   "metadata": {},
   "cell_type": "code",
   "source": "print(X_count_words.vocabulary_)",
   "id": "3787a60e95a696aa",
   "outputs": [],
   "execution_count": null
  },
  {
   "metadata": {},
   "cell_type": "code",
   "source": "print(X_count_variant)",
   "id": "ae69d436c00f98a5",
   "outputs": [],
   "execution_count": null
  },
  {
   "metadata": {},
   "cell_type": "code",
   "source": "count_variant_words = count_variant.get_feature_names_out()",
   "id": "44233aae237c062e",
   "outputs": [],
   "execution_count": null
  },
  {
   "metadata": {},
   "cell_type": "code",
   "source": "tfidf_variant = TfidfVectorizer(lowercase=False, ngram_range=(1, 1), min_df=2, max_df=0.8)",
   "id": "7129f647636f3019",
   "outputs": [],
   "execution_count": null
  },
  {
   "metadata": {},
   "cell_type": "code",
   "source": [
    "X_tfidf_variant = tfidf_variant.fit_transform(df[\"Expression\"])\n",
    "X_tfidf_words = tfidf_variant.fit(df[\"Expression\"])\n",
    "X_tfidf_vectors = tfidf_variant.transform(df[\"Expression\"])"
   ],
   "id": "15e8cc01ff8ceadf",
   "outputs": [],
   "execution_count": null
  },
  {
   "metadata": {},
   "cell_type": "code",
   "source": "tfidf_variant_words = tfidf_variant.get_feature_names_out()",
   "id": "6fece287da1dac7",
   "outputs": [],
   "execution_count": null
  },
  {
   "metadata": {},
   "cell_type": "code",
   "source": "print(X_tfidf_variant)",
   "id": "b152a4425e55724f",
   "outputs": [],
   "execution_count": null
  },
  {
   "metadata": {},
   "cell_type": "code",
   "source": [
    "keyword_ranking = []\n",
    "for i in range(X_count_variant.shape[0]):\n",
    "    doc_vector = X_count_variant.toarray()[i]\n",
    "\n",
    "    top_indices = doc_vector.argsort()[-1000:][::-1]\n",
    "    top_keywords = [(count_variant_words[idx], doc_vector[idx]) for idx in top_indices]\n",
    "\n",
    "\n",
    "    keywords_dict = {word: score for word, score in top_keywords if score > 0}\n",
    "\n",
    "    keyword_ranking.append(keywords_dict)"
   ],
   "id": "36f8fabc66783e9f",
   "outputs": [],
   "execution_count": null
  },
  {
   "metadata": {
    "ExecuteTime": {
     "end_time": "2025-08-02T00:59:03.179936Z",
     "start_time": "2025-08-02T00:59:03.164119Z"
    }
   },
   "cell_type": "code",
   "source": [
    "df_ranking = pd.DataFrame()\n",
    "df_ranking[\"CountVectorizer\"] = keyword_ranking"
   ],
   "id": "74147336d9fad5aa",
   "outputs": [],
   "execution_count": 62
  },
  {
   "metadata": {
    "ExecuteTime": {
     "end_time": "2025-08-02T00:59:12.749810Z",
     "start_time": "2025-08-02T00:59:12.733807Z"
    }
   },
   "cell_type": "code",
   "source": "df_ranking",
   "id": "31bb812706e37e7b",
   "outputs": [
    {
     "data": {
      "text/plain": [
       "                                                                                                                                                                                                                                                                                                                                                                                                                                                                                                                                                                                                                                                              CountVectorizer\n",
       "0                                                                                                                                                                                                                                                                    {'Franchise': 4, 'PhoneNumber': 3, 'Capacity': 3, 'Parameters': 2, 'Multi': 2, 'InsuranceRate': 2, 'Franchises': 2, 'ElementAt': 2, 'IndexOf': 1, 'False': 1, 'FaceDocumentGID': 1, 'Face': 1, 'EndingDate': 1, 'Date': 1, 'CreatorUserGID': 1, 'Covers': 1, 'Comment': 1, 'BaseProductGetMtplInsurerDocument': 1, 'AgentIKPCoverLetter': 1, '80': 1, '624': 1, '493119e1c609': 1, '48c1': 1, '1e30': 1}\n",
       "1                                                                                                                                                                                                                                                                     {'Franchise': 4, 'PhoneNumber': 3, 'Capacity': 3, 'Parameters': 2, 'Multi': 2, 'InsuranceRate': 2, 'Franchises': 2, 'ElementAt': 2, 'IndexOf': 1, 'False': 1, 'FaceDocumentGID': 1, 'Face': 1, 'EndingDate': 1, 'Date': 1, 'CreatorUserGID': 1, 'Covers': 1, 'Comment': 1, 'BaseProductGetMtplInsurerDocument': 1, 'AgentIKPCoverLetter': 1, '80': 1, '624': 1, '493119e1c609': 1, '48c1': 1, '102': 1}\n",
       "2                                                                                                                                                                                  {'GetVehicleManufacturerName': 15, 'ContractNumber': 14, 'Franchises': 5, 'False': 4, 'AgentIKPCoverLetter': 4, '493119e1c609': 4, 'PlanDate': 3, 'Multi': 3, 'IsPerson': 3, 'InsuranceRate': 3, 'EPOsagoCoverLetterStandard': 2, 'Cost': 2, '9629': 2, '92d0ee97': 2, '903f': 2, '8756': 2, '624': 2, '520': 2, 'cover': 1, 'Внутрішнє': 1, 'GetUserByGID': 1, 'Franchise': 1, 'Date': 1, 'Covers': 1, 'BodyNumber': 1, '9bd5c75e': 1, '9bb1': 1, '8e89': 1, '850': 1, '80': 1, '234': 1}\n",
       "3                                                                                                                                                                                                                                                                                                   {'PlanDate': 3, 'N5': 3, 'InsuranceRate': 3, 'PaymentPeriods': 2, 'Multi': 2, 'Franchises': 2, 'False': 2, 'AgentIKPCoverLetter': 2, '493119e1c609': 2, 'e6df4e8f4954': 1, 'Із': 1, 'Очікуйте': 1, 'programIndex': 1, 'Період': 1, 'ac1f0934': 1, 'EndingDate': 1, 'DTO': 1, 'Covers': 1, 'BranchGID': 1, '8cd7': 1, '86bfe7c43d05': 1, '86': 1, '624': 1, '6086744d': 1}\n",
       "4                                                                                                                                                                                    {'PlanDate': 4, 'Franchises': 3, 'Secondname': 2, 'InsuranceRate': 2, 'GetFranchiseValueCaption': 2, 'b71235cc66a5': 1, 'Посада': 1, 'b997': 1, 'Ваших': 1, 'count': 1, 'else': 1, 'Multi': 1, 'MM': 1, 'GetUserByGID': 1, 'GetNow': 1, 'Franchise': 1, 'False': 1, 'FaceDocumentGID': 1, 'EndingDate': 1, 'Date': 1, 'Covers': 1, 'BeginDate': 1, 'AgentIKPCoverLetter': 1, '9e59': 1, '9bd5c75e': 1, '80': 1, '7ac9': 1, '624': 1, '493119e1c609': 1, '48c1': 1, '20': 1, 'Смерть': 1}\n",
       "..                                                                                                                                                                                                                                                                                                                                                                                                                                                                                                                                                                                                                                                                        ...\n",
       "946  {'PhoneNumber': 5, 'PaymentPeriods': 4, 'Parse': 4, 'EndingDate': 4, '493119e1c609': 3, 'False': 3, 'NumberOfSeats': 3, 'Number': 3, 'InsuranceRate': 3, 'Franchises': 3, 'AgentIKPCoverLetter': 3, '86bfe7c43d05': 3, 'GetDocumentTypeName': 2, 'Parameters': 2, 'Multi': 2, 'Franchise': 2, 'ElementAt': 2, 'DTO': 2, 'BranchGID': 2, '85de': 2, '624': 2, '4fa8': 2, '4f92': 2, 'DateTime': 1, 'IndexOf': 1, 'CreatorUserGID': 1, 'Covers': 1, 'Comment': 1, 'Capacity': 1, 'GetUserByGID': 1, 'BaseProductGetMtplInsurerDocument': 1, 'GetNow': 1, '8cd7': 1, 'Flat': 1, 'МАНДРІВНИКАМ': 1, 'Face': 1, '5c114419': 1, 'payment': 1, 'a0db': 1, 'FaceDocumentGID': 1}\n",
       "947                                                                                                                                                                                                                                              {'PhoneNumber': 5, 'PaymentPeriods': 4, 'Number': 3, 'False': 3, 'EndingDate': 3, 'AgentIKPCoverLetter': 3, '493119e1c609': 3, 'ProducedDate': 2, 'NumberOfSeats': 2, 'Multi': 2, 'InsuranceRate': 2, 'GetNow': 2, 'Franchises': 2, 'European': 2, 'DTO': 2, 'BranchGID': 2, '86bfe7c43d05': 2, '85de': 2, '624': 2, 'partners': 1, 'Посилання': 1, 'a0db': 1, 'Covers': 1, 'COVID': 1, '9bd5c75e': 1, '8cd7': 1, '48c1': 1}\n",
       "948                                                                                                                                                                                                                           {'PhoneNumber': 5, 'PaymentPeriods': 4, 'EndingDate': 4, 'NumberOfSeats': 3, 'Number': 3, 'False': 3, 'AgentIKPCoverLetter': 3, '86bfe7c43d05': 3, '493119e1c609': 3, 'ProducedDate': 2, 'Multi': 2, 'InsuranceRate': 2, 'GetNow': 2, 'Franchises': 2, 'DTO': 2, 'BranchGID': 2, '85de': 2, '624': 2, '4fa8': 2, 'partners': 1, 'Посилання': 1, 'a0db': 1, 'Covers': 1, 'COVID': 1, 'BASIC': 1, '9bd5c75e': 1, '8cd7': 1, '4f92': 1, '48c1': 1}\n",
       "949                                                                                                                                                                                                                                                                                                                                                                       {'OrderBy': 3, 'Franchises': 3, 'InsuranceRate': 2, 'Franchise': 2, 'Пропозиції': 1, 'doc3': 1, 'RegisteredDate': 1, 'Multi': 1, 'False': 1, 'EndingDate': 1, 'Date': 1, 'DTO': 1, 'BranchGID': 1, 'Branch': 1, 'AgentIKPCoverLetter': 1, 'ActualAddress': 1, '86': 1, '624': 1, '493119e1c609': 1}\n",
       "950                                                                                                                                                                                                                                                                                                                                                                                                      {'GetObjectTypeName': 4, 'Multi': 3, 'GetParameterName': 3, 'False': 3, 'AgentIKPCoverLetter': 3, '493119e1c609': 3, 'InsuranceRate': 2, 'Franchises': 2, 'Flat': 2, '5d3bac9946fa': 2, 'Franchise': 1, '82407df70cbf': 1, '73': 1, '4e32': 1, '46f2': 1, '46f1': 1}\n",
       "\n",
       "[951 rows x 1 columns]"
      ],
      "text/html": [
       "<div>\n",
       "<style scoped>\n",
       "    .dataframe tbody tr th:only-of-type {\n",
       "        vertical-align: middle;\n",
       "    }\n",
       "\n",
       "    .dataframe tbody tr th {\n",
       "        vertical-align: top;\n",
       "    }\n",
       "\n",
       "    .dataframe thead th {\n",
       "        text-align: right;\n",
       "    }\n",
       "</style>\n",
       "<table border=\"1\" class=\"dataframe\">\n",
       "  <thead>\n",
       "    <tr style=\"text-align: right;\">\n",
       "      <th></th>\n",
       "      <th>CountVectorizer</th>\n",
       "    </tr>\n",
       "  </thead>\n",
       "  <tbody>\n",
       "    <tr>\n",
       "      <th>0</th>\n",
       "      <td>{'Franchise': 4, 'PhoneNumber': 3, 'Capacity': 3, 'Parameters': 2, 'Multi': 2, 'InsuranceRate': 2, 'Franchises': 2, 'ElementAt': 2, 'IndexOf': 1, 'False': 1, 'FaceDocumentGID': 1, 'Face': 1, 'EndingDate': 1, 'Date': 1, 'CreatorUserGID': 1, 'Covers': 1, 'Comment': 1, 'BaseProductGetMtplInsurerDocument': 1, 'AgentIKPCoverLetter': 1, '80': 1, '624': 1, '493119e1c609': 1, '48c1': 1, '1e30': 1}</td>\n",
       "    </tr>\n",
       "    <tr>\n",
       "      <th>1</th>\n",
       "      <td>{'Franchise': 4, 'PhoneNumber': 3, 'Capacity': 3, 'Parameters': 2, 'Multi': 2, 'InsuranceRate': 2, 'Franchises': 2, 'ElementAt': 2, 'IndexOf': 1, 'False': 1, 'FaceDocumentGID': 1, 'Face': 1, 'EndingDate': 1, 'Date': 1, 'CreatorUserGID': 1, 'Covers': 1, 'Comment': 1, 'BaseProductGetMtplInsurerDocument': 1, 'AgentIKPCoverLetter': 1, '80': 1, '624': 1, '493119e1c609': 1, '48c1': 1, '102': 1}</td>\n",
       "    </tr>\n",
       "    <tr>\n",
       "      <th>2</th>\n",
       "      <td>{'GetVehicleManufacturerName': 15, 'ContractNumber': 14, 'Franchises': 5, 'False': 4, 'AgentIKPCoverLetter': 4, '493119e1c609': 4, 'PlanDate': 3, 'Multi': 3, 'IsPerson': 3, 'InsuranceRate': 3, 'EPOsagoCoverLetterStandard': 2, 'Cost': 2, '9629': 2, '92d0ee97': 2, '903f': 2, '8756': 2, '624': 2, '520': 2, 'cover': 1, 'Внутрішнє': 1, 'GetUserByGID': 1, 'Franchise': 1, 'Date': 1, 'Covers': 1, 'BodyNumber': 1, '9bd5c75e': 1, '9bb1': 1, '8e89': 1, '850': 1, '80': 1, '234': 1}</td>\n",
       "    </tr>\n",
       "    <tr>\n",
       "      <th>3</th>\n",
       "      <td>{'PlanDate': 3, 'N5': 3, 'InsuranceRate': 3, 'PaymentPeriods': 2, 'Multi': 2, 'Franchises': 2, 'False': 2, 'AgentIKPCoverLetter': 2, '493119e1c609': 2, 'e6df4e8f4954': 1, 'Із': 1, 'Очікуйте': 1, 'programIndex': 1, 'Період': 1, 'ac1f0934': 1, 'EndingDate': 1, 'DTO': 1, 'Covers': 1, 'BranchGID': 1, '8cd7': 1, '86bfe7c43d05': 1, '86': 1, '624': 1, '6086744d': 1}</td>\n",
       "    </tr>\n",
       "    <tr>\n",
       "      <th>4</th>\n",
       "      <td>{'PlanDate': 4, 'Franchises': 3, 'Secondname': 2, 'InsuranceRate': 2, 'GetFranchiseValueCaption': 2, 'b71235cc66a5': 1, 'Посада': 1, 'b997': 1, 'Ваших': 1, 'count': 1, 'else': 1, 'Multi': 1, 'MM': 1, 'GetUserByGID': 1, 'GetNow': 1, 'Franchise': 1, 'False': 1, 'FaceDocumentGID': 1, 'EndingDate': 1, 'Date': 1, 'Covers': 1, 'BeginDate': 1, 'AgentIKPCoverLetter': 1, '9e59': 1, '9bd5c75e': 1, '80': 1, '7ac9': 1, '624': 1, '493119e1c609': 1, '48c1': 1, '20': 1, 'Смерть': 1}</td>\n",
       "    </tr>\n",
       "    <tr>\n",
       "      <th>...</th>\n",
       "      <td>...</td>\n",
       "    </tr>\n",
       "    <tr>\n",
       "      <th>946</th>\n",
       "      <td>{'PhoneNumber': 5, 'PaymentPeriods': 4, 'Parse': 4, 'EndingDate': 4, '493119e1c609': 3, 'False': 3, 'NumberOfSeats': 3, 'Number': 3, 'InsuranceRate': 3, 'Franchises': 3, 'AgentIKPCoverLetter': 3, '86bfe7c43d05': 3, 'GetDocumentTypeName': 2, 'Parameters': 2, 'Multi': 2, 'Franchise': 2, 'ElementAt': 2, 'DTO': 2, 'BranchGID': 2, '85de': 2, '624': 2, '4fa8': 2, '4f92': 2, 'DateTime': 1, 'IndexOf': 1, 'CreatorUserGID': 1, 'Covers': 1, 'Comment': 1, 'Capacity': 1, 'GetUserByGID': 1, 'BaseProductGetMtplInsurerDocument': 1, 'GetNow': 1, '8cd7': 1, 'Flat': 1, 'МАНДРІВНИКАМ': 1, 'Face': 1, '5c114419': 1, 'payment': 1, 'a0db': 1, 'FaceDocumentGID': 1}</td>\n",
       "    </tr>\n",
       "    <tr>\n",
       "      <th>947</th>\n",
       "      <td>{'PhoneNumber': 5, 'PaymentPeriods': 4, 'Number': 3, 'False': 3, 'EndingDate': 3, 'AgentIKPCoverLetter': 3, '493119e1c609': 3, 'ProducedDate': 2, 'NumberOfSeats': 2, 'Multi': 2, 'InsuranceRate': 2, 'GetNow': 2, 'Franchises': 2, 'European': 2, 'DTO': 2, 'BranchGID': 2, '86bfe7c43d05': 2, '85de': 2, '624': 2, 'partners': 1, 'Посилання': 1, 'a0db': 1, 'Covers': 1, 'COVID': 1, '9bd5c75e': 1, '8cd7': 1, '48c1': 1}</td>\n",
       "    </tr>\n",
       "    <tr>\n",
       "      <th>948</th>\n",
       "      <td>{'PhoneNumber': 5, 'PaymentPeriods': 4, 'EndingDate': 4, 'NumberOfSeats': 3, 'Number': 3, 'False': 3, 'AgentIKPCoverLetter': 3, '86bfe7c43d05': 3, '493119e1c609': 3, 'ProducedDate': 2, 'Multi': 2, 'InsuranceRate': 2, 'GetNow': 2, 'Franchises': 2, 'DTO': 2, 'BranchGID': 2, '85de': 2, '624': 2, '4fa8': 2, 'partners': 1, 'Посилання': 1, 'a0db': 1, 'Covers': 1, 'COVID': 1, 'BASIC': 1, '9bd5c75e': 1, '8cd7': 1, '4f92': 1, '48c1': 1}</td>\n",
       "    </tr>\n",
       "    <tr>\n",
       "      <th>949</th>\n",
       "      <td>{'OrderBy': 3, 'Franchises': 3, 'InsuranceRate': 2, 'Franchise': 2, 'Пропозиції': 1, 'doc3': 1, 'RegisteredDate': 1, 'Multi': 1, 'False': 1, 'EndingDate': 1, 'Date': 1, 'DTO': 1, 'BranchGID': 1, 'Branch': 1, 'AgentIKPCoverLetter': 1, 'ActualAddress': 1, '86': 1, '624': 1, '493119e1c609': 1}</td>\n",
       "    </tr>\n",
       "    <tr>\n",
       "      <th>950</th>\n",
       "      <td>{'GetObjectTypeName': 4, 'Multi': 3, 'GetParameterName': 3, 'False': 3, 'AgentIKPCoverLetter': 3, '493119e1c609': 3, 'InsuranceRate': 2, 'Franchises': 2, 'Flat': 2, '5d3bac9946fa': 2, 'Franchise': 1, '82407df70cbf': 1, '73': 1, '4e32': 1, '46f2': 1, '46f1': 1}</td>\n",
       "    </tr>\n",
       "  </tbody>\n",
       "</table>\n",
       "<p>951 rows × 1 columns</p>\n",
       "</div>"
      ]
     },
     "execution_count": 63,
     "metadata": {},
     "output_type": "execute_result"
    }
   ],
   "execution_count": 63
  }
 ],
 "metadata": {
  "kernelspec": {
   "display_name": "Python 3",
   "language": "python",
   "name": "python3"
  },
  "language_info": {
   "codemirror_mode": {
    "name": "ipython",
    "version": 2
   },
   "file_extension": ".py",
   "mimetype": "text/x-python",
   "name": "python",
   "nbconvert_exporter": "python",
   "pygments_lexer": "ipython2",
   "version": "2.7.6"
  }
 },
 "nbformat": 4,
 "nbformat_minor": 5
}
