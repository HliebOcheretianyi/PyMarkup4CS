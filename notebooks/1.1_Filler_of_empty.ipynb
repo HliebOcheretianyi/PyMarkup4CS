{
 "cells": [
  {
   "cell_type": "code",
   "id": "initial_id",
   "metadata": {
    "collapsed": true,
    "ExecuteTime": {
     "end_time": "2025-08-13T15:26:29.778593Z",
     "start_time": "2025-08-13T15:26:29.773593Z"
    }
   },
   "source": [
    "import pandas as pd\n",
    "import numpy as np\n",
    "import torch\n",
    "from paths import *\n",
    "from transformers import AutoTokenizer, AutoModelForCausalLM"
   ],
   "outputs": [],
   "execution_count": 5
  },
  {
   "metadata": {
    "ExecuteTime": {
     "end_time": "2025-08-13T15:26:29.794597Z",
     "start_time": "2025-08-13T15:26:29.783595Z"
    }
   },
   "cell_type": "code",
   "source": [
    "model_mame = \"Qwen/Qwen3-4B-Instruct-2507\"\n",
    "# gguf_file=\"Qwen3-4B-Instruct-2507-UD-Q4_K_XL.gguf\""
   ],
   "id": "6b45e244be2f6de2",
   "outputs": [],
   "execution_count": 6
  },
  {
   "metadata": {
    "ExecuteTime": {
     "end_time": "2025-08-13T15:26:29.873616Z",
     "start_time": "2025-08-13T15:26:29.811601Z"
    }
   },
   "cell_type": "code",
   "source": [
    "df = pd.read_excel(f'{DATA_FOLDER}/DocProperties/DocProperties_filled.xlsx')\n",
    "df"
   ],
   "id": "206107b26d1fd49",
   "outputs": [
    {
     "data": {
      "text/plain": [
       "                        Name  \\\n",
       "0      750InsPremAutocivilka   \n",
       "1            750InsPremAsist   \n",
       "2             704LandAddress   \n",
       "3              739ParamSport   \n",
       "4                 769Rate249   \n",
       "..                       ...   \n",
       "947    MedInsuranceSumDollar   \n",
       "948      MedInsuranceSumEURO   \n",
       "949  BranchNameFromParameter   \n",
       "950            DirectionCode   \n",
       "951              InsurerName   \n",
       "\n",
       "                                            Expression  \\\n",
       "0    __Result = \"---\";\\nWorkflow.DTO.Models.Program...   \n",
       "1    __Result = \"---\";\\nWorkflow.DTO.Models.Program...   \n",
       "2    __Result = \"\";\\nWorkflow.DTO.Models.Program pr...   \n",
       "3    __Result = \"Ні\";\\nWorkflow.DTO.Models.Program ...   \n",
       "4    __Result = \"---\";\\nWorkflow.DTO.Models.Program...   \n",
       "..                                                 ...   \n",
       "947  Workflow.DTO.Models.Program prog = GetProgramM...   \n",
       "948  Workflow.DTO.Models.Program prog = GetProgramM...   \n",
       "949  Workflow.DTO.Models.ProgramParameterValue para...   \n",
       "950  __Result = \"---\";\\nWorkflow.DTO.Models.Branch ...   \n",
       "951  __Result = \"Вітаємо, \" + __Product.Insurer.Fac...   \n",
       "\n",
       "                                           Description  \n",
       "0    Код знаходить програму з кодом типу страхуванн...  \n",
       "1    Код обчислює загальну суму запланованих платеж...  \n",
       "2    Код формує текстову адресу земельної ділянки з...  \n",
       "3    Код перевіряє, чи в програмі GetProgramMed вст...  \n",
       "4    Код перевіряє кількість об'єктів страхування в...  \n",
       "..                                                 ...  \n",
       "947                                                NaN  \n",
       "948                                                NaN  \n",
       "949                                                NaN  \n",
       "950                                                NaN  \n",
       "951                                ім'я страхувальника  \n",
       "\n",
       "[952 rows x 3 columns]"
      ],
      "text/html": [
       "<div>\n",
       "<style scoped>\n",
       "    .dataframe tbody tr th:only-of-type {\n",
       "        vertical-align: middle;\n",
       "    }\n",
       "\n",
       "    .dataframe tbody tr th {\n",
       "        vertical-align: top;\n",
       "    }\n",
       "\n",
       "    .dataframe thead th {\n",
       "        text-align: right;\n",
       "    }\n",
       "</style>\n",
       "<table border=\"1\" class=\"dataframe\">\n",
       "  <thead>\n",
       "    <tr style=\"text-align: right;\">\n",
       "      <th></th>\n",
       "      <th>Name</th>\n",
       "      <th>Expression</th>\n",
       "      <th>Description</th>\n",
       "    </tr>\n",
       "  </thead>\n",
       "  <tbody>\n",
       "    <tr>\n",
       "      <th>0</th>\n",
       "      <td>750InsPremAutocivilka</td>\n",
       "      <td>__Result = \"---\";\\nWorkflow.DTO.Models.Program...</td>\n",
       "      <td>Код знаходить програму з кодом типу страхуванн...</td>\n",
       "    </tr>\n",
       "    <tr>\n",
       "      <th>1</th>\n",
       "      <td>750InsPremAsist</td>\n",
       "      <td>__Result = \"---\";\\nWorkflow.DTO.Models.Program...</td>\n",
       "      <td>Код обчислює загальну суму запланованих платеж...</td>\n",
       "    </tr>\n",
       "    <tr>\n",
       "      <th>2</th>\n",
       "      <td>704LandAddress</td>\n",
       "      <td>__Result = \"\";\\nWorkflow.DTO.Models.Program pr...</td>\n",
       "      <td>Код формує текстову адресу земельної ділянки з...</td>\n",
       "    </tr>\n",
       "    <tr>\n",
       "      <th>3</th>\n",
       "      <td>739ParamSport</td>\n",
       "      <td>__Result = \"Ні\";\\nWorkflow.DTO.Models.Program ...</td>\n",
       "      <td>Код перевіряє, чи в програмі GetProgramMed вст...</td>\n",
       "    </tr>\n",
       "    <tr>\n",
       "      <th>4</th>\n",
       "      <td>769Rate249</td>\n",
       "      <td>__Result = \"---\";\\nWorkflow.DTO.Models.Program...</td>\n",
       "      <td>Код перевіряє кількість об'єктів страхування в...</td>\n",
       "    </tr>\n",
       "    <tr>\n",
       "      <th>...</th>\n",
       "      <td>...</td>\n",
       "      <td>...</td>\n",
       "      <td>...</td>\n",
       "    </tr>\n",
       "    <tr>\n",
       "      <th>947</th>\n",
       "      <td>MedInsuranceSumDollar</td>\n",
       "      <td>Workflow.DTO.Models.Program prog = GetProgramM...</td>\n",
       "      <td>NaN</td>\n",
       "    </tr>\n",
       "    <tr>\n",
       "      <th>948</th>\n",
       "      <td>MedInsuranceSumEURO</td>\n",
       "      <td>Workflow.DTO.Models.Program prog = GetProgramM...</td>\n",
       "      <td>NaN</td>\n",
       "    </tr>\n",
       "    <tr>\n",
       "      <th>949</th>\n",
       "      <td>BranchNameFromParameter</td>\n",
       "      <td>Workflow.DTO.Models.ProgramParameterValue para...</td>\n",
       "      <td>NaN</td>\n",
       "    </tr>\n",
       "    <tr>\n",
       "      <th>950</th>\n",
       "      <td>DirectionCode</td>\n",
       "      <td>__Result = \"---\";\\nWorkflow.DTO.Models.Branch ...</td>\n",
       "      <td>NaN</td>\n",
       "    </tr>\n",
       "    <tr>\n",
       "      <th>951</th>\n",
       "      <td>InsurerName</td>\n",
       "      <td>__Result = \"Вітаємо, \" + __Product.Insurer.Fac...</td>\n",
       "      <td>ім'я страхувальника</td>\n",
       "    </tr>\n",
       "  </tbody>\n",
       "</table>\n",
       "<p>952 rows × 3 columns</p>\n",
       "</div>"
      ]
     },
     "execution_count": 7,
     "metadata": {},
     "output_type": "execute_result"
    }
   ],
   "execution_count": 7
  },
  {
   "metadata": {
    "ExecuteTime": {
     "end_time": "2025-08-13T15:27:59.005371Z",
     "start_time": "2025-08-13T15:26:29.937975Z"
    }
   },
   "cell_type": "code",
   "source": [
    "model = AutoModelForCausalLM.from_pretrained(\n",
    "    model_mame,\n",
    "    device_map=\"auto\",\n",
    "    torch_dtype=\"auto\",\n",
    "    cache_dir=f'{ML_FOLDER}/Qwen3-4B-Instruct-2507-GGUF'\n",
    ")\n",
    "\n",
    "tokenizer = AutoTokenizer.from_pretrained(model_mame, cache_dir=f'{ML_FOLDER}/Qwen3-4B-Instruct-2507-GGUF')"
   ],
   "id": "c8d71a6039849a87",
   "outputs": [
    {
     "data": {
      "text/plain": [
       "config.json:   0%|          | 0.00/727 [00:00<?, ?B/s]"
      ],
      "application/vnd.jupyter.widget-view+json": {
       "version_major": 2,
       "version_minor": 0,
       "model_id": "a5e9f0c412ce4aca95ff853bc26cdfc8"
      }
     },
     "metadata": {},
     "output_type": "display_data"
    },
    {
     "name": "stderr",
     "output_type": "stream",
     "text": [
      "D:\\WORK\\InCore\\PyMarkup4CS\\venv\\lib\\site-packages\\huggingface_hub\\file_download.py:143: UserWarning: `huggingface_hub` cache-system uses symlinks by default to efficiently store duplicated files but your machine does not support them in D:\\WORK\\InCore\\PyMarkup4CS\\data\\ML\\Qwen3-4B-Instruct-2507-GGUF\\models--Qwen--Qwen3-4B-Instruct-2507. Caching files will still work but in a degraded version that might require more space on your disk. This warning can be disabled by setting the `HF_HUB_DISABLE_SYMLINKS_WARNING` environment variable. For more details, see https://huggingface.co/docs/huggingface_hub/how-to-cache#limitations.\n",
      "To support symlinks on Windows, you either need to activate Developer Mode or to run Python as an administrator. In order to activate developer mode, see this article: https://docs.microsoft.com/en-us/windows/apps/get-started/enable-your-device-for-development\n",
      "  warnings.warn(message)\n"
     ]
    },
    {
     "data": {
      "text/plain": [
       "model.safetensors.index.json: 0.00B [00:00, ?B/s]"
      ],
      "application/vnd.jupyter.widget-view+json": {
       "version_major": 2,
       "version_minor": 0,
       "model_id": "9e3e8c525ae745219c49f1c1c7cfa658"
      }
     },
     "metadata": {},
     "output_type": "display_data"
    },
    {
     "data": {
      "text/plain": [
       "Fetching 3 files:   0%|          | 0/3 [00:00<?, ?it/s]"
      ],
      "application/vnd.jupyter.widget-view+json": {
       "version_major": 2,
       "version_minor": 0,
       "model_id": "1a0a10d2e1e44c94b690a41cfd69221d"
      }
     },
     "metadata": {},
     "output_type": "display_data"
    },
    {
     "name": "stderr",
     "output_type": "stream",
     "text": [
      "Xet Storage is enabled for this repo, but the 'hf_xet' package is not installed. Falling back to regular HTTP download. For better performance, install the package with: `pip install huggingface_hub[hf_xet]` or `pip install hf_xet`\n",
      "Xet Storage is enabled for this repo, but the 'hf_xet' package is not installed. Falling back to regular HTTP download. For better performance, install the package with: `pip install huggingface_hub[hf_xet]` or `pip install hf_xet`\n",
      "Xet Storage is enabled for this repo, but the 'hf_xet' package is not installed. Falling back to regular HTTP download. For better performance, install the package with: `pip install huggingface_hub[hf_xet]` or `pip install hf_xet`\n"
     ]
    },
    {
     "data": {
      "text/plain": [
       "model-00002-of-00003.safetensors:   0%|          | 0.00/3.99G [00:00<?, ?B/s]"
      ],
      "application/vnd.jupyter.widget-view+json": {
       "version_major": 2,
       "version_minor": 0,
       "model_id": "71404a45c1cb455ea0e6fc68fc3ffe37"
      }
     },
     "metadata": {},
     "output_type": "display_data"
    },
    {
     "data": {
      "text/plain": [
       "model-00001-of-00003.safetensors:   0%|          | 0.00/3.96G [00:00<?, ?B/s]"
      ],
      "application/vnd.jupyter.widget-view+json": {
       "version_major": 2,
       "version_minor": 0,
       "model_id": "fd45b7972bd34a66aea269559ce20408"
      }
     },
     "metadata": {},
     "output_type": "display_data"
    },
    {
     "data": {
      "text/plain": [
       "model-00003-of-00003.safetensors:   0%|          | 0.00/99.6M [00:00<?, ?B/s]"
      ],
      "application/vnd.jupyter.widget-view+json": {
       "version_major": 2,
       "version_minor": 0,
       "model_id": "794d325abb744de0a35f067d62cb4b25"
      }
     },
     "metadata": {},
     "output_type": "display_data"
    },
    {
     "data": {
      "text/plain": [
       "Loading checkpoint shards:   0%|          | 0/3 [00:00<?, ?it/s]"
      ],
      "application/vnd.jupyter.widget-view+json": {
       "version_major": 2,
       "version_minor": 0,
       "model_id": "ff3418575a9a4feba0ce8ce06f4a57b6"
      }
     },
     "metadata": {},
     "output_type": "display_data"
    },
    {
     "data": {
      "text/plain": [
       "generation_config.json:   0%|          | 0.00/238 [00:00<?, ?B/s]"
      ],
      "application/vnd.jupyter.widget-view+json": {
       "version_major": 2,
       "version_minor": 0,
       "model_id": "20d4c712415946e08f36585d3a1860ed"
      }
     },
     "metadata": {},
     "output_type": "display_data"
    },
    {
     "data": {
      "text/plain": [
       "tokenizer_config.json: 0.00B [00:00, ?B/s]"
      ],
      "application/vnd.jupyter.widget-view+json": {
       "version_major": 2,
       "version_minor": 0,
       "model_id": "60754c8e172147c9b98198806656c770"
      }
     },
     "metadata": {},
     "output_type": "display_data"
    },
    {
     "data": {
      "text/plain": [
       "vocab.json: 0.00B [00:00, ?B/s]"
      ],
      "application/vnd.jupyter.widget-view+json": {
       "version_major": 2,
       "version_minor": 0,
       "model_id": "140bc14061ef487d8d827d2bd7533515"
      }
     },
     "metadata": {},
     "output_type": "display_data"
    },
    {
     "data": {
      "text/plain": [
       "merges.txt: 0.00B [00:00, ?B/s]"
      ],
      "application/vnd.jupyter.widget-view+json": {
       "version_major": 2,
       "version_minor": 0,
       "model_id": "cc3d77c2a43643a288c18f6c7a4682b9"
      }
     },
     "metadata": {},
     "output_type": "display_data"
    },
    {
     "name": "stderr",
     "output_type": "stream",
     "text": [
      "Xet Storage is enabled for this repo, but the 'hf_xet' package is not installed. Falling back to regular HTTP download. For better performance, install the package with: `pip install huggingface_hub[hf_xet]` or `pip install hf_xet`\n"
     ]
    },
    {
     "data": {
      "text/plain": [
       "tokenizer.json:   0%|          | 0.00/11.4M [00:00<?, ?B/s]"
      ],
      "application/vnd.jupyter.widget-view+json": {
       "version_major": 2,
       "version_minor": 0,
       "model_id": "c7327ccf7b0a4790be0517a367a14815"
      }
     },
     "metadata": {},
     "output_type": "display_data"
    }
   ],
   "execution_count": 8
  },
  {
   "metadata": {
    "ExecuteTime": {
     "end_time": "2025-08-13T15:51:40.763256Z",
     "start_time": "2025-08-13T15:51:40.745252Z"
    }
   },
   "cell_type": "code",
   "source": [
    "def summurizator(code_fragment):\n",
    "    prompt = f'Сумаризуй цей код C# у формі запиту українською мовою — тільки текст\\n\\n {code_fragment}'\n",
    "    messages = [\n",
    "        {\"role\": \"user\", \"content\": prompt}\n",
    "    ]\n",
    "    text = tokenizer.apply_chat_template(\n",
    "        messages,\n",
    "        tokenize=False,\n",
    "        add_generation_prompt=True,\n",
    "    )\n",
    "    model_inputs = tokenizer([text], return_tensors=\"pt\").to(model.device)\n",
    "\n",
    "    generated_ids = model.generate(\n",
    "        **model_inputs,\n",
    "        max_new_tokens=16384,\n",
    "        temperature=0.7,\n",
    "        min_p = 0.00,\n",
    "        do_sample=True,\n",
    "        top_p=0.8,\n",
    "        top_k = 20,\n",
    "        pad_token_id=tokenizer.eos_token_id,\n",
    "        eos_token_id=tokenizer.eos_token_id\n",
    "    )\n",
    "    output_ids = generated_ids[0][len(model_inputs.input_ids[0]):].tolist()\n",
    "\n",
    "    content = tokenizer.decode(output_ids, skip_special_tokens=True)\n",
    "\n",
    "    return content"
   ],
   "id": "463565f7f96a8781",
   "outputs": [],
   "execution_count": 11
  },
  {
   "metadata": {
    "ExecuteTime": {
     "end_time": "2025-08-13T17:52:33.577529Z",
     "start_time": "2025-08-13T15:51:49.914731Z"
    }
   },
   "cell_type": "code",
   "source": [
    "mask = df['Description'].isna() | (df['Description'] == '')\n",
    "df.loc[mask, 'Description'] = df.loc[mask, 'Expression'].apply(summurizator)"
   ],
   "id": "38545d927bc858b7",
   "outputs": [],
   "execution_count": 12
  },
  {
   "metadata": {
    "ExecuteTime": {
     "end_time": "2025-08-13T18:17:29.632431Z",
     "start_time": "2025-08-13T18:17:29.283559Z"
    }
   },
   "cell_type": "code",
   "source": "df.to_excel(f'{DATA_FOLDER}/DocProperties/DocProperties_NEW_filled.xlsx')",
   "id": "46aebd335e52ce64",
   "outputs": [],
   "execution_count": 14
  }
 ],
 "metadata": {
  "kernelspec": {
   "display_name": "Python 3",
   "language": "python",
   "name": "python3"
  },
  "language_info": {
   "codemirror_mode": {
    "name": "ipython",
    "version": 2
   },
   "file_extension": ".py",
   "mimetype": "text/x-python",
   "name": "python",
   "nbconvert_exporter": "python",
   "pygments_lexer": "ipython2",
   "version": "2.7.6"
  }
 },
 "nbformat": 4,
 "nbformat_minor": 5
}
