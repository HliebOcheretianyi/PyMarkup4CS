{
 "cells": [
  {
   "cell_type": "code",
   "id": "initial_id",
   "metadata": {
    "collapsed": true,
    "ExecuteTime": {
     "end_time": "2025-07-08T19:26:40.719741Z",
     "start_time": "2025-07-08T19:26:40.710740Z"
    }
   },
   "source": [
    "import pandas as pd\n",
    "import numpy as np\n",
    "import json\n",
    "import re\n",
    "import os"
   ],
   "outputs": [],
   "execution_count": 65
  },
  {
   "metadata": {
    "ExecuteTime": {
     "end_time": "2025-07-08T19:26:40.735597Z",
     "start_time": "2025-07-08T19:26:40.723742Z"
    }
   },
   "cell_type": "code",
   "source": [
    "DATA_FOLDER = '../data'\n",
    "MODELS_FOLDER = '../data/DocProperties/incore-exporter/Workflow.DTO/Models'"
   ],
   "id": "850470406e13c55c",
   "outputs": [],
   "execution_count": 66
  },
  {
   "metadata": {
    "ExecuteTime": {
     "end_time": "2025-07-08T19:26:40.815603Z",
     "start_time": "2025-07-08T19:26:40.752608Z"
    }
   },
   "cell_type": "code",
   "source": "df = pd.read_excel(f'{DATA_FOLDER}/DocProperties/DocProperties_filled.xlsx')",
   "id": "e1b73109f5cb205e",
   "outputs": [],
   "execution_count": 67
  },
  {
   "metadata": {
    "ExecuteTime": {
     "end_time": "2025-07-08T19:26:40.847610Z",
     "start_time": "2025-07-08T19:26:40.832607Z"
    }
   },
   "cell_type": "code",
   "source": "df",
   "id": "d4fca70f5bc1fe49",
   "outputs": [
    {
     "data": {
      "text/plain": [
       "                        Name  \\\n",
       "0      750InsPremAutocivilka   \n",
       "1            750InsPremAsist   \n",
       "2             704LandAddress   \n",
       "3              739ParamSport   \n",
       "4                 769Rate249   \n",
       "..                       ...   \n",
       "946        MedPaymentSumEURO   \n",
       "947    MedInsuranceSumDollar   \n",
       "948      MedInsuranceSumEURO   \n",
       "949  BranchNameFromParameter   \n",
       "950            DirectionCode   \n",
       "\n",
       "                                                Result  \\\n",
       "0    __Result = \"---\";\\nWorkflow.DTO.Models.Program...   \n",
       "1    __Result = \"---\";\\nWorkflow.DTO.Models.Program...   \n",
       "2    __Result = \"\";\\nWorkflow.DTO.Models.Program pr...   \n",
       "3    __Result = \"Ні\";\\nWorkflow.DTO.Models.Program ...   \n",
       "4    __Result = \"---\";\\nWorkflow.DTO.Models.Program...   \n",
       "..                                                 ...   \n",
       "946  Workflow.DTO.Models.Program prog = GetProgramM...   \n",
       "947  Workflow.DTO.Models.Program prog = GetProgramM...   \n",
       "948  Workflow.DTO.Models.Program prog = GetProgramM...   \n",
       "949  Workflow.DTO.Models.ProgramParameterValue para...   \n",
       "950  __Result = \"---\";\\nWorkflow.DTO.Models.Branch ...   \n",
       "\n",
       "                                           Description  \n",
       "0    Код знаходить програму з кодом типу страхуванн...  \n",
       "1    Код обчислює загальну суму запланованих платеж...  \n",
       "2    Код формує текстову адресу земельної ділянки з...  \n",
       "3    Код перевіряє, чи в програмі GetProgramMed вст...  \n",
       "4    Код перевіряє кількість об'єктів страхування в...  \n",
       "..                                                 ...  \n",
       "946                                                NaN  \n",
       "947                                                NaN  \n",
       "948                                                NaN  \n",
       "949                                                NaN  \n",
       "950                                                NaN  \n",
       "\n",
       "[951 rows x 3 columns]"
      ],
      "text/html": [
       "<div>\n",
       "<style scoped>\n",
       "    .dataframe tbody tr th:only-of-type {\n",
       "        vertical-align: middle;\n",
       "    }\n",
       "\n",
       "    .dataframe tbody tr th {\n",
       "        vertical-align: top;\n",
       "    }\n",
       "\n",
       "    .dataframe thead th {\n",
       "        text-align: right;\n",
       "    }\n",
       "</style>\n",
       "<table border=\"1\" class=\"dataframe\">\n",
       "  <thead>\n",
       "    <tr style=\"text-align: right;\">\n",
       "      <th></th>\n",
       "      <th>Name</th>\n",
       "      <th>Result</th>\n",
       "      <th>Description</th>\n",
       "    </tr>\n",
       "  </thead>\n",
       "  <tbody>\n",
       "    <tr>\n",
       "      <th>0</th>\n",
       "      <td>750InsPremAutocivilka</td>\n",
       "      <td>__Result = \"---\";\\nWorkflow.DTO.Models.Program...</td>\n",
       "      <td>Код знаходить програму з кодом типу страхуванн...</td>\n",
       "    </tr>\n",
       "    <tr>\n",
       "      <th>1</th>\n",
       "      <td>750InsPremAsist</td>\n",
       "      <td>__Result = \"---\";\\nWorkflow.DTO.Models.Program...</td>\n",
       "      <td>Код обчислює загальну суму запланованих платеж...</td>\n",
       "    </tr>\n",
       "    <tr>\n",
       "      <th>2</th>\n",
       "      <td>704LandAddress</td>\n",
       "      <td>__Result = \"\";\\nWorkflow.DTO.Models.Program pr...</td>\n",
       "      <td>Код формує текстову адресу земельної ділянки з...</td>\n",
       "    </tr>\n",
       "    <tr>\n",
       "      <th>3</th>\n",
       "      <td>739ParamSport</td>\n",
       "      <td>__Result = \"Ні\";\\nWorkflow.DTO.Models.Program ...</td>\n",
       "      <td>Код перевіряє, чи в програмі GetProgramMed вст...</td>\n",
       "    </tr>\n",
       "    <tr>\n",
       "      <th>4</th>\n",
       "      <td>769Rate249</td>\n",
       "      <td>__Result = \"---\";\\nWorkflow.DTO.Models.Program...</td>\n",
       "      <td>Код перевіряє кількість об'єктів страхування в...</td>\n",
       "    </tr>\n",
       "    <tr>\n",
       "      <th>...</th>\n",
       "      <td>...</td>\n",
       "      <td>...</td>\n",
       "      <td>...</td>\n",
       "    </tr>\n",
       "    <tr>\n",
       "      <th>946</th>\n",
       "      <td>MedPaymentSumEURO</td>\n",
       "      <td>Workflow.DTO.Models.Program prog = GetProgramM...</td>\n",
       "      <td>NaN</td>\n",
       "    </tr>\n",
       "    <tr>\n",
       "      <th>947</th>\n",
       "      <td>MedInsuranceSumDollar</td>\n",
       "      <td>Workflow.DTO.Models.Program prog = GetProgramM...</td>\n",
       "      <td>NaN</td>\n",
       "    </tr>\n",
       "    <tr>\n",
       "      <th>948</th>\n",
       "      <td>MedInsuranceSumEURO</td>\n",
       "      <td>Workflow.DTO.Models.Program prog = GetProgramM...</td>\n",
       "      <td>NaN</td>\n",
       "    </tr>\n",
       "    <tr>\n",
       "      <th>949</th>\n",
       "      <td>BranchNameFromParameter</td>\n",
       "      <td>Workflow.DTO.Models.ProgramParameterValue para...</td>\n",
       "      <td>NaN</td>\n",
       "    </tr>\n",
       "    <tr>\n",
       "      <th>950</th>\n",
       "      <td>DirectionCode</td>\n",
       "      <td>__Result = \"---\";\\nWorkflow.DTO.Models.Branch ...</td>\n",
       "      <td>NaN</td>\n",
       "    </tr>\n",
       "  </tbody>\n",
       "</table>\n",
       "<p>951 rows × 3 columns</p>\n",
       "</div>"
      ]
     },
     "execution_count": 68,
     "metadata": {},
     "output_type": "execute_result"
    }
   ],
   "execution_count": 68
  },
  {
   "metadata": {
    "ExecuteTime": {
     "end_time": "2025-07-08T19:26:40.910624Z",
     "start_time": "2025-07-08T19:26:40.895621Z"
    }
   },
   "cell_type": "code",
   "source": [
    "df_small = df.drop('Name', axis=1)\n",
    "df_small.to_csv(f'{DATA_FOLDER}/DocProperties_small.csv', index=False)"
   ],
   "id": "917acb1232ba259c",
   "outputs": [],
   "execution_count": 69
  },
  {
   "metadata": {
    "ExecuteTime": {
     "end_time": "2025-07-08T19:26:40.990642Z",
     "start_time": "2025-07-08T19:26:40.944644Z"
    }
   },
   "cell_type": "code",
   "source": [
    "result = []\n",
    "for _, row in df_small.iterrows():\n",
    "    chat = {\n",
    "        \"messages\":[\n",
    "            {\n",
    "                \"role\":\"user\",\n",
    "                \"content\":f\"Пояснення: {row['Description']}\"\n",
    "            },\n",
    "            {\n",
    "                \"role\":\"assistant\",\n",
    "                \"content\":f\"C# code:\\n{row['Result']}\"\n",
    "            },\n",
    "        ]\n",
    "    }\n",
    "    result.append(chat)"
   ],
   "id": "326573bdfec7dd4f",
   "outputs": [],
   "execution_count": 70
  },
  {
   "metadata": {
    "ExecuteTime": {
     "end_time": "2025-07-08T19:26:41.022648Z",
     "start_time": "2025-07-08T19:26:40.997644Z"
    }
   },
   "cell_type": "code",
   "source": [
    "with open(f'{DATA_FOLDER}/DocProperties_JSONL.json', 'w', encoding='utf-8') as f:\n",
    "    json.dump(result, f, ensure_ascii=False, indent=2, allow_nan=True)"
   ],
   "id": "4fa337513e148a4b",
   "outputs": [],
   "execution_count": 71
  },
  {
   "metadata": {
    "ExecuteTime": {
     "end_time": "2025-07-08T19:26:41.069660Z",
     "start_time": "2025-07-08T19:26:41.054656Z"
    }
   },
   "cell_type": "code",
   "source": [
    "def parse_documentation_members(csharp_code):\n",
    "    results = {}\n",
    "    current_class = None\n",
    "\n",
    "    lines = csharp_code.split('\\n')\n",
    "\n",
    "    i = 0\n",
    "    while i < len(lines):\n",
    "        line = lines[i].strip()\n",
    "\n",
    "        class_match = re.search(r'\\bclass\\s+(\\w+)', line)\n",
    "        if class_match:\n",
    "            current_class = class_match.group(1)\n",
    "            if current_class not in results:\n",
    "                results[current_class] = []\n",
    "\n",
    "        if line.startswith('///'):\n",
    "            summary_match = re.search(r'/// <summary>\\s*(.*?)\\s*</summary>', line)\n",
    "            if summary_match:\n",
    "                description = summary_match.group(1).strip()\n",
    "            else:\n",
    "                description_lines = []\n",
    "                i += 1\n",
    "                while i < len(lines):\n",
    "                    next_line = lines[i].strip()\n",
    "                    if '</summary>' in next_line:\n",
    "                        end_text = re.search(r'(.*?)</summary>', next_line)\n",
    "                        if end_text:\n",
    "                            description_lines.append(end_text.group(1).replace('///', '').strip())\n",
    "                        break\n",
    "                    else:\n",
    "                        clean_line = next_line.replace('///', '').strip()\n",
    "                        if clean_line:\n",
    "                            description_lines.append(clean_line)\n",
    "                    i += 1\n",
    "\n",
    "                description = ' '.join(description_lines).strip()\n",
    "\n",
    "            j = i + 1\n",
    "            while j < len(lines):\n",
    "                next_line = lines[j].strip()\n",
    "\n",
    "                if not next_line or next_line.startswith('///'):\n",
    "                    j += 1\n",
    "                    continue\n",
    "\n",
    "                if '[DocumentationMember]' in next_line:\n",
    "                    k = j + 1\n",
    "                    while k < len(lines):\n",
    "                        member_line = lines[k].strip()\n",
    "                        if not member_line:\n",
    "                            k += 1\n",
    "                            continue\n",
    "\n",
    "                        member_info = extract_member_info(member_line)\n",
    "                        if member_info:\n",
    "                            member_data = {\n",
    "                                \"name\": member_info[\"name\"],\n",
    "                                \"type\": member_info[\"type\"],\n",
    "                                \"description\": description\n",
    "                            }\n",
    "\n",
    "                            if current_class:\n",
    "                                if current_class not in results:\n",
    "                                    results[current_class] = []\n",
    "                                results[current_class].append(member_data)\n",
    "                            else:\n",
    "                                if \"Unknown\" not in results:\n",
    "                                    results[\"Unknown\"] = []\n",
    "                                results[\"Unknown\"].append(member_data)\n",
    "                            break\n",
    "                        k += 1\n",
    "                    break\n",
    "                else:\n",
    "                    break\n",
    "\n",
    "        i += 1\n",
    "\n",
    "    return results\n",
    "\n",
    "def extract_member_info(line):\n",
    "    original_line = line\n",
    "    line = re.sub(r'\\b(public|private|protected|internal|static|readonly|virtual|override|async)\\b', '', line)\n",
    "    line = line.strip()\n",
    "\n",
    "    property_match = re.search(r'\\b(\\w+(?:<.*?>)?)\\s+(\\w+)\\s*\\{', line)\n",
    "    if property_match:\n",
    "        return {\n",
    "            \"name\": property_match.group(2),\n",
    "            \"type\": property_match.group(1)\n",
    "        }\n",
    "\n",
    "\n",
    "    field_match = re.search(r'\\b(\\w+(?:<.*?>)?)\\s+(\\w+)\\s*;', line)\n",
    "    if field_match:\n",
    "        return {\n",
    "            \"name\": field_match.group(2),\n",
    "            \"type\": field_match.group(1)\n",
    "        }\n",
    "\n",
    "\n",
    "    method_match = re.search(r'\\b(\\w+(?:<.*?>)?)\\s+(\\w+)\\s*\\(', line)\n",
    "    if method_match:\n",
    "        return {\n",
    "            \"name\": method_match.group(2),\n",
    "            \"type\": f\"Method -> {method_match.group(1)}\"\n",
    "        }\n",
    "\n",
    "    complex_method_match = re.search(r'\\b(Task<\\w+>|\\w+<.*?>)\\s+(\\w+)\\s*\\(', line)\n",
    "    if complex_method_match:\n",
    "        return {\n",
    "            \"name\": complex_method_match.group(2),\n",
    "            \"type\": f\"Method -> {complex_method_match.group(1)}\"\n",
    "        }\n",
    "\n",
    "    return None\n"
   ],
   "id": "bcb061bebf6227ed",
   "outputs": [],
   "execution_count": 72
  },
  {
   "metadata": {
    "ExecuteTime": {
     "end_time": "2025-07-08T19:26:41.085664Z",
     "start_time": "2025-07-08T19:26:41.075661Z"
    }
   },
   "cell_type": "code",
   "source": [
    "with open(f'{MODELS_FOLDER}/Animal.cs', 'r', encoding='utf-8') as f:\n",
    "    code = f.read()\n",
    "    results = parse_documentation_members(code)\n",
    "    print(json.dumps(results, ensure_ascii=False, indent=2))"
   ],
   "id": "5c48c6ccad9c85c0",
   "outputs": [
    {
     "name": "stdout",
     "output_type": "stream",
     "text": [
      "{\n",
      "  \"Animal\": [\n",
      "    {\n",
      "      \"name\": \"Name\",\n",
      "      \"type\": \"String\",\n",
      "      \"description\": \"Ім'я тварини\"\n",
      "    },\n",
      "    {\n",
      "      \"name\": \"Age\",\n",
      "      \"type\": \"String\",\n",
      "      \"description\": \"Вік тварини\"\n",
      "    },\n",
      "    {\n",
      "      \"name\": \"SuitAndSigns\",\n",
      "      \"type\": \"String\",\n",
      "      \"description\": \"Прикмети та ознаки тварини\"\n",
      "    },\n",
      "    {\n",
      "      \"name\": \"Owner\",\n",
      "      \"type\": \"Face\",\n",
      "      \"description\": \"Глобальний унікальний ідентифікатор власника\"\n",
      "    },\n",
      "    {\n",
      "      \"name\": \"PostAddressObject\",\n",
      "      \"type\": \"PostAddress\",\n",
      "      \"description\": \"Поштова адреса об'єкта, пов'язаного з твариною\"\n",
      "    },\n",
      "    {\n",
      "      \"name\": \"OwnerName\",\n",
      "      \"type\": \"string\",\n",
      "      \"description\": \"Ім'я власника тварини\"\n",
      "    }\n",
      "  ]\n",
      "}\n"
     ]
    }
   ],
   "execution_count": 73
  },
  {
   "metadata": {
    "ExecuteTime": {
     "end_time": "2025-07-08T19:26:41.163680Z",
     "start_time": "2025-07-08T19:26:41.117671Z"
    }
   },
   "cell_type": "code",
   "source": [
    "models = []\n",
    "for file in os.listdir(f'{MODELS_FOLDER}'):\n",
    "    with open(f'{MODELS_FOLDER}/{file}', 'r', encoding='utf-8') as f:\n",
    "        code = f.read()\n",
    "        results = parse_documentation_members(code)\n",
    "        models.append(\n",
    "            {\n",
    "            \"class\":file.replace(\".cs\", \"\"),\n",
    "            'members':results\n",
    "            })"
   ],
   "id": "bf154031ec1de274",
   "outputs": [],
   "execution_count": 74
  },
  {
   "metadata": {
    "ExecuteTime": {
     "end_time": "2025-07-08T19:26:41.179684Z",
     "start_time": "2025-07-08T19:26:41.170683Z"
    }
   },
   "cell_type": "code",
   "source": [
    "with open(f'{DATA_FOLDER}/Models_doc.json', 'w', encoding='utf-8') as f:\n",
    "    json.dump(models, f, ensure_ascii=False, indent=2, allow_nan=True)"
   ],
   "id": "933aa6924f452296",
   "outputs": [],
   "execution_count": 75
  }
 ],
 "metadata": {
  "kernelspec": {
   "display_name": "Python 3",
   "language": "python",
   "name": "python3"
  },
  "language_info": {
   "codemirror_mode": {
    "name": "ipython",
    "version": 2
   },
   "file_extension": ".py",
   "mimetype": "text/x-python",
   "name": "python",
   "nbconvert_exporter": "python",
   "pygments_lexer": "ipython2",
   "version": "2.7.6"
  }
 },
 "nbformat": 4,
 "nbformat_minor": 5
}
