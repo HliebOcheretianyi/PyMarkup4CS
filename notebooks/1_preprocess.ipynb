{
 "cells": [
  {
   "cell_type": "code",
   "id": "initial_id",
   "metadata": {
    "collapsed": true,
    "ExecuteTime": {
     "end_time": "2025-07-07T23:16:42.132888Z",
     "start_time": "2025-07-07T23:16:42.121886Z"
    }
   },
   "source": [
    "import pandas as pd\n",
    "import numpy as np"
   ],
   "outputs": [],
   "execution_count": 5
  },
  {
   "metadata": {
    "ExecuteTime": {
     "end_time": "2025-07-07T23:16:43.101873Z",
     "start_time": "2025-07-07T23:16:43.088871Z"
    }
   },
   "cell_type": "code",
   "source": "DATA_FOLDER = '../data'",
   "id": "850470406e13c55c",
   "outputs": [],
   "execution_count": 6
  },
  {
   "metadata": {
    "ExecuteTime": {
     "end_time": "2025-07-07T23:11:03.077790Z",
     "start_time": "2025-07-07T23:11:02.775840Z"
    }
   },
   "cell_type": "code",
   "source": "df = pd.read_excel(f'{DATA_FOLDER}/DocProperties/DocProperties_filled.xlsx')",
   "id": "e1b73109f5cb205e",
   "outputs": [],
   "execution_count": 2
  },
  {
   "metadata": {
    "ExecuteTime": {
     "end_time": "2025-07-07T23:11:07.474124Z",
     "start_time": "2025-07-07T23:11:07.453119Z"
    }
   },
   "cell_type": "code",
   "source": "df",
   "id": "d4fca70f5bc1fe49",
   "outputs": [
    {
     "data": {
      "text/plain": [
       "                        Name  \\\n",
       "0      750InsPremAutocivilka   \n",
       "1            750InsPremAsist   \n",
       "2             704LandAddress   \n",
       "3              739ParamSport   \n",
       "4                 769Rate249   \n",
       "..                       ...   \n",
       "946        MedPaymentSumEURO   \n",
       "947    MedInsuranceSumDollar   \n",
       "948      MedInsuranceSumEURO   \n",
       "949  BranchNameFromParameter   \n",
       "950            DirectionCode   \n",
       "\n",
       "                                                Result  \\\n",
       "0    __Result = \"---\";\\nWorkflow.DTO.Models.Program...   \n",
       "1    __Result = \"---\";\\nWorkflow.DTO.Models.Program...   \n",
       "2    __Result = \"\";\\nWorkflow.DTO.Models.Program pr...   \n",
       "3    __Result = \"Ні\";\\nWorkflow.DTO.Models.Program ...   \n",
       "4    __Result = \"---\";\\nWorkflow.DTO.Models.Program...   \n",
       "..                                                 ...   \n",
       "946  Workflow.DTO.Models.Program prog = GetProgramM...   \n",
       "947  Workflow.DTO.Models.Program prog = GetProgramM...   \n",
       "948  Workflow.DTO.Models.Program prog = GetProgramM...   \n",
       "949  Workflow.DTO.Models.ProgramParameterValue para...   \n",
       "950  __Result = \"---\";\\nWorkflow.DTO.Models.Branch ...   \n",
       "\n",
       "                                           Description  \n",
       "0    Код знаходить програму з кодом типу страхуванн...  \n",
       "1    Код обчислює загальну суму запланованих платеж...  \n",
       "2    Код формує текстову адресу земельної ділянки з...  \n",
       "3    Код перевіряє, чи в програмі GetProgramMed вст...  \n",
       "4    Код перевіряє кількість об'єктів страхування в...  \n",
       "..                                                 ...  \n",
       "946                                                NaN  \n",
       "947                                                NaN  \n",
       "948                                                NaN  \n",
       "949                                                NaN  \n",
       "950                                                NaN  \n",
       "\n",
       "[951 rows x 3 columns]"
      ],
      "text/html": [
       "<div>\n",
       "<style scoped>\n",
       "    .dataframe tbody tr th:only-of-type {\n",
       "        vertical-align: middle;\n",
       "    }\n",
       "\n",
       "    .dataframe tbody tr th {\n",
       "        vertical-align: top;\n",
       "    }\n",
       "\n",
       "    .dataframe thead th {\n",
       "        text-align: right;\n",
       "    }\n",
       "</style>\n",
       "<table border=\"1\" class=\"dataframe\">\n",
       "  <thead>\n",
       "    <tr style=\"text-align: right;\">\n",
       "      <th></th>\n",
       "      <th>Name</th>\n",
       "      <th>Result</th>\n",
       "      <th>Description</th>\n",
       "    </tr>\n",
       "  </thead>\n",
       "  <tbody>\n",
       "    <tr>\n",
       "      <th>0</th>\n",
       "      <td>750InsPremAutocivilka</td>\n",
       "      <td>__Result = \"---\";\\nWorkflow.DTO.Models.Program...</td>\n",
       "      <td>Код знаходить програму з кодом типу страхуванн...</td>\n",
       "    </tr>\n",
       "    <tr>\n",
       "      <th>1</th>\n",
       "      <td>750InsPremAsist</td>\n",
       "      <td>__Result = \"---\";\\nWorkflow.DTO.Models.Program...</td>\n",
       "      <td>Код обчислює загальну суму запланованих платеж...</td>\n",
       "    </tr>\n",
       "    <tr>\n",
       "      <th>2</th>\n",
       "      <td>704LandAddress</td>\n",
       "      <td>__Result = \"\";\\nWorkflow.DTO.Models.Program pr...</td>\n",
       "      <td>Код формує текстову адресу земельної ділянки з...</td>\n",
       "    </tr>\n",
       "    <tr>\n",
       "      <th>3</th>\n",
       "      <td>739ParamSport</td>\n",
       "      <td>__Result = \"Ні\";\\nWorkflow.DTO.Models.Program ...</td>\n",
       "      <td>Код перевіряє, чи в програмі GetProgramMed вст...</td>\n",
       "    </tr>\n",
       "    <tr>\n",
       "      <th>4</th>\n",
       "      <td>769Rate249</td>\n",
       "      <td>__Result = \"---\";\\nWorkflow.DTO.Models.Program...</td>\n",
       "      <td>Код перевіряє кількість об'єктів страхування в...</td>\n",
       "    </tr>\n",
       "    <tr>\n",
       "      <th>...</th>\n",
       "      <td>...</td>\n",
       "      <td>...</td>\n",
       "      <td>...</td>\n",
       "    </tr>\n",
       "    <tr>\n",
       "      <th>946</th>\n",
       "      <td>MedPaymentSumEURO</td>\n",
       "      <td>Workflow.DTO.Models.Program prog = GetProgramM...</td>\n",
       "      <td>NaN</td>\n",
       "    </tr>\n",
       "    <tr>\n",
       "      <th>947</th>\n",
       "      <td>MedInsuranceSumDollar</td>\n",
       "      <td>Workflow.DTO.Models.Program prog = GetProgramM...</td>\n",
       "      <td>NaN</td>\n",
       "    </tr>\n",
       "    <tr>\n",
       "      <th>948</th>\n",
       "      <td>MedInsuranceSumEURO</td>\n",
       "      <td>Workflow.DTO.Models.Program prog = GetProgramM...</td>\n",
       "      <td>NaN</td>\n",
       "    </tr>\n",
       "    <tr>\n",
       "      <th>949</th>\n",
       "      <td>BranchNameFromParameter</td>\n",
       "      <td>Workflow.DTO.Models.ProgramParameterValue para...</td>\n",
       "      <td>NaN</td>\n",
       "    </tr>\n",
       "    <tr>\n",
       "      <th>950</th>\n",
       "      <td>DirectionCode</td>\n",
       "      <td>__Result = \"---\";\\nWorkflow.DTO.Models.Branch ...</td>\n",
       "      <td>NaN</td>\n",
       "    </tr>\n",
       "  </tbody>\n",
       "</table>\n",
       "<p>951 rows × 3 columns</p>\n",
       "</div>"
      ]
     },
     "execution_count": 3,
     "metadata": {},
     "output_type": "execute_result"
    }
   ],
   "execution_count": 3
  },
  {
   "metadata": {
    "ExecuteTime": {
     "end_time": "2025-07-07T23:16:44.832084Z",
     "start_time": "2025-07-07T23:16:44.801114Z"
    }
   },
   "cell_type": "code",
   "source": [
    "df_small = df.drop('Name', axis=1)\n",
    "df_small.to_csv(f'{DATA_FOLDER}/DocProperties_small.csv', index=False)"
   ],
   "id": "917acb1232ba259c",
   "outputs": [],
   "execution_count": 7
  },
  {
   "metadata": {
    "ExecuteTime": {
     "end_time": "2025-07-07T23:32:41.341199Z",
     "start_time": "2025-07-07T23:32:41.301046Z"
    }
   },
   "cell_type": "code",
   "source": [
    "result = []\n",
    "for _, row in df_small.iterrows():\n",
    "    chat = {\n",
    "        \"messages\":[\n",
    "            {\n",
    "                \"role\":\"user\",\n",
    "                \"content\":f\"Пояснення: {row['Description']}\"\n",
    "            },\n",
    "            {\n",
    "                \"role\":\"assistant\",\n",
    "                \"content\":f\"C# code:\\n{row['Result']}\"\n",
    "            },\n",
    "        ]\n",
    "    }\n",
    "    result.append(chat)"
   ],
   "id": "326573bdfec7dd4f",
   "outputs": [],
   "execution_count": 8
  },
  {
   "metadata": {
    "ExecuteTime": {
     "end_time": "2025-07-07T23:33:52.474335Z",
     "start_time": "2025-07-07T23:33:52.463332Z"
    }
   },
   "cell_type": "code",
   "source": "",
   "id": "4fa337513e148a4b",
   "outputs": [],
   "execution_count": null
  }
 ],
 "metadata": {
  "kernelspec": {
   "display_name": "Python 3",
   "language": "python",
   "name": "python3"
  },
  "language_info": {
   "codemirror_mode": {
    "name": "ipython",
    "version": 2
   },
   "file_extension": ".py",
   "mimetype": "text/x-python",
   "name": "python",
   "nbconvert_exporter": "python",
   "pygments_lexer": "ipython2",
   "version": "2.7.6"
  }
 },
 "nbformat": 4,
 "nbformat_minor": 5
}
