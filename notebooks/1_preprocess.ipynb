{
 "cells": [
  {
   "cell_type": "code",
   "id": "initial_id",
   "metadata": {
    "collapsed": true,
    "ExecuteTime": {
     "end_time": "2025-07-08T18:29:59.104359Z",
     "start_time": "2025-07-08T18:29:59.088475Z"
    }
   },
   "source": [
    "import pandas as pd\n",
    "import numpy as np\n",
    "import json\n",
    "import re\n",
    "from typing import List"
   ],
   "outputs": [],
   "execution_count": 36
  },
  {
   "metadata": {
    "ExecuteTime": {
     "end_time": "2025-07-08T17:57:15.638733Z",
     "start_time": "2025-07-08T17:57:15.631089Z"
    }
   },
   "cell_type": "code",
   "source": [
    "DATA_FOLDER = '../data'\n",
    "MODELS_FOLDER = '../data/DocProperties/incore-exporter/Workflow.DTO/Models'"
   ],
   "id": "850470406e13c55c",
   "outputs": [],
   "execution_count": 14
  },
  {
   "metadata": {
    "ExecuteTime": {
     "end_time": "2025-07-08T17:57:15.715987Z",
     "start_time": "2025-07-08T17:57:15.654739Z"
    }
   },
   "cell_type": "code",
   "source": "df = pd.read_excel(f'{DATA_FOLDER}/DocProperties/DocProperties_filled.xlsx')",
   "id": "e1b73109f5cb205e",
   "outputs": [],
   "execution_count": 15
  },
  {
   "metadata": {
    "ExecuteTime": {
     "end_time": "2025-07-08T17:57:15.746629Z",
     "start_time": "2025-07-08T17:57:15.732626Z"
    }
   },
   "cell_type": "code",
   "source": "df",
   "id": "d4fca70f5bc1fe49",
   "outputs": [
    {
     "data": {
      "text/plain": [
       "                        Name  \\\n",
       "0      750InsPremAutocivilka   \n",
       "1            750InsPremAsist   \n",
       "2             704LandAddress   \n",
       "3              739ParamSport   \n",
       "4                 769Rate249   \n",
       "..                       ...   \n",
       "946        MedPaymentSumEURO   \n",
       "947    MedInsuranceSumDollar   \n",
       "948      MedInsuranceSumEURO   \n",
       "949  BranchNameFromParameter   \n",
       "950            DirectionCode   \n",
       "\n",
       "                                                Result  \\\n",
       "0    __Result = \"---\";\\nWorkflow.DTO.Models.Program...   \n",
       "1    __Result = \"---\";\\nWorkflow.DTO.Models.Program...   \n",
       "2    __Result = \"\";\\nWorkflow.DTO.Models.Program pr...   \n",
       "3    __Result = \"Ні\";\\nWorkflow.DTO.Models.Program ...   \n",
       "4    __Result = \"---\";\\nWorkflow.DTO.Models.Program...   \n",
       "..                                                 ...   \n",
       "946  Workflow.DTO.Models.Program prog = GetProgramM...   \n",
       "947  Workflow.DTO.Models.Program prog = GetProgramM...   \n",
       "948  Workflow.DTO.Models.Program prog = GetProgramM...   \n",
       "949  Workflow.DTO.Models.ProgramParameterValue para...   \n",
       "950  __Result = \"---\";\\nWorkflow.DTO.Models.Branch ...   \n",
       "\n",
       "                                           Description  \n",
       "0    Код знаходить програму з кодом типу страхуванн...  \n",
       "1    Код обчислює загальну суму запланованих платеж...  \n",
       "2    Код формує текстову адресу земельної ділянки з...  \n",
       "3    Код перевіряє, чи в програмі GetProgramMed вст...  \n",
       "4    Код перевіряє кількість об'єктів страхування в...  \n",
       "..                                                 ...  \n",
       "946                                                NaN  \n",
       "947                                                NaN  \n",
       "948                                                NaN  \n",
       "949                                                NaN  \n",
       "950                                                NaN  \n",
       "\n",
       "[951 rows x 3 columns]"
      ],
      "text/html": [
       "<div>\n",
       "<style scoped>\n",
       "    .dataframe tbody tr th:only-of-type {\n",
       "        vertical-align: middle;\n",
       "    }\n",
       "\n",
       "    .dataframe tbody tr th {\n",
       "        vertical-align: top;\n",
       "    }\n",
       "\n",
       "    .dataframe thead th {\n",
       "        text-align: right;\n",
       "    }\n",
       "</style>\n",
       "<table border=\"1\" class=\"dataframe\">\n",
       "  <thead>\n",
       "    <tr style=\"text-align: right;\">\n",
       "      <th></th>\n",
       "      <th>Name</th>\n",
       "      <th>Result</th>\n",
       "      <th>Description</th>\n",
       "    </tr>\n",
       "  </thead>\n",
       "  <tbody>\n",
       "    <tr>\n",
       "      <th>0</th>\n",
       "      <td>750InsPremAutocivilka</td>\n",
       "      <td>__Result = \"---\";\\nWorkflow.DTO.Models.Program...</td>\n",
       "      <td>Код знаходить програму з кодом типу страхуванн...</td>\n",
       "    </tr>\n",
       "    <tr>\n",
       "      <th>1</th>\n",
       "      <td>750InsPremAsist</td>\n",
       "      <td>__Result = \"---\";\\nWorkflow.DTO.Models.Program...</td>\n",
       "      <td>Код обчислює загальну суму запланованих платеж...</td>\n",
       "    </tr>\n",
       "    <tr>\n",
       "      <th>2</th>\n",
       "      <td>704LandAddress</td>\n",
       "      <td>__Result = \"\";\\nWorkflow.DTO.Models.Program pr...</td>\n",
       "      <td>Код формує текстову адресу земельної ділянки з...</td>\n",
       "    </tr>\n",
       "    <tr>\n",
       "      <th>3</th>\n",
       "      <td>739ParamSport</td>\n",
       "      <td>__Result = \"Ні\";\\nWorkflow.DTO.Models.Program ...</td>\n",
       "      <td>Код перевіряє, чи в програмі GetProgramMed вст...</td>\n",
       "    </tr>\n",
       "    <tr>\n",
       "      <th>4</th>\n",
       "      <td>769Rate249</td>\n",
       "      <td>__Result = \"---\";\\nWorkflow.DTO.Models.Program...</td>\n",
       "      <td>Код перевіряє кількість об'єктів страхування в...</td>\n",
       "    </tr>\n",
       "    <tr>\n",
       "      <th>...</th>\n",
       "      <td>...</td>\n",
       "      <td>...</td>\n",
       "      <td>...</td>\n",
       "    </tr>\n",
       "    <tr>\n",
       "      <th>946</th>\n",
       "      <td>MedPaymentSumEURO</td>\n",
       "      <td>Workflow.DTO.Models.Program prog = GetProgramM...</td>\n",
       "      <td>NaN</td>\n",
       "    </tr>\n",
       "    <tr>\n",
       "      <th>947</th>\n",
       "      <td>MedInsuranceSumDollar</td>\n",
       "      <td>Workflow.DTO.Models.Program prog = GetProgramM...</td>\n",
       "      <td>NaN</td>\n",
       "    </tr>\n",
       "    <tr>\n",
       "      <th>948</th>\n",
       "      <td>MedInsuranceSumEURO</td>\n",
       "      <td>Workflow.DTO.Models.Program prog = GetProgramM...</td>\n",
       "      <td>NaN</td>\n",
       "    </tr>\n",
       "    <tr>\n",
       "      <th>949</th>\n",
       "      <td>BranchNameFromParameter</td>\n",
       "      <td>Workflow.DTO.Models.ProgramParameterValue para...</td>\n",
       "      <td>NaN</td>\n",
       "    </tr>\n",
       "    <tr>\n",
       "      <th>950</th>\n",
       "      <td>DirectionCode</td>\n",
       "      <td>__Result = \"---\";\\nWorkflow.DTO.Models.Branch ...</td>\n",
       "      <td>NaN</td>\n",
       "    </tr>\n",
       "  </tbody>\n",
       "</table>\n",
       "<p>951 rows × 3 columns</p>\n",
       "</div>"
      ]
     },
     "execution_count": 16,
     "metadata": {},
     "output_type": "execute_result"
    }
   ],
   "execution_count": 16
  },
  {
   "metadata": {
    "ExecuteTime": {
     "end_time": "2025-07-08T17:57:15.825651Z",
     "start_time": "2025-07-08T17:57:15.795643Z"
    }
   },
   "cell_type": "code",
   "source": [
    "df_small = df.drop('Name', axis=1)\n",
    "df_small.to_csv(f'{DATA_FOLDER}/DocProperties_small.csv', index=False)"
   ],
   "id": "917acb1232ba259c",
   "outputs": [],
   "execution_count": 17
  },
  {
   "metadata": {
    "ExecuteTime": {
     "end_time": "2025-07-08T17:57:15.904668Z",
     "start_time": "2025-07-08T17:57:15.858658Z"
    }
   },
   "cell_type": "code",
   "source": [
    "result = []\n",
    "for _, row in df_small.iterrows():\n",
    "    chat = {\n",
    "        \"messages\":[\n",
    "            {\n",
    "                \"role\":\"user\",\n",
    "                \"content\":f\"Пояснення: {row['Description']}\"\n",
    "            },\n",
    "            {\n",
    "                \"role\":\"assistant\",\n",
    "                \"content\":f\"C# code:\\n{row['Result']}\"\n",
    "            },\n",
    "        ]\n",
    "    }\n",
    "    result.append(chat)"
   ],
   "id": "326573bdfec7dd4f",
   "outputs": [],
   "execution_count": 18
  },
  {
   "metadata": {
    "ExecuteTime": {
     "end_time": "2025-07-08T17:57:15.952679Z",
     "start_time": "2025-07-08T17:57:15.923672Z"
    }
   },
   "cell_type": "code",
   "source": [
    "with open(f'{DATA_FOLDER}/DocProperties_JSONL.json', 'w', encoding='utf-8') as f:\n",
    "    json.dump(result, f, ensure_ascii=False, indent=4, allow_nan=True)"
   ],
   "id": "4fa337513e148a4b",
   "outputs": [],
   "execution_count": 19
  },
  {
   "metadata": {
    "ExecuteTime": {
     "end_time": "2025-07-08T19:01:42.040301Z",
     "start_time": "2025-07-08T19:01:42.026300Z"
    }
   },
   "cell_type": "code",
   "source": [
    "def extract_member_name(line):\n",
    "    # Remove access modifiers and common keywords\n",
    "    line = re.sub(r'\\b(public|private|protected|internal|static|readonly|virtual|override|async)\\b', '', line)\n",
    "    line = line.strip()\n",
    "\n",
    "    # Property pattern: Type Name { get; set; }\n",
    "    property_match = re.search(r'\\b(\\w+)\\s+(\\w+)\\s*\\{', line)\n",
    "    if property_match:\n",
    "        return property_match.group(2)\n",
    "\n",
    "    # Field pattern: Type Name;\n",
    "    field_match = re.search(r'\\b(\\w+)\\s+(\\w+)\\s*;', line)\n",
    "    if field_match:\n",
    "        return field_match.group(2)\n",
    "\n",
    "    # Method pattern: ReturnType MethodName(\n",
    "    method_match = re.search(r'\\b(\\w+(?:<.*?>)?)\\s+(\\w+)\\s*\\(', line)\n",
    "    if method_match:\n",
    "        return method_match.group(2)\n",
    "\n",
    "    return None\n",
    "\n",
    "\n",
    "def parse_documentation_members(csharp_code):\n",
    "    results = []\n",
    "\n",
    "    # Remove single-line comments that are not XML documentation\n",
    "    # Keep XML documentation comments (/// or /** */)\n",
    "    lines = csharp_code.split('\\n')\n",
    "\n",
    "    i = 0\n",
    "    while i < len(lines):\n",
    "        line = lines[i].strip()\n",
    "\n",
    "        # Look for XML documentation comment\n",
    "        if line.startswith('///'):\n",
    "            # Extract description from summary tags\n",
    "            summary_match = re.search(r'/// <summary>\\s*(.*?)\\s*</summary>', line)\n",
    "            if summary_match:\n",
    "                description = summary_match.group(1).strip()\n",
    "            else:\n",
    "                # Multi-line summary, collect until </summary>\n",
    "                description_lines = []\n",
    "                i += 1\n",
    "                while i < len(lines):\n",
    "                    next_line = lines[i].strip()\n",
    "                    if '</summary>' in next_line:\n",
    "                        # Extract text before </summary>\n",
    "                        end_text = re.search(r'(.*?)</summary>', next_line)\n",
    "                        if end_text:\n",
    "                            description_lines.append(end_text.group(1).replace('///', '').strip())\n",
    "                        break\n",
    "                    else:\n",
    "                        # Remove /// prefix and collect the text\n",
    "                        clean_line = next_line.replace('///', '').strip()\n",
    "                        if clean_line:\n",
    "                            description_lines.append(clean_line)\n",
    "                    i += 1\n",
    "\n",
    "                description = ' '.join(description_lines).strip()\n",
    "\n",
    "            # Now look for [DocumentationMember] in the following lines\n",
    "            j = i + 1\n",
    "            while j < len(lines):\n",
    "                next_line = lines[j].strip()\n",
    "\n",
    "                # Skip empty lines and other XML comments\n",
    "                if not next_line or next_line.startswith('///'):\n",
    "                    j += 1\n",
    "                    continue\n",
    "\n",
    "                # Check if this line has [DocumentationMember]\n",
    "                if '[DocumentationMember]' in next_line:\n",
    "                    # Look for the member definition in the next line(s)\n",
    "                    k = j + 1\n",
    "                    while k < len(lines):\n",
    "                        member_line = lines[k].strip()\n",
    "                        if not member_line:\n",
    "                            k += 1\n",
    "                            continue\n",
    "\n",
    "                        # Try to extract member name\n",
    "                        member_name = extract_member_name(member_line)\n",
    "                        if member_name:\n",
    "                            results.append({\n",
    "                                \"name\": member_name,\n",
    "                                \"description\": description\n",
    "                            })\n",
    "                            break\n",
    "                        k += 1\n",
    "                    break\n",
    "                else:\n",
    "                    # If we hit a non-documentation line without [DocumentationMember], stop looking\n",
    "                    break\n",
    "\n",
    "        i += 1\n",
    "\n",
    "    return results\n"
   ],
   "id": "bcb061bebf6227ed",
   "outputs": [],
   "execution_count": 51
  },
  {
   "metadata": {
    "ExecuteTime": {
     "end_time": "2025-07-08T18:42:26.022049Z",
     "start_time": "2025-07-08T18:42:26.007668Z"
    }
   },
   "cell_type": "code",
   "source": "",
   "id": "69d9a6af1da89087",
   "outputs": [],
   "execution_count": 49
  },
  {
   "metadata": {
    "ExecuteTime": {
     "end_time": "2025-07-08T19:01:45.232168Z",
     "start_time": "2025-07-08T19:01:45.227162Z"
    }
   },
   "cell_type": "code",
   "source": [
    "with open(f'{MODELS_FOLDER}/Account.cs', 'r', encoding='utf-8') as f:\n",
    "    code = f.read()\n",
    "    results = parse_documentation_members(code)\n",
    "    print(json.dumps(results, ensure_ascii=False, indent=2))"
   ],
   "id": "5c48c6ccad9c85c0",
   "outputs": [
    {
     "name": "stdout",
     "output_type": "stream",
     "text": [
      "[\n",
      "  {\n",
      "    \"name\": \"AccountNumber\",\n",
      "    \"description\": \"Унікальний ідентифікаційний номер банківського рахунку, що призначений для ідентифікації рахунку клієнта в банківській системі\"\n",
      "  },\n",
      "  {\n",
      "    \"name\": \"BankMFO\",\n",
      "    \"description\": \"Міжнародний фінансовий код банку (МФО), який використовується для ідентифікації банку, що обслуговує рахунок\"\n",
      "  },\n",
      "  {\n",
      "    \"name\": \"BankName\",\n",
      "    \"description\": \"Назва банківської установи, в якій відкрито рахунок клієнта\"\n",
      "  }\n",
      "]\n"
     ]
    }
   ],
   "execution_count": 52
  }
 ],
 "metadata": {
  "kernelspec": {
   "display_name": "Python 3",
   "language": "python",
   "name": "python3"
  },
  "language_info": {
   "codemirror_mode": {
    "name": "ipython",
    "version": 2
   },
   "file_extension": ".py",
   "mimetype": "text/x-python",
   "name": "python",
   "nbconvert_exporter": "python",
   "pygments_lexer": "ipython2",
   "version": "2.7.6"
  }
 },
 "nbformat": 4,
 "nbformat_minor": 5
}
