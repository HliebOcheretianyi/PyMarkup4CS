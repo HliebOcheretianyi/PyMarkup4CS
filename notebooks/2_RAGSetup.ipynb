{
 "cells": [
  {
   "cell_type": "code",
   "id": "initial_id",
   "metadata": {
    "collapsed": true,
    "ExecuteTime": {
     "end_time": "2025-09-08T14:59:31.234055Z",
     "start_time": "2025-09-08T14:59:30.725296Z"
    }
   },
   "source": [
    "import pandas as pd\n",
    "import numpy as np\n",
    "\n",
    "import os\n",
    "\n",
    "\n",
    "from paths import DATA_FOLDER, PROCESSED_DATA_FOLDER, MODELS_FOLDER, ML_FOLDER\n",
    "from BasicClasses import *\n",
    "\n",
    "from sentence_transformers import SentenceTransformer\n",
    "from transformers import AutoTokenizer, AutoModelForSequenceClassification\n",
    "import torch\n",
    "\n",
    "import chromadb\n"
   ],
   "outputs": [],
   "execution_count": 3
  },
  {
   "metadata": {
    "ExecuteTime": {
     "end_time": "2025-09-08T14:59:33.692545Z",
     "start_time": "2025-09-08T14:59:33.689994Z"
    }
   },
   "cell_type": "code",
   "source": [
    "DATA_FOLDER = DATA_FOLDER\n",
    "PROCESSED_DATA_FOLDER = PROCESSED_DATA_FOLDER\n",
    "MODELS_FOLDER = MODELS_FOLDER\n",
    "ML_FOLDER = ML_FOLDER\n",
    "MODEL_ID = \"BAAI/bge-m3\"\n",
    "RERANKING_MODEL = \"BAAI/bge-reranker-v2-m3\""
   ],
   "id": "398186b6e63d129e",
   "outputs": [],
   "execution_count": 4
  },
  {
   "metadata": {
    "ExecuteTime": {
     "end_time": "2025-09-08T15:00:06.516940Z",
     "start_time": "2025-09-08T15:00:06.509409Z"
    }
   },
   "cell_type": "code",
   "source": [
    "print(f\"PyTorch version: {torch.__version__}\")\n",
    "print(f\"CUDA available: {torch.cuda.is_available()}\")\n",
    "print(f\"CUDA version: {torch.version.cuda}\")\n",
    "print(f\"Device count: {torch.cuda.device_count()}\")\n",
    "if torch.cuda.is_available():\n",
    "    print(f\"Device name: {torch.cuda.get_device_name(0)}\")"
   ],
   "id": "b511a18fe92cf520",
   "outputs": [
    {
     "name": "stdout",
     "output_type": "stream",
     "text": [
      "PyTorch version: 2.8.0+cu128\n",
      "CUDA available: True\n",
      "CUDA version: 12.8\n",
      "Device count: 1\n",
      "Device name: NVIDIA GeForce RTX 3060\n"
     ]
    }
   ],
   "execution_count": 5
  },
  {
   "metadata": {},
   "cell_type": "markdown",
   "source": [
    "## We recommend to use the following pipeline: hybrid retrieval + re-ranking.\n",
    "\n",
    "- [ ] Hybrid retrieval leverages the strengths of various methods, offering higher accuracy and stronger generalization capabilities. A classic example: using both embedding retrieval and the BM25 algorithm. Now, you can try to use BGE-M3, which supports both embedding and sparse retrieval. This allows you to obtain token weights (similar to the BM25) without any additional cost when generate dense embeddings. To use hybrid retrieval, you can refer to Vespa and Milvus.\n",
    "\n",
    "- [ ] As cross-encoder models, re-ranker demonstrates higher accuracy than bi-encoder embedding model. Utilizing the re-ranking model (e.g., bge-reranker, bge-reranker-v2) after retrieval can further filter the selected text."
   ],
   "id": "c8fe56400e899a63"
  },
  {
   "metadata": {
    "ExecuteTime": {
     "end_time": "2025-09-08T15:00:37.314662Z",
     "start_time": "2025-09-08T15:00:33.253391Z"
    }
   },
   "cell_type": "code",
   "source": [
    "# model = SentenceTransformer(MODEL_ID)\n",
    "model = SentenceTransformer(f'{ML_FOLDER}/BGE-m3')\n",
    "tokenizer = AutoTokenizer.from_pretrained('BAAI/bge-reranker-v2-m3',\n",
    "                                                       cache_dir=f'{ML_FOLDER}/bge-reranker-v2-m3')\n",
    "reranker = AutoModelForSequenceClassification.from_pretrained('BAAI/bge-reranker-v2-m3',\n",
    "                                                                           cache_dir=f'{ML_FOLDER}/bge-reranker-v2-m3')"
   ],
   "id": "dc2b2753d3f7ba21",
   "outputs": [],
   "execution_count": 6
  },
  {
   "metadata": {},
   "cell_type": "code",
   "source": "# model.save(f'{ML_FOLDER}/BGE-m3')\n",
   "id": "2f1eafbe12de748",
   "outputs": [],
   "execution_count": null
  },
  {
   "metadata": {
    "ExecuteTime": {
     "end_time": "2025-09-08T15:03:26.069050Z",
     "start_time": "2025-09-08T15:03:24.536847Z"
    }
   },
   "cell_type": "code",
   "source": [
    "# embedding_func = SentenceTransformerEmbeddingFunction(MODEL_ID)\n",
    "embedding_func = SentenceTransformerEmbeddingFunction(f'{ML_FOLDER}/BGE-m3')"
   ],
   "id": "be8ff5d3668121a",
   "outputs": [],
   "execution_count": 7
  },
  {
   "metadata": {},
   "cell_type": "code",
   "source": "",
   "id": "d2cf343bcaae9efc",
   "outputs": [],
   "execution_count": null
  },
  {
   "metadata": {
    "ExecuteTime": {
     "end_time": "2025-09-08T15:04:32.356986Z",
     "start_time": "2025-09-08T15:04:28.059893Z"
    }
   },
   "cell_type": "code",
   "source": [
    "class_vectors_v2 = []\n",
    "for file in os.listdir(f'{PROCESSED_DATA_FOLDER}/classes'):\n",
    "    with open(f'{PROCESSED_DATA_FOLDER}/classes/{file}', 'r', encoding='utf-8') as f:\n",
    "        line = f.read()\n",
    "        results = embedding_func(line)\n",
    "        class_vectors_v2.extend(results)"
   ],
   "id": "5ab0f3b5dce4184",
   "outputs": [],
   "execution_count": 8
  },
  {
   "metadata": {},
   "cell_type": "code",
   "source": [
    "class_vectors_v3 = pd.DataFrame(class_vectors_v2)\n",
    "class_vectors_v3"
   ],
   "id": "1d7bb6eaf4236be5",
   "outputs": [],
   "execution_count": null
  },
  {
   "metadata": {
    "ExecuteTime": {
     "end_time": "2025-09-08T15:05:31.851636Z",
     "start_time": "2025-09-08T15:04:37.728309Z"
    }
   },
   "cell_type": "code",
   "source": [
    "trainig_vectors_v1 = []\n",
    "for file in os.listdir(f'{PROCESSED_DATA_FOLDER}/training'):\n",
    "    with open(f'{PROCESSED_DATA_FOLDER}/training/{file}', 'r', encoding='utf-8') as f:\n",
    "        line = f.read()\n",
    "        results = embedding_func(line)\n",
    "        trainig_vectors_v1.extend(results)"
   ],
   "id": "5a11be86109d5008",
   "outputs": [],
   "execution_count": 9
  },
  {
   "metadata": {
    "ExecuteTime": {
     "end_time": "2025-09-08T15:05:31.968082Z",
     "start_time": "2025-09-08T15:05:31.855935Z"
    }
   },
   "cell_type": "code",
   "source": "chrome_persistent_client = chromadb.PersistentClient(path=f'{DATA_FOLDER}/chromadb')",
   "id": "e1e8bb06923005a",
   "outputs": [],
   "execution_count": 10
  },
  {
   "metadata": {
    "ExecuteTime": {
     "end_time": "2025-09-08T15:08:06.066053Z",
     "start_time": "2025-09-08T15:08:06.062460Z"
    }
   },
   "cell_type": "code",
   "source": "chrome_persistent_client.list_collections()",
   "id": "c0acdb72f9616401",
   "outputs": [
    {
     "data": {
      "text/plain": [
       "[]"
      ]
     },
     "execution_count": 13,
     "metadata": {},
     "output_type": "execute_result"
    }
   ],
   "execution_count": 13
  },
  {
   "metadata": {
    "ExecuteTime": {
     "end_time": "2025-09-08T15:07:59.930150Z",
     "start_time": "2025-09-08T15:07:59.756909Z"
    }
   },
   "cell_type": "code",
   "source": [
    "# chrome_persistent_client.delete_collection('classes')\n",
    "# chrome_persistent_client.delete_collection('training')"
   ],
   "id": "7cf5d2af75eeda02",
   "outputs": [],
   "execution_count": 12
  },
  {
   "metadata": {
    "ExecuteTime": {
     "end_time": "2025-09-08T15:08:07.454996Z",
     "start_time": "2025-09-08T15:08:07.394581Z"
    }
   },
   "cell_type": "code",
   "source": [
    "collection_classes = chrome_persistent_client.get_or_create_collection(name='classes', embedding_function=embedding_func)\n",
    "collection_training = chrome_persistent_client.get_or_create_collection(name='training', embedding_function=embedding_func)"
   ],
   "id": "f2052410e77be5ae",
   "outputs": [],
   "execution_count": 14
  },
  {
   "metadata": {
    "ExecuteTime": {
     "end_time": "2025-09-08T15:08:09.166933Z",
     "start_time": "2025-09-08T15:08:09.161632Z"
    }
   },
   "cell_type": "code",
   "source": [
    "documents = []\n",
    "metadatas =()\n",
    "ids = []\n",
    "\n",
    "\n",
    "class_folder = os.listdir(f'{PROCESSED_DATA_FOLDER}/classes')\n",
    "training_folder = os.listdir(f'{PROCESSED_DATA_FOLDER}/training')"
   ],
   "id": "3d0295ccb6292f0b",
   "outputs": [],
   "execution_count": 15
  },
  {
   "metadata": {
    "ExecuteTime": {
     "end_time": "2025-09-08T15:08:15.567528Z",
     "start_time": "2025-09-08T15:08:15.545001Z"
    }
   },
   "cell_type": "code",
   "source": [
    "for file in class_folder:\n",
    "    with open(f'{PROCESSED_DATA_FOLDER}/classes/{file}', 'r', encoding='utf-8') as f:\n",
    "        documents.append(f.read())\n",
    "\n",
    "metadatas = (\n",
    "    [{'category': 'classes'} for _ in class_folder]\n",
    ")\n",
    "\n",
    "ids = [f'CLASSid{i}' for i in range(1, len(class_folder)+ 1)]\n",
    "\n"
   ],
   "id": "e22bd89e04228a0c",
   "outputs": [],
   "execution_count": 16
  },
  {
   "metadata": {
    "ExecuteTime": {
     "end_time": "2025-09-08T15:08:17.885688Z",
     "start_time": "2025-09-08T15:08:17.708974Z"
    }
   },
   "cell_type": "code",
   "source": [
    "collection_classes.upsert(\n",
    "    documents=documents,\n",
    "    metadatas=metadatas,\n",
    "    ids=ids,\n",
    "    embeddings=class_vectors_v2,\n",
    ")"
   ],
   "id": "f0a8c0b2d222e972",
   "outputs": [],
   "execution_count": 17
  },
  {
   "metadata": {
    "ExecuteTime": {
     "end_time": "2025-09-08T15:08:19.787543Z",
     "start_time": "2025-09-08T15:08:19.785089Z"
    }
   },
   "cell_type": "code",
   "source": [
    "documents = []\n",
    "metadatas =()\n",
    "ids = []\n",
    "embeddings = []"
   ],
   "id": "f2afc9ef537825b5",
   "outputs": [],
   "execution_count": 18
  },
  {
   "metadata": {
    "ExecuteTime": {
     "end_time": "2025-09-08T15:08:21.229897Z",
     "start_time": "2025-09-08T15:08:21.106594Z"
    }
   },
   "cell_type": "code",
   "source": [
    "for file in training_folder:\n",
    "    with open(f'{PROCESSED_DATA_FOLDER}/training/{file}', 'r', encoding='utf-8') as f:\n",
    "        documents.append(f.read())\n",
    "\n",
    "metadatas = (\n",
    "    [{'category': 'code + explanation'} for _ in training_folder]\n",
    ")\n",
    "\n",
    "ids = [f'TRAINid{i}' for i in range(1, len(training_folder) + 1)]\n",
    "\n",
    "embeddings.extend(trainig_vectors_v1)"
   ],
   "id": "4d51dde56930e7d1",
   "outputs": [],
   "execution_count": 19
  },
  {
   "metadata": {
    "ExecuteTime": {
     "end_time": "2025-09-08T15:08:23.731744Z",
     "start_time": "2025-09-08T15:08:22.893746Z"
    }
   },
   "cell_type": "code",
   "source": [
    "collection_training.upsert(\n",
    "    documents=documents,\n",
    "    metadatas=metadatas,\n",
    "    ids=ids,\n",
    "    embeddings=trainig_vectors_v1,\n",
    ")\n"
   ],
   "id": "88f9ffc995559cb7",
   "outputs": [],
   "execution_count": 20
  },
  {
   "metadata": {
    "ExecuteTime": {
     "end_time": "2025-09-08T15:08:28.766979Z",
     "start_time": "2025-09-08T15:08:28.685444Z"
    }
   },
   "cell_type": "code",
   "source": [
    "text = 'Write a code for insurance with the document 207'\n",
    "result = collection_classes.query(\n",
    "    query_texts=[text],\n",
    "    n_results=20,\n",
    ")\n",
    "result"
   ],
   "id": "4faeb872d29570ea",
   "outputs": [
    {
     "data": {
      "text/plain": [
       "{'ids': [['CLASSid59',\n",
       "   'CLASSid86',\n",
       "   'CLASSid111',\n",
       "   'CLASSid91',\n",
       "   'CLASSid89',\n",
       "   'CLASSid92',\n",
       "   'CLASSid46',\n",
       "   'CLASSid84',\n",
       "   'CLASSid141',\n",
       "   'CLASSid136',\n",
       "   'CLASSid90',\n",
       "   'CLASSid85',\n",
       "   'CLASSid49',\n",
       "   'CLASSid87',\n",
       "   'CLASSid88',\n",
       "   'CLASSid147',\n",
       "   'CLASSid129',\n",
       "   'CLASSid47',\n",
       "   'CLASSid56',\n",
       "   'CLASSid149']],\n",
       " 'embeddings': None,\n",
       " 'documents': [['{\"class\": \"DocumentsToInsuranceObject\", \"members\": {\"DocumentsToInsuranceObject\": []}}\\n',\n",
       "   '{\"class\": \"InsuranceCompany\", \"members\": {\"InsuranceCompany\": []}}\\n',\n",
       "   '{\"class\": \"Product\", \"members\": {\"Product\": [{\"name\": \"PolisNumber\", \"type\": \"String\", \"description\": \"Номер полісу\"}, {\"name\": \"BranchGID\", \"type\": \"Guid\", \"description\": \"Унікальний ідентифікатор відділення продажу полісу\"}, {\"name\": \"BeginingDate\", \"type\": \"DateTime\", \"description\": \"Дата початку дії продукту\"}, {\"name\": \"EndingDate\", \"type\": \"DateTime\", \"description\": \"Дата завершення дії продукту\"}, {\"name\": \"RegisteredDate\", \"type\": \"DateTime\", \"description\": \"Дата реєстрації продукту\"}, {\"name\": \"AgentReportNumber\", \"type\": \"String\", \"description\": \"Номер звіту агента, пов\\'язаного з продуктом\"}, {\"name\": \"Comment\", \"type\": \"String\", \"description\": \"Страхова сума продукту в національній валюті\"}, {\"name\": \"Comment\", \"type\": \"String\", \"description\": \"Додаткові коментарі або примітки до продукту\"}, {\"name\": \"Blanks\", \"type\": \"List<Blank>\", \"description\": \"Дата створення продукту\"}, {\"name\": \"Blanks\", \"type\": \"List<Blank>\", \"description\": \"Список бланків, пов\\'язаних з продуктом\"}, {\"name\": \"PaymentPeriods\", \"type\": \"List<PaymentPeriod>\", \"description\": \"Платіжні періоди, пов\\'язані з продуктом\"}, {\"name\": \"Programs\", \"type\": \"List<Program>\", \"description\": \"Програми, пов\\'язані з продуктом\"}, {\"name\": \"Contract\", \"type\": \"Contract\", \"description\": \"Генеральний договір, пов\\'язаний з продуктом\"}, {\"name\": \"Insurer\", \"type\": \"Signer\", \"description\": \"Страховик, пов\\'язаний з продуктом\"}, {\"name\": \"Responsible\", \"type\": \"Signer\", \"description\": \"Відповідальна особа за продукт\"}, {\"name\": \"EntityAttributes\", \"type\": \"List<EntityAttribute>\", \"description\": \"Атрибути об\\'єкта продукту, що описують його характеристики та властивості\"}, {\"name\": \"_BranchName\", \"type\": \"string\", \"description\": \"Дата початку дії оригінального продукту\"}]}}\\n',\n",
       "   '{\"class\": \"InsuranceSumProgram\", \"members\": {\"InsuranceSumProgram\": []}}\\n',\n",
       "   '{\"class\": \"InsuranceScope\", \"members\": {\"InsuranceScope\": []}}\\n',\n",
       "   '{\"class\": \"InsuranceType\", \"members\": {\"InsuranceType\": []}}\\n',\n",
       "   '{\"class\": \"Contract\", \"members\": {\"Contract\": [{\"name\": \"ContractNumber\", \"type\": \"String\", \"description\": \"Унікальний номер генерального договору, що використовується для його ідентифікації\"}, {\"name\": \"Comment\", \"type\": \"String\", \"description\": \"Дата початку дії генерального договору, з якої він стає чинним\"}, {\"name\": \"Comment\", \"type\": \"String\", \"description\": \"Дата завершення дії генерального договору, після якої він втрачає чинність\"}, {\"name\": \"Contragent\", \"type\": \"Signer\", \"description\": \"Контрагент за генеральним договором, що є стороною угоди\"}, {\"name\": \"Responsible\", \"type\": \"Signer\", \"description\": \"Відповідальна особа за генеральним договором, яка підписує його зі сторони страхової компанії\"}]}}\\n',\n",
       "   '{\"class\": \"InsuranceApplicationOperation\", \"members\": {\"InsuranceApplicationOperation\": []}}\\n',\n",
       "   '{\"class\": \"SettlementCode\", \"members\": {\"SettlementCode\": []}}\\n',\n",
       "   '{\"class\": \"Risk\", \"members\": {\"Risk\": []}}\\n',\n",
       "   '{\"class\": \"InsuranceSumInsuranceObject\", \"members\": {\"InsuranceSumInsuranceObject\": []}}\\n',\n",
       "   '{\"class\": \"InsuranceApplicationStatusChange\", \"members\": {\"InsuranceApplicationStatusChange\": []}}\\n',\n",
       "   '{\"class\": \"ContractApplicationProductData\", \"members\": {\"ContractApplicationProductData\": []}}\\n',\n",
       "   '{\"class\": \"InsuranceObject\", \"members\": {\"InsuranceObject\": [{\"name\": \"Name\", \"type\": \"String\", \"description\": \"Страхова сума для об\\'єкта страхування\"}, {\"name\": \"Name\", \"type\": \"String\", \"description\": \"Страховий платіж за об\\'єктом страхування\"}, {\"name\": \"Name\", \"type\": \"String\", \"description\": \"Страховий тариф для об\\'єкта страхування\"}, {\"name\": \"Name\", \"type\": \"String\", \"description\": \"Назва страхового об\\'єкта\"}, {\"name\": \"Covers\", \"type\": \"List<Cover>\", \"description\": \"Покриття, що надаються для страхового об\\'єкта\"}, {\"name\": \"Object\", \"type\": \"Object\", \"description\": \"Об\\'єкт, що Виводить на друк страховий об\\'єкт\"}, {\"name\": \"Coefficients\", \"type\": \"List<Coefficient>\", \"description\": \"Коефіцієнти, що застосовуються до страхового об\\'єкта\"}, {\"name\": \"EntityAttributes\", \"type\": \"List<EntityAttribute>\", \"description\": \"Атрибути об\\'єкта страхування, що описують його характеристики та властивості\"}, {\"name\": \"_InsuranceObjectTypeName\", \"type\": \"string\", \"description\": \"Курс валют, який використовується для валюти страхової суми\"}]}}\\n',\n",
       "   '{\"class\": \"InsuranceObjectType\", \"members\": {\"InsuranceObjectType\": []}}\\n',\n",
       "   '{\"class\": \"Vehicle\", \"members\": {\"Vehicle\": [{\"name\": \"BodyNumber\", \"type\": \"String\", \"description\": \"Глобальний унікальний ідентифікатор власника\"}, {\"name\": \"BodyNumber\", \"type\": \"String\", \"description\": \"Номер кузова транспортного засобу\"}, {\"name\": \"RegistrationNumber\", \"type\": \"String\", \"description\": \"Реєстраційний номер транспортного засобу\"}, {\"name\": \"RegistrationCertificate\", \"type\": \"String\", \"description\": \"Дата виготовлення транспортного засобу\"}, {\"name\": \"AnticreepDevice\", \"type\": \"String\", \"description\": \"Дата реєстрації транспортного засобу\"}, {\"name\": \"AnticreepDevice\", \"type\": \"String\", \"description\": \"Вартість транспортного засобу\"}, {\"name\": \"AnticreepDevice\", \"type\": \"String\", \"description\": \"Кількість місць у транспортному засобі\"}, {\"name\": \"AnticreepDevice\", \"type\": \"String\", \"description\": \"Антикрадіжний пристрій, встановлений на транспортному засобі\"}, {\"name\": \"AdditionalEquipment\", \"type\": \"String\", \"description\": \"Додаткове обладнання, встановлене на транспортному засобі\"}, {\"name\": \"RegistrationPlace\", \"type\": \"String\", \"description\": \"Місце реєстрації транспортного засобу\"}, {\"name\": \"TechDocModel\", \"type\": \"String\", \"description\": \"Пробіг транспортного засобу\"}, {\"name\": \"TechDocModel\", \"type\": \"String\", \"description\": \"Місткість транспортного засобу\"}, {\"name\": \"TechDocModel\", \"type\": \"String\", \"description\": \"Технічна модель транспортного засобу за документами\"}, {\"name\": \"OwnerName\", \"type\": \"string\", \"description\": \"Ім\\'я або назва власника транспортного засобу\"}, {\"name\": \"SettlementObject\", \"type\": \"Settlement\", \"description\": \"Об\\'єкт населеного пункту, пов\\'язаний з транспортним засобом\"}, {\"name\": \"Address\", \"type\": \"String\", \"description\": \"Адреса, пов\\'язана з транспортним засобом\"}, {\"name\": \"PostAddressObject\", \"type\": \"PostAddress\", \"description\": \"Поштова адреса, пов\\'язана з транспортним засобом\"}, {\"name\": \"SettlementValue\", \"type\": \"string\", \"description\": \"Повна маса, кг\"}, {\"name\": \"SettlementValue\", \"type\": \"string\", \"description\": \"Маса без навантаження, кг\"}, {\"name\": \"SettlementValue\", \"type\": \"string\", \"description\": \"Потужність, кВт\"}, {\"name\": \"SettlementValue\", \"type\": \"string\", \"description\": \"Походження з Америки?\"}, {\"name\": \"SettlementValue\", \"type\": \"string\", \"description\": \"Тип гібриду\"}, {\"name\": \"SettlementValue\", \"type\": \"string\", \"description\": \"Тип приводу\"}, {\"name\": \"SettlementValue\", \"type\": \"string\", \"description\": \"Ємність батараеї\"}]}}\\n',\n",
       "   '{\"class\": \"ProgramViolatedUnderwritingRule\", \"members\": {\"ProgramViolatedUnderwritingRule\": []}}\\n',\n",
       "   '{\"class\": \"ContractApplication\", \"members\": {\"ContractApplication\": []}}\\n',\n",
       "   '{\"class\": \"Cover\", \"members\": {\"Cover\": [{\"name\": \"Franchises\", \"type\": \"List<Franchise>\", \"description\": \"Ліміт покриття, що визначає максимальну суму, яку можна отримати за покриття\"}, {\"name\": \"Franchises\", \"type\": \"List<Franchise>\", \"description\": \"Франшизи покриття, що визначають умови та обмеження покриття\"}]}}\\n',\n",
       "   '{\"class\": \"ViolatedUnderwritingRule\", \"members\": {\"ViolatedUnderwritingRule\": []}}\\n']],\n",
       " 'uris': None,\n",
       " 'included': ['metadatas', 'documents', 'distances'],\n",
       " 'data': None,\n",
       " 'metadatas': [[{'category': 'classes'},\n",
       "   {'category': 'classes'},\n",
       "   {'category': 'classes'},\n",
       "   {'category': 'classes'},\n",
       "   {'category': 'classes'},\n",
       "   {'category': 'classes'},\n",
       "   {'category': 'classes'},\n",
       "   {'category': 'classes'},\n",
       "   {'category': 'classes'},\n",
       "   {'category': 'classes'},\n",
       "   {'category': 'classes'},\n",
       "   {'category': 'classes'},\n",
       "   {'category': 'classes'},\n",
       "   {'category': 'classes'},\n",
       "   {'category': 'classes'},\n",
       "   {'category': 'classes'},\n",
       "   {'category': 'classes'},\n",
       "   {'category': 'classes'},\n",
       "   {'category': 'classes'},\n",
       "   {'category': 'classes'}]],\n",
       " 'distances': [[0.8951108455657959,\n",
       "   0.8952617645263672,\n",
       "   0.9650859832763672,\n",
       "   0.965505838394165,\n",
       "   0.9683821797370911,\n",
       "   0.9808033108711243,\n",
       "   0.9864555597305298,\n",
       "   1.000884771347046,\n",
       "   1.000925898551941,\n",
       "   1.0199565887451172,\n",
       "   1.0227389335632324,\n",
       "   1.0273510217666626,\n",
       "   1.0277901887893677,\n",
       "   1.0312687158584595,\n",
       "   1.0319277048110962,\n",
       "   1.0372545719146729,\n",
       "   1.0418751239776611,\n",
       "   1.0448215007781982,\n",
       "   1.045135498046875,\n",
       "   1.0474423170089722]]}"
      ]
     },
     "execution_count": 21,
     "metadata": {},
     "output_type": "execute_result"
    }
   ],
   "execution_count": 21
  },
  {
   "metadata": {
    "ExecuteTime": {
     "end_time": "2025-09-08T15:22:03.216061Z",
     "start_time": "2025-09-08T15:22:03.212289Z"
    }
   },
   "cell_type": "code",
   "source": [
    "def compute_score(pairs, normalize=True, batch_size=2):\n",
    "    scores = []\n",
    "    for i in range(0, len(pairs), batch_size):\n",
    "        batch_pairs = pairs[i:i + batch_size]\n",
    "        inputs = [f\"{pair[0]} [SEP] {pair[1]}\" for pair in batch_pairs]\n",
    "        tokenized = tokenizer(inputs, padding=True, truncation=True,\n",
    "                                   max_length=2048, return_tensors=\"pt\")\n",
    "\n",
    "\n",
    "        with torch.no_grad():\n",
    "            outputs = reranker(**tokenized)\n",
    "            batch_scores = outputs.logits.squeeze(-1).cpu().numpy()\n",
    "            scores.extend(batch_scores)\n",
    "\n",
    "    if normalize:\n",
    "        scores = torch.softmax(torch.tensor(scores), dim=0).numpy()\n",
    "\n",
    "    return scores"
   ],
   "id": "f3521dc63bd0311c",
   "outputs": [],
   "execution_count": 22
  },
  {
   "metadata": {
    "ExecuteTime": {
     "end_time": "2025-09-08T15:22:18.180905Z",
     "start_time": "2025-09-08T15:22:04.472510Z"
    }
   },
   "cell_type": "code",
   "source": [
    "pairs = [[text, result['documents'][0][i]] for i in range(20)]\n",
    "new_scores = []\n",
    "\n",
    "new_scores = compute_score(pairs, normalize=True)\n",
    "\n",
    "\n",
    "new_result = list(zip(\n",
    "    result['ids'][0],\n",
    "    result['metadatas'][0],\n",
    "    result['documents'][0],\n",
    "    new_scores\n",
    "))\n",
    "\n",
    "new_result.sort(key=lambda x: x[3], reverse=True)"
   ],
   "id": "76429756b8d54a20",
   "outputs": [],
   "execution_count": 23
  },
  {
   "metadata": {
    "ExecuteTime": {
     "end_time": "2025-09-08T15:22:26.052934Z",
     "start_time": "2025-09-08T15:22:26.048835Z"
    }
   },
   "cell_type": "code",
   "source": "new_result[0][2]",
   "id": "a5c3971924e46487",
   "outputs": [
    {
     "data": {
      "text/plain": [
       "'{\"class\": \"Product\", \"members\": {\"Product\": [{\"name\": \"PolisNumber\", \"type\": \"String\", \"description\": \"Номер полісу\"}, {\"name\": \"BranchGID\", \"type\": \"Guid\", \"description\": \"Унікальний ідентифікатор відділення продажу полісу\"}, {\"name\": \"BeginingDate\", \"type\": \"DateTime\", \"description\": \"Дата початку дії продукту\"}, {\"name\": \"EndingDate\", \"type\": \"DateTime\", \"description\": \"Дата завершення дії продукту\"}, {\"name\": \"RegisteredDate\", \"type\": \"DateTime\", \"description\": \"Дата реєстрації продукту\"}, {\"name\": \"AgentReportNumber\", \"type\": \"String\", \"description\": \"Номер звіту агента, пов\\'язаного з продуктом\"}, {\"name\": \"Comment\", \"type\": \"String\", \"description\": \"Страхова сума продукту в національній валюті\"}, {\"name\": \"Comment\", \"type\": \"String\", \"description\": \"Додаткові коментарі або примітки до продукту\"}, {\"name\": \"Blanks\", \"type\": \"List<Blank>\", \"description\": \"Дата створення продукту\"}, {\"name\": \"Blanks\", \"type\": \"List<Blank>\", \"description\": \"Список бланків, пов\\'язаних з продуктом\"}, {\"name\": \"PaymentPeriods\", \"type\": \"List<PaymentPeriod>\", \"description\": \"Платіжні періоди, пов\\'язані з продуктом\"}, {\"name\": \"Programs\", \"type\": \"List<Program>\", \"description\": \"Програми, пов\\'язані з продуктом\"}, {\"name\": \"Contract\", \"type\": \"Contract\", \"description\": \"Генеральний договір, пов\\'язаний з продуктом\"}, {\"name\": \"Insurer\", \"type\": \"Signer\", \"description\": \"Страховик, пов\\'язаний з продуктом\"}, {\"name\": \"Responsible\", \"type\": \"Signer\", \"description\": \"Відповідальна особа за продукт\"}, {\"name\": \"EntityAttributes\", \"type\": \"List<EntityAttribute>\", \"description\": \"Атрибути об\\'єкта продукту, що описують його характеристики та властивості\"}, {\"name\": \"_BranchName\", \"type\": \"string\", \"description\": \"Дата початку дії оригінального продукту\"}]}}\\n'"
      ]
     },
     "execution_count": 24,
     "metadata": {},
     "output_type": "execute_result"
    }
   ],
   "execution_count": 24
  },
  {
   "metadata": {},
   "cell_type": "code",
   "source": [
    "context = \"\\n\\n\".join(\n",
    "            f'Document {i+1}: \\n {doc}' for i, doc in enumerate(new_result)\n",
    "        )\n",
    "print(context)"
   ],
   "id": "fafe01868d30648d",
   "outputs": [],
   "execution_count": null
  }
 ],
 "metadata": {
  "kernelspec": {
   "display_name": "Python 3",
   "language": "python",
   "name": "python3"
  },
  "language_info": {
   "codemirror_mode": {
    "name": "ipython",
    "version": 2
   },
   "file_extension": ".py",
   "mimetype": "text/x-python",
   "name": "python",
   "nbconvert_exporter": "python",
   "pygments_lexer": "ipython2",
   "version": "2.7.6"
  }
 },
 "nbformat": 4,
 "nbformat_minor": 5
}
