{
 "cells": [
  {
   "cell_type": "code",
   "id": "initial_id",
   "metadata": {
    "collapsed": true,
    "ExecuteTime": {
     "end_time": "2025-07-20T21:55:03.340090Z",
     "start_time": "2025-07-20T21:55:03.146691Z"
    }
   },
   "source": [
    "import pandas as pd\n",
    "import numpy as np\n",
    "\n",
    "import os\n",
    "\n",
    "\n",
    "from paths import DATA_FOLDER, PROCESSED_DATA_FOLDER, MODELS_FOLDER, ML_FOLDER\n",
    "from BasicClasses import *\n",
    "\n",
    "from sentence_transformers import SentenceTransformer\n",
    "\n",
    "import torch\n",
    "\n",
    "from FlagEmbedding import FlagReranker\n",
    "import chromadb\n"
   ],
   "outputs": [],
   "execution_count": 22
  },
  {
   "metadata": {
    "ExecuteTime": {
     "end_time": "2025-07-20T20:59:56.742836Z",
     "start_time": "2025-07-20T20:59:56.737835Z"
    }
   },
   "cell_type": "code",
   "source": [
    "DATA_FOLDER = DATA_FOLDER\n",
    "PROCESSED_DATA_FOLDER = PROCESSED_DATA_FOLDER\n",
    "MODELS_FOLDER = MODELS_FOLDER\n",
    "ML_FOLDER = ML_FOLDER\n",
    "MODEL_ID = \"BAAI/bge-m3\"\n",
    "RERANKING_MODEL = \"BAAI/bge-reranker-v2-m3\""
   ],
   "id": "398186b6e63d129e",
   "outputs": [],
   "execution_count": 2
  },
  {
   "metadata": {
    "ExecuteTime": {
     "end_time": "2025-07-20T20:59:56.805851Z",
     "start_time": "2025-07-20T20:59:56.772845Z"
    }
   },
   "cell_type": "code",
   "source": [
    "print(f\"PyTorch version: {torch.__version__}\")\n",
    "print(f\"CUDA available: {torch.cuda.is_available()}\")\n",
    "print(f\"CUDA version: {torch.version.cuda}\")\n",
    "print(f\"Device count: {torch.cuda.device_count()}\")\n",
    "if torch.cuda.is_available():\n",
    "    print(f\"Device name: {torch.cuda.get_device_name(0)}\")"
   ],
   "id": "b511a18fe92cf520",
   "outputs": [
    {
     "name": "stdout",
     "output_type": "stream",
     "text": [
      "PyTorch version: 2.7.1+cu128\n",
      "CUDA available: True\n",
      "CUDA version: 12.8\n",
      "Device count: 1\n",
      "Device name: NVIDIA GeForce RTX 3060\n"
     ]
    }
   ],
   "execution_count": 3
  },
  {
   "metadata": {},
   "cell_type": "markdown",
   "source": [
    "## We recommend to use the following pipeline: hybrid retrieval + re-ranking.\n",
    "\n",
    "- [ ] Hybrid retrieval leverages the strengths of various methods, offering higher accuracy and stronger generalization capabilities. A classic example: using both embedding retrieval and the BM25 algorithm. Now, you can try to use BGE-M3, which supports both embedding and sparse retrieval. This allows you to obtain token weights (similar to the BM25) without any additional cost when generate dense embeddings. To use hybrid retrieval, you can refer to Vespa and Milvus.\n",
    "\n",
    "- [ ] As cross-encoder models, re-ranker demonstrates higher accuracy than bi-encoder embedding model. Utilizing the re-ranking model (e.g., bge-reranker, bge-reranker-v2) after retrieval can further filter the selected text."
   ],
   "id": "c8fe56400e899a63"
  },
  {
   "metadata": {
    "ExecuteTime": {
     "end_time": "2025-07-20T23:06:40.689167Z",
     "start_time": "2025-07-20T23:06:36.338790Z"
    }
   },
   "cell_type": "code",
   "source": [
    "# model = SentenceTransformer(MODEL_ID)\n",
    "model = SentenceTransformer(f'{ML_FOLDER}/BGE-m3')\n",
    "reranker = FlagReranker('BAAI/bge-reranker-v2-m3', use_fp16=True, cache_dir=f'{ML_FOLDER}/bge-reranker-v2-m3')"
   ],
   "id": "dc2b2753d3f7ba21",
   "outputs": [],
   "execution_count": 75
  },
  {
   "metadata": {
    "ExecuteTime": {
     "end_time": "2025-07-20T21:56:26.966933Z",
     "start_time": "2025-07-20T21:56:26.940929Z"
    }
   },
   "cell_type": "code",
   "source": "# model.save(f'{ML_FOLDER}/BGE-m3')\n",
   "id": "2f1eafbe12de748",
   "outputs": [
    {
     "ename": "AttributeError",
     "evalue": "'BaseReranker' object has no attribute 'save'",
     "output_type": "error",
     "traceback": [
      "\u001B[1;31m---------------------------------------------------------------------------\u001B[0m",
      "\u001B[1;31mAttributeError\u001B[0m                            Traceback (most recent call last)",
      "Cell \u001B[1;32mIn[26], line 2\u001B[0m\n\u001B[0;32m      1\u001B[0m \u001B[38;5;66;03m# model.save(f'{ML_FOLDER}/BGE-m3')\u001B[39;00m\n\u001B[1;32m----> 2\u001B[0m \u001B[43mreranker\u001B[49m\u001B[38;5;241;43m.\u001B[39;49m\u001B[43msave\u001B[49m(\u001B[38;5;124mf\u001B[39m\u001B[38;5;124m'\u001B[39m\u001B[38;5;132;01m{\u001B[39;00mML_FOLDER\u001B[38;5;132;01m}\u001B[39;00m\u001B[38;5;124m/\u001B[39m\u001B[38;5;132;01m{\u001B[39;00mRERANKING_MODEL\u001B[38;5;132;01m}\u001B[39;00m\u001B[38;5;124m'\u001B[39m)\n",
      "\u001B[1;31mAttributeError\u001B[0m: 'BaseReranker' object has no attribute 'save'"
     ]
    }
   ],
   "execution_count": 26
  },
  {
   "metadata": {
    "ExecuteTime": {
     "end_time": "2025-07-20T21:00:02.834518Z",
     "start_time": "2025-07-20T21:00:00.921916Z"
    }
   },
   "cell_type": "code",
   "source": [
    "# embedding_func = SentenceTransformerEmbeddingFunction(MODEL_ID)\n",
    "embedding_func = SentenceTransformerEmbeddingFunction(f'{ML_FOLDER}/BGE-m3')"
   ],
   "id": "be8ff5d3668121a",
   "outputs": [],
   "execution_count": 6
  },
  {
   "metadata": {
    "ExecuteTime": {
     "end_time": "2025-07-20T21:00:06.962905Z",
     "start_time": "2025-07-20T21:00:02.850522Z"
    }
   },
   "cell_type": "code",
   "source": [
    "class_vectors_v2 = []\n",
    "for file in os.listdir(f'{PROCESSED_DATA_FOLDER}/classes'):\n",
    "    with open(f'{PROCESSED_DATA_FOLDER}/classes/{file}', 'r', encoding='utf-8') as f:\n",
    "        line = f.read()\n",
    "        results = embedding_func(line)\n",
    "        class_vectors_v2.append(results)"
   ],
   "id": "5ab0f3b5dce4184",
   "outputs": [],
   "execution_count": 7
  },
  {
   "metadata": {
    "ExecuteTime": {
     "end_time": "2025-07-20T21:00:07.042920Z",
     "start_time": "2025-07-20T21:00:06.979907Z"
    }
   },
   "cell_type": "code",
   "source": [
    "class_vectors_v3 = pd.DataFrame(class_vectors_v2)\n",
    "class_vectors_v3"
   ],
   "id": "1d7bb6eaf4236be5",
   "outputs": [
    {
     "data": {
      "text/plain": [
       "         0         1         2         3         4         5         6     \\\n",
       "0    0.013050 -0.046113 -0.044793 -0.020217 -0.027509 -0.062423  0.056399   \n",
       "1    0.022854 -0.026327 -0.039258  0.006260 -0.031888 -0.040422  0.049038   \n",
       "2   -0.020735 -0.031802 -0.033753 -0.010971 -0.004630 -0.059646  0.042915   \n",
       "3   -0.011113 -0.017807 -0.028216 -0.000887 -0.011821 -0.049197  0.059271   \n",
       "4   -0.017301 -0.039470 -0.017234 -0.016681 -0.004020 -0.027047  0.054245   \n",
       "..        ...       ...       ...       ...       ...       ...       ...   \n",
       "144 -0.035152 -0.020645 -0.040086 -0.005385 -0.018264 -0.076614  0.047513   \n",
       "145 -0.061301 -0.064885 -0.012513  0.014143 -0.014113 -0.071864  0.021862   \n",
       "146 -0.038642 -0.056093 -0.029700  0.010163 -0.035860 -0.045055  0.071626   \n",
       "147 -0.059275 -0.007700 -0.002304 -0.002497 -0.020237 -0.052844  0.051197   \n",
       "148 -0.057147 -0.012307  0.011101  0.010492 -0.025362 -0.068225  0.038083   \n",
       "\n",
       "         7         8         9     ...      1014      1015      1016  \\\n",
       "0   -0.013958  0.013406  0.021537  ... -0.006939  0.000181 -0.003332   \n",
       "1    0.009782 -0.002681  0.004728  ... -0.000326  0.033952 -0.015754   \n",
       "2   -0.000403  0.001488  0.001282  ... -0.012531  0.019758 -0.006215   \n",
       "3    0.018424  0.007300  0.011133  ... -0.022455  0.041278 -0.008923   \n",
       "4    0.006750 -0.033397  0.016934  ... -0.012752  0.074418 -0.030674   \n",
       "..        ...       ...       ...  ...       ...       ...       ...   \n",
       "144 -0.045873  0.016580 -0.019762  ...  0.000220  0.042256  0.044803   \n",
       "145  0.018736  0.008848  0.037936  ...  0.017766 -0.023936  0.000420   \n",
       "146  0.008817  0.008483 -0.004579  ... -0.011845  0.044878  0.017026   \n",
       "147  0.005195 -0.002260 -0.001404  ...  0.019614  0.047648 -0.005751   \n",
       "148  0.003932 -0.016294 -0.000421  ...  0.017391  0.043084 -0.025496   \n",
       "\n",
       "         1017      1018      1019      1020      1021      1022      1023  \n",
       "0   -0.006464  0.007276  0.012404  0.027708  0.023567  0.001088 -0.058475  \n",
       "1   -0.000359  0.007099 -0.016202  0.044074 -0.008473 -0.032029 -0.013290  \n",
       "2    0.033143 -0.035400 -0.019717  0.025555  0.038884 -0.048065 -0.028586  \n",
       "3    0.027074 -0.033528 -0.024717  0.018434  0.031478 -0.033236 -0.011449  \n",
       "4   -0.006302 -0.017996 -0.019397  0.027810 -0.000163 -0.011114 -0.039693  \n",
       "..        ...       ...       ...       ...       ...       ...       ...  \n",
       "144  0.011301 -0.000735 -0.013274  0.010037  0.005243 -0.005301 -0.036255  \n",
       "145  0.015518 -0.021489 -0.000902  0.056634  0.034710 -0.037585 -0.039298  \n",
       "146  0.051305  0.000876 -0.030292  0.009970  0.051302 -0.027545 -0.000510  \n",
       "147  0.025689 -0.037365 -0.031524  0.048221  0.048494  0.001617 -0.012174  \n",
       "148  0.030078 -0.032483 -0.040945  0.038050  0.059035 -0.018574 -0.012131  \n",
       "\n",
       "[149 rows x 1024 columns]"
      ],
      "text/html": [
       "<div>\n",
       "<style scoped>\n",
       "    .dataframe tbody tr th:only-of-type {\n",
       "        vertical-align: middle;\n",
       "    }\n",
       "\n",
       "    .dataframe tbody tr th {\n",
       "        vertical-align: top;\n",
       "    }\n",
       "\n",
       "    .dataframe thead th {\n",
       "        text-align: right;\n",
       "    }\n",
       "</style>\n",
       "<table border=\"1\" class=\"dataframe\">\n",
       "  <thead>\n",
       "    <tr style=\"text-align: right;\">\n",
       "      <th></th>\n",
       "      <th>0</th>\n",
       "      <th>1</th>\n",
       "      <th>2</th>\n",
       "      <th>3</th>\n",
       "      <th>4</th>\n",
       "      <th>5</th>\n",
       "      <th>6</th>\n",
       "      <th>7</th>\n",
       "      <th>8</th>\n",
       "      <th>9</th>\n",
       "      <th>...</th>\n",
       "      <th>1014</th>\n",
       "      <th>1015</th>\n",
       "      <th>1016</th>\n",
       "      <th>1017</th>\n",
       "      <th>1018</th>\n",
       "      <th>1019</th>\n",
       "      <th>1020</th>\n",
       "      <th>1021</th>\n",
       "      <th>1022</th>\n",
       "      <th>1023</th>\n",
       "    </tr>\n",
       "  </thead>\n",
       "  <tbody>\n",
       "    <tr>\n",
       "      <th>0</th>\n",
       "      <td>0.013050</td>\n",
       "      <td>-0.046113</td>\n",
       "      <td>-0.044793</td>\n",
       "      <td>-0.020217</td>\n",
       "      <td>-0.027509</td>\n",
       "      <td>-0.062423</td>\n",
       "      <td>0.056399</td>\n",
       "      <td>-0.013958</td>\n",
       "      <td>0.013406</td>\n",
       "      <td>0.021537</td>\n",
       "      <td>...</td>\n",
       "      <td>-0.006939</td>\n",
       "      <td>0.000181</td>\n",
       "      <td>-0.003332</td>\n",
       "      <td>-0.006464</td>\n",
       "      <td>0.007276</td>\n",
       "      <td>0.012404</td>\n",
       "      <td>0.027708</td>\n",
       "      <td>0.023567</td>\n",
       "      <td>0.001088</td>\n",
       "      <td>-0.058475</td>\n",
       "    </tr>\n",
       "    <tr>\n",
       "      <th>1</th>\n",
       "      <td>0.022854</td>\n",
       "      <td>-0.026327</td>\n",
       "      <td>-0.039258</td>\n",
       "      <td>0.006260</td>\n",
       "      <td>-0.031888</td>\n",
       "      <td>-0.040422</td>\n",
       "      <td>0.049038</td>\n",
       "      <td>0.009782</td>\n",
       "      <td>-0.002681</td>\n",
       "      <td>0.004728</td>\n",
       "      <td>...</td>\n",
       "      <td>-0.000326</td>\n",
       "      <td>0.033952</td>\n",
       "      <td>-0.015754</td>\n",
       "      <td>-0.000359</td>\n",
       "      <td>0.007099</td>\n",
       "      <td>-0.016202</td>\n",
       "      <td>0.044074</td>\n",
       "      <td>-0.008473</td>\n",
       "      <td>-0.032029</td>\n",
       "      <td>-0.013290</td>\n",
       "    </tr>\n",
       "    <tr>\n",
       "      <th>2</th>\n",
       "      <td>-0.020735</td>\n",
       "      <td>-0.031802</td>\n",
       "      <td>-0.033753</td>\n",
       "      <td>-0.010971</td>\n",
       "      <td>-0.004630</td>\n",
       "      <td>-0.059646</td>\n",
       "      <td>0.042915</td>\n",
       "      <td>-0.000403</td>\n",
       "      <td>0.001488</td>\n",
       "      <td>0.001282</td>\n",
       "      <td>...</td>\n",
       "      <td>-0.012531</td>\n",
       "      <td>0.019758</td>\n",
       "      <td>-0.006215</td>\n",
       "      <td>0.033143</td>\n",
       "      <td>-0.035400</td>\n",
       "      <td>-0.019717</td>\n",
       "      <td>0.025555</td>\n",
       "      <td>0.038884</td>\n",
       "      <td>-0.048065</td>\n",
       "      <td>-0.028586</td>\n",
       "    </tr>\n",
       "    <tr>\n",
       "      <th>3</th>\n",
       "      <td>-0.011113</td>\n",
       "      <td>-0.017807</td>\n",
       "      <td>-0.028216</td>\n",
       "      <td>-0.000887</td>\n",
       "      <td>-0.011821</td>\n",
       "      <td>-0.049197</td>\n",
       "      <td>0.059271</td>\n",
       "      <td>0.018424</td>\n",
       "      <td>0.007300</td>\n",
       "      <td>0.011133</td>\n",
       "      <td>...</td>\n",
       "      <td>-0.022455</td>\n",
       "      <td>0.041278</td>\n",
       "      <td>-0.008923</td>\n",
       "      <td>0.027074</td>\n",
       "      <td>-0.033528</td>\n",
       "      <td>-0.024717</td>\n",
       "      <td>0.018434</td>\n",
       "      <td>0.031478</td>\n",
       "      <td>-0.033236</td>\n",
       "      <td>-0.011449</td>\n",
       "    </tr>\n",
       "    <tr>\n",
       "      <th>4</th>\n",
       "      <td>-0.017301</td>\n",
       "      <td>-0.039470</td>\n",
       "      <td>-0.017234</td>\n",
       "      <td>-0.016681</td>\n",
       "      <td>-0.004020</td>\n",
       "      <td>-0.027047</td>\n",
       "      <td>0.054245</td>\n",
       "      <td>0.006750</td>\n",
       "      <td>-0.033397</td>\n",
       "      <td>0.016934</td>\n",
       "      <td>...</td>\n",
       "      <td>-0.012752</td>\n",
       "      <td>0.074418</td>\n",
       "      <td>-0.030674</td>\n",
       "      <td>-0.006302</td>\n",
       "      <td>-0.017996</td>\n",
       "      <td>-0.019397</td>\n",
       "      <td>0.027810</td>\n",
       "      <td>-0.000163</td>\n",
       "      <td>-0.011114</td>\n",
       "      <td>-0.039693</td>\n",
       "    </tr>\n",
       "    <tr>\n",
       "      <th>...</th>\n",
       "      <td>...</td>\n",
       "      <td>...</td>\n",
       "      <td>...</td>\n",
       "      <td>...</td>\n",
       "      <td>...</td>\n",
       "      <td>...</td>\n",
       "      <td>...</td>\n",
       "      <td>...</td>\n",
       "      <td>...</td>\n",
       "      <td>...</td>\n",
       "      <td>...</td>\n",
       "      <td>...</td>\n",
       "      <td>...</td>\n",
       "      <td>...</td>\n",
       "      <td>...</td>\n",
       "      <td>...</td>\n",
       "      <td>...</td>\n",
       "      <td>...</td>\n",
       "      <td>...</td>\n",
       "      <td>...</td>\n",
       "      <td>...</td>\n",
       "    </tr>\n",
       "    <tr>\n",
       "      <th>144</th>\n",
       "      <td>-0.035152</td>\n",
       "      <td>-0.020645</td>\n",
       "      <td>-0.040086</td>\n",
       "      <td>-0.005385</td>\n",
       "      <td>-0.018264</td>\n",
       "      <td>-0.076614</td>\n",
       "      <td>0.047513</td>\n",
       "      <td>-0.045873</td>\n",
       "      <td>0.016580</td>\n",
       "      <td>-0.019762</td>\n",
       "      <td>...</td>\n",
       "      <td>0.000220</td>\n",
       "      <td>0.042256</td>\n",
       "      <td>0.044803</td>\n",
       "      <td>0.011301</td>\n",
       "      <td>-0.000735</td>\n",
       "      <td>-0.013274</td>\n",
       "      <td>0.010037</td>\n",
       "      <td>0.005243</td>\n",
       "      <td>-0.005301</td>\n",
       "      <td>-0.036255</td>\n",
       "    </tr>\n",
       "    <tr>\n",
       "      <th>145</th>\n",
       "      <td>-0.061301</td>\n",
       "      <td>-0.064885</td>\n",
       "      <td>-0.012513</td>\n",
       "      <td>0.014143</td>\n",
       "      <td>-0.014113</td>\n",
       "      <td>-0.071864</td>\n",
       "      <td>0.021862</td>\n",
       "      <td>0.018736</td>\n",
       "      <td>0.008848</td>\n",
       "      <td>0.037936</td>\n",
       "      <td>...</td>\n",
       "      <td>0.017766</td>\n",
       "      <td>-0.023936</td>\n",
       "      <td>0.000420</td>\n",
       "      <td>0.015518</td>\n",
       "      <td>-0.021489</td>\n",
       "      <td>-0.000902</td>\n",
       "      <td>0.056634</td>\n",
       "      <td>0.034710</td>\n",
       "      <td>-0.037585</td>\n",
       "      <td>-0.039298</td>\n",
       "    </tr>\n",
       "    <tr>\n",
       "      <th>146</th>\n",
       "      <td>-0.038642</td>\n",
       "      <td>-0.056093</td>\n",
       "      <td>-0.029700</td>\n",
       "      <td>0.010163</td>\n",
       "      <td>-0.035860</td>\n",
       "      <td>-0.045055</td>\n",
       "      <td>0.071626</td>\n",
       "      <td>0.008817</td>\n",
       "      <td>0.008483</td>\n",
       "      <td>-0.004579</td>\n",
       "      <td>...</td>\n",
       "      <td>-0.011845</td>\n",
       "      <td>0.044878</td>\n",
       "      <td>0.017026</td>\n",
       "      <td>0.051305</td>\n",
       "      <td>0.000876</td>\n",
       "      <td>-0.030292</td>\n",
       "      <td>0.009970</td>\n",
       "      <td>0.051302</td>\n",
       "      <td>-0.027545</td>\n",
       "      <td>-0.000510</td>\n",
       "    </tr>\n",
       "    <tr>\n",
       "      <th>147</th>\n",
       "      <td>-0.059275</td>\n",
       "      <td>-0.007700</td>\n",
       "      <td>-0.002304</td>\n",
       "      <td>-0.002497</td>\n",
       "      <td>-0.020237</td>\n",
       "      <td>-0.052844</td>\n",
       "      <td>0.051197</td>\n",
       "      <td>0.005195</td>\n",
       "      <td>-0.002260</td>\n",
       "      <td>-0.001404</td>\n",
       "      <td>...</td>\n",
       "      <td>0.019614</td>\n",
       "      <td>0.047648</td>\n",
       "      <td>-0.005751</td>\n",
       "      <td>0.025689</td>\n",
       "      <td>-0.037365</td>\n",
       "      <td>-0.031524</td>\n",
       "      <td>0.048221</td>\n",
       "      <td>0.048494</td>\n",
       "      <td>0.001617</td>\n",
       "      <td>-0.012174</td>\n",
       "    </tr>\n",
       "    <tr>\n",
       "      <th>148</th>\n",
       "      <td>-0.057147</td>\n",
       "      <td>-0.012307</td>\n",
       "      <td>0.011101</td>\n",
       "      <td>0.010492</td>\n",
       "      <td>-0.025362</td>\n",
       "      <td>-0.068225</td>\n",
       "      <td>0.038083</td>\n",
       "      <td>0.003932</td>\n",
       "      <td>-0.016294</td>\n",
       "      <td>-0.000421</td>\n",
       "      <td>...</td>\n",
       "      <td>0.017391</td>\n",
       "      <td>0.043084</td>\n",
       "      <td>-0.025496</td>\n",
       "      <td>0.030078</td>\n",
       "      <td>-0.032483</td>\n",
       "      <td>-0.040945</td>\n",
       "      <td>0.038050</td>\n",
       "      <td>0.059035</td>\n",
       "      <td>-0.018574</td>\n",
       "      <td>-0.012131</td>\n",
       "    </tr>\n",
       "  </tbody>\n",
       "</table>\n",
       "<p>149 rows × 1024 columns</p>\n",
       "</div>"
      ]
     },
     "execution_count": 8,
     "metadata": {},
     "output_type": "execute_result"
    }
   ],
   "execution_count": 8
  },
  {
   "metadata": {
    "ExecuteTime": {
     "end_time": "2025-07-20T21:00:58.356233Z",
     "start_time": "2025-07-20T21:00:07.095932Z"
    }
   },
   "cell_type": "code",
   "source": [
    "trainig_vectors_v1 = []\n",
    "for file in os.listdir(f'{PROCESSED_DATA_FOLDER}/training'):\n",
    "    with open(f'{PROCESSED_DATA_FOLDER}/training/{file}', 'r', encoding='utf-8') as f:\n",
    "        line = f.read()\n",
    "        results = embedding_func(line)\n",
    "        trainig_vectors_v1.append(results)"
   ],
   "id": "5a11be86109d5008",
   "outputs": [],
   "execution_count": 9
  },
  {
   "metadata": {
    "ExecuteTime": {
     "end_time": "2025-07-20T21:00:58.609023Z",
     "start_time": "2025-07-20T21:00:58.515003Z"
    }
   },
   "cell_type": "code",
   "source": "chrome_persistent_client = chromadb.PersistentClient(path=f'{DATA_FOLDER}/chromadb')",
   "id": "e1e8bb06923005a",
   "outputs": [],
   "execution_count": 10
  },
  {
   "metadata": {
    "ExecuteTime": {
     "end_time": "2025-07-20T21:00:59.051260Z",
     "start_time": "2025-07-20T21:00:59.021253Z"
    }
   },
   "cell_type": "code",
   "source": "chrome_persistent_client.list_collections()",
   "id": "c0acdb72f9616401",
   "outputs": [
    {
     "data": {
      "text/plain": [
       "[Collection(name=my_rag_v1)]"
      ]
     },
     "execution_count": 11,
     "metadata": {},
     "output_type": "execute_result"
    }
   ],
   "execution_count": 11
  },
  {
   "metadata": {
    "ExecuteTime": {
     "end_time": "2025-07-20T21:00:59.082902Z",
     "start_time": "2025-07-20T21:00:59.065899Z"
    }
   },
   "cell_type": "code",
   "source": "# chrome_persistent_client.delete_collection('my_rag_v1')",
   "id": "7cf5d2af75eeda02",
   "outputs": [],
   "execution_count": 12
  },
  {
   "metadata": {
    "ExecuteTime": {
     "end_time": "2025-07-20T21:00:59.128912Z",
     "start_time": "2025-07-20T21:00:59.088904Z"
    }
   },
   "cell_type": "code",
   "source": "collection = chrome_persistent_client.get_or_create_collection(name='my_rag_v1', embedding_function=embedding_func)",
   "id": "f2052410e77be5ae",
   "outputs": [],
   "execution_count": 13
  },
  {
   "metadata": {
    "ExecuteTime": {
     "end_time": "2025-07-20T21:00:59.159919Z",
     "start_time": "2025-07-20T21:00:59.139915Z"
    }
   },
   "cell_type": "code",
   "source": [
    "documents = []\n",
    "metadatas =()\n",
    "ids = []\n",
    "embeddings = []\n",
    "\n",
    "class_folder = os.listdir(f'{PROCESSED_DATA_FOLDER}/classes')\n",
    "training_folder = os.listdir(f'{PROCESSED_DATA_FOLDER}/training')"
   ],
   "id": "3d0295ccb6292f0b",
   "outputs": [],
   "execution_count": 14
  },
  {
   "metadata": {
    "ExecuteTime": {
     "end_time": "2025-07-20T21:00:59.348467Z",
     "start_time": "2025-07-20T21:00:59.168921Z"
    }
   },
   "cell_type": "code",
   "source": [
    "for file in class_folder:\n",
    "    with open(f'{PROCESSED_DATA_FOLDER}/classes/{file}', 'r', encoding='utf-8') as f:\n",
    "        documents.append(f.read())\n",
    "\n",
    "for file in training_folder:\n",
    "    with open(f'{PROCESSED_DATA_FOLDER}/training/{file}', 'r', encoding='utf-8') as f:\n",
    "        documents.append(f.read())"
   ],
   "id": "e22bd89e04228a0c",
   "outputs": [],
   "execution_count": 15
  },
  {
   "metadata": {
    "ExecuteTime": {
     "end_time": "2025-07-20T21:00:59.379474Z",
     "start_time": "2025-07-20T21:00:59.363471Z"
    }
   },
   "cell_type": "code",
   "source": [
    "metadatas = (\n",
    "    [{'category': 'classes'} for _ in class_folder] +\n",
    "    [{'category': 'code + explanation'} for _ in training_folder]\n",
    ")"
   ],
   "id": "f0a8c0b2d222e972",
   "outputs": [],
   "execution_count": 16
  },
  {
   "metadata": {
    "ExecuteTime": {
     "end_time": "2025-07-20T21:01:01.034752Z",
     "start_time": "2025-07-20T21:01:01.015155Z"
    }
   },
   "cell_type": "code",
   "source": "ids = [f'id{i}' for i in range(1, len(class_folder) + len(training_folder) + 1)]",
   "id": "f2afc9ef537825b5",
   "outputs": [],
   "execution_count": 17
  },
  {
   "metadata": {
    "ExecuteTime": {
     "end_time": "2025-07-20T21:01:01.522765Z",
     "start_time": "2025-07-20T21:01:01.508762Z"
    }
   },
   "cell_type": "code",
   "source": [
    "embeddings.extend(class_vectors_v2)\n",
    "embeddings.extend(trainig_vectors_v1)"
   ],
   "id": "88f9ffc995559cb7",
   "outputs": [],
   "execution_count": 18
  },
  {
   "metadata": {
    "ExecuteTime": {
     "end_time": "2025-07-20T21:01:02.649817Z",
     "start_time": "2025-07-20T21:01:01.562741Z"
    }
   },
   "cell_type": "code",
   "source": [
    "collection.upsert(\n",
    "    documents=documents,\n",
    "    metadatas=metadatas,\n",
    "    ids=ids,\n",
    "    embeddings=embeddings,\n",
    ")"
   ],
   "id": "92aaec02eaa33522",
   "outputs": [],
   "execution_count": 19
  },
  {
   "metadata": {
    "ExecuteTime": {
     "end_time": "2025-07-20T22:09:05.735894Z",
     "start_time": "2025-07-20T22:09:05.684378Z"
    }
   },
   "cell_type": "code",
   "source": [
    "text = 'Write a codefor insurance with the document 207'\n",
    "result = collection.query(\n",
    "    query_texts=[text],\n",
    "    n_results=20,\n",
    ")\n",
    "result"
   ],
   "id": "4faeb872d29570ea",
   "outputs": [
    {
     "data": {
      "text/plain": [
       "{'ids': [['id390',\n",
       "   'id741',\n",
       "   'id208',\n",
       "   'id738',\n",
       "   'id331',\n",
       "   'id260',\n",
       "   'id991',\n",
       "   'id456',\n",
       "   'id215',\n",
       "   'id388',\n",
       "   'id401',\n",
       "   'id616',\n",
       "   'id992',\n",
       "   'id309',\n",
       "   'id995',\n",
       "   'id739',\n",
       "   'id304',\n",
       "   'id611',\n",
       "   'id300',\n",
       "   'id500']],\n",
       " 'embeddings': None,\n",
       " 'documents': [['{\"id\": 651, \"name\": \"721LetterSubject\", \"messages\": [{\"role\": \"user\", \"content\": \"Пояснення:\\\\nnan\"}, {\"role\": \"assistant\", \"content\": \"C# code:\\\\n__Result = \\\\\"Договір страхування \\\\\\\\\\\\\"Калібр\\\\\\\\\\\\\" номер \\\\\" + __Product.PolisNumber;\"}]}\\n',\n",
       "   '{\"id\": 163, \"name\": \"EPOsagoCoverLetterStandard\", \"messages\": [{\"role\": \"user\", \"content\": \"Пояснення:\\\\nnan\"}, {\"role\": \"assistant\", \"content\": \"C# code:\\\\nList<Workflow.DTO.Models.Product> products = __InsuranceApplication.Products;int counter = 1;while (counter < products.Count()){\\\\tWorkflow.DTO.Models.Product product = products[counter];\\\\tstring productIdentifier = product.GetProductTypeName();\\\\t__Result = __Result + productIdentifier + \\\\\": {smscode}; \\\\\";\\\\tcounter = counter + 1;}__Result = \\\\\"Вітаємо, \\\\\" + __Product.Insurer.Face.Firstname + \\\\\" \\\\\" + __Product.Insurer.Face.Secondname;if (products.Count() == 1){\\\\t__Result = __Result + \\\\\"<br/>Направляємо Вам у вкладенні Індивідуальну пропозицію № \\\\\" + __Product.PolisNumber + \\\\\" (ID заявки \\\\\" + __InsuranceApplication.id.ToString() + \\\\\") за продуктом \\\\\" + products[0].GetProductTypeName() + \\\\\", код страхового продукту \\\\\" + products[0].GetProductTypeCode() + \\\\\".<br/>Для подальшого укладання договору страхування перейдіть за посиланням \\\\\" + __Context.GetSetting(\\\\\"PaymentURL\\\\\") + __InsuranceApplication.id.ToString() + \\\\\"-\\\\\" + __InsuranceApplication.gid.ToString().Substring(0, __InsuranceApplication.gid.ToString().IndexOf(\\\\\"-\\\\\")) + \\\\\", підпишіть договір, укладений відповідно до страхового продукту \\\\\" + products[0].GetProductTypeName() + \\\\\" разовим ідентифікатором \\\\\" + products[0].GetProductTypeName() + \\\\\": {smscode} \\\\\" + \\\\\", та оплатіть договір.</br><br/>З боку НАСК \\\\\\\\\\\\\"ОРАНТА\\\\\\\\\\\\\" індивідуальну пропозицію підписано кваліфікованим електронним підписом уповноваженої особи НАСК \\\\\\\\\\\\\"ОРАНТА\\\\\\\\\\\\\".<br/>На виконання вимог ст.86-88 Закону України \\\\\\\\\\\\\"Про страхування\\\\\\\\\\\\\" надсилаємо для ознайомлення до укладення договору страхування наступні документи:\\\\\" + \\\\\"</br><br/>Інформаційний документ про стандартний страховий продукт \\\\\" + products[0].GetProductTypeName() + \\\\\", який знаходиться за наступним посиланням: <a href=\\'https://apifalcon.oranta.ua/files/9638faef-10ca-46f1-bf43-8f555dd91a5d\\'>https://apifalcon.oranta.ua/files/9638faef-10ca-46f1-bf43-8f555dd91a5d<a/>\\\\\";}if (products.Count() == 2){\\\\tif (products[1].GetProductTypeCode() == \\\\\"219\\\\\")\\\\t{\\\\t\\\\t__Result = __Result + \\\\\"</br><br/>Направляємо Вам у вкладенні:</br><br/>Індивідуальну пропозицію № \\\\\" + __Product.PolisNumber + \\\\\" (ID заявки \\\\\" + __InsuranceApplication.id.ToString() + \\\\\") за продуктом \\\\\" + products[0].GetProductTypeName() + \\\\\", код страхового продукту \\\\\" + products[0].GetProductTypeCode() + \\\\\"<br/>Індивідуальну пропозицію № \\\\\" + products[1].PolisNumber + \\\\\" (ID заявки \\\\\" + __InsuranceApplication.id.ToString() + \\\\\") за продуктом \\\\\" + products[1].GetProductTypeName() + \\\\\", код страхового продукту \\\\\" + products[1].GetProductTypeCode() + \\\\\".</br><br/>Для подальшого укладання договору страхування перейдіть за посиланням \\\\\" + __Context.GetSetting(\\\\\"PaymentURL\\\\\") + __InsuranceApplication.id.ToString() + \\\\\"-\\\\\" + __InsuranceApplication.gid.ToString().Substring(0, __InsuranceApplication.gid.ToString().IndexOf(\\\\\"-\\\\\")) + \\\\\", підпишіть договір, укладений відповідно до страхового продукту:</br><br/>\\\\\" + products[0].GetProductTypeName() + \\\\\" разовим ідентифікатором \\\\\" + \\\\\": {smscode}; \\\\\" + \\\\\"<br/>\\\\\" + products[1].GetProductTypeName() + \\\\\" разовим ідентифікатором\\\\\" + \\\\\": {smscode} \\\\\" + \\\\\", та оплатіть договір.</br><br/>З боку НАСК \\\\\\\\\\\\\"ОРАНТА\\\\\\\\\\\\\" індивідуальну пропозицію підписано кваліфікованим електронним підписом уповноваженої особи НАСК \\\\\\\\\\\\\"ОРАНТА\\\\\\\\\\\\\".<br/>На виконання вимог ст.86-88 Закону України \\\\\\\\\\\\\"Про страхування\\\\\\\\\\\\\" надсилаємо для ознайомлення до укладення договору страхування наступні документи:\\\\\" + \\\\\"</br><br/>Інформаційний документ про стандартний страховий продукт \\\\\" + products[0].GetProductTypeName() + \\\\\", який знаходиться за наступним посиланням: <a href=\\'https://apifalcon.oranta.ua/files/9638faef-10ca-46f1-bf43-8f555dd91a5d\\'>https://apifalcon.oranta.ua/files/9638faef-10ca-46f1-bf43-8f555dd91a5d<a/>\\\\\" + \\\\\"<br/>Інформаційний документ про стандартний страховий продукт \\\\\" + products[1].GetProductTypeName() + \\\\\", який знаходиться за наступним посиланням: <a href=\\'https://apifalcon.oranta.ua/files/ac1f0934-85de-4fa8-8e75-dccb5cf794d4\\'>https://apifalcon.oranta.ua/files/ac1f0934-85de-4fa8-8e75-dccb5cf794d4<a/>\\\\\";\\\\t}\\\\tif (products[1].GetProductTypeCode() == \\\\\"708\\\\\")\\\\t{\\\\t\\\\t__Result = __Result + \\\\\"</br><br/>Направляємо Вам у вкладенні:</br><br/>Індивідуальну пропозицію № \\\\\" + __Product.PolisNumber + \\\\\" (ID заявки \\\\\" + __InsuranceApplication.id.ToString() + \\\\\") за продуктом \\\\\" + products[0].GetProductTypeName() + \\\\\", код страхового продукту \\\\\" + products[0].GetProductTypeCode() + \\\\\"<br/>Індивідуальну пропозицію № \\\\\" + products[1].PolisNumber + \\\\\" (ID заявки \\\\\" + __InsuranceApplication.id.ToString() + \\\\\") за продуктом \\\\\" + products[1].GetProductTypeName() + \\\\\", код страхового продукту \\\\\" + products[1].GetProductTypeCode() + \\\\\".</br><br/>Для подальшого укладання договору страхування перейдіть за посиланням \\\\\" + __Context.GetSetting(\\\\\"PaymentURL\\\\\") + __InsuranceApplication.id.ToString() + \\\\\"-\\\\\" + __InsuranceApplication.gid.ToString().Substring(0, __InsuranceApplication.gid.ToString().IndexOf(\\\\\"-\\\\\")) + \\\\\", підпишіть договір, укладений відповідно до страхового продукту:</br><br/>\\\\\" + products[0].GetProductTypeName() + \\\\\" разовим ідентифікатором \\\\\" + \\\\\": {smscode}; \\\\\" + \\\\\"<br/>\\\\\" + products[1].GetProductTypeName() + \\\\\" разовим ідентифікатором\\\\\" + \\\\\": {smscode} \\\\\" + \\\\\", та оплатіть договір.</br><br/>З боку НАСК \\\\\\\\\\\\\"ОРАНТА\\\\\\\\\\\\\" індивідуальну пропозицію підписано кваліфікованим електронним підписом уповноваженої особи НАСК \\\\\\\\\\\\\"ОРАНТА\\\\\\\\\\\\\".<br/>На виконання вимог ст.86-88 Закону України \\\\\\\\\\\\\"Про страхування\\\\\\\\\\\\\" надсилаємо для ознайомлення до укладення договору страхування наступні документи:\\\\\" + \\\\\"</br><br/>Інформаційний документ про стандартний страховий продукт \\\\\" + products[0].GetProductTypeName() + \\\\\", який знаходиться за наступним посиланням: <a href=\\'https://apifalcon.oranta.ua/files/9638faef-10ca-46f1-bf43-8f555dd91a5d\\'>https://apifalcon.oranta.ua/files/9638faef-10ca-46f1-bf43-8f555dd91a5d<a/>\\\\\" + \\\\\"<br/>Інформаційний документ про стандартний страховий продукт \\\\\" + products[1].GetProductTypeName() + \\\\\", який знаходиться за наступним посиланням: <a href=\\'https://oranta.ua/\\'>https://oranta.ua/<a/>\\\\\";\\\\t}}if (products.Count() == 3){\\\\t__Result = __Result + \\\\\"</br><br/>Направляємо Вам у вкладенні:</br><br/>Індивідуальну пропозицію № \\\\\" + __Product.PolisNumber + \\\\\" (ID заявки \\\\\" + __InsuranceApplication.id.ToString() + \\\\\") за продуктом \\\\\" + products[0].GetProductTypeName() + \\\\\", код страхового продукту \\\\\" + products[0].GetProductTypeCode() + \\\\\"<br/>Індивідуальну пропозицію № \\\\\" + products[1].PolisNumber + \\\\\" (ID заявки \\\\\" + __InsuranceApplication.id.ToString() + \\\\\") за продуктом \\\\\" + products[1].GetProductTypeName() + \\\\\", код страхового продукту \\\\\" + products[1].GetProductTypeCode() + \\\\\"<br/>Індивідуальну пропозицію № \\\\\" + products[2].PolisNumber + \\\\\" (ID заявки \\\\\" + __InsuranceApplication.id.ToString() + \\\\\") за продуктом \\\\\" + products[2].GetProductTypeName() + \\\\\", код страхового продукту \\\\\" + products[2].GetProductTypeCode() + \\\\\".</br><br/>Для подальшого укладання договору страхування перейдіть за посиланням \\\\\" + __Context.GetSetting(\\\\\"PaymentURL\\\\\") + __InsuranceApplication.id.ToString() + \\\\\"-\\\\\" + __InsuranceApplication.gid.ToString().Substring(0, __InsuranceApplication.gid.ToString().IndexOf(\\\\\"-\\\\\")) + \\\\\", підпишіть договір, укладений відповідно до страхового продукту:</br><br/>\\\\\" + products[0].GetProductTypeName() + \\\\\" разовим ідентифікатором \\\\\" + \\\\\": {smscode}; \\\\\" + \\\\\"<br/>\\\\\" + products[1].GetProductTypeName() + \\\\\" разовим ідентифікатором\\\\\" + \\\\\": {smscode} \\\\\" + \\\\\"<br/>\\\\\" + products[2].GetProductTypeName() + \\\\\" разовим ідентифікатором\\\\\" + \\\\\": {smscode} \\\\\" + \\\\\", та оплатіть договір.</br><br/>З боку НАСК \\\\\\\\\\\\\"ОРАНТА\\\\\\\\\\\\\" індивідуальну пропозицію підписано кваліфікованим електронним підписом уповноваженої особи НАСК \\\\\\\\\\\\\"ОРАНТА\\\\\\\\\\\\\".<br/>На виконання вимог ст.86-88 Закону України \\\\\\\\\\\\\"Про страхування\\\\\\\\\\\\\" надсилаємо для ознайомлення до укладення договору страхування наступні документи:\\\\\" + \\\\\"</br><br/>Інформаційний документ про стандартний страховий продукт \\\\\" + products[0].GetProductTypeName() + \\\\\", який знаходиться за наступним посиланням: <a href=\\'https://apifalcon.oranta.ua/files/9638faef-10ca-46f1-bf43-8f555dd91a5d\\'>https://apifalcon.oranta.ua/files/9638faef-10ca-46f1-bf43-8f555dd91a5d<a/>\\\\\";\\\\tif (products[1].GetProductTypeCode() == \\\\\"219\\\\\")\\\\t{\\\\t\\\\t__Result = __Result + \\\\\"<br/>Інформаційний документ про стандартний страховий продукт \\\\\" + products[1].GetProductTypeName() + \\\\\", який знаходиться за наступним посиланням: <a href=\\'https://apifalcon.oranta.ua/files/ac1f0934-85de-4fa8-8e75-dccb5cf794d4\\'>https://apifalcon.oranta.ua/files/ac1f0934-85de-4fa8-8e75-dccb5cf794d4<a/>\\\\\";\\\\t}\\\\telse\\\\t{\\\\t\\\\t\\\\tif (products[1].GetProductTypeCode() == \\\\\"708\\\\\")\\\\t\\\\t{\\\\t\\\\t\\\\t__Result = __Result + \\\\\"<br/>Інформаційний документ про стандартний страховий продукт \\\\\" + products[1].GetProductTypeName() + \\\\\", який знаходиться за наступним посиланням: <a href=\\'https://oranta.ua/\\'>https://oranta.ua/<a/>\\\\\";\\\\t\\\\t}\\\\t}\\\\tif (products[2].GetProductTypeCode() == \\\\\"219\\\\\")\\\\t{\\\\t\\\\t__Result = __Result + \\\\\"<br/>Інформаційний документ про стандартний страховий продукт \\\\\" + products[2].GetProductTypeName() + \\\\\", який знаходиться за наступним посиланням: <a href=\\'https://apifalcon.oranta.ua/files/ac1f0934-85de-4fa8-8e75-dccb5cf794d4\\'>https://apifalcon.oranta.ua/files/ac1f0934-85de-4fa8-8e75-dccb5cf794d4<a/>\\\\\";\\\\t}\\\\telse\\\\t{\\\\t\\\\t\\\\tif (products[2].GetProductTypeCode() == \\\\\"708\\\\\")\\\\t\\\\t{\\\\t\\\\t\\\\t__Result = __Result + \\\\\"<br/>Інформаційний документ про стандартний страховий продукт \\\\\" + products[2].GetProductTypeName() + \\\\\", який знаходиться за наступним посиланням: <a href=\\'https://oranta.ua/\\'>https://oranta.ua/<a/>\\\\\";\\\\t\\\\t}\\\\t}}__Result = __Result + \\\\\"</br><br/>Інформація про страховика, яка знаходиться за наступним посиланням: <a href=\\'https://oranta.ua/info/services-and-insurer/\\'>https://oranta.ua/info/services-and-insurer/<a/>\\\\\" + \\\\\"</br><br/>Інформація про страхового посередника, яка знаходиться за наступним посиланням: \\\\\" + AgentCoverLetter;__Result = __Result + \\\\\"</br><br/>Підписуючи договір страхування Ви підтверджуєте, що ознайомилися та приймаєте умови Загальних умов страхового продукту \\\\\" + products[0].GetProductTypeName() + \\\\\" 71.2.25, які розташовані за посиланням <a href=\\'https://apifalcon.oranta.ua/files/3df1adc2-6d97-4904-bb6b-fbf3da2e127e\\'>https://apifalcon.oranta.ua/files/3df1adc2-6d97-4904-bb6b-fbf3da2e127e<a/> та даєте згоду на укладення договору.\\\\\";if (products.Count() == 2){\\\\tif (products[1].GetProductTypeCode() == \\\\\"219\\\\\")\\\\t{\\\\t\\\\t__Result = __Result + \\\\\"<br/>Оферти страхового продукту \\\\\" + products[1].GetProductTypeName() + \\\\\", яка розташована за посиланням <a href=\\'https://apifalcon.oranta.ua/files/df2aa91c-2fbb-4789-a1d7-ec0349995615\\'>https://apifalcon.oranta.ua/files/df2aa91c-2fbb-4789-a1d7-ec0349995615<a/> та Загальних умов страхового продукту \\\\\" + products[1].GetProductTypeName() + \\\\\" 19.2.25, які розташовані за посиланням <a href=\\'https://apifalcon.oranta.ua/files/edd0de9e-edc8-4c08-9769-e427c1c7afc7\\'>https://apifalcon.oranta.ua/files/edd0de9e-edc8-4c08-9769-e427c1c7afc7<a/> та даєте згоду на укладення договору.\\\\\";\\\\t}\\\\tif (products[1].GetProductTypeCode() == \\\\\"708\\\\\")\\\\t{\\\\t\\\\t__Result = __Result + \\\\\"<br/>Оферти страхового продукту \\\\\" + products[1].GetProductTypeName() + \\\\\", яка розташована за посиланням <a href=\\'https://oranta.ua/\\'>https://oranta.ua/<a/> та Загальних умов страхового продукту \\\\\" + products[1].GetProductTypeName() + \\\\\" __________, які розташовані за посиланням <a href=\\'https://oranta.ua/\\'>https://oranta.ua/<a/> та даєте згоду на укладення договору.\\\\\";\\\\t}}if (products.Count() == 3){\\\\tif (products[1].GetProductTypeCode() == \\\\\"219\\\\\")\\\\t{\\\\t\\\\t__Result = __Result + \\\\\"<br/>Оферти страхового продукту \\\\\" + products[1].GetProductTypeName() + \\\\\", яка розташована за посиланням <a href=\\'https://apifalcon.oranta.ua/files/df2aa91c-2fbb-4789-a1d7-ec0349995615\\'>https://apifalcon.oranta.ua/files/df2aa91c-2fbb-4789-a1d7-ec0349995615<a/> та Загальних умов страхового продукту \\\\\" + products[1].GetProductTypeName() + \\\\\" 19.2.25, які розташовані за посиланням <a href=\\'https://apifalcon.oranta.ua/files/edd0de9e-edc8-4c08-9769-e427c1c7afc7\\'>https://apifalcon.oranta.ua/files/edd0de9e-edc8-4c08-9769-e427c1c7afc7<a/> та даєте згоду на укладення договору.\\\\\";\\\\t}\\\\telse\\\\t{\\\\t\\\\t\\\\tif (products[1].GetProductTypeCode() == \\\\\"708\\\\\")\\\\t\\\\t{\\\\t\\\\t\\\\t__Result = __Result + \\\\\"<br/>Оферти страхового продукту \\\\\" + products[1].GetProductTypeName() + \\\\\", яка розташована за посиланням <a href=\\'https://oranta.ua/\\'>https://oranta.ua/<a/> та Загальних умов страхового продукту \\\\\" + products[1].GetProductTypeName() + \\\\\" __________, які розташовані за посиланням <a href=\\'https://oranta.ua/\\'>https://oranta.ua/<a/> та даєте згоду на укладення договору.\\\\\";\\\\t\\\\t}\\\\t}\\\\tif (products[2].GetProductTypeCode() == \\\\\"219\\\\\")\\\\t{\\\\t\\\\t__Result = __Result + \\\\\"<br/>Оферти страхового продукту \\\\\" + products[2].GetProductTypeName() + \\\\\", яка розташована за посиланням <a href=\\'https://apifalcon.oranta.ua/files/df2aa91c-2fbb-4789-a1d7-ec0349995615\\'>https://apifalcon.oranta.ua/files/df2aa91c-2fbb-4789-a1d7-ec0349995615<a/> та Загальних умов страхового продукту \\\\\" + products[2].GetProductTypeName() + \\\\\" 19.2.25, які розташовані за посиланням <a href=\\'https://apifalcon.oranta.ua/files/edd0de9e-edc8-4c08-9769-e427c1c7afc7\\'>https://apifalcon.oranta.ua/files/edd0de9e-edc8-4c08-9769-e427c1c7afc7<a/> та даєте згоду на укладення договору.\\\\\";\\\\t}\\\\telse\\\\t{\\\\t\\\\t\\\\tif (products[2].GetProductTypeCode() == \\\\\"708\\\\\")\\\\t\\\\t{\\\\t\\\\t\\\\t__Result = __Result + \\\\\"<br/>Оферти страхового продукту \\\\\" + products[2].GetProductTypeName() + \\\\\", яка розташована за посиланням <a href=\\'https://oranta.ua/\\'>https://oranta.ua/<a/> та Загальних умов страхового продукту \\\\\" + products[2].GetProductTypeName() + \\\\\" __________, які розташовані за посиланням <a href=\\'https://oranta.ua/\\'>https://oranta.ua/<a/> та даєте згоду на укладення договору.\\\\\";\\\\t\\\\t}\\\\t}}__Result = __Result + \\\\\"</br><br/>З найкращими побажаннями<br/>ПАТ \\\\\\\\\\\\\"НАСК \\\\\\\\\\\\\"ОРАНТА\\\\\\\\\\\\\"\\\\\";__Result = __Result.Replace(\\\\\"786 ЕП ОСЦПВ 2025 для фізичних осіб\\\\\", \\\\\"Автоцивілка\\\\\").Replace(\\\\\"786 ЕП ОСЦПВ 2025 для юридичних осіб\\\\\", \\\\\"Автоцивілка\\\\\").Replace(\\\\\"219 Автопарасолька 2025\\\\\", \\\\\"Автопарасолька\\\\\").Replace(\\\\\"701 АБСОЛЮТНИЙ ЗАХИСТ\\\\\", \\\\\"Абсолютний захист\\\\\").Replace(\\\\\"724 ДЦВ online\\\\\", \\\\\"ДЦВ online\\\\\").Replace(\\\\\"708 Особиста безпека крос\\\\\", \\\\\"Особиста безпека\\\\\");\"}]}\\n',\n",
       "   '{\"id\": 48, \"name\": \"219CoverLetter\", \"messages\": [{\"role\": \"user\", \"content\": \"Пояснення:\\\\nКод формує HTML-повідомлення з усією необхідною інформацією для підписання й оплати договору страхування за продуктом Автопарасолька для страхувальника, підставляючи його ім’я та прізвище, номер заявки, номер поліса, код продукту, посилання на оплату, а також список обов’язкових документів та посилань для ознайомлення згідно з Законом України \\\\\"Про страхування\\\\\".\"}, {\"role\": \"assistant\", \"content\": \"C# code:\\\\n__Result = \\\\\"Вітаємо, \\\\\" + __Product.Insurer.Face.Firstname + \\\\\" \\\\\" + __Product.Insurer.Face.Secondname + \\\\\"</br><br/>Направляємо Вам у вкладенні Індивідуальну пропозицію № \\\\\" + __Product.PolisNumber + \\\\\" (ID заявки \\\\\" + __InsuranceApplication.id.ToString() + \\\\\") за продуктом Автопарасолька, код страхового продукту \\\\\" + __Product.GetProductTypeCode() + \\\\\"</br><br/>Для подальшого укладання договору страхування перейдіть за посиланням \\\\\" + __Context.GetSetting(\\\\\"PaymentURL\\\\\") + __InsuranceApplication.id.ToString() + \\\\\"-\\\\\" + __InsuranceApplication.gid.ToString().Substring(0, __InsuranceApplication.gid.ToString().IndexOf(\\\\\"-\\\\\")) + \\\\\", підпишіть договір, укладений відповідно до страхового продукту Автопарасолька разовим ідентифікатором: {smscode} та оплатіть договір.\\\\\" + \\\\\"</br><br/>З боку НАСК \\\\\\\\\\\\\"ОРАНТА\\\\\\\\\\\\\" індивідуальну пропозицію підписано кваліфікованим електронним підписом уповноваженої особи НАСК \\\\\\\\\\\\\"ОРАНТА\\\\\\\\\\\\\".<br/>На виконання вимог ст.86-88 Закону України \\\\\\\\\\\\\"Про страхування\\\\\\\\\\\\\" надсилаємо для ознайомлення до укладення договору страхування наступні документи:\\\\\" + \\\\\"</br><br/>Інформаційний документ про стандартний страховий продукт Автопарасолька, який знаходиться за наступним посиланням: <a href=\\'https://apifalcon.oranta.ua/files/ac1f0934-85de-4fa8-8e75-dccb5cf794d4\\'>https://apifalcon.oranta.ua/files/ac1f0934-85de-4fa8-8e75-dccb5cf794d4<a/>\\\\\" + \\\\\"</br><br/>Інформація про страховика, яка знаходиться за наступним посиланням: <a href=\\'https://oranta.ua/info/services-and-insurer/\\'>https://oranta.ua/info/services-and-insurer/<a/>\\\\\" + \\\\\"</br><br/>Інформація про страхового посередника, яка знаходиться за наступним посиланням: \\\\\" + AgentCoverLetter + \\\\\"</br><br/>Підписуючи договір страхування Ви підтверджуєте, що ознайомилися та приймаєте умови:</br><br/>Загальних умов № 19.2.25 страхового продукту Автопарасолька, які розташовані за посиланням: <a href=\\'https://apifalcon.oranta.ua/files/edd0de9e-edc8-4c08-9769-e427c1c7afc7\\'>https://apifalcon.oranta.ua/files/edd0de9e-edc8-4c08-9769-e427c1c7afc7<a/></br><br/>Пропозиції (Оферти) укласти договір, страхового продукту Автопарасолька (код страхового продукту 219), яка розташована за посиланням: <a href=\\'https://apifalcon.oranta.ua/files/df2aa91c-2fbb-4789-a1d7-ec0349995615\\'>https://apifalcon.oranta.ua/files/df2aa91c-2fbb-4789-a1d7-ec0349995615<a/> та даєте згоду на укладення договору.\\\\\" + \\\\\"</br><br/>З найкращими побажаннями</br>ПАТ \\\\\\\\\\\\\"НАСК \\\\\\\\\\\\\"ОРАНТА\\\\\\\\\\\\\"\\\\\";\"}]}\\n',\n",
       "   '{\"id\": 81, \"name\": \"EPOsagoandAutoumbrellaCoverLetter\", \"messages\": [{\"role\": \"user\", \"content\": \"Пояснення:\\\\nКод формує HTML-лист для страхувальника з урахуванням кількості продуктів у заявці: генерує вітання з іменем, додає інформацію про продукти, індивідуальні пропозиції з номерами полісів, кодами продуктів, посиланням для підписання та оплати, а також інформаційні документи, умови страхування, дані про страховика й посередника. В кінці виконується заміна технічних назв страхових продуктів на зрозумілі клієнту формулювання.\"}, {\"role\": \"assistant\", \"content\": \"C# code:\\\\nList<Workflow.DTO.Models.Product> products = __InsuranceApplication.Products;int counter = 1;while (counter < products.Count()){\\\\tWorkflow.DTO.Models.Product product = products[counter];\\\\tstring productIdentifier = product.GetProductTypeName();\\\\t__Result = __Result + productIdentifier + \\\\\": {smscode}; \\\\\";\\\\tcounter = counter + 1;}__Result = \\\\\"Вітаємо, \\\\\" + __Product.Insurer.Face.Firstname + \\\\\" \\\\\" + __Product.Insurer.Face.Secondname;if (products.Count() == 1){\\\\t__Result = __Result + \\\\\"<br/>Направляємо Вам у вкладенні Індивідуальну пропозицію № \\\\\" + __Product.PolisNumber + \\\\\" (ID заявки \\\\\" + __InsuranceApplication.id.ToString() + \\\\\") за продуктом \\\\\" + products[0].GetProductTypeName() + \\\\\", код страхового продукту \\\\\" + products[0].GetProductTypeCode() + \\\\\".<br/>Для подальшого укладання договору страхування перейдіть за посиланням \\\\\" + __Context.GetSetting(\\\\\"PaymentURL\\\\\") + __InsuranceApplication.id.ToString() + \\\\\"-\\\\\" + __InsuranceApplication.gid.ToString().Substring(0, __InsuranceApplication.gid.ToString().IndexOf(\\\\\"-\\\\\")) + \\\\\", підпишіть договір, укладений відповідно до страхового продукту \\\\\" + products[0].GetProductTypeName() + \\\\\" разовим ідентифікатором \\\\\" + products[0].GetProductTypeName() + \\\\\": {smscode} \\\\\" + \\\\\", та оплатіть договір.</br><br/>З боку НАСК \\\\\\\\\\\\\"ОРАНТА\\\\\\\\\\\\\" індивідуальну пропозицію підписано кваліфікованим електронним підписом уповноваженої особи НАСК \\\\\\\\\\\\\"ОРАНТА\\\\\\\\\\\\\".<br/>На виконання вимог ст.86-88 Закону України \\\\\\\\\\\\\"Про страхування\\\\\\\\\\\\\" надсилаємо для ознайомлення до укладення договору страхування наступні документи:\\\\\" + \\\\\"</br><br/>Інформаційний документ про стандартний страховий продукт \\\\\" + products[0].GetProductTypeName() + \\\\\", який знаходиться за наступним посиланням: <a href=\\'https://apifalcon.oranta.ua/files/9638faef-10ca-46f1-bf43-8f555dd91a5d\\'>https://apifalcon.oranta.ua/files/9638faef-10ca-46f1-bf43-8f555dd91a5d<a/>\\\\\";}else{\\\\tif (products[1].GetProductTypeCode() == \\\\\"219\\\\\")\\\\t{\\\\t\\\\t__Result = __Result + \\\\\"</br><br/>Направляємо Вам у вкладенні:</br><br/>Індивідуальну пропозицію № \\\\\" + __Product.PolisNumber + \\\\\" (ID заявки \\\\\" + __InsuranceApplication.id.ToString() + \\\\\") за продуктом \\\\\" + products[0].GetProductTypeName() + \\\\\", код страхового продукту \\\\\" + products[0].GetProductTypeCode() + \\\\\"<br/>Індивідуальну пропозицію № \\\\\" + products[1].PolisNumber + \\\\\" (ID заявки \\\\\" + __InsuranceApplication.id.ToString() + \\\\\") за продуктом \\\\\" + products[1].GetProductTypeName() + \\\\\", код страхового продукту \\\\\" + products[1].GetProductTypeCode() + \\\\\".</br><br/>Для подальшого укладання договору страхування перейдіть за посиланням \\\\\" + __Context.GetSetting(\\\\\"PaymentURL\\\\\") + __InsuranceApplication.id.ToString() + \\\\\"-\\\\\" + __InsuranceApplication.gid.ToString().Substring(0, __InsuranceApplication.gid.ToString().IndexOf(\\\\\"-\\\\\")) + \\\\\", підпишіть договір, укладений відповідно до страхового продукту:</br><br/>\\\\\" + products[0].GetProductTypeName() + \\\\\" разовим ідентифікатором \\\\\" + \\\\\": {smscode}; \\\\\" + \\\\\"<br/>\\\\\" + products[1].GetProductTypeName() + \\\\\" разовим ідентифікатором\\\\\" + \\\\\": {smscode} \\\\\" + \\\\\", та оплатіть договір.</br><br/>З боку НАСК \\\\\\\\\\\\\"ОРАНТА\\\\\\\\\\\\\" індивідуальну пропозицію підписано кваліфікованим електронним підписом уповноваженої особи НАСК \\\\\\\\\\\\\"ОРАНТА\\\\\\\\\\\\\".<br/>На виконання вимог ст.86-88 Закону України \\\\\\\\\\\\\"Про страхування\\\\\\\\\\\\\" надсилаємо для ознайомлення до укладення договору страхування наступні документи:\\\\\" + \\\\\"</br><br/>Інформаційний документ про стандартний страховий продукт \\\\\" + products[0].GetProductTypeName() + \\\\\", який знаходиться за наступним посиланням: <a href=\\'https://apifalcon.oranta.ua/files/9638faef-10ca-46f1-bf43-8f555dd91a5d\\'>https://apifalcon.oranta.ua/files/9638faef-10ca-46f1-bf43-8f555dd91a5d<a/>\\\\\" + \\\\\"<br/>Інформаційний документ про стандартний страховий продукт \\\\\" + products[1].GetProductTypeName() + \\\\\", який знаходиться за наступним посиланням: <a href=\\'https://apifalcon.oranta.ua/files/ac1f0934-85de-4fa8-8e75-dccb5cf794d4\\'>https://apifalcon.oranta.ua/files/ac1f0934-85de-4fa8-8e75-dccb5cf794d4<a/>\\\\\";\\\\t}\\\\tif (products[1].GetProductTypeCode() == \\\\\"708\\\\\")\\\\t{\\\\t\\\\t__Result = __Result + \\\\\"</br><br/>Направляємо Вам у вкладенні:</br><br/>Індивідуальну пропозицію № \\\\\" + __Product.PolisNumber + \\\\\" (ID заявки \\\\\" + __InsuranceApplication.id.ToString() + \\\\\") за продуктом \\\\\" + products[0].GetProductTypeName() + \\\\\", код страхового продукту \\\\\" + products[0].GetProductTypeCode() + \\\\\"<br/>Індивідуальну пропозицію № \\\\\" + products[1].PolisNumber + \\\\\" (ID заявки \\\\\" + __InsuranceApplication.id.ToString() + \\\\\") за продуктом \\\\\" + products[1].GetProductTypeName() + \\\\\", код страхового продукту \\\\\" + products[1].GetProductTypeCode() + \\\\\".</br><br/>Для подальшого укладання договору страхування перейдіть за посиланням \\\\\" + __Context.GetSetting(\\\\\"PaymentURL\\\\\") + __InsuranceApplication.id.ToString() + \\\\\"-\\\\\" + __InsuranceApplication.gid.ToString().Substring(0, __InsuranceApplication.gid.ToString().IndexOf(\\\\\"-\\\\\")) + \\\\\", підпишіть договір, укладений відповідно до страхового продукту:</br><br/>\\\\\" + products[0].GetProductTypeName() + \\\\\" разовим ідентифікатором \\\\\" + \\\\\": {smscode}; \\\\\" + \\\\\"<br/>\\\\\" + products[1].GetProductTypeName() + \\\\\" разовим ідентифікатором\\\\\" + \\\\\": {smscode} \\\\\" + \\\\\", та оплатіть договір.</br><br/>З боку НАСК \\\\\\\\\\\\\"ОРАНТА\\\\\\\\\\\\\" індивідуальну пропозицію підписано кваліфікованим електронним підписом уповноваженої особи НАСК \\\\\\\\\\\\\"ОРАНТА\\\\\\\\\\\\\".<br/>На виконання вимог ст.86-88 Закону України \\\\\\\\\\\\\"Про страхування\\\\\\\\\\\\\" надсилаємо для ознайомлення до укладення договору страхування наступні документи:\\\\\" + \\\\\"</br><br/>Інформаційний документ про стандартний страховий продукт \\\\\" + products[0].GetProductTypeName() + \\\\\", який знаходиться за наступним посиланням: <a href=\\'https://apifalcon.oranta.ua/files/9638faef-10ca-46f1-bf43-8f555dd91a5d\\'>https://apifalcon.oranta.ua/files/9638faef-10ca-46f1-bf43-8f555dd91a5d<a/>\\\\\" + \\\\\"<br/>Інформаційний документ про стандартний страховий продукт \\\\\" + products[1].GetProductTypeName() + \\\\\", який знаходиться за наступним посиланням: <a href=\\'https://oranta.ua/\\'>https://oranta.ua/<a/>\\\\\";\\\\t}}__Result = __Result + \\\\\"</br><br/>Інформація про страховика, яка знаходиться за наступним посиланням: <a href=\\'https://oranta.ua/info/services-and-insurer/\\'>https://oranta.ua/info/services-and-insurer/<a/>\\\\\" + \\\\\"</br><br/>Інформація про страхового посередника, яка знаходиться за наступним посиланням: \\\\\" + AgentCoverLetter;if (products.Count() == 1){\\\\t__Result = __Result + \\\\\"</br><br/>Підписуючи договір страхування Ви підтверджуєте, що ознайомилися та приймаєте умови Загальних умов страхового продукту \\\\\" + products[0].GetProductTypeName() + \\\\\" 71.2.25, які розташовані за посиланням <a href=\\'https://apifalcon.oranta.ua/files/3df1adc2-6d97-4904-bb6b-fbf3da2e127e\\'>https://apifalcon.oranta.ua/files/3df1adc2-6d97-4904-bb6b-fbf3da2e127e<a/> та даєте згоду на укладення договору.\\\\\";}else{\\\\tif (products[1].GetProductTypeCode() == \\\\\"219\\\\\")\\\\t{\\\\t\\\\t__Result = __Result + \\\\\"</br><br/>Підписуючи договір страхування Ви підтверджуєте, що ознайомилися та приймаєте умови:<br/>Загальних умов страхового продукту \\\\\" + products[0].GetProductTypeName() + \\\\\" 71.2.25, які розташовані за посиланням <a href=\\'https://apifalcon.oranta.ua/files/3df1adc2-6d97-4904-bb6b-fbf3da2e127e\\'>https://apifalcon.oranta.ua/files/3df1adc2-6d97-4904-bb6b-fbf3da2e127e<a/>,\\\\\" + \\\\\"<br/>Оферти страхового продукту \\\\\" + products[1].GetProductTypeName() + \\\\\", яка розташована за посиланням <a href=\\'https://apifalcon.oranta.ua/files/df2aa91c-2fbb-4789-a1d7-ec0349995615\\'>https://apifalcon.oranta.ua/files/df2aa91c-2fbb-4789-a1d7-ec0349995615<a/> та Загальних умов страхового продукту \\\\\" + products[1].GetProductTypeName() + \\\\\" 19.2.25, які розташовані за посиланням <a href=\\'https://apifalcon.oranta.ua/files/edd0de9e-edc8-4c08-9769-e427c1c7afc7\\'>https://apifalcon.oranta.ua/files/edd0de9e-edc8-4c08-9769-e427c1c7afc7<a/> та даєте згоду на укладення договору.\\\\\";\\\\t}\\\\tif (products[1].GetProductTypeCode() == \\\\\"708\\\\\")\\\\t{\\\\t\\\\t__Result = __Result + \\\\\"</br><br/>Підписуючи договір страхування Ви підтверджуєте, що ознайомилися та приймаєте умови:<br/>Загальних умов страхового продукту \\\\\" + products[0].GetProductTypeName() + \\\\\" 71.2.25, які розташовані за посиланням <a href=\\'https://apifalcon.oranta.ua/files/3df1adc2-6d97-4904-bb6b-fbf3da2e127e\\'>https://apifalcon.oranta.ua/files/3df1adc2-6d97-4904-bb6b-fbf3da2e127e<a/>,\\\\\" + \\\\\"<br/>Оферти страхового продукту \\\\\" + products[1].GetProductTypeName() + \\\\\", яка розташована за посиланням <a href=\\'https://oranta.ua/\\'>https://oranta.ua/<a/> та Загальних умов страхового продукту \\\\\" + products[1].GetProductTypeName() + \\\\\" __________, які розташовані за посиланням <a href=\\'https://oranta.ua/\\'>https://oranta.ua/<a/> та даєте згоду на укладення договору.\\\\\";\\\\t}}__Result = __Result + \\\\\"</br><br/>З найкращими побажаннями<br/>ПАТ \\\\\\\\\\\\\"НАСК \\\\\\\\\\\\\"ОРАНТА\\\\\\\\\\\\\"\\\\\";__Result = __Result.Replace(\\\\\"786 ЕП ОСЦПВ 2025 для фізичних осіб\\\\\", \\\\\"Автоцивілка\\\\\").Replace(\\\\\"786 ЕП ОСЦПВ 2025 для юридичних осіб\\\\\", \\\\\"Автоцивілка\\\\\").Replace(\\\\\"219 Автопарасолька 2025\\\\\", \\\\\"Автопарасолька\\\\\").Replace(\\\\\"701 АБСОЛЮТНИЙ ЗАХИСТ\\\\\", \\\\\"Абсолютний захист\\\\\").Replace(\\\\\"724 ДЦВ online\\\\\", \\\\\"ДЦВ online\\\\\").Replace(\\\\\"708 Особиста безпека крос\\\\\", \\\\\"Особиста безпека\\\\\");\"}]}\\n',\n",
       "   '{\"id\": 594, \"name\": \"716LetterSubject\", \"messages\": [{\"role\": \"user\", \"content\": \"Пояснення:\\\\nnan\"}, {\"role\": \"assistant\", \"content\": \"C# code:\\\\n__Result = \\\\\"Договір страхування \\\\\\\\\\\\\"Медичне страхування фізичних осіб\\\\\\\\\\\\\" номер \\\\\" + __Product.PolisNumber;\"}]}\\n',\n",
       "   '{\"id\": 722, \"name\": \"702MiniCasko\", \"messages\": [{\"role\": \"user\", \"content\": \"Пояснення:\\\\nnan\"}, {\"role\": \"assistant\", \"content\": \"C# code:\\\\n__Result = \\\\\"Договір страхування МІНІ КАСКО номер \\\\\" + __Product.PolisNumber;\"}]}\\n',\n",
       "   '{\"id\": 653, \"name\": \"SMS721\", \"messages\": [{\"role\": \"user\", \"content\": \"Пояснення:\\\\nnan\"}, {\"role\": \"assistant\", \"content\": \"C# code:\\\\n__Result = \\\\\"Разовий ідентифікатор для підписання договору \\\\\\\\\\\\\"Калібр\\\\\\\\\\\\\": {smscode}, посилання для оплати \\\\\" + __Context.GetSetting(\\\\\"PaymentURL\\\\\") + __InsuranceApplication.id.ToString() + \\\\\"-\\\\\" + __InsuranceApplication.gid.ToString().Substring(0, __InsuranceApplication.gid.ToString().IndexOf(\\\\\"-\\\\\"));\"}]}\\n',\n",
       "   '{\"id\": 357, \"name\": \"730Subject\", \"messages\": [{\"role\": \"user\", \"content\": \"Пояснення:\\\\nnan\"}, {\"role\": \"assistant\", \"content\": \"C# code:\\\\n__Result = \\\\\"Договір страхування \\\\\\\\\\\\\"Маєток. Маємо-дбаємо\\\\\\\\\\\\\" номер \\\\\" + __Product.PolisNumber;\"}]}\\n',\n",
       "   '{\"id\": 191, \"name\": \"219LetterSubject\", \"messages\": [{\"role\": \"user\", \"content\": \"Пояснення:\\\\nnan\"}, {\"role\": \"assistant\", \"content\": \"C# code:\\\\n__Result = \\\\\"Договір страхування \\\\\\\\\\\\\"Автопарасолька\\\\\\\\\\\\\" номер \\\\\" + __Product.PolisNumber;\"}]}\\n',\n",
       "   '{\"id\": 152, \"name\": \"721CoverLetter\", \"messages\": [{\"role\": \"user\", \"content\": \"Пояснення:\\\\nnan\"}, {\"role\": \"assistant\", \"content\": \"C# code:\\\\n__Result = \\\\\"Вітаємо, \\\\\" + __Product.Insurer.Face.Firstname + \\\\\" \\\\\" + __Product.Insurer.Face.Secondname + \\\\\"</br><br/>Направляємо Вам у вкладенні Індивідуальну пропозицію № \\\\\" + __Product.PolisNumber + \\\\\" (ID заявки \\\\\" + __InsuranceApplication.id.ToString() + \\\\\") за продуктом КАЛІБР, код страхового продукту \\\\\" + __Product.GetProductTypeCode() + \\\\\"</br><br/>Для подальшого укладання договору страхування перейдіть за посиланням \\\\\" + __Context.GetSetting(\\\\\"PaymentURL\\\\\") + __InsuranceApplication.id.ToString() + \\\\\"-\\\\\" + __InsuranceApplication.gid.ToString().Substring(0, __InsuranceApplication.gid.ToString().IndexOf(\\\\\"-\\\\\")) + \\\\\", підпишіть договір, укладений відповідно до страхового продукту КАЛІБР разовим ідентифікатором: {smscode} та оплатіть договір.\\\\\" + \\\\\"</br><br/>З боку НАСК \\\\\\\\\\\\\"ОРАНТА\\\\\\\\\\\\\" індивідуальну пропозицію підписано кваліфікованим електронним підписом уповноваженої особи НАСК \\\\\\\\\\\\\"ОРАНТА\\\\\\\\\\\\\".<br/>На виконання вимог ст.86-88 Закону України \\\\\\\\\\\\\"Про страхування\\\\\\\\\\\\\" надсилаємо для ознайомлення до укладення договору страхування наступні документи:\\\\\" + \\\\\"</br><br/>Інформаційний документ про стандартний страховий продукт КАЛІБР, який знаходиться за наступним посиланням: <a href=\\'https://apifalcon.oranta.ua/files/24c4f26e-0442-44ae-9403-493119e1c609\\'>https://apifalcon.oranta.ua/files/24c4f26e-0442-44ae-9403-493119e1c609<a/>\\\\\" + \\\\\"</br><br/>Інформація про страховика, яка знаходиться за наступним посиланням: <a href=\\'https://oranta.ua/info/services-and-insurer/\\'>https://oranta.ua/info/services-and-insurer/<a/>\\\\\" + \\\\\"</br><br/>Інформація про страхового посередника, яка знаходиться за наступним посиланням: \\\\\" + AgentCoverLetter + \\\\\"</br><br/>Підписуючи договір страхування Ви підтверджуєте, що ознайомилися та приймаєте умови:</br><br/>Загальних умов страхового продукту КАЛІБР № 1.1.24 зі страхування відповідальності перед третіми особами власника (законного володільця) зброї, які розташовані за посиланням: <a href=\\'https://apifalcon.oranta.ua/files/14a3f9f1-a4aa-4cb1-a46e-c6be4aa2c0f1\\'>https://apifalcon.oranta.ua/files/14a3f9f1-a4aa-4cb1-a46e-c6be4aa2c0f1<a/></br><br/>Пропозиція укласти Договір відповідальності перед третіми особами власника (законного володільця) зброї, страховий продукт КАЛІБР (код страхового продукту 721), яка розташована за посиланням: <a href=\\'https://apifalcon.oranta.ua/files/736cb4d2-1653-45ab-b2c4-21a8917eed13\\'>https://apifalcon.oranta.ua/files/736cb4d2-1653-45ab-b2c4-21a8917eed13<a/> та даєте згоду на укладення договору.\\\\\" + \\\\\"</br><br/>З найкращими побажаннями</br>ПАТ \\\\\\\\\\\\\"НАСК \\\\\\\\\\\\\"ОРАНТА\\\\\\\\\\\\\"\\\\\";\"}]}\\n',\n",
       "   '{\"id\": 86, \"name\": \"724CoverLetter\", \"messages\": [{\"role\": \"user\", \"content\": \"Пояснення:\\\\nКод формує персоналізоване повідомлення для страхувальника з ім’ям, переліком страхових продуктів та відповідних разових ідентифікаторів, номерами полісів, кодами продуктів, посиланням для підписання й оплати договору, а також включає інформаційні документи, дані про страховика й страхового посередника. У фіналі додається згода на умови страхування, побажання від компанії та виконується заміна технічних назв продуктів на зручніші для сприйняття.\"}, {\"role\": \"assistant\", \"content\": \"C# code:\\\\n__Result = \\\\\"Вітаємо, \\\\\" + __Product.Insurer.Face.Firstname + \\\\\" \\\\\" + __Product.Insurer.Face.Secondname + \\\\\"</br><br/>Направляємо Вам у вкладенні Індивідуальну пропозицію № \\\\\" + __Product.PolisNumber + \\\\\" (ID заявки \\\\\" + __InsuranceApplication.id.ToString() + \\\\\") за продуктом ДЦВ online, код страхового продукту \\\\\" + __Product.GetProductTypeCode() + \\\\\"</br><br/>Для подальшого укладання договору страхування перейдіть за посиланням \\\\\" + __Context.GetSetting(\\\\\"PaymentURL\\\\\") + __InsuranceApplication.id.ToString() + \\\\\"-\\\\\" + __InsuranceApplication.gid.ToString().Substring(0, __InsuranceApplication.gid.ToString().IndexOf(\\\\\"-\\\\\")) + \\\\\", підпишіть договір, укладений відповідно до страхового продукту ДЦВ online разовим ідентифікатором: {smscode} та оплатіть договір.\\\\\" + \\\\\"</br><br/>З боку НАСК \\\\\\\\\\\\\"ОРАНТА\\\\\\\\\\\\\" індивідуальну пропозицію підписано кваліфікованим електронним підписом уповноваженої особи НАСК \\\\\\\\\\\\\"ОРАНТА\\\\\\\\\\\\\".<br/>На виконання вимог ст.86-88 Закону України \\\\\\\\\\\\\"Про страхування\\\\\\\\\\\\\" надсилаємо для ознайомлення до укладення договору страхування наступні документи:\\\\\" + \\\\\"</br><br/>Інформаційний документ про стандартний страховий продукт ДЦВ online, який знаходиться за наступним посиланням: <a href=\\'https://apifalcon.oranta.ua/files/ed9c0c3c-a920-46f2-895d-b24d0148cf54\\'>https://apifalcon.oranta.ua/files/ed9c0c3c-a920-46f2-895d-b24d0148cf54<a/>\\\\\" + \\\\\"</br><br/>Інформація про страховика, яка знаходиться за наступним посиланням: <a href=\\'https://oranta.ua/info/services-and-insurer/\\'>https://oranta.ua/info/services-and-insurer/<a/>\\\\\" + \\\\\"</br><br/>Інформація про страхового посередника, яка знаходиться за наступним посиланням: \\\\\" + AgentCoverLetter + \\\\\"</br><br/>Підписуючи договір страхування Ви підтверджуєте, що ознайомилися та приймаєте умови:</br><br/>Загальних умов страхового продукту \\\\\\\\\\\\\"ДЦВ online\\\\\\\\\\\\\" № 15.2.25 зі страхування цивільної відповідальності власників наземного транспорту, які розташовані за посиланням: <a href=\\'https://apifalcon.oranta.ua/files/f0657d19-3025-4741-8094-b71235cc66a5\\'>https://apifalcon.oranta.ua/files/f0657d19-3025-4741-8094-b71235cc66a5<a/></br><br/>Пропозиції (Оферти) укласти Договір цивільної відповідальності власників наземного транспорту, страховий продукт \\\\\\\\\\\\\"ДЦВ online\\\\\\\\\\\\\" (код страхового продукту 724), яка розташована за посиланням: <a href=\\'https://apifalcon.oranta.ua/files/f09d70a2-03ff-4276-a083-1334f4170e8a\\'>https://apifalcon.oranta.ua/files/f09d70a2-03ff-4276-a083-1334f4170e8a<a/> та даєте згоду на укладення договору.\\\\\" + \\\\\"</br><br/>Підписанням договору Страхувальник погоджується з отриманням переддоговірної інформації за наданими у цьому повідомленні посиланнями.\\\\\" + \\\\\"</br><br/>З найкращими побажаннями</br>ПАТ \\\\\\\\\\\\\"НАСК \\\\\\\\\\\\\"ОРАНТА\\\\\\\\\\\\\"\\\\\";\"}]}\\n',\n",
       "   '{\"id\": 269, \"name\": \"787Subject\", \"messages\": [{\"role\": \"user\", \"content\": \"Пояснення:\\\\nnan\"}, {\"role\": \"assistant\", \"content\": \"C# code:\\\\n__Result = \\\\\"Договір страхування \\\\\\\\\\\\\"Зелена картка\\\\\\\\\\\\\" номер \\\\\" + __Product.PolisNumber;\"}]}\\n',\n",
       "   '{\"id\": 634, \"name\": \"SMS722\", \"messages\": [{\"role\": \"user\", \"content\": \"Пояснення:\\\\nnan\"}, {\"role\": \"assistant\", \"content\": \"C# code:\\\\n__Result = \\\\\"Разовий ідентифікатор для підписання договору Максимальний захист: {smscode}, посилання для оплати \\\\\" + __Context.GetSetting(\\\\\"PaymentURL\\\\\") + __InsuranceApplication.id.ToString() + \\\\\"-\\\\\" + __InsuranceApplication.gid.ToString().Substring(0, __InsuranceApplication.gid.ToString().IndexOf(\\\\\"-\\\\\"));\"}]}\\n',\n",
       "   '{\"id\": 707, \"name\": \"710LetterSubject\", \"messages\": [{\"role\": \"user\", \"content\": \"Пояснення:\\\\nnan\"}, {\"role\": \"assistant\", \"content\": \"C# code:\\\\n__Result = \\\\\"Договір страхування \\\\\\\\\\\\\"У відпустку з Орантою\\\\\\\\\\\\\" номер \\\\\" + __Product.PolisNumber;\"}]}\\n',\n",
       "   '{\"id\": 504, \"name\": \"SMS731\", \"messages\": [{\"role\": \"user\", \"content\": \"Пояснення:\\\\nnan\"}, {\"role\": \"assistant\", \"content\": \"C# code:\\\\n__Result = \\\\\"Разовий ідентифікатор для підписання договору \\\\\\\\\\\\\"Надійне КАСКО\\\\\\\\\\\\\": {smscode}, посилання для оплати \\\\\" + __Context.GetSetting(\\\\\"PaymentURL\\\\\") + __InsuranceApplication.id.ToString() + \\\\\"-\\\\\" + __InsuranceApplication.gid.ToString().Substring(0, __InsuranceApplication.gid.ToString().IndexOf(\\\\\"-\\\\\"));\"}]}\\n',\n",
       "   '{\"id\": 80, \"name\": \"EPOsagoandPersonalSafetyCoverLetter\", \"messages\": [{\"role\": \"user\", \"content\": \"Пояснення:\\\\nКод формує персоналізований лист для страхувальника з іменем, переліком продуктів та їх ідентифікаторів, індивідуальними пропозиціями з номерами полісів, кодами страхових продуктів, посиланням для підписання й оплати договору, а також додає інформаційні документи, дані про страховика та посередника. У завершенні листа вказуються умови страхування та виконується заміна технічних назв продуктів на зручні для сприйняття клієнтом.\"}, {\"role\": \"assistant\", \"content\": \"C# code:\\\\nList<Workflow.DTO.Models.Product> products = __InsuranceApplication.Products;int counter = 1;while (counter < products.Count()){\\\\tWorkflow.DTO.Models.Product product = products[counter];\\\\tstring productIdentifier = product.GetProductTypeName();\\\\t__Result = __Result + productIdentifier + \\\\\": {smscode}; \\\\\";\\\\tcounter = counter + 1;}__Result = \\\\\"Вітаємо, \\\\\" + __Product.Insurer.Face.Firstname + \\\\\" \\\\\" + __Product.Insurer.Face.Secondname;__Result = __Result + \\\\\"</br><br/>Направляємо Вам у вкладенні:</br><br/>Індивідуальну пропозицію № \\\\\" + __Product.PolisNumber + \\\\\" (ID заявки \\\\\" + __InsuranceApplication.id.ToString() + \\\\\") за продуктом \\\\\" + products[0].GetProductTypeName() + \\\\\", код страхового продукту \\\\\" + products[0].GetProductTypeCode() + \\\\\"<br/>Індивідуальну пропозицію № \\\\\" + products[1].PolisNumber + \\\\\" (ID заявки \\\\\" + __InsuranceApplication.id.ToString() + \\\\\") за продуктом \\\\\" + products[1].GetProductTypeName() + \\\\\", код страхового продукту \\\\\" + products[1].GetProductTypeCode() + \\\\\".</br><br/>Для подальшого укладання договору страхування перейдіть за посиланням \\\\\" + __Context.GetSetting(\\\\\"PaymentURL\\\\\") + __InsuranceApplication.id.ToString() + \\\\\"-\\\\\" + __InsuranceApplication.gid.ToString().Substring(0, __InsuranceApplication.gid.ToString().IndexOf(\\\\\"-\\\\\")) + \\\\\", підпишіть договір, укладений відповідно до страхового продукту:</br><br/>\\\\\" + products[0].GetProductTypeName() + \\\\\" разовим ідентифікатором \\\\\" + \\\\\": {smscode}; \\\\\" + \\\\\"<br/>\\\\\" + products[1].GetProductTypeName() + \\\\\", разовим ідентифікатором\\\\\" + \\\\\": {smscode} \\\\\" + \\\\\", та оплатіть договір.</br><br/>З боку НАСК \\\\\\\\\\\\\"ОРАНТА\\\\\\\\\\\\\" індивідуальну пропозицію підписано кваліфікованим електронним підписом уповноваженої особи НАСК \\\\\\\\\\\\\"ОРАНТА\\\\\\\\\\\\\".<br/>На виконання вимог ст.86-88 Закону України \\\\\\\\\\\\\"Про страхування\\\\\\\\\\\\\" надсилаємо для ознайомлення до укладення договору страхування наступні документи:\\\\\" + \\\\\"</br><br/>Інформаційний документ про стандартний страховий продукт \\\\\" + products[0].GetProductTypeName() + \\\\\", який знаходиться за наступним посиланням: <a href=\\'https://apifalcon.oranta.ua/files/9638faef-10ca-46f1-bf43-8f555dd91a5d\\'>https://apifalcon.oranta.ua/files/9638faef-10ca-46f1-bf43-8f555dd91a5d<a/>\\\\\" + \\\\\"<br/>Інформаційний документ про стандартний страховий продукт \\\\\" + products[1].GetProductTypeName() + \\\\\", який знаходиться за наступним посиланням: <a href=\\'https://oranta.ua\\'>https://oranta.ua<a/>\\\\\";__Result = __Result + \\\\\"</br><br/>Інформація про страховика, яка знаходиться за наступним посиланням: <a href=\\'https://oranta.ua/info/services-and-insurer/\\'>https://oranta.ua/info/services-and-insurer/<a/>\\\\\" + \\\\\"</br><br/>Інформація про страхового посередника, яка знаходиться за наступним посиланням: \\\\\" + AgentCoverLetter;__Result = __Result + \\\\\"</br><br/>Підписуючи договір страхування Ви підтверджуєте, що ознайомилися та приймаєте умови:<br/>Загальних умов страхового продукту \\\\\" + products[0].GetProductTypeName() + \\\\\" 71.2.25, які розташовані за посиланням <a href=\\'https://apifalcon.oranta.ua/files/3df1adc2-6d97-4904-bb6b-fbf3da2e127e\\'>https://apifalcon.oranta.ua/files/3df1adc2-6d97-4904-bb6b-fbf3da2e127e<a/>,\\\\\" + \\\\\"<br/>Оферти страхового продукту \\\\\" + products[1].GetProductTypeName() + \\\\\", яка розташована за посиланням <a href=\\'https://oranta.ua\\'>https://oranta.ua<a/> та Загальних умов страхового продукту \\\\\" + products[1].GetProductTypeName() + \\\\\" ________, які розташовані за посиланням <a href=\\'https://oranta.ua\\'>https://oranta.ua<a/> та даєте згоду на укладення договору.\\\\\";__Result = __Result + \\\\\"</br><br/>З найкращими побажаннями<br/>ПАТ \\\\\\\\\\\\\"НАСК \\\\\\\\\\\\\"ОРАНТА\\\\\\\\\\\\\"\\\\\";__Result = __Result.Replace(\\\\\"786 ЕП ОСЦПВ 2025 для фізичних осіб\\\\\", \\\\\"Автоцивілка\\\\\").Replace(\\\\\"708 Особиста безпека крос\\\\\", \\\\\"Особиста безпека\\\\\");\"}]}\\n',\n",
       "   '{\"id\": 697, \"name\": \"709LetterSubject\", \"messages\": [{\"role\": \"user\", \"content\": \"Пояснення:\\\\nnan\"}, {\"role\": \"assistant\", \"content\": \"C# code:\\\\n__Result = \\\\\"Договір страхування \\\\\\\\\\\\\"Рідна квартира\\\\\\\\\\\\\" номер \\\\\" + __Product.PolisNumber;\"}]}\\n',\n",
       "   '{\"id\": 167, \"name\": \"786CoverLetterStandard\", \"messages\": [{\"role\": \"user\", \"content\": \"Пояснення:\\\\nnan\"}, {\"role\": \"assistant\", \"content\": \"C# code:\\\\nList<Workflow.DTO.Models.Product> products = __InsuranceApplication.Products;__Result = \\\\\"Вітаємо, \\\\\" + __Product.Insurer.Face.Firstname + \\\\\" \\\\\" + __Product.Insurer.Face.Secondname + \\\\\"</br><br/>Направляємо Вам у вкладенні Індивідуальну пропозицію за продуктом \\\\\" + products[0].GetProductTypeName() + \\\\\", код страхового продукту \\\\\" + __Product.GetProductTypeCode() + \\\\\", № \\\\\" + __InsuranceApplication.id.ToString() + \\\\\".</br><br/>Для подальшого укладання договору страхування перейдіть за посиланням \\\\\" + __Context.GetSetting(\\\\\"PaymentURL\\\\\") + __InsuranceApplication.id.ToString() + \\\\\"-\\\\\" + __InsuranceApplication.gid.ToString().Substring(0, __InsuranceApplication.gid.ToString().IndexOf(\\\\\"-\\\\\")) + \\\\\", підпишіть договір, укладений відповідно до страхового продукту разовим ідентифікатором \\\\\" + products[0].GetProductTypeName() + \\\\\": {smscode}; \\\\\";int counter = 1;while (counter < products.Count()){\\\\tWorkflow.DTO.Models.Product product = products[counter];\\\\tstring productIdentifier = product.GetProductTypeName();\\\\t__Result = __Result + productIdentifier;\\\\tcounter = counter + 1;}__Result = __Result + \\\\\" та оплатіть договір.</br><br/>З боку НАСК \\\\\\\\\\\\\"ОРАНТА\\\\\\\\\\\\\" індивідуальну пропозицію підписано кваліфікованим електронним підписом уповноваженої особи НАСК \\\\\\\\\\\\\"ОРАНТА\\\\\\\\\\\\\".<br/>На виконання вимог ст.86-88 Закону України \\\\\\\\\\\\\"Про страхування\\\\\\\\\\\\\" надсилаємо для ознайомлення до укладення договору страхування наступні документи:\\\\\" + \\\\\"</br><br/>Інформаційний документ про страховий продукт, який знаходиться за наступним посиланням: <a href=\\'https://apifalcon.oranta.ua/files/e9365c22-b61e-457e-bc3e-b0e9339cb390\\'>https://apifalcon.oranta.ua/files/e9365c22-b61e-457e-bc3e-b0e9339cb390<a/>\\\\\" + \\\\\"</br><br/>Інформація про страховика, яка знаходиться за наступним посиланням: <a href=\\'https://oranta.ua/info/services-and-insurer/\\'>https://oranta.ua/info/services-and-insurer/<a/>\\\\\" + \\\\\"</br><br/>Інформація про страхового посередника, яка знаходиться за наступним посиланням: \\\\\" + AgentCoverLetter + \\\\\"</br><br/>Підписуючи договір страхування Ви підтверджуєте, що ознайомилися та приймаєте умови №  71.1.24 від 30 грудня 2024 р. страхового продукту \\\\\" + __Product.GetProductTypeName().Replace(__Product.GetProductTypeName(), \\\\\"Автоцивілка\\\\\") + \\\\\", які розташовані за посиланням <a href=\\'https://apifalcon.oranta.ua/files/e9365c22-b61e-457e-bc3e-b0e9339cb390\\'>https://apifalcon.oranta.ua/files/e9365c22-b61e-457e-bc3e-b0e9339cb390<a/> та даєте згоду на укладення договору.\\\\\" + \\\\\"</br><br/>З найкращими побажаннями</br>ПАТ \\\\\\\\\\\\\"НАСК \\\\\\\\\\\\\"ОРАНТА\\\\\\\\\\\\\"\\\\\";\"}]}\\n',\n",
       "   '{\"id\": 719, \"name\": \"708Subject\", \"messages\": [{\"role\": \"user\", \"content\": \"Пояснення:\\\\nnan\"}, {\"role\": \"assistant\", \"content\": \"C# code:\\\\n__Result = \\\\\"Договір страхування ОСОБИСТА БЕЗПЕКА номер \\\\\" + __Product.PolisNumber;\"}]}\\n',\n",
       "   '{\"id\": 505, \"name\": \"731Subject\", \"messages\": [{\"role\": \"user\", \"content\": \"Пояснення:\\\\nnan\"}, {\"role\": \"assistant\", \"content\": \"C# code:\\\\n__Result = \\\\\"Договір страхування \\\\\\\\\\\\\"Надійне КАСКО\\\\\\\\\\\\\" номер \\\\\" + __Product.PolisNumber;\"}]}\\n']],\n",
       " 'uris': None,\n",
       " 'included': ['metadatas', 'documents', 'distances'],\n",
       " 'data': None,\n",
       " 'metadatas': [[{'category': 'code + explanation'},\n",
       "   {'category': 'code + explanation'},\n",
       "   {'category': 'code + explanation'},\n",
       "   {'category': 'code + explanation'},\n",
       "   {'category': 'code + explanation'},\n",
       "   {'category': 'code + explanation'},\n",
       "   {'category': 'code + explanation'},\n",
       "   {'category': 'code + explanation'},\n",
       "   {'category': 'code + explanation'},\n",
       "   {'category': 'code + explanation'},\n",
       "   {'category': 'code + explanation'},\n",
       "   {'category': 'code + explanation'},\n",
       "   {'category': 'code + explanation'},\n",
       "   {'category': 'code + explanation'},\n",
       "   {'category': 'code + explanation'},\n",
       "   {'category': 'code + explanation'},\n",
       "   {'category': 'code + explanation'},\n",
       "   {'category': 'code + explanation'},\n",
       "   {'category': 'code + explanation'},\n",
       "   {'category': 'code + explanation'}]],\n",
       " 'distances': [[0.7749126553535461,\n",
       "   0.8169806003570557,\n",
       "   0.818880558013916,\n",
       "   0.820884644985199,\n",
       "   0.8234950304031372,\n",
       "   0.8238118290901184,\n",
       "   0.8273282647132874,\n",
       "   0.8326653838157654,\n",
       "   0.8346308469772339,\n",
       "   0.8419164419174194,\n",
       "   0.8425078988075256,\n",
       "   0.8427444100379944,\n",
       "   0.8433004021644592,\n",
       "   0.8436311483383179,\n",
       "   0.8461371064186096,\n",
       "   0.8467365503311157,\n",
       "   0.8484399318695068,\n",
       "   0.8503469824790955,\n",
       "   0.8515850901603699,\n",
       "   0.8517770171165466]]}"
      ]
     },
     "execution_count": 28,
     "metadata": {},
     "output_type": "execute_result"
    }
   ],
   "execution_count": 28
  },
  {
   "metadata": {
    "ExecuteTime": {
     "end_time": "2025-07-20T23:01:23.592042Z",
     "start_time": "2025-07-20T23:01:22.937445Z"
    }
   },
   "cell_type": "code",
   "source": [
    "pairs = [[text, result['documents'][0][i]] for i in range(20)]\n",
    "new_scores = []\n",
    "\n",
    "new_scores = reranker.compute_score(pairs, normalize=True)\n",
    "\n",
    "\n",
    "new_result = list(zip(\n",
    "    result['ids'][0],\n",
    "    result['metadatas'][0],\n",
    "    result['documents'][0],\n",
    "    new_scores\n",
    "))\n",
    "\n",
    "new_result.sort(key=lambda x: x[3], reverse=True)"
   ],
   "id": "76429756b8d54a20",
   "outputs": [],
   "execution_count": 72
  },
  {
   "metadata": {
    "ExecuteTime": {
     "end_time": "2025-07-20T22:49:10.508188Z",
     "start_time": "2025-07-20T22:49:10.498451Z"
    }
   },
   "cell_type": "code",
   "source": "new_result[0][2]",
   "id": "a5c3971924e46487",
   "outputs": [
    {
     "data": {
      "text/plain": [
       "'{\"id\": 651, \"name\": \"721LetterSubject\", \"messages\": [{\"role\": \"user\", \"content\": \"Пояснення:\\\\nnan\"}, {\"role\": \"assistant\", \"content\": \"C# code:\\\\n__Result = \\\\\"Договір страхування \\\\\\\\\\\\\"Калібр\\\\\\\\\\\\\" номер \\\\\" + __Product.PolisNumber;\"}]}\\n'"
      ]
     },
     "execution_count": 66,
     "metadata": {},
     "output_type": "execute_result"
    }
   ],
   "execution_count": 66
  },
  {
   "metadata": {
    "ExecuteTime": {
     "end_time": "2025-07-20T22:49:51.766734Z",
     "start_time": "2025-07-20T22:49:51.750731Z"
    }
   },
   "cell_type": "code",
   "source": [
    "context = \"\\n\\n\".join(\n",
    "            f'Document {i+1}: \\n {doc}' for i, doc in enumerate(new_result)\n",
    "        )\n",
    "print(context)"
   ],
   "id": "fafe01868d30648d",
   "outputs": [
    {
     "name": "stdout",
     "output_type": "stream",
     "text": [
      "Document 1: \n",
      " {\"id\": 651, \"name\": \"721LetterSubject\", \"messages\": [{\"role\": \"user\", \"content\": \"Пояснення:\\nnan\"}, {\"role\": \"assistant\", \"content\": \"C# code:\\n__Result = \\\"Договір страхування \\\\\\\"Калібр\\\\\\\" номер \\\" + __Product.PolisNumber;\"}]}\n",
      "\n",
      "\n",
      "Document 2: \n",
      " {\"id\": 357, \"name\": \"730Subject\", \"messages\": [{\"role\": \"user\", \"content\": \"Пояснення:\\nnan\"}, {\"role\": \"assistant\", \"content\": \"C# code:\\n__Result = \\\"Договір страхування \\\\\\\"Маєток. Маємо-дбаємо\\\\\\\" номер \\\" + __Product.PolisNumber;\"}]}\n",
      "\n",
      "\n",
      "Document 3: \n",
      " {\"id\": 269, \"name\": \"787Subject\", \"messages\": [{\"role\": \"user\", \"content\": \"Пояснення:\\nnan\"}, {\"role\": \"assistant\", \"content\": \"C# code:\\n__Result = \\\"Договір страхування \\\\\\\"Зелена картка\\\\\\\" номер \\\" + __Product.PolisNumber;\"}]}\n",
      "\n",
      "\n",
      "Document 4: \n",
      " {\"id\": 719, \"name\": \"708Subject\", \"messages\": [{\"role\": \"user\", \"content\": \"Пояснення:\\nnan\"}, {\"role\": \"assistant\", \"content\": \"C# code:\\n__Result = \\\"Договір страхування ОСОБИСТА БЕЗПЕКА номер \\\" + __Product.PolisNumber;\"}]}\n",
      "\n",
      "\n",
      "Document 5: \n",
      " {\"id\": 594, \"name\": \"716LetterSubject\", \"messages\": [{\"role\": \"user\", \"content\": \"Пояснення:\\nnan\"}, {\"role\": \"assistant\", \"content\": \"C# code:\\n__Result = \\\"Договір страхування \\\\\\\"Медичне страхування фізичних осіб\\\\\\\" номер \\\" + __Product.PolisNumber;\"}]}\n",
      "\n",
      "\n",
      "Document 6: \n",
      " {\"id\": 81, \"name\": \"EPOsagoandAutoumbrellaCoverLetter\", \"messages\": [{\"role\": \"user\", \"content\": \"Пояснення:\\nКод формує HTML-лист для страхувальника з урахуванням кількості продуктів у заявці: генерує вітання з іменем, додає інформацію про продукти, індивідуальні пропозиції з номерами полісів, кодами продуктів, посиланням для підписання та оплати, а також інформаційні документи, умови страхування, дані про страховика й посередника. В кінці виконується заміна технічних назв страхових продуктів на зрозумілі клієнту формулювання.\"}, {\"role\": \"assistant\", \"content\": \"C# code:\\nList<Workflow.DTO.Models.Product> products = __InsuranceApplication.Products;int counter = 1;while (counter < products.Count()){\\tWorkflow.DTO.Models.Product product = products[counter];\\tstring productIdentifier = product.GetProductTypeName();\\t__Result = __Result + productIdentifier + \\\": {smscode}; \\\";\\tcounter = counter + 1;}__Result = \\\"Вітаємо, \\\" + __Product.Insurer.Face.Firstname + \\\" \\\" + __Product.Insurer.Face.Secondname;if (products.Count() == 1){\\t__Result = __Result + \\\"<br/>Направляємо Вам у вкладенні Індивідуальну пропозицію № \\\" + __Product.PolisNumber + \\\" (ID заявки \\\" + __InsuranceApplication.id.ToString() + \\\") за продуктом \\\" + products[0].GetProductTypeName() + \\\", код страхового продукту \\\" + products[0].GetProductTypeCode() + \\\".<br/>Для подальшого укладання договору страхування перейдіть за посиланням \\\" + __Context.GetSetting(\\\"PaymentURL\\\") + __InsuranceApplication.id.ToString() + \\\"-\\\" + __InsuranceApplication.gid.ToString().Substring(0, __InsuranceApplication.gid.ToString().IndexOf(\\\"-\\\")) + \\\", підпишіть договір, укладений відповідно до страхового продукту \\\" + products[0].GetProductTypeName() + \\\" разовим ідентифікатором \\\" + products[0].GetProductTypeName() + \\\": {smscode} \\\" + \\\", та оплатіть договір.</br><br/>З боку НАСК \\\\\\\"ОРАНТА\\\\\\\" індивідуальну пропозицію підписано кваліфікованим електронним підписом уповноваженої особи НАСК \\\\\\\"ОРАНТА\\\\\\\".<br/>На виконання вимог ст.86-88 Закону України \\\\\\\"Про страхування\\\\\\\" надсилаємо для ознайомлення до укладення договору страхування наступні документи:\\\" + \\\"</br><br/>Інформаційний документ про стандартний страховий продукт \\\" + products[0].GetProductTypeName() + \\\", який знаходиться за наступним посиланням: <a href='https://apifalcon.oranta.ua/files/9638faef-10ca-46f1-bf43-8f555dd91a5d'>https://apifalcon.oranta.ua/files/9638faef-10ca-46f1-bf43-8f555dd91a5d<a/>\\\";}else{\\tif (products[1].GetProductTypeCode() == \\\"219\\\")\\t{\\t\\t__Result = __Result + \\\"</br><br/>Направляємо Вам у вкладенні:</br><br/>Індивідуальну пропозицію № \\\" + __Product.PolisNumber + \\\" (ID заявки \\\" + __InsuranceApplication.id.ToString() + \\\") за продуктом \\\" + products[0].GetProductTypeName() + \\\", код страхового продукту \\\" + products[0].GetProductTypeCode() + \\\"<br/>Індивідуальну пропозицію № \\\" + products[1].PolisNumber + \\\" (ID заявки \\\" + __InsuranceApplication.id.ToString() + \\\") за продуктом \\\" + products[1].GetProductTypeName() + \\\", код страхового продукту \\\" + products[1].GetProductTypeCode() + \\\".</br><br/>Для подальшого укладання договору страхування перейдіть за посиланням \\\" + __Context.GetSetting(\\\"PaymentURL\\\") + __InsuranceApplication.id.ToString() + \\\"-\\\" + __InsuranceApplication.gid.ToString().Substring(0, __InsuranceApplication.gid.ToString().IndexOf(\\\"-\\\")) + \\\", підпишіть договір, укладений відповідно до страхового продукту:</br><br/>\\\" + products[0].GetProductTypeName() + \\\" разовим ідентифікатором \\\" + \\\": {smscode}; \\\" + \\\"<br/>\\\" + products[1].GetProductTypeName() + \\\" разовим ідентифікатором\\\" + \\\": {smscode} \\\" + \\\", та оплатіть договір.</br><br/>З боку НАСК \\\\\\\"ОРАНТА\\\\\\\" індивідуальну пропозицію підписано кваліфікованим електронним підписом уповноваженої особи НАСК \\\\\\\"ОРАНТА\\\\\\\".<br/>На виконання вимог ст.86-88 Закону України \\\\\\\"Про страхування\\\\\\\" надсилаємо для ознайомлення до укладення договору страхування наступні документи:\\\" + \\\"</br><br/>Інформаційний документ про стандартний страховий продукт \\\" + products[0].GetProductTypeName() + \\\", який знаходиться за наступним посиланням: <a href='https://apifalcon.oranta.ua/files/9638faef-10ca-46f1-bf43-8f555dd91a5d'>https://apifalcon.oranta.ua/files/9638faef-10ca-46f1-bf43-8f555dd91a5d<a/>\\\" + \\\"<br/>Інформаційний документ про стандартний страховий продукт \\\" + products[1].GetProductTypeName() + \\\", який знаходиться за наступним посиланням: <a href='https://apifalcon.oranta.ua/files/ac1f0934-85de-4fa8-8e75-dccb5cf794d4'>https://apifalcon.oranta.ua/files/ac1f0934-85de-4fa8-8e75-dccb5cf794d4<a/>\\\";\\t}\\tif (products[1].GetProductTypeCode() == \\\"708\\\")\\t{\\t\\t__Result = __Result + \\\"</br><br/>Направляємо Вам у вкладенні:</br><br/>Індивідуальну пропозицію № \\\" + __Product.PolisNumber + \\\" (ID заявки \\\" + __InsuranceApplication.id.ToString() + \\\") за продуктом \\\" + products[0].GetProductTypeName() + \\\", код страхового продукту \\\" + products[0].GetProductTypeCode() + \\\"<br/>Індивідуальну пропозицію № \\\" + products[1].PolisNumber + \\\" (ID заявки \\\" + __InsuranceApplication.id.ToString() + \\\") за продуктом \\\" + products[1].GetProductTypeName() + \\\", код страхового продукту \\\" + products[1].GetProductTypeCode() + \\\".</br><br/>Для подальшого укладання договору страхування перейдіть за посиланням \\\" + __Context.GetSetting(\\\"PaymentURL\\\") + __InsuranceApplication.id.ToString() + \\\"-\\\" + __InsuranceApplication.gid.ToString().Substring(0, __InsuranceApplication.gid.ToString().IndexOf(\\\"-\\\")) + \\\", підпишіть договір, укладений відповідно до страхового продукту:</br><br/>\\\" + products[0].GetProductTypeName() + \\\" разовим ідентифікатором \\\" + \\\": {smscode}; \\\" + \\\"<br/>\\\" + products[1].GetProductTypeName() + \\\" разовим ідентифікатором\\\" + \\\": {smscode} \\\" + \\\", та оплатіть договір.</br><br/>З боку НАСК \\\\\\\"ОРАНТА\\\\\\\" індивідуальну пропозицію підписано кваліфікованим електронним підписом уповноваженої особи НАСК \\\\\\\"ОРАНТА\\\\\\\".<br/>На виконання вимог ст.86-88 Закону України \\\\\\\"Про страхування\\\\\\\" надсилаємо для ознайомлення до укладення договору страхування наступні документи:\\\" + \\\"</br><br/>Інформаційний документ про стандартний страховий продукт \\\" + products[0].GetProductTypeName() + \\\", який знаходиться за наступним посиланням: <a href='https://apifalcon.oranta.ua/files/9638faef-10ca-46f1-bf43-8f555dd91a5d'>https://apifalcon.oranta.ua/files/9638faef-10ca-46f1-bf43-8f555dd91a5d<a/>\\\" + \\\"<br/>Інформаційний документ про стандартний страховий продукт \\\" + products[1].GetProductTypeName() + \\\", який знаходиться за наступним посиланням: <a href='https://oranta.ua/'>https://oranta.ua/<a/>\\\";\\t}}__Result = __Result + \\\"</br><br/>Інформація про страховика, яка знаходиться за наступним посиланням: <a href='https://oranta.ua/info/services-and-insurer/'>https://oranta.ua/info/services-and-insurer/<a/>\\\" + \\\"</br><br/>Інформація про страхового посередника, яка знаходиться за наступним посиланням: \\\" + AgentCoverLetter;if (products.Count() == 1){\\t__Result = __Result + \\\"</br><br/>Підписуючи договір страхування Ви підтверджуєте, що ознайомилися та приймаєте умови Загальних умов страхового продукту \\\" + products[0].GetProductTypeName() + \\\" 71.2.25, які розташовані за посиланням <a href='https://apifalcon.oranta.ua/files/3df1adc2-6d97-4904-bb6b-fbf3da2e127e'>https://apifalcon.oranta.ua/files/3df1adc2-6d97-4904-bb6b-fbf3da2e127e<a/> та даєте згоду на укладення договору.\\\";}else{\\tif (products[1].GetProductTypeCode() == \\\"219\\\")\\t{\\t\\t__Result = __Result + \\\"</br><br/>Підписуючи договір страхування Ви підтверджуєте, що ознайомилися та приймаєте умови:<br/>Загальних умов страхового продукту \\\" + products[0].GetProductTypeName() + \\\" 71.2.25, які розташовані за посиланням <a href='https://apifalcon.oranta.ua/files/3df1adc2-6d97-4904-bb6b-fbf3da2e127e'>https://apifalcon.oranta.ua/files/3df1adc2-6d97-4904-bb6b-fbf3da2e127e<a/>,\\\" + \\\"<br/>Оферти страхового продукту \\\" + products[1].GetProductTypeName() + \\\", яка розташована за посиланням <a href='https://apifalcon.oranta.ua/files/df2aa91c-2fbb-4789-a1d7-ec0349995615'>https://apifalcon.oranta.ua/files/df2aa91c-2fbb-4789-a1d7-ec0349995615<a/> та Загальних умов страхового продукту \\\" + products[1].GetProductTypeName() + \\\" 19.2.25, які розташовані за посиланням <a href='https://apifalcon.oranta.ua/files/edd0de9e-edc8-4c08-9769-e427c1c7afc7'>https://apifalcon.oranta.ua/files/edd0de9e-edc8-4c08-9769-e427c1c7afc7<a/> та даєте згоду на укладення договору.\\\";\\t}\\tif (products[1].GetProductTypeCode() == \\\"708\\\")\\t{\\t\\t__Result = __Result + \\\"</br><br/>Підписуючи договір страхування Ви підтверджуєте, що ознайомилися та приймаєте умови:<br/>Загальних умов страхового продукту \\\" + products[0].GetProductTypeName() + \\\" 71.2.25, які розташовані за посиланням <a href='https://apifalcon.oranta.ua/files/3df1adc2-6d97-4904-bb6b-fbf3da2e127e'>https://apifalcon.oranta.ua/files/3df1adc2-6d97-4904-bb6b-fbf3da2e127e<a/>,\\\" + \\\"<br/>Оферти страхового продукту \\\" + products[1].GetProductTypeName() + \\\", яка розташована за посиланням <a href='https://oranta.ua/'>https://oranta.ua/<a/> та Загальних умов страхового продукту \\\" + products[1].GetProductTypeName() + \\\" __________, які розташовані за посиланням <a href='https://oranta.ua/'>https://oranta.ua/<a/> та даєте згоду на укладення договору.\\\";\\t}}__Result = __Result + \\\"</br><br/>З найкращими побажаннями<br/>ПАТ \\\\\\\"НАСК \\\\\\\"ОРАНТА\\\\\\\"\\\";__Result = __Result.Replace(\\\"786 ЕП ОСЦПВ 2025 для фізичних осіб\\\", \\\"Автоцивілка\\\").Replace(\\\"786 ЕП ОСЦПВ 2025 для юридичних осіб\\\", \\\"Автоцивілка\\\").Replace(\\\"219 Автопарасолька 2025\\\", \\\"Автопарасолька\\\").Replace(\\\"701 АБСОЛЮТНИЙ ЗАХИСТ\\\", \\\"Абсолютний захист\\\").Replace(\\\"724 ДЦВ online\\\", \\\"ДЦВ online\\\").Replace(\\\"708 Особиста безпека крос\\\", \\\"Особиста безпека\\\");\"}]}\n",
      "\n",
      "\n",
      "Document 7: \n",
      " {\"id\": 80, \"name\": \"EPOsagoandPersonalSafetyCoverLetter\", \"messages\": [{\"role\": \"user\", \"content\": \"Пояснення:\\nКод формує персоналізований лист для страхувальника з іменем, переліком продуктів та їх ідентифікаторів, індивідуальними пропозиціями з номерами полісів, кодами страхових продуктів, посиланням для підписання й оплати договору, а також додає інформаційні документи, дані про страховика та посередника. У завершенні листа вказуються умови страхування та виконується заміна технічних назв продуктів на зручні для сприйняття клієнтом.\"}, {\"role\": \"assistant\", \"content\": \"C# code:\\nList<Workflow.DTO.Models.Product> products = __InsuranceApplication.Products;int counter = 1;while (counter < products.Count()){\\tWorkflow.DTO.Models.Product product = products[counter];\\tstring productIdentifier = product.GetProductTypeName();\\t__Result = __Result + productIdentifier + \\\": {smscode}; \\\";\\tcounter = counter + 1;}__Result = \\\"Вітаємо, \\\" + __Product.Insurer.Face.Firstname + \\\" \\\" + __Product.Insurer.Face.Secondname;__Result = __Result + \\\"</br><br/>Направляємо Вам у вкладенні:</br><br/>Індивідуальну пропозицію № \\\" + __Product.PolisNumber + \\\" (ID заявки \\\" + __InsuranceApplication.id.ToString() + \\\") за продуктом \\\" + products[0].GetProductTypeName() + \\\", код страхового продукту \\\" + products[0].GetProductTypeCode() + \\\"<br/>Індивідуальну пропозицію № \\\" + products[1].PolisNumber + \\\" (ID заявки \\\" + __InsuranceApplication.id.ToString() + \\\") за продуктом \\\" + products[1].GetProductTypeName() + \\\", код страхового продукту \\\" + products[1].GetProductTypeCode() + \\\".</br><br/>Для подальшого укладання договору страхування перейдіть за посиланням \\\" + __Context.GetSetting(\\\"PaymentURL\\\") + __InsuranceApplication.id.ToString() + \\\"-\\\" + __InsuranceApplication.gid.ToString().Substring(0, __InsuranceApplication.gid.ToString().IndexOf(\\\"-\\\")) + \\\", підпишіть договір, укладений відповідно до страхового продукту:</br><br/>\\\" + products[0].GetProductTypeName() + \\\" разовим ідентифікатором \\\" + \\\": {smscode}; \\\" + \\\"<br/>\\\" + products[1].GetProductTypeName() + \\\", разовим ідентифікатором\\\" + \\\": {smscode} \\\" + \\\", та оплатіть договір.</br><br/>З боку НАСК \\\\\\\"ОРАНТА\\\\\\\" індивідуальну пропозицію підписано кваліфікованим електронним підписом уповноваженої особи НАСК \\\\\\\"ОРАНТА\\\\\\\".<br/>На виконання вимог ст.86-88 Закону України \\\\\\\"Про страхування\\\\\\\" надсилаємо для ознайомлення до укладення договору страхування наступні документи:\\\" + \\\"</br><br/>Інформаційний документ про стандартний страховий продукт \\\" + products[0].GetProductTypeName() + \\\", який знаходиться за наступним посиланням: <a href='https://apifalcon.oranta.ua/files/9638faef-10ca-46f1-bf43-8f555dd91a5d'>https://apifalcon.oranta.ua/files/9638faef-10ca-46f1-bf43-8f555dd91a5d<a/>\\\" + \\\"<br/>Інформаційний документ про стандартний страховий продукт \\\" + products[1].GetProductTypeName() + \\\", який знаходиться за наступним посиланням: <a href='https://oranta.ua'>https://oranta.ua<a/>\\\";__Result = __Result + \\\"</br><br/>Інформація про страховика, яка знаходиться за наступним посиланням: <a href='https://oranta.ua/info/services-and-insurer/'>https://oranta.ua/info/services-and-insurer/<a/>\\\" + \\\"</br><br/>Інформація про страхового посередника, яка знаходиться за наступним посиланням: \\\" + AgentCoverLetter;__Result = __Result + \\\"</br><br/>Підписуючи договір страхування Ви підтверджуєте, що ознайомилися та приймаєте умови:<br/>Загальних умов страхового продукту \\\" + products[0].GetProductTypeName() + \\\" 71.2.25, які розташовані за посиланням <a href='https://apifalcon.oranta.ua/files/3df1adc2-6d97-4904-bb6b-fbf3da2e127e'>https://apifalcon.oranta.ua/files/3df1adc2-6d97-4904-bb6b-fbf3da2e127e<a/>,\\\" + \\\"<br/>Оферти страхового продукту \\\" + products[1].GetProductTypeName() + \\\", яка розташована за посиланням <a href='https://oranta.ua'>https://oranta.ua<a/> та Загальних умов страхового продукту \\\" + products[1].GetProductTypeName() + \\\" ________, які розташовані за посиланням <a href='https://oranta.ua'>https://oranta.ua<a/> та даєте згоду на укладення договору.\\\";__Result = __Result + \\\"</br><br/>З найкращими побажаннями<br/>ПАТ \\\\\\\"НАСК \\\\\\\"ОРАНТА\\\\\\\"\\\";__Result = __Result.Replace(\\\"786 ЕП ОСЦПВ 2025 для фізичних осіб\\\", \\\"Автоцивілка\\\").Replace(\\\"708 Особиста безпека крос\\\", \\\"Особиста безпека\\\");\"}]}\n",
      "\n",
      "\n",
      "Document 8: \n",
      " {\"id\": 191, \"name\": \"219LetterSubject\", \"messages\": [{\"role\": \"user\", \"content\": \"Пояснення:\\nnan\"}, {\"role\": \"assistant\", \"content\": \"C# code:\\n__Result = \\\"Договір страхування \\\\\\\"Автопарасолька\\\\\\\" номер \\\" + __Product.PolisNumber;\"}]}\n",
      "\n",
      "\n",
      "Document 9: \n",
      " {\"id\": 697, \"name\": \"709LetterSubject\", \"messages\": [{\"role\": \"user\", \"content\": \"Пояснення:\\nnan\"}, {\"role\": \"assistant\", \"content\": \"C# code:\\n__Result = \\\"Договір страхування \\\\\\\"Рідна квартира\\\\\\\" номер \\\" + __Product.PolisNumber;\"}]}\n",
      "\n",
      "\n",
      "Document 10: \n",
      " {\"id\": 167, \"name\": \"786CoverLetterStandard\", \"messages\": [{\"role\": \"user\", \"content\": \"Пояснення:\\nnan\"}, {\"role\": \"assistant\", \"content\": \"C# code:\\nList<Workflow.DTO.Models.Product> products = __InsuranceApplication.Products;__Result = \\\"Вітаємо, \\\" + __Product.Insurer.Face.Firstname + \\\" \\\" + __Product.Insurer.Face.Secondname + \\\"</br><br/>Направляємо Вам у вкладенні Індивідуальну пропозицію за продуктом \\\" + products[0].GetProductTypeName() + \\\", код страхового продукту \\\" + __Product.GetProductTypeCode() + \\\", № \\\" + __InsuranceApplication.id.ToString() + \\\".</br><br/>Для подальшого укладання договору страхування перейдіть за посиланням \\\" + __Context.GetSetting(\\\"PaymentURL\\\") + __InsuranceApplication.id.ToString() + \\\"-\\\" + __InsuranceApplication.gid.ToString().Substring(0, __InsuranceApplication.gid.ToString().IndexOf(\\\"-\\\")) + \\\", підпишіть договір, укладений відповідно до страхового продукту разовим ідентифікатором \\\" + products[0].GetProductTypeName() + \\\": {smscode}; \\\";int counter = 1;while (counter < products.Count()){\\tWorkflow.DTO.Models.Product product = products[counter];\\tstring productIdentifier = product.GetProductTypeName();\\t__Result = __Result + productIdentifier;\\tcounter = counter + 1;}__Result = __Result + \\\" та оплатіть договір.</br><br/>З боку НАСК \\\\\\\"ОРАНТА\\\\\\\" індивідуальну пропозицію підписано кваліфікованим електронним підписом уповноваженої особи НАСК \\\\\\\"ОРАНТА\\\\\\\".<br/>На виконання вимог ст.86-88 Закону України \\\\\\\"Про страхування\\\\\\\" надсилаємо для ознайомлення до укладення договору страхування наступні документи:\\\" + \\\"</br><br/>Інформаційний документ про страховий продукт, який знаходиться за наступним посиланням: <a href='https://apifalcon.oranta.ua/files/e9365c22-b61e-457e-bc3e-b0e9339cb390'>https://apifalcon.oranta.ua/files/e9365c22-b61e-457e-bc3e-b0e9339cb390<a/>\\\" + \\\"</br><br/>Інформація про страховика, яка знаходиться за наступним посиланням: <a href='https://oranta.ua/info/services-and-insurer/'>https://oranta.ua/info/services-and-insurer/<a/>\\\" + \\\"</br><br/>Інформація про страхового посередника, яка знаходиться за наступним посиланням: \\\" + AgentCoverLetter + \\\"</br><br/>Підписуючи договір страхування Ви підтверджуєте, що ознайомилися та приймаєте умови №  71.1.24 від 30 грудня 2024 р. страхового продукту \\\" + __Product.GetProductTypeName().Replace(__Product.GetProductTypeName(), \\\"Автоцивілка\\\") + \\\", які розташовані за посиланням <a href='https://apifalcon.oranta.ua/files/e9365c22-b61e-457e-bc3e-b0e9339cb390'>https://apifalcon.oranta.ua/files/e9365c22-b61e-457e-bc3e-b0e9339cb390<a/> та даєте згоду на укладення договору.\\\" + \\\"</br><br/>З найкращими побажаннями</br>ПАТ \\\\\\\"НАСК \\\\\\\"ОРАНТА\\\\\\\"\\\";\"}]}\n",
      "\n",
      "\n",
      "Document 11: \n",
      " {\"id\": 86, \"name\": \"724CoverLetter\", \"messages\": [{\"role\": \"user\", \"content\": \"Пояснення:\\nКод формує персоналізоване повідомлення для страхувальника з ім’ям, переліком страхових продуктів та відповідних разових ідентифікаторів, номерами полісів, кодами продуктів, посиланням для підписання й оплати договору, а також включає інформаційні документи, дані про страховика й страхового посередника. У фіналі додається згода на умови страхування, побажання від компанії та виконується заміна технічних назв продуктів на зручніші для сприйняття.\"}, {\"role\": \"assistant\", \"content\": \"C# code:\\n__Result = \\\"Вітаємо, \\\" + __Product.Insurer.Face.Firstname + \\\" \\\" + __Product.Insurer.Face.Secondname + \\\"</br><br/>Направляємо Вам у вкладенні Індивідуальну пропозицію № \\\" + __Product.PolisNumber + \\\" (ID заявки \\\" + __InsuranceApplication.id.ToString() + \\\") за продуктом ДЦВ online, код страхового продукту \\\" + __Product.GetProductTypeCode() + \\\"</br><br/>Для подальшого укладання договору страхування перейдіть за посиланням \\\" + __Context.GetSetting(\\\"PaymentURL\\\") + __InsuranceApplication.id.ToString() + \\\"-\\\" + __InsuranceApplication.gid.ToString().Substring(0, __InsuranceApplication.gid.ToString().IndexOf(\\\"-\\\")) + \\\", підпишіть договір, укладений відповідно до страхового продукту ДЦВ online разовим ідентифікатором: {smscode} та оплатіть договір.\\\" + \\\"</br><br/>З боку НАСК \\\\\\\"ОРАНТА\\\\\\\" індивідуальну пропозицію підписано кваліфікованим електронним підписом уповноваженої особи НАСК \\\\\\\"ОРАНТА\\\\\\\".<br/>На виконання вимог ст.86-88 Закону України \\\\\\\"Про страхування\\\\\\\" надсилаємо для ознайомлення до укладення договору страхування наступні документи:\\\" + \\\"</br><br/>Інформаційний документ про стандартний страховий продукт ДЦВ online, який знаходиться за наступним посиланням: <a href='https://apifalcon.oranta.ua/files/ed9c0c3c-a920-46f2-895d-b24d0148cf54'>https://apifalcon.oranta.ua/files/ed9c0c3c-a920-46f2-895d-b24d0148cf54<a/>\\\" + \\\"</br><br/>Інформація про страховика, яка знаходиться за наступним посиланням: <a href='https://oranta.ua/info/services-and-insurer/'>https://oranta.ua/info/services-and-insurer/<a/>\\\" + \\\"</br><br/>Інформація про страхового посередника, яка знаходиться за наступним посиланням: \\\" + AgentCoverLetter + \\\"</br><br/>Підписуючи договір страхування Ви підтверджуєте, що ознайомилися та приймаєте умови:</br><br/>Загальних умов страхового продукту \\\\\\\"ДЦВ online\\\\\\\" № 15.2.25 зі страхування цивільної відповідальності власників наземного транспорту, які розташовані за посиланням: <a href='https://apifalcon.oranta.ua/files/f0657d19-3025-4741-8094-b71235cc66a5'>https://apifalcon.oranta.ua/files/f0657d19-3025-4741-8094-b71235cc66a5<a/></br><br/>Пропозиції (Оферти) укласти Договір цивільної відповідальності власників наземного транспорту, страховий продукт \\\\\\\"ДЦВ online\\\\\\\" (код страхового продукту 724), яка розташована за посиланням: <a href='https://apifalcon.oranta.ua/files/f09d70a2-03ff-4276-a083-1334f4170e8a'>https://apifalcon.oranta.ua/files/f09d70a2-03ff-4276-a083-1334f4170e8a<a/> та даєте згоду на укладення договору.\\\" + \\\"</br><br/>Підписанням договору Страхувальник погоджується з отриманням переддоговірної інформації за наданими у цьому повідомленні посиланнями.\\\" + \\\"</br><br/>З найкращими побажаннями</br>ПАТ \\\\\\\"НАСК \\\\\\\"ОРАНТА\\\\\\\"\\\";\"}]}\n",
      "\n",
      "\n",
      "Document 12: \n",
      " {\"id\": 505, \"name\": \"731Subject\", \"messages\": [{\"role\": \"user\", \"content\": \"Пояснення:\\nnan\"}, {\"role\": \"assistant\", \"content\": \"C# code:\\n__Result = \\\"Договір страхування \\\\\\\"Надійне КАСКО\\\\\\\" номер \\\" + __Product.PolisNumber;\"}]}\n",
      "\n",
      "\n",
      "Document 13: \n",
      " {\"id\": 48, \"name\": \"219CoverLetter\", \"messages\": [{\"role\": \"user\", \"content\": \"Пояснення:\\nКод формує HTML-повідомлення з усією необхідною інформацією для підписання й оплати договору страхування за продуктом Автопарасолька для страхувальника, підставляючи його ім’я та прізвище, номер заявки, номер поліса, код продукту, посилання на оплату, а також список обов’язкових документів та посилань для ознайомлення згідно з Законом України \\\"Про страхування\\\".\"}, {\"role\": \"assistant\", \"content\": \"C# code:\\n__Result = \\\"Вітаємо, \\\" + __Product.Insurer.Face.Firstname + \\\" \\\" + __Product.Insurer.Face.Secondname + \\\"</br><br/>Направляємо Вам у вкладенні Індивідуальну пропозицію № \\\" + __Product.PolisNumber + \\\" (ID заявки \\\" + __InsuranceApplication.id.ToString() + \\\") за продуктом Автопарасолька, код страхового продукту \\\" + __Product.GetProductTypeCode() + \\\"</br><br/>Для подальшого укладання договору страхування перейдіть за посиланням \\\" + __Context.GetSetting(\\\"PaymentURL\\\") + __InsuranceApplication.id.ToString() + \\\"-\\\" + __InsuranceApplication.gid.ToString().Substring(0, __InsuranceApplication.gid.ToString().IndexOf(\\\"-\\\")) + \\\", підпишіть договір, укладений відповідно до страхового продукту Автопарасолька разовим ідентифікатором: {smscode} та оплатіть договір.\\\" + \\\"</br><br/>З боку НАСК \\\\\\\"ОРАНТА\\\\\\\" індивідуальну пропозицію підписано кваліфікованим електронним підписом уповноваженої особи НАСК \\\\\\\"ОРАНТА\\\\\\\".<br/>На виконання вимог ст.86-88 Закону України \\\\\\\"Про страхування\\\\\\\" надсилаємо для ознайомлення до укладення договору страхування наступні документи:\\\" + \\\"</br><br/>Інформаційний документ про стандартний страховий продукт Автопарасолька, який знаходиться за наступним посиланням: <a href='https://apifalcon.oranta.ua/files/ac1f0934-85de-4fa8-8e75-dccb5cf794d4'>https://apifalcon.oranta.ua/files/ac1f0934-85de-4fa8-8e75-dccb5cf794d4<a/>\\\" + \\\"</br><br/>Інформація про страховика, яка знаходиться за наступним посиланням: <a href='https://oranta.ua/info/services-and-insurer/'>https://oranta.ua/info/services-and-insurer/<a/>\\\" + \\\"</br><br/>Інформація про страхового посередника, яка знаходиться за наступним посиланням: \\\" + AgentCoverLetter + \\\"</br><br/>Підписуючи договір страхування Ви підтверджуєте, що ознайомилися та приймаєте умови:</br><br/>Загальних умов № 19.2.25 страхового продукту Автопарасолька, які розташовані за посиланням: <a href='https://apifalcon.oranta.ua/files/edd0de9e-edc8-4c08-9769-e427c1c7afc7'>https://apifalcon.oranta.ua/files/edd0de9e-edc8-4c08-9769-e427c1c7afc7<a/></br><br/>Пропозиції (Оферти) укласти договір, страхового продукту Автопарасолька (код страхового продукту 219), яка розташована за посиланням: <a href='https://apifalcon.oranta.ua/files/df2aa91c-2fbb-4789-a1d7-ec0349995615'>https://apifalcon.oranta.ua/files/df2aa91c-2fbb-4789-a1d7-ec0349995615<a/> та даєте згоду на укладення договору.\\\" + \\\"</br><br/>З найкращими побажаннями</br>ПАТ \\\\\\\"НАСК \\\\\\\"ОРАНТА\\\\\\\"\\\";\"}]}\n",
      "\n",
      "\n",
      "Document 14: \n",
      " {\"id\": 707, \"name\": \"710LetterSubject\", \"messages\": [{\"role\": \"user\", \"content\": \"Пояснення:\\nnan\"}, {\"role\": \"assistant\", \"content\": \"C# code:\\n__Result = \\\"Договір страхування \\\\\\\"У відпустку з Орантою\\\\\\\" номер \\\" + __Product.PolisNumber;\"}]}\n",
      "\n",
      "\n",
      "Document 15: \n",
      " {\"id\": 152, \"name\": \"721CoverLetter\", \"messages\": [{\"role\": \"user\", \"content\": \"Пояснення:\\nnan\"}, {\"role\": \"assistant\", \"content\": \"C# code:\\n__Result = \\\"Вітаємо, \\\" + __Product.Insurer.Face.Firstname + \\\" \\\" + __Product.Insurer.Face.Secondname + \\\"</br><br/>Направляємо Вам у вкладенні Індивідуальну пропозицію № \\\" + __Product.PolisNumber + \\\" (ID заявки \\\" + __InsuranceApplication.id.ToString() + \\\") за продуктом КАЛІБР, код страхового продукту \\\" + __Product.GetProductTypeCode() + \\\"</br><br/>Для подальшого укладання договору страхування перейдіть за посиланням \\\" + __Context.GetSetting(\\\"PaymentURL\\\") + __InsuranceApplication.id.ToString() + \\\"-\\\" + __InsuranceApplication.gid.ToString().Substring(0, __InsuranceApplication.gid.ToString().IndexOf(\\\"-\\\")) + \\\", підпишіть договір, укладений відповідно до страхового продукту КАЛІБР разовим ідентифікатором: {smscode} та оплатіть договір.\\\" + \\\"</br><br/>З боку НАСК \\\\\\\"ОРАНТА\\\\\\\" індивідуальну пропозицію підписано кваліфікованим електронним підписом уповноваженої особи НАСК \\\\\\\"ОРАНТА\\\\\\\".<br/>На виконання вимог ст.86-88 Закону України \\\\\\\"Про страхування\\\\\\\" надсилаємо для ознайомлення до укладення договору страхування наступні документи:\\\" + \\\"</br><br/>Інформаційний документ про стандартний страховий продукт КАЛІБР, який знаходиться за наступним посиланням: <a href='https://apifalcon.oranta.ua/files/24c4f26e-0442-44ae-9403-493119e1c609'>https://apifalcon.oranta.ua/files/24c4f26e-0442-44ae-9403-493119e1c609<a/>\\\" + \\\"</br><br/>Інформація про страховика, яка знаходиться за наступним посиланням: <a href='https://oranta.ua/info/services-and-insurer/'>https://oranta.ua/info/services-and-insurer/<a/>\\\" + \\\"</br><br/>Інформація про страхового посередника, яка знаходиться за наступним посиланням: \\\" + AgentCoverLetter + \\\"</br><br/>Підписуючи договір страхування Ви підтверджуєте, що ознайомилися та приймаєте умови:</br><br/>Загальних умов страхового продукту КАЛІБР № 1.1.24 зі страхування відповідальності перед третіми особами власника (законного володільця) зброї, які розташовані за посиланням: <a href='https://apifalcon.oranta.ua/files/14a3f9f1-a4aa-4cb1-a46e-c6be4aa2c0f1'>https://apifalcon.oranta.ua/files/14a3f9f1-a4aa-4cb1-a46e-c6be4aa2c0f1<a/></br><br/>Пропозиція укласти Договір відповідальності перед третіми особами власника (законного володільця) зброї, страховий продукт КАЛІБР (код страхового продукту 721), яка розташована за посиланням: <a href='https://apifalcon.oranta.ua/files/736cb4d2-1653-45ab-b2c4-21a8917eed13'>https://apifalcon.oranta.ua/files/736cb4d2-1653-45ab-b2c4-21a8917eed13<a/> та даєте згоду на укладення договору.\\\" + \\\"</br><br/>З найкращими побажаннями</br>ПАТ \\\\\\\"НАСК \\\\\\\"ОРАНТА\\\\\\\"\\\";\"}]}\n",
      "\n",
      "\n",
      "Document 16: \n",
      " {\"id\": 163, \"name\": \"EPOsagoCoverLetterStandard\", \"messages\": [{\"role\": \"user\", \"content\": \"Пояснення:\\nnan\"}, {\"role\": \"assistant\", \"content\": \"C# code:\\nList<Workflow.DTO.Models.Product> products = __InsuranceApplication.Products;int counter = 1;while (counter < products.Count()){\\tWorkflow.DTO.Models.Product product = products[counter];\\tstring productIdentifier = product.GetProductTypeName();\\t__Result = __Result + productIdentifier + \\\": {smscode}; \\\";\\tcounter = counter + 1;}__Result = \\\"Вітаємо, \\\" + __Product.Insurer.Face.Firstname + \\\" \\\" + __Product.Insurer.Face.Secondname;if (products.Count() == 1){\\t__Result = __Result + \\\"<br/>Направляємо Вам у вкладенні Індивідуальну пропозицію № \\\" + __Product.PolisNumber + \\\" (ID заявки \\\" + __InsuranceApplication.id.ToString() + \\\") за продуктом \\\" + products[0].GetProductTypeName() + \\\", код страхового продукту \\\" + products[0].GetProductTypeCode() + \\\".<br/>Для подальшого укладання договору страхування перейдіть за посиланням \\\" + __Context.GetSetting(\\\"PaymentURL\\\") + __InsuranceApplication.id.ToString() + \\\"-\\\" + __InsuranceApplication.gid.ToString().Substring(0, __InsuranceApplication.gid.ToString().IndexOf(\\\"-\\\")) + \\\", підпишіть договір, укладений відповідно до страхового продукту \\\" + products[0].GetProductTypeName() + \\\" разовим ідентифікатором \\\" + products[0].GetProductTypeName() + \\\": {smscode} \\\" + \\\", та оплатіть договір.</br><br/>З боку НАСК \\\\\\\"ОРАНТА\\\\\\\" індивідуальну пропозицію підписано кваліфікованим електронним підписом уповноваженої особи НАСК \\\\\\\"ОРАНТА\\\\\\\".<br/>На виконання вимог ст.86-88 Закону України \\\\\\\"Про страхування\\\\\\\" надсилаємо для ознайомлення до укладення договору страхування наступні документи:\\\" + \\\"</br><br/>Інформаційний документ про стандартний страховий продукт \\\" + products[0].GetProductTypeName() + \\\", який знаходиться за наступним посиланням: <a href='https://apifalcon.oranta.ua/files/9638faef-10ca-46f1-bf43-8f555dd91a5d'>https://apifalcon.oranta.ua/files/9638faef-10ca-46f1-bf43-8f555dd91a5d<a/>\\\";}if (products.Count() == 2){\\tif (products[1].GetProductTypeCode() == \\\"219\\\")\\t{\\t\\t__Result = __Result + \\\"</br><br/>Направляємо Вам у вкладенні:</br><br/>Індивідуальну пропозицію № \\\" + __Product.PolisNumber + \\\" (ID заявки \\\" + __InsuranceApplication.id.ToString() + \\\") за продуктом \\\" + products[0].GetProductTypeName() + \\\", код страхового продукту \\\" + products[0].GetProductTypeCode() + \\\"<br/>Індивідуальну пропозицію № \\\" + products[1].PolisNumber + \\\" (ID заявки \\\" + __InsuranceApplication.id.ToString() + \\\") за продуктом \\\" + products[1].GetProductTypeName() + \\\", код страхового продукту \\\" + products[1].GetProductTypeCode() + \\\".</br><br/>Для подальшого укладання договору страхування перейдіть за посиланням \\\" + __Context.GetSetting(\\\"PaymentURL\\\") + __InsuranceApplication.id.ToString() + \\\"-\\\" + __InsuranceApplication.gid.ToString().Substring(0, __InsuranceApplication.gid.ToString().IndexOf(\\\"-\\\")) + \\\", підпишіть договір, укладений відповідно до страхового продукту:</br><br/>\\\" + products[0].GetProductTypeName() + \\\" разовим ідентифікатором \\\" + \\\": {smscode}; \\\" + \\\"<br/>\\\" + products[1].GetProductTypeName() + \\\" разовим ідентифікатором\\\" + \\\": {smscode} \\\" + \\\", та оплатіть договір.</br><br/>З боку НАСК \\\\\\\"ОРАНТА\\\\\\\" індивідуальну пропозицію підписано кваліфікованим електронним підписом уповноваженої особи НАСК \\\\\\\"ОРАНТА\\\\\\\".<br/>На виконання вимог ст.86-88 Закону України \\\\\\\"Про страхування\\\\\\\" надсилаємо для ознайомлення до укладення договору страхування наступні документи:\\\" + \\\"</br><br/>Інформаційний документ про стандартний страховий продукт \\\" + products[0].GetProductTypeName() + \\\", який знаходиться за наступним посиланням: <a href='https://apifalcon.oranta.ua/files/9638faef-10ca-46f1-bf43-8f555dd91a5d'>https://apifalcon.oranta.ua/files/9638faef-10ca-46f1-bf43-8f555dd91a5d<a/>\\\" + \\\"<br/>Інформаційний документ про стандартний страховий продукт \\\" + products[1].GetProductTypeName() + \\\", який знаходиться за наступним посиланням: <a href='https://apifalcon.oranta.ua/files/ac1f0934-85de-4fa8-8e75-dccb5cf794d4'>https://apifalcon.oranta.ua/files/ac1f0934-85de-4fa8-8e75-dccb5cf794d4<a/>\\\";\\t}\\tif (products[1].GetProductTypeCode() == \\\"708\\\")\\t{\\t\\t__Result = __Result + \\\"</br><br/>Направляємо Вам у вкладенні:</br><br/>Індивідуальну пропозицію № \\\" + __Product.PolisNumber + \\\" (ID заявки \\\" + __InsuranceApplication.id.ToString() + \\\") за продуктом \\\" + products[0].GetProductTypeName() + \\\", код страхового продукту \\\" + products[0].GetProductTypeCode() + \\\"<br/>Індивідуальну пропозицію № \\\" + products[1].PolisNumber + \\\" (ID заявки \\\" + __InsuranceApplication.id.ToString() + \\\") за продуктом \\\" + products[1].GetProductTypeName() + \\\", код страхового продукту \\\" + products[1].GetProductTypeCode() + \\\".</br><br/>Для подальшого укладання договору страхування перейдіть за посиланням \\\" + __Context.GetSetting(\\\"PaymentURL\\\") + __InsuranceApplication.id.ToString() + \\\"-\\\" + __InsuranceApplication.gid.ToString().Substring(0, __InsuranceApplication.gid.ToString().IndexOf(\\\"-\\\")) + \\\", підпишіть договір, укладений відповідно до страхового продукту:</br><br/>\\\" + products[0].GetProductTypeName() + \\\" разовим ідентифікатором \\\" + \\\": {smscode}; \\\" + \\\"<br/>\\\" + products[1].GetProductTypeName() + \\\" разовим ідентифікатором\\\" + \\\": {smscode} \\\" + \\\", та оплатіть договір.</br><br/>З боку НАСК \\\\\\\"ОРАНТА\\\\\\\" індивідуальну пропозицію підписано кваліфікованим електронним підписом уповноваженої особи НАСК \\\\\\\"ОРАНТА\\\\\\\".<br/>На виконання вимог ст.86-88 Закону України \\\\\\\"Про страхування\\\\\\\" надсилаємо для ознайомлення до укладення договору страхування наступні документи:\\\" + \\\"</br><br/>Інформаційний документ про стандартний страховий продукт \\\" + products[0].GetProductTypeName() + \\\", який знаходиться за наступним посиланням: <a href='https://apifalcon.oranta.ua/files/9638faef-10ca-46f1-bf43-8f555dd91a5d'>https://apifalcon.oranta.ua/files/9638faef-10ca-46f1-bf43-8f555dd91a5d<a/>\\\" + \\\"<br/>Інформаційний документ про стандартний страховий продукт \\\" + products[1].GetProductTypeName() + \\\", який знаходиться за наступним посиланням: <a href='https://oranta.ua/'>https://oranta.ua/<a/>\\\";\\t}}if (products.Count() == 3){\\t__Result = __Result + \\\"</br><br/>Направляємо Вам у вкладенні:</br><br/>Індивідуальну пропозицію № \\\" + __Product.PolisNumber + \\\" (ID заявки \\\" + __InsuranceApplication.id.ToString() + \\\") за продуктом \\\" + products[0].GetProductTypeName() + \\\", код страхового продукту \\\" + products[0].GetProductTypeCode() + \\\"<br/>Індивідуальну пропозицію № \\\" + products[1].PolisNumber + \\\" (ID заявки \\\" + __InsuranceApplication.id.ToString() + \\\") за продуктом \\\" + products[1].GetProductTypeName() + \\\", код страхового продукту \\\" + products[1].GetProductTypeCode() + \\\"<br/>Індивідуальну пропозицію № \\\" + products[2].PolisNumber + \\\" (ID заявки \\\" + __InsuranceApplication.id.ToString() + \\\") за продуктом \\\" + products[2].GetProductTypeName() + \\\", код страхового продукту \\\" + products[2].GetProductTypeCode() + \\\".</br><br/>Для подальшого укладання договору страхування перейдіть за посиланням \\\" + __Context.GetSetting(\\\"PaymentURL\\\") + __InsuranceApplication.id.ToString() + \\\"-\\\" + __InsuranceApplication.gid.ToString().Substring(0, __InsuranceApplication.gid.ToString().IndexOf(\\\"-\\\")) + \\\", підпишіть договір, укладений відповідно до страхового продукту:</br><br/>\\\" + products[0].GetProductTypeName() + \\\" разовим ідентифікатором \\\" + \\\": {smscode}; \\\" + \\\"<br/>\\\" + products[1].GetProductTypeName() + \\\" разовим ідентифікатором\\\" + \\\": {smscode} \\\" + \\\"<br/>\\\" + products[2].GetProductTypeName() + \\\" разовим ідентифікатором\\\" + \\\": {smscode} \\\" + \\\", та оплатіть договір.</br><br/>З боку НАСК \\\\\\\"ОРАНТА\\\\\\\" індивідуальну пропозицію підписано кваліфікованим електронним підписом уповноваженої особи НАСК \\\\\\\"ОРАНТА\\\\\\\".<br/>На виконання вимог ст.86-88 Закону України \\\\\\\"Про страхування\\\\\\\" надсилаємо для ознайомлення до укладення договору страхування наступні документи:\\\" + \\\"</br><br/>Інформаційний документ про стандартний страховий продукт \\\" + products[0].GetProductTypeName() + \\\", який знаходиться за наступним посиланням: <a href='https://apifalcon.oranta.ua/files/9638faef-10ca-46f1-bf43-8f555dd91a5d'>https://apifalcon.oranta.ua/files/9638faef-10ca-46f1-bf43-8f555dd91a5d<a/>\\\";\\tif (products[1].GetProductTypeCode() == \\\"219\\\")\\t{\\t\\t__Result = __Result + \\\"<br/>Інформаційний документ про стандартний страховий продукт \\\" + products[1].GetProductTypeName() + \\\", який знаходиться за наступним посиланням: <a href='https://apifalcon.oranta.ua/files/ac1f0934-85de-4fa8-8e75-dccb5cf794d4'>https://apifalcon.oranta.ua/files/ac1f0934-85de-4fa8-8e75-dccb5cf794d4<a/>\\\";\\t}\\telse\\t{\\t\\t\\tif (products[1].GetProductTypeCode() == \\\"708\\\")\\t\\t{\\t\\t\\t__Result = __Result + \\\"<br/>Інформаційний документ про стандартний страховий продукт \\\" + products[1].GetProductTypeName() + \\\", який знаходиться за наступним посиланням: <a href='https://oranta.ua/'>https://oranta.ua/<a/>\\\";\\t\\t}\\t}\\tif (products[2].GetProductTypeCode() == \\\"219\\\")\\t{\\t\\t__Result = __Result + \\\"<br/>Інформаційний документ про стандартний страховий продукт \\\" + products[2].GetProductTypeName() + \\\", який знаходиться за наступним посиланням: <a href='https://apifalcon.oranta.ua/files/ac1f0934-85de-4fa8-8e75-dccb5cf794d4'>https://apifalcon.oranta.ua/files/ac1f0934-85de-4fa8-8e75-dccb5cf794d4<a/>\\\";\\t}\\telse\\t{\\t\\t\\tif (products[2].GetProductTypeCode() == \\\"708\\\")\\t\\t{\\t\\t\\t__Result = __Result + \\\"<br/>Інформаційний документ про стандартний страховий продукт \\\" + products[2].GetProductTypeName() + \\\", який знаходиться за наступним посиланням: <a href='https://oranta.ua/'>https://oranta.ua/<a/>\\\";\\t\\t}\\t}}__Result = __Result + \\\"</br><br/>Інформація про страховика, яка знаходиться за наступним посиланням: <a href='https://oranta.ua/info/services-and-insurer/'>https://oranta.ua/info/services-and-insurer/<a/>\\\" + \\\"</br><br/>Інформація про страхового посередника, яка знаходиться за наступним посиланням: \\\" + AgentCoverLetter;__Result = __Result + \\\"</br><br/>Підписуючи договір страхування Ви підтверджуєте, що ознайомилися та приймаєте умови Загальних умов страхового продукту \\\" + products[0].GetProductTypeName() + \\\" 71.2.25, які розташовані за посиланням <a href='https://apifalcon.oranta.ua/files/3df1adc2-6d97-4904-bb6b-fbf3da2e127e'>https://apifalcon.oranta.ua/files/3df1adc2-6d97-4904-bb6b-fbf3da2e127e<a/> та даєте згоду на укладення договору.\\\";if (products.Count() == 2){\\tif (products[1].GetProductTypeCode() == \\\"219\\\")\\t{\\t\\t__Result = __Result + \\\"<br/>Оферти страхового продукту \\\" + products[1].GetProductTypeName() + \\\", яка розташована за посиланням <a href='https://apifalcon.oranta.ua/files/df2aa91c-2fbb-4789-a1d7-ec0349995615'>https://apifalcon.oranta.ua/files/df2aa91c-2fbb-4789-a1d7-ec0349995615<a/> та Загальних умов страхового продукту \\\" + products[1].GetProductTypeName() + \\\" 19.2.25, які розташовані за посиланням <a href='https://apifalcon.oranta.ua/files/edd0de9e-edc8-4c08-9769-e427c1c7afc7'>https://apifalcon.oranta.ua/files/edd0de9e-edc8-4c08-9769-e427c1c7afc7<a/> та даєте згоду на укладення договору.\\\";\\t}\\tif (products[1].GetProductTypeCode() == \\\"708\\\")\\t{\\t\\t__Result = __Result + \\\"<br/>Оферти страхового продукту \\\" + products[1].GetProductTypeName() + \\\", яка розташована за посиланням <a href='https://oranta.ua/'>https://oranta.ua/<a/> та Загальних умов страхового продукту \\\" + products[1].GetProductTypeName() + \\\" __________, які розташовані за посиланням <a href='https://oranta.ua/'>https://oranta.ua/<a/> та даєте згоду на укладення договору.\\\";\\t}}if (products.Count() == 3){\\tif (products[1].GetProductTypeCode() == \\\"219\\\")\\t{\\t\\t__Result = __Result + \\\"<br/>Оферти страхового продукту \\\" + products[1].GetProductTypeName() + \\\", яка розташована за посиланням <a href='https://apifalcon.oranta.ua/files/df2aa91c-2fbb-4789-a1d7-ec0349995615'>https://apifalcon.oranta.ua/files/df2aa91c-2fbb-4789-a1d7-ec0349995615<a/> та Загальних умов страхового продукту \\\" + products[1].GetProductTypeName() + \\\" 19.2.25, які розташовані за посиланням <a href='https://apifalcon.oranta.ua/files/edd0de9e-edc8-4c08-9769-e427c1c7afc7'>https://apifalcon.oranta.ua/files/edd0de9e-edc8-4c08-9769-e427c1c7afc7<a/> та даєте згоду на укладення договору.\\\";\\t}\\telse\\t{\\t\\t\\tif (products[1].GetProductTypeCode() == \\\"708\\\")\\t\\t{\\t\\t\\t__Result = __Result + \\\"<br/>Оферти страхового продукту \\\" + products[1].GetProductTypeName() + \\\", яка розташована за посиланням <a href='https://oranta.ua/'>https://oranta.ua/<a/> та Загальних умов страхового продукту \\\" + products[1].GetProductTypeName() + \\\" __________, які розташовані за посиланням <a href='https://oranta.ua/'>https://oranta.ua/<a/> та даєте згоду на укладення договору.\\\";\\t\\t}\\t}\\tif (products[2].GetProductTypeCode() == \\\"219\\\")\\t{\\t\\t__Result = __Result + \\\"<br/>Оферти страхового продукту \\\" + products[2].GetProductTypeName() + \\\", яка розташована за посиланням <a href='https://apifalcon.oranta.ua/files/df2aa91c-2fbb-4789-a1d7-ec0349995615'>https://apifalcon.oranta.ua/files/df2aa91c-2fbb-4789-a1d7-ec0349995615<a/> та Загальних умов страхового продукту \\\" + products[2].GetProductTypeName() + \\\" 19.2.25, які розташовані за посиланням <a href='https://apifalcon.oranta.ua/files/edd0de9e-edc8-4c08-9769-e427c1c7afc7'>https://apifalcon.oranta.ua/files/edd0de9e-edc8-4c08-9769-e427c1c7afc7<a/> та даєте згоду на укладення договору.\\\";\\t}\\telse\\t{\\t\\t\\tif (products[2].GetProductTypeCode() == \\\"708\\\")\\t\\t{\\t\\t\\t__Result = __Result + \\\"<br/>Оферти страхового продукту \\\" + products[2].GetProductTypeName() + \\\", яка розташована за посиланням <a href='https://oranta.ua/'>https://oranta.ua/<a/> та Загальних умов страхового продукту \\\" + products[2].GetProductTypeName() + \\\" __________, які розташовані за посиланням <a href='https://oranta.ua/'>https://oranta.ua/<a/> та даєте згоду на укладення договору.\\\";\\t\\t}\\t}}__Result = __Result + \\\"</br><br/>З найкращими побажаннями<br/>ПАТ \\\\\\\"НАСК \\\\\\\"ОРАНТА\\\\\\\"\\\";__Result = __Result.Replace(\\\"786 ЕП ОСЦПВ 2025 для фізичних осіб\\\", \\\"Автоцивілка\\\").Replace(\\\"786 ЕП ОСЦПВ 2025 для юридичних осіб\\\", \\\"Автоцивілка\\\").Replace(\\\"219 Автопарасолька 2025\\\", \\\"Автопарасолька\\\").Replace(\\\"701 АБСОЛЮТНИЙ ЗАХИСТ\\\", \\\"Абсолютний захист\\\").Replace(\\\"724 ДЦВ online\\\", \\\"ДЦВ online\\\").Replace(\\\"708 Особиста безпека крос\\\", \\\"Особиста безпека\\\");\"}]}\n",
      "\n",
      "\n",
      "Document 17: \n",
      " {\"id\": 722, \"name\": \"702MiniCasko\", \"messages\": [{\"role\": \"user\", \"content\": \"Пояснення:\\nnan\"}, {\"role\": \"assistant\", \"content\": \"C# code:\\n__Result = \\\"Договір страхування МІНІ КАСКО номер \\\" + __Product.PolisNumber;\"}]}\n",
      "\n",
      "\n",
      "Document 18: \n",
      " {\"id\": 634, \"name\": \"SMS722\", \"messages\": [{\"role\": \"user\", \"content\": \"Пояснення:\\nnan\"}, {\"role\": \"assistant\", \"content\": \"C# code:\\n__Result = \\\"Разовий ідентифікатор для підписання договору Максимальний захист: {smscode}, посилання для оплати \\\" + __Context.GetSetting(\\\"PaymentURL\\\") + __InsuranceApplication.id.ToString() + \\\"-\\\" + __InsuranceApplication.gid.ToString().Substring(0, __InsuranceApplication.gid.ToString().IndexOf(\\\"-\\\"));\"}]}\n",
      "\n",
      "\n",
      "Document 19: \n",
      " {\"id\": 504, \"name\": \"SMS731\", \"messages\": [{\"role\": \"user\", \"content\": \"Пояснення:\\nnan\"}, {\"role\": \"assistant\", \"content\": \"C# code:\\n__Result = \\\"Разовий ідентифікатор для підписання договору \\\\\\\"Надійне КАСКО\\\\\\\": {smscode}, посилання для оплати \\\" + __Context.GetSetting(\\\"PaymentURL\\\") + __InsuranceApplication.id.ToString() + \\\"-\\\" + __InsuranceApplication.gid.ToString().Substring(0, __InsuranceApplication.gid.ToString().IndexOf(\\\"-\\\"));\"}]}\n",
      "\n",
      "\n",
      "Document 20: \n",
      " {\"id\": 653, \"name\": \"SMS721\", \"messages\": [{\"role\": \"user\", \"content\": \"Пояснення:\\nnan\"}, {\"role\": \"assistant\", \"content\": \"C# code:\\n__Result = \\\"Разовий ідентифікатор для підписання договору \\\\\\\"Калібр\\\\\\\": {smscode}, посилання для оплати \\\" + __Context.GetSetting(\\\"PaymentURL\\\") + __InsuranceApplication.id.ToString() + \\\"-\\\" + __InsuranceApplication.gid.ToString().Substring(0, __InsuranceApplication.gid.ToString().IndexOf(\\\"-\\\"));\"}]}\n",
      "\n"
     ]
    }
   ],
   "execution_count": 67
  }
 ],
 "metadata": {
  "kernelspec": {
   "display_name": "Python 3",
   "language": "python",
   "name": "python3"
  },
  "language_info": {
   "codemirror_mode": {
    "name": "ipython",
    "version": 2
   },
   "file_extension": ".py",
   "mimetype": "text/x-python",
   "name": "python",
   "nbconvert_exporter": "python",
   "pygments_lexer": "ipython2",
   "version": "2.7.6"
  }
 },
 "nbformat": 4,
 "nbformat_minor": 5
}
