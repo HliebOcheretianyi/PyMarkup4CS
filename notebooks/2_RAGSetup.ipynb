{
 "cells": [
  {
   "cell_type": "code",
   "id": "initial_id",
   "metadata": {
    "collapsed": true,
    "ExecuteTime": {
     "end_time": "2025-08-17T21:24:33.652965Z",
     "start_time": "2025-08-17T21:24:15.522632Z"
    }
   },
   "source": [
    "import pandas as pd\n",
    "import numpy as np\n",
    "\n",
    "import os\n",
    "\n",
    "\n",
    "from paths import DATA_FOLDER, PROCESSED_DATA_FOLDER, MODELS_FOLDER, ML_FOLDER\n",
    "from BasicClasses import *\n",
    "\n",
    "from sentence_transformers import SentenceTransformer\n",
    "\n",
    "import torch\n",
    "\n",
    "from FlagEmbedding import FlagReranker\n",
    "import chromadb\n"
   ],
   "outputs": [],
   "execution_count": 1
  },
  {
   "metadata": {
    "ExecuteTime": {
     "end_time": "2025-08-17T21:24:33.668969Z",
     "start_time": "2025-08-17T21:24:33.658967Z"
    }
   },
   "cell_type": "code",
   "source": [
    "DATA_FOLDER = DATA_FOLDER\n",
    "PROCESSED_DATA_FOLDER = PROCESSED_DATA_FOLDER\n",
    "MODELS_FOLDER = MODELS_FOLDER\n",
    "ML_FOLDER = ML_FOLDER\n",
    "MODEL_ID = \"BAAI/bge-m3\"\n",
    "RERANKING_MODEL = \"BAAI/bge-reranker-v2-m3\""
   ],
   "id": "398186b6e63d129e",
   "outputs": [],
   "execution_count": 2
  },
  {
   "metadata": {
    "ExecuteTime": {
     "end_time": "2025-08-17T21:24:34.000863Z",
     "start_time": "2025-08-17T21:24:33.954978Z"
    }
   },
   "cell_type": "code",
   "source": [
    "print(f\"PyTorch version: {torch.__version__}\")\n",
    "print(f\"CUDA available: {torch.cuda.is_available()}\")\n",
    "print(f\"CUDA version: {torch.version.cuda}\")\n",
    "print(f\"Device count: {torch.cuda.device_count()}\")\n",
    "if torch.cuda.is_available():\n",
    "    print(f\"Device name: {torch.cuda.get_device_name(0)}\")"
   ],
   "id": "b511a18fe92cf520",
   "outputs": [
    {
     "name": "stdout",
     "output_type": "stream",
     "text": [
      "PyTorch version: 2.7.1+cu128\n",
      "CUDA available: True\n",
      "CUDA version: 12.8\n",
      "Device count: 1\n",
      "Device name: NVIDIA GeForce RTX 3060\n"
     ]
    }
   ],
   "execution_count": 3
  },
  {
   "metadata": {},
   "cell_type": "markdown",
   "source": [
    "## We recommend to use the following pipeline: hybrid retrieval + re-ranking.\n",
    "\n",
    "- [ ] Hybrid retrieval leverages the strengths of various methods, offering higher accuracy and stronger generalization capabilities. A classic example: using both embedding retrieval and the BM25 algorithm. Now, you can try to use BGE-M3, which supports both embedding and sparse retrieval. This allows you to obtain token weights (similar to the BM25) without any additional cost when generate dense embeddings. To use hybrid retrieval, you can refer to Vespa and Milvus.\n",
    "\n",
    "- [ ] As cross-encoder models, re-ranker demonstrates higher accuracy than bi-encoder embedding model. Utilizing the re-ranking model (e.g., bge-reranker, bge-reranker-v2) after retrieval can further filter the selected text."
   ],
   "id": "c8fe56400e899a63"
  },
  {
   "metadata": {
    "ExecuteTime": {
     "end_time": "2025-08-17T21:24:46.488912Z",
     "start_time": "2025-08-17T21:24:34.079880Z"
    }
   },
   "cell_type": "code",
   "source": [
    "# model = SentenceTransformer(MODEL_ID)\n",
    "model = SentenceTransformer(f'{ML_FOLDER}/BGE-m3')\n",
    "reranker = FlagReranker('BAAI/bge-reranker-v2-m3', use_fp16=True, cache_dir=f'{ML_FOLDER}/bge-reranker-v2-m3')"
   ],
   "id": "dc2b2753d3f7ba21",
   "outputs": [],
   "execution_count": 4
  },
  {
   "metadata": {
    "ExecuteTime": {
     "end_time": "2025-07-27T12:53:43.108501Z",
     "start_time": "2025-07-27T12:53:43.093576Z"
    }
   },
   "cell_type": "code",
   "source": "# model.save(f'{ML_FOLDER}/BGE-m3')\n",
   "id": "2f1eafbe12de748",
   "outputs": [],
   "execution_count": 26
  },
  {
   "metadata": {
    "ExecuteTime": {
     "end_time": "2025-08-17T21:24:52.298144Z",
     "start_time": "2025-08-17T21:24:50.596678Z"
    }
   },
   "cell_type": "code",
   "source": [
    "# embedding_func = SentenceTransformerEmbeddingFunction(MODEL_ID)\n",
    "embedding_func = SentenceTransformerEmbeddingFunction(f'{ML_FOLDER}/BGE-m3')"
   ],
   "id": "be8ff5d3668121a",
   "outputs": [],
   "execution_count": 5
  },
  {
   "metadata": {
    "ExecuteTime": {
     "end_time": "2025-07-27T12:53:44.590019Z",
     "start_time": "2025-07-27T12:53:44.575736Z"
    }
   },
   "cell_type": "code",
   "source": "",
   "id": "d2cf343bcaae9efc",
   "outputs": [],
   "execution_count": null
  },
  {
   "metadata": {
    "ExecuteTime": {
     "end_time": "2025-08-17T21:24:59.885571Z",
     "start_time": "2025-08-17T21:24:55.017021Z"
    }
   },
   "cell_type": "code",
   "source": [
    "class_vectors_v2 = []\n",
    "for file in os.listdir(f'{PROCESSED_DATA_FOLDER}/classes'):\n",
    "    with open(f'{PROCESSED_DATA_FOLDER}/classes/{file}', 'r', encoding='utf-8') as f:\n",
    "        line = f.read()\n",
    "        results = embedding_func(line)\n",
    "        class_vectors_v2.extend(results)"
   ],
   "id": "5ab0f3b5dce4184",
   "outputs": [],
   "execution_count": 6
  },
  {
   "metadata": {
    "ExecuteTime": {
     "end_time": "2025-08-17T21:25:11.198080Z",
     "start_time": "2025-08-17T21:25:11.155070Z"
    }
   },
   "cell_type": "code",
   "source": [
    "class_vectors_v3 = pd.DataFrame(class_vectors_v2)\n",
    "class_vectors_v3"
   ],
   "id": "1d7bb6eaf4236be5",
   "outputs": [
    {
     "data": {
      "text/plain": [
       "         0         1         2         3         4         5         6     \\\n",
       "0    0.013050 -0.046113 -0.044793 -0.020217 -0.027509 -0.062423  0.056399   \n",
       "1    0.022854 -0.026327 -0.039258  0.006260 -0.031888 -0.040422  0.049038   \n",
       "2   -0.020735 -0.031802 -0.033753 -0.010971 -0.004630 -0.059646  0.042915   \n",
       "3   -0.011113 -0.017807 -0.028216 -0.000887 -0.011821 -0.049197  0.059271   \n",
       "4   -0.017301 -0.039470 -0.017234 -0.016681 -0.004020 -0.027047  0.054245   \n",
       "..        ...       ...       ...       ...       ...       ...       ...   \n",
       "145 -0.035152 -0.020645 -0.040086 -0.005385 -0.018264 -0.076614  0.047513   \n",
       "146 -0.061301 -0.064885 -0.012513  0.014143 -0.014113 -0.071864  0.021862   \n",
       "147 -0.038642 -0.056093 -0.029700  0.010163 -0.035860 -0.045055  0.071626   \n",
       "148 -0.059275 -0.007700 -0.002304 -0.002497 -0.020237 -0.052844  0.051197   \n",
       "149 -0.057147 -0.012307  0.011101  0.010492 -0.025362 -0.068225  0.038083   \n",
       "\n",
       "         7         8         9     ...      1014      1015      1016  \\\n",
       "0   -0.013958  0.013406  0.021537  ... -0.006939  0.000181 -0.003332   \n",
       "1    0.009782 -0.002681  0.004728  ... -0.000326  0.033952 -0.015754   \n",
       "2   -0.000403  0.001488  0.001282  ... -0.012531  0.019758 -0.006215   \n",
       "3    0.018424  0.007300  0.011133  ... -0.022455  0.041278 -0.008923   \n",
       "4    0.006750 -0.033397  0.016934  ... -0.012752  0.074418 -0.030674   \n",
       "..        ...       ...       ...  ...       ...       ...       ...   \n",
       "145 -0.045873  0.016580 -0.019762  ...  0.000220  0.042256  0.044803   \n",
       "146  0.018736  0.008848  0.037936  ...  0.017766 -0.023936  0.000420   \n",
       "147  0.008817  0.008483 -0.004579  ... -0.011845  0.044878  0.017026   \n",
       "148  0.005195 -0.002260 -0.001404  ...  0.019614  0.047648 -0.005751   \n",
       "149  0.003932 -0.016294 -0.000421  ...  0.017391  0.043084 -0.025496   \n",
       "\n",
       "         1017      1018      1019      1020      1021      1022      1023  \n",
       "0   -0.006464  0.007276  0.012404  0.027708  0.023567  0.001088 -0.058475  \n",
       "1   -0.000359  0.007099 -0.016202  0.044074 -0.008473 -0.032029 -0.013290  \n",
       "2    0.033143 -0.035400 -0.019717  0.025555  0.038884 -0.048065 -0.028586  \n",
       "3    0.027074 -0.033528 -0.024717  0.018434  0.031478 -0.033236 -0.011449  \n",
       "4   -0.006302 -0.017996 -0.019397  0.027810 -0.000163 -0.011114 -0.039693  \n",
       "..        ...       ...       ...       ...       ...       ...       ...  \n",
       "145  0.011301 -0.000735 -0.013274  0.010037  0.005243 -0.005301 -0.036255  \n",
       "146  0.015518 -0.021489 -0.000902  0.056634  0.034710 -0.037585 -0.039298  \n",
       "147  0.051305  0.000876 -0.030292  0.009970  0.051302 -0.027545 -0.000510  \n",
       "148  0.025689 -0.037365 -0.031524  0.048221  0.048494  0.001617 -0.012174  \n",
       "149  0.030078 -0.032483 -0.040945  0.038050  0.059035 -0.018574 -0.012131  \n",
       "\n",
       "[150 rows x 1024 columns]"
      ],
      "text/html": [
       "<div>\n",
       "<style scoped>\n",
       "    .dataframe tbody tr th:only-of-type {\n",
       "        vertical-align: middle;\n",
       "    }\n",
       "\n",
       "    .dataframe tbody tr th {\n",
       "        vertical-align: top;\n",
       "    }\n",
       "\n",
       "    .dataframe thead th {\n",
       "        text-align: right;\n",
       "    }\n",
       "</style>\n",
       "<table border=\"1\" class=\"dataframe\">\n",
       "  <thead>\n",
       "    <tr style=\"text-align: right;\">\n",
       "      <th></th>\n",
       "      <th>0</th>\n",
       "      <th>1</th>\n",
       "      <th>2</th>\n",
       "      <th>3</th>\n",
       "      <th>4</th>\n",
       "      <th>5</th>\n",
       "      <th>6</th>\n",
       "      <th>7</th>\n",
       "      <th>8</th>\n",
       "      <th>9</th>\n",
       "      <th>...</th>\n",
       "      <th>1014</th>\n",
       "      <th>1015</th>\n",
       "      <th>1016</th>\n",
       "      <th>1017</th>\n",
       "      <th>1018</th>\n",
       "      <th>1019</th>\n",
       "      <th>1020</th>\n",
       "      <th>1021</th>\n",
       "      <th>1022</th>\n",
       "      <th>1023</th>\n",
       "    </tr>\n",
       "  </thead>\n",
       "  <tbody>\n",
       "    <tr>\n",
       "      <th>0</th>\n",
       "      <td>0.013050</td>\n",
       "      <td>-0.046113</td>\n",
       "      <td>-0.044793</td>\n",
       "      <td>-0.020217</td>\n",
       "      <td>-0.027509</td>\n",
       "      <td>-0.062423</td>\n",
       "      <td>0.056399</td>\n",
       "      <td>-0.013958</td>\n",
       "      <td>0.013406</td>\n",
       "      <td>0.021537</td>\n",
       "      <td>...</td>\n",
       "      <td>-0.006939</td>\n",
       "      <td>0.000181</td>\n",
       "      <td>-0.003332</td>\n",
       "      <td>-0.006464</td>\n",
       "      <td>0.007276</td>\n",
       "      <td>0.012404</td>\n",
       "      <td>0.027708</td>\n",
       "      <td>0.023567</td>\n",
       "      <td>0.001088</td>\n",
       "      <td>-0.058475</td>\n",
       "    </tr>\n",
       "    <tr>\n",
       "      <th>1</th>\n",
       "      <td>0.022854</td>\n",
       "      <td>-0.026327</td>\n",
       "      <td>-0.039258</td>\n",
       "      <td>0.006260</td>\n",
       "      <td>-0.031888</td>\n",
       "      <td>-0.040422</td>\n",
       "      <td>0.049038</td>\n",
       "      <td>0.009782</td>\n",
       "      <td>-0.002681</td>\n",
       "      <td>0.004728</td>\n",
       "      <td>...</td>\n",
       "      <td>-0.000326</td>\n",
       "      <td>0.033952</td>\n",
       "      <td>-0.015754</td>\n",
       "      <td>-0.000359</td>\n",
       "      <td>0.007099</td>\n",
       "      <td>-0.016202</td>\n",
       "      <td>0.044074</td>\n",
       "      <td>-0.008473</td>\n",
       "      <td>-0.032029</td>\n",
       "      <td>-0.013290</td>\n",
       "    </tr>\n",
       "    <tr>\n",
       "      <th>2</th>\n",
       "      <td>-0.020735</td>\n",
       "      <td>-0.031802</td>\n",
       "      <td>-0.033753</td>\n",
       "      <td>-0.010971</td>\n",
       "      <td>-0.004630</td>\n",
       "      <td>-0.059646</td>\n",
       "      <td>0.042915</td>\n",
       "      <td>-0.000403</td>\n",
       "      <td>0.001488</td>\n",
       "      <td>0.001282</td>\n",
       "      <td>...</td>\n",
       "      <td>-0.012531</td>\n",
       "      <td>0.019758</td>\n",
       "      <td>-0.006215</td>\n",
       "      <td>0.033143</td>\n",
       "      <td>-0.035400</td>\n",
       "      <td>-0.019717</td>\n",
       "      <td>0.025555</td>\n",
       "      <td>0.038884</td>\n",
       "      <td>-0.048065</td>\n",
       "      <td>-0.028586</td>\n",
       "    </tr>\n",
       "    <tr>\n",
       "      <th>3</th>\n",
       "      <td>-0.011113</td>\n",
       "      <td>-0.017807</td>\n",
       "      <td>-0.028216</td>\n",
       "      <td>-0.000887</td>\n",
       "      <td>-0.011821</td>\n",
       "      <td>-0.049197</td>\n",
       "      <td>0.059271</td>\n",
       "      <td>0.018424</td>\n",
       "      <td>0.007300</td>\n",
       "      <td>0.011133</td>\n",
       "      <td>...</td>\n",
       "      <td>-0.022455</td>\n",
       "      <td>0.041278</td>\n",
       "      <td>-0.008923</td>\n",
       "      <td>0.027074</td>\n",
       "      <td>-0.033528</td>\n",
       "      <td>-0.024717</td>\n",
       "      <td>0.018434</td>\n",
       "      <td>0.031478</td>\n",
       "      <td>-0.033236</td>\n",
       "      <td>-0.011449</td>\n",
       "    </tr>\n",
       "    <tr>\n",
       "      <th>4</th>\n",
       "      <td>-0.017301</td>\n",
       "      <td>-0.039470</td>\n",
       "      <td>-0.017234</td>\n",
       "      <td>-0.016681</td>\n",
       "      <td>-0.004020</td>\n",
       "      <td>-0.027047</td>\n",
       "      <td>0.054245</td>\n",
       "      <td>0.006750</td>\n",
       "      <td>-0.033397</td>\n",
       "      <td>0.016934</td>\n",
       "      <td>...</td>\n",
       "      <td>-0.012752</td>\n",
       "      <td>0.074418</td>\n",
       "      <td>-0.030674</td>\n",
       "      <td>-0.006302</td>\n",
       "      <td>-0.017996</td>\n",
       "      <td>-0.019397</td>\n",
       "      <td>0.027810</td>\n",
       "      <td>-0.000163</td>\n",
       "      <td>-0.011114</td>\n",
       "      <td>-0.039693</td>\n",
       "    </tr>\n",
       "    <tr>\n",
       "      <th>...</th>\n",
       "      <td>...</td>\n",
       "      <td>...</td>\n",
       "      <td>...</td>\n",
       "      <td>...</td>\n",
       "      <td>...</td>\n",
       "      <td>...</td>\n",
       "      <td>...</td>\n",
       "      <td>...</td>\n",
       "      <td>...</td>\n",
       "      <td>...</td>\n",
       "      <td>...</td>\n",
       "      <td>...</td>\n",
       "      <td>...</td>\n",
       "      <td>...</td>\n",
       "      <td>...</td>\n",
       "      <td>...</td>\n",
       "      <td>...</td>\n",
       "      <td>...</td>\n",
       "      <td>...</td>\n",
       "      <td>...</td>\n",
       "      <td>...</td>\n",
       "    </tr>\n",
       "    <tr>\n",
       "      <th>145</th>\n",
       "      <td>-0.035152</td>\n",
       "      <td>-0.020645</td>\n",
       "      <td>-0.040086</td>\n",
       "      <td>-0.005385</td>\n",
       "      <td>-0.018264</td>\n",
       "      <td>-0.076614</td>\n",
       "      <td>0.047513</td>\n",
       "      <td>-0.045873</td>\n",
       "      <td>0.016580</td>\n",
       "      <td>-0.019762</td>\n",
       "      <td>...</td>\n",
       "      <td>0.000220</td>\n",
       "      <td>0.042256</td>\n",
       "      <td>0.044803</td>\n",
       "      <td>0.011301</td>\n",
       "      <td>-0.000735</td>\n",
       "      <td>-0.013274</td>\n",
       "      <td>0.010037</td>\n",
       "      <td>0.005243</td>\n",
       "      <td>-0.005301</td>\n",
       "      <td>-0.036255</td>\n",
       "    </tr>\n",
       "    <tr>\n",
       "      <th>146</th>\n",
       "      <td>-0.061301</td>\n",
       "      <td>-0.064885</td>\n",
       "      <td>-0.012513</td>\n",
       "      <td>0.014143</td>\n",
       "      <td>-0.014113</td>\n",
       "      <td>-0.071864</td>\n",
       "      <td>0.021862</td>\n",
       "      <td>0.018736</td>\n",
       "      <td>0.008848</td>\n",
       "      <td>0.037936</td>\n",
       "      <td>...</td>\n",
       "      <td>0.017766</td>\n",
       "      <td>-0.023936</td>\n",
       "      <td>0.000420</td>\n",
       "      <td>0.015518</td>\n",
       "      <td>-0.021489</td>\n",
       "      <td>-0.000902</td>\n",
       "      <td>0.056634</td>\n",
       "      <td>0.034710</td>\n",
       "      <td>-0.037585</td>\n",
       "      <td>-0.039298</td>\n",
       "    </tr>\n",
       "    <tr>\n",
       "      <th>147</th>\n",
       "      <td>-0.038642</td>\n",
       "      <td>-0.056093</td>\n",
       "      <td>-0.029700</td>\n",
       "      <td>0.010163</td>\n",
       "      <td>-0.035860</td>\n",
       "      <td>-0.045055</td>\n",
       "      <td>0.071626</td>\n",
       "      <td>0.008817</td>\n",
       "      <td>0.008483</td>\n",
       "      <td>-0.004579</td>\n",
       "      <td>...</td>\n",
       "      <td>-0.011845</td>\n",
       "      <td>0.044878</td>\n",
       "      <td>0.017026</td>\n",
       "      <td>0.051305</td>\n",
       "      <td>0.000876</td>\n",
       "      <td>-0.030292</td>\n",
       "      <td>0.009970</td>\n",
       "      <td>0.051302</td>\n",
       "      <td>-0.027545</td>\n",
       "      <td>-0.000510</td>\n",
       "    </tr>\n",
       "    <tr>\n",
       "      <th>148</th>\n",
       "      <td>-0.059275</td>\n",
       "      <td>-0.007700</td>\n",
       "      <td>-0.002304</td>\n",
       "      <td>-0.002497</td>\n",
       "      <td>-0.020237</td>\n",
       "      <td>-0.052844</td>\n",
       "      <td>0.051197</td>\n",
       "      <td>0.005195</td>\n",
       "      <td>-0.002260</td>\n",
       "      <td>-0.001404</td>\n",
       "      <td>...</td>\n",
       "      <td>0.019614</td>\n",
       "      <td>0.047648</td>\n",
       "      <td>-0.005751</td>\n",
       "      <td>0.025689</td>\n",
       "      <td>-0.037365</td>\n",
       "      <td>-0.031524</td>\n",
       "      <td>0.048221</td>\n",
       "      <td>0.048494</td>\n",
       "      <td>0.001617</td>\n",
       "      <td>-0.012174</td>\n",
       "    </tr>\n",
       "    <tr>\n",
       "      <th>149</th>\n",
       "      <td>-0.057147</td>\n",
       "      <td>-0.012307</td>\n",
       "      <td>0.011101</td>\n",
       "      <td>0.010492</td>\n",
       "      <td>-0.025362</td>\n",
       "      <td>-0.068225</td>\n",
       "      <td>0.038083</td>\n",
       "      <td>0.003932</td>\n",
       "      <td>-0.016294</td>\n",
       "      <td>-0.000421</td>\n",
       "      <td>...</td>\n",
       "      <td>0.017391</td>\n",
       "      <td>0.043084</td>\n",
       "      <td>-0.025496</td>\n",
       "      <td>0.030078</td>\n",
       "      <td>-0.032483</td>\n",
       "      <td>-0.040945</td>\n",
       "      <td>0.038050</td>\n",
       "      <td>0.059035</td>\n",
       "      <td>-0.018574</td>\n",
       "      <td>-0.012131</td>\n",
       "    </tr>\n",
       "  </tbody>\n",
       "</table>\n",
       "<p>150 rows × 1024 columns</p>\n",
       "</div>"
      ]
     },
     "execution_count": 7,
     "metadata": {},
     "output_type": "execute_result"
    }
   ],
   "execution_count": 7
  },
  {
   "metadata": {
    "ExecuteTime": {
     "end_time": "2025-08-17T21:26:12.771230Z",
     "start_time": "2025-08-17T21:25:18.779714Z"
    }
   },
   "cell_type": "code",
   "source": [
    "trainig_vectors_v1 = []\n",
    "for file in os.listdir(f'{PROCESSED_DATA_FOLDER}/training'):\n",
    "    with open(f'{PROCESSED_DATA_FOLDER}/training/{file}', 'r', encoding='utf-8') as f:\n",
    "        line = f.read()\n",
    "        results = embedding_func(line)\n",
    "        trainig_vectors_v1.extend(results)"
   ],
   "id": "5a11be86109d5008",
   "outputs": [],
   "execution_count": 8
  },
  {
   "metadata": {
    "ExecuteTime": {
     "end_time": "2025-08-17T21:26:54.931453Z",
     "start_time": "2025-08-17T21:26:54.654771Z"
    }
   },
   "cell_type": "code",
   "source": "chrome_persistent_client = chromadb.PersistentClient(path=f'{DATA_FOLDER}/chromadb')",
   "id": "e1e8bb06923005a",
   "outputs": [],
   "execution_count": 9
  },
  {
   "metadata": {
    "ExecuteTime": {
     "end_time": "2025-08-17T21:26:57.662897Z",
     "start_time": "2025-08-17T21:26:57.633887Z"
    }
   },
   "cell_type": "code",
   "source": "chrome_persistent_client.list_collections()",
   "id": "c0acdb72f9616401",
   "outputs": [
    {
     "data": {
      "text/plain": [
       "[Collection(name=classes), Collection(name=training)]"
      ]
     },
     "execution_count": 10,
     "metadata": {},
     "output_type": "execute_result"
    }
   ],
   "execution_count": 10
  },
  {
   "metadata": {
    "ExecuteTime": {
     "end_time": "2025-08-17T21:27:04.407241Z",
     "start_time": "2025-08-17T21:27:04.266587Z"
    }
   },
   "cell_type": "code",
   "source": [
    "# chrome_persistent_client.delete_collection('classes')\n",
    "# chrome_persistent_client.delete_collection('training')"
   ],
   "id": "7cf5d2af75eeda02",
   "outputs": [],
   "execution_count": 11
  },
  {
   "metadata": {
    "ExecuteTime": {
     "end_time": "2025-08-17T21:27:12.376905Z",
     "start_time": "2025-08-17T21:27:12.320893Z"
    }
   },
   "cell_type": "code",
   "source": [
    "collection_classes = chrome_persistent_client.get_or_create_collection(name='classes', embedding_function=embedding_func)\n",
    "collection_training = chrome_persistent_client.get_or_create_collection(name='training', embedding_function=embedding_func)"
   ],
   "id": "f2052410e77be5ae",
   "outputs": [],
   "execution_count": 12
  },
  {
   "metadata": {
    "ExecuteTime": {
     "end_time": "2025-08-17T21:27:14.056798Z",
     "start_time": "2025-08-17T21:27:14.048796Z"
    }
   },
   "cell_type": "code",
   "source": [
    "documents = []\n",
    "metadatas =()\n",
    "ids = []\n",
    "\n",
    "\n",
    "class_folder = os.listdir(f'{PROCESSED_DATA_FOLDER}/classes')\n",
    "training_folder = os.listdir(f'{PROCESSED_DATA_FOLDER}/training')"
   ],
   "id": "3d0295ccb6292f0b",
   "outputs": [],
   "execution_count": 13
  },
  {
   "metadata": {
    "ExecuteTime": {
     "end_time": "2025-08-17T21:27:15.695867Z",
     "start_time": "2025-08-17T21:27:15.661861Z"
    }
   },
   "cell_type": "code",
   "source": [
    "for file in class_folder:\n",
    "    with open(f'{PROCESSED_DATA_FOLDER}/classes/{file}', 'r', encoding='utf-8') as f:\n",
    "        documents.append(f.read())\n",
    "\n",
    "metadatas = (\n",
    "    [{'category': 'classes'} for _ in class_folder]\n",
    ")\n",
    "\n",
    "ids = [f'CLASSid{i}' for i in range(1, len(class_folder)+ 1)]\n",
    "\n"
   ],
   "id": "e22bd89e04228a0c",
   "outputs": [],
   "execution_count": 14
  },
  {
   "metadata": {
    "ExecuteTime": {
     "end_time": "2025-08-17T21:27:18.298999Z",
     "start_time": "2025-08-17T21:27:18.109042Z"
    }
   },
   "cell_type": "code",
   "source": [
    "collection_classes.upsert(\n",
    "    documents=documents,\n",
    "    metadatas=metadatas,\n",
    "    ids=ids,\n",
    "    embeddings=class_vectors_v2,\n",
    ")"
   ],
   "id": "f0a8c0b2d222e972",
   "outputs": [],
   "execution_count": 15
  },
  {
   "metadata": {
    "ExecuteTime": {
     "end_time": "2025-08-17T21:27:19.751244Z",
     "start_time": "2025-08-17T21:27:19.740242Z"
    }
   },
   "cell_type": "code",
   "source": [
    "documents = []\n",
    "metadatas =()\n",
    "ids = []\n",
    "embeddings = []"
   ],
   "id": "f2afc9ef537825b5",
   "outputs": [],
   "execution_count": 16
  },
  {
   "metadata": {
    "ExecuteTime": {
     "end_time": "2025-08-17T21:27:22.018299Z",
     "start_time": "2025-08-17T21:27:21.895272Z"
    }
   },
   "cell_type": "code",
   "source": [
    "for file in training_folder:\n",
    "    with open(f'{PROCESSED_DATA_FOLDER}/training/{file}', 'r', encoding='utf-8') as f:\n",
    "        documents.append(f.read())\n",
    "\n",
    "metadatas = (\n",
    "    [{'category': 'code + explanation'} for _ in training_folder]\n",
    ")\n",
    "\n",
    "ids = [f'TRAINid{i}' for i in range(1, len(training_folder) + 1)]\n",
    "\n",
    "embeddings.extend(trainig_vectors_v1)"
   ],
   "id": "4d51dde56930e7d1",
   "outputs": [],
   "execution_count": 17
  },
  {
   "metadata": {
    "ExecuteTime": {
     "end_time": "2025-08-17T21:27:24.515266Z",
     "start_time": "2025-08-17T21:27:23.625257Z"
    }
   },
   "cell_type": "code",
   "source": [
    "collection_training.upsert(\n",
    "    documents=documents,\n",
    "    metadatas=metadatas,\n",
    "    ids=ids,\n",
    "    embeddings=trainig_vectors_v1,\n",
    ")\n"
   ],
   "id": "88f9ffc995559cb7",
   "outputs": [],
   "execution_count": 18
  },
  {
   "metadata": {
    "ExecuteTime": {
     "end_time": "2025-08-17T21:27:27.486049Z",
     "start_time": "2025-08-17T21:27:27.413505Z"
    }
   },
   "cell_type": "code",
   "source": [
    "text = 'Write a code for insurance with the document 207'\n",
    "result = collection_classes.query(\n",
    "    query_texts=[text],\n",
    "    n_results=20,\n",
    ")\n",
    "result"
   ],
   "id": "4faeb872d29570ea",
   "outputs": [
    {
     "data": {
      "text/plain": [
       "{'ids': [['CLASSid59',\n",
       "   'CLASSid86',\n",
       "   'CLASSid111',\n",
       "   'CLASSid91',\n",
       "   'CLASSid89',\n",
       "   'CLASSid92',\n",
       "   'CLASSid46',\n",
       "   'CLASSid84',\n",
       "   'CLASSid141',\n",
       "   'CLASSid136',\n",
       "   'CLASSid90',\n",
       "   'CLASSid85',\n",
       "   'CLASSid49',\n",
       "   'CLASSid87',\n",
       "   'CLASSid88',\n",
       "   'CLASSid147',\n",
       "   'CLASSid129',\n",
       "   'CLASSid47',\n",
       "   'CLASSid56',\n",
       "   'CLASSid149']],\n",
       " 'embeddings': None,\n",
       " 'documents': [['{\"class\": \"DocumentsToInsuranceObject\", \"members\": {\"DocumentsToInsuranceObject\": []}}\\n',\n",
       "   '{\"class\": \"InsuranceCompany\", \"members\": {\"InsuranceCompany\": []}}\\n',\n",
       "   '{\"class\": \"Product\", \"members\": {\"Product\": [{\"name\": \"PolisNumber\", \"type\": \"String\", \"description\": \"Номер полісу\"}, {\"name\": \"BranchGID\", \"type\": \"Guid\", \"description\": \"Унікальний ідентифікатор відділення продажу полісу\"}, {\"name\": \"BeginingDate\", \"type\": \"DateTime\", \"description\": \"Дата початку дії продукту\"}, {\"name\": \"EndingDate\", \"type\": \"DateTime\", \"description\": \"Дата завершення дії продукту\"}, {\"name\": \"RegisteredDate\", \"type\": \"DateTime\", \"description\": \"Дата реєстрації продукту\"}, {\"name\": \"AgentReportNumber\", \"type\": \"String\", \"description\": \"Номер звіту агента, пов\\'язаного з продуктом\"}, {\"name\": \"Comment\", \"type\": \"String\", \"description\": \"Страхова сума продукту в національній валюті\"}, {\"name\": \"Comment\", \"type\": \"String\", \"description\": \"Додаткові коментарі або примітки до продукту\"}, {\"name\": \"Blanks\", \"type\": \"List<Blank>\", \"description\": \"Дата створення продукту\"}, {\"name\": \"Blanks\", \"type\": \"List<Blank>\", \"description\": \"Список бланків, пов\\'язаних з продуктом\"}, {\"name\": \"PaymentPeriods\", \"type\": \"List<PaymentPeriod>\", \"description\": \"Платіжні періоди, пов\\'язані з продуктом\"}, {\"name\": \"Programs\", \"type\": \"List<Program>\", \"description\": \"Програми, пов\\'язані з продуктом\"}, {\"name\": \"Contract\", \"type\": \"Contract\", \"description\": \"Генеральний договір, пов\\'язаний з продуктом\"}, {\"name\": \"Insurer\", \"type\": \"Signer\", \"description\": \"Страховик, пов\\'язаний з продуктом\"}, {\"name\": \"Responsible\", \"type\": \"Signer\", \"description\": \"Відповідальна особа за продукт\"}, {\"name\": \"EntityAttributes\", \"type\": \"List<EntityAttribute>\", \"description\": \"Атрибути об\\'єкта продукту, що описують його характеристики та властивості\"}, {\"name\": \"_BranchName\", \"type\": \"string\", \"description\": \"Дата початку дії оригінального продукту\"}]}}\\n',\n",
       "   '{\"class\": \"InsuranceSumProgram\", \"members\": {\"InsuranceSumProgram\": []}}\\n',\n",
       "   '{\"class\": \"InsuranceScope\", \"members\": {\"InsuranceScope\": []}}\\n',\n",
       "   '{\"class\": \"InsuranceType\", \"members\": {\"InsuranceType\": []}}\\n',\n",
       "   '{\"class\": \"Contract\", \"members\": {\"Contract\": [{\"name\": \"ContractNumber\", \"type\": \"String\", \"description\": \"Унікальний номер генерального договору, що використовується для його ідентифікації\"}, {\"name\": \"Comment\", \"type\": \"String\", \"description\": \"Дата початку дії генерального договору, з якої він стає чинним\"}, {\"name\": \"Comment\", \"type\": \"String\", \"description\": \"Дата завершення дії генерального договору, після якої він втрачає чинність\"}, {\"name\": \"Contragent\", \"type\": \"Signer\", \"description\": \"Контрагент за генеральним договором, що є стороною угоди\"}, {\"name\": \"Responsible\", \"type\": \"Signer\", \"description\": \"Відповідальна особа за генеральним договором, яка підписує його зі сторони страхової компанії\"}]}}\\n',\n",
       "   '{\"class\": \"InsuranceApplicationOperation\", \"members\": {\"InsuranceApplicationOperation\": []}}\\n',\n",
       "   '{\"class\": \"SettlementCode\", \"members\": {\"SettlementCode\": []}}\\n',\n",
       "   '{\"class\": \"Risk\", \"members\": {\"Risk\": []}}\\n',\n",
       "   '{\"class\": \"InsuranceSumInsuranceObject\", \"members\": {\"InsuranceSumInsuranceObject\": []}}\\n',\n",
       "   '{\"class\": \"InsuranceApplicationStatusChange\", \"members\": {\"InsuranceApplicationStatusChange\": []}}\\n',\n",
       "   '{\"class\": \"ContractApplicationProductData\", \"members\": {\"ContractApplicationProductData\": []}}\\n',\n",
       "   '{\"class\": \"InsuranceObject\", \"members\": {\"InsuranceObject\": [{\"name\": \"Name\", \"type\": \"String\", \"description\": \"Страхова сума для об\\'єкта страхування\"}, {\"name\": \"Name\", \"type\": \"String\", \"description\": \"Страховий платіж за об\\'єктом страхування\"}, {\"name\": \"Name\", \"type\": \"String\", \"description\": \"Страховий тариф для об\\'єкта страхування\"}, {\"name\": \"Name\", \"type\": \"String\", \"description\": \"Назва страхового об\\'єкта\"}, {\"name\": \"Covers\", \"type\": \"List<Cover>\", \"description\": \"Покриття, що надаються для страхового об\\'єкта\"}, {\"name\": \"Object\", \"type\": \"Object\", \"description\": \"Об\\'єкт, що Виводить на друк страховий об\\'єкт\"}, {\"name\": \"Coefficients\", \"type\": \"List<Coefficient>\", \"description\": \"Коефіцієнти, що застосовуються до страхового об\\'єкта\"}, {\"name\": \"EntityAttributes\", \"type\": \"List<EntityAttribute>\", \"description\": \"Атрибути об\\'єкта страхування, що описують його характеристики та властивості\"}, {\"name\": \"_InsuranceObjectTypeName\", \"type\": \"string\", \"description\": \"Курс валют, який використовується для валюти страхової суми\"}]}}\\n',\n",
       "   '{\"class\": \"InsuranceObjectType\", \"members\": {\"InsuranceObjectType\": []}}\\n',\n",
       "   '{\"class\": \"Vehicle\", \"members\": {\"Vehicle\": [{\"name\": \"BodyNumber\", \"type\": \"String\", \"description\": \"Глобальний унікальний ідентифікатор власника\"}, {\"name\": \"BodyNumber\", \"type\": \"String\", \"description\": \"Номер кузова транспортного засобу\"}, {\"name\": \"RegistrationNumber\", \"type\": \"String\", \"description\": \"Реєстраційний номер транспортного засобу\"}, {\"name\": \"RegistrationCertificate\", \"type\": \"String\", \"description\": \"Дата виготовлення транспортного засобу\"}, {\"name\": \"AnticreepDevice\", \"type\": \"String\", \"description\": \"Дата реєстрації транспортного засобу\"}, {\"name\": \"AnticreepDevice\", \"type\": \"String\", \"description\": \"Вартість транспортного засобу\"}, {\"name\": \"AnticreepDevice\", \"type\": \"String\", \"description\": \"Кількість місць у транспортному засобі\"}, {\"name\": \"AnticreepDevice\", \"type\": \"String\", \"description\": \"Антикрадіжний пристрій, встановлений на транспортному засобі\"}, {\"name\": \"AdditionalEquipment\", \"type\": \"String\", \"description\": \"Додаткове обладнання, встановлене на транспортному засобі\"}, {\"name\": \"RegistrationPlace\", \"type\": \"String\", \"description\": \"Місце реєстрації транспортного засобу\"}, {\"name\": \"TechDocModel\", \"type\": \"String\", \"description\": \"Пробіг транспортного засобу\"}, {\"name\": \"TechDocModel\", \"type\": \"String\", \"description\": \"Місткість транспортного засобу\"}, {\"name\": \"TechDocModel\", \"type\": \"String\", \"description\": \"Технічна модель транспортного засобу за документами\"}, {\"name\": \"OwnerName\", \"type\": \"string\", \"description\": \"Ім\\'я або назва власника транспортного засобу\"}, {\"name\": \"SettlementObject\", \"type\": \"Settlement\", \"description\": \"Об\\'єкт населеного пункту, пов\\'язаний з транспортним засобом\"}, {\"name\": \"Address\", \"type\": \"String\", \"description\": \"Адреса, пов\\'язана з транспортним засобом\"}, {\"name\": \"PostAddressObject\", \"type\": \"PostAddress\", \"description\": \"Поштова адреса, пов\\'язана з транспортним засобом\"}, {\"name\": \"SettlementValue\", \"type\": \"string\", \"description\": \"Повна маса, кг\"}, {\"name\": \"SettlementValue\", \"type\": \"string\", \"description\": \"Маса без навантаження, кг\"}, {\"name\": \"SettlementValue\", \"type\": \"string\", \"description\": \"Потужність, кВт\"}, {\"name\": \"SettlementValue\", \"type\": \"string\", \"description\": \"Походження з Америки?\"}, {\"name\": \"SettlementValue\", \"type\": \"string\", \"description\": \"Тип гібриду\"}, {\"name\": \"SettlementValue\", \"type\": \"string\", \"description\": \"Тип приводу\"}, {\"name\": \"SettlementValue\", \"type\": \"string\", \"description\": \"Ємність батараеї\"}]}}\\n',\n",
       "   '{\"class\": \"ProgramViolatedUnderwritingRule\", \"members\": {\"ProgramViolatedUnderwritingRule\": []}}\\n',\n",
       "   '{\"class\": \"ContractApplication\", \"members\": {\"ContractApplication\": []}}\\n',\n",
       "   '{\"class\": \"Cover\", \"members\": {\"Cover\": [{\"name\": \"Franchises\", \"type\": \"List<Franchise>\", \"description\": \"Ліміт покриття, що визначає максимальну суму, яку можна отримати за покриття\"}, {\"name\": \"Franchises\", \"type\": \"List<Franchise>\", \"description\": \"Франшизи покриття, що визначають умови та обмеження покриття\"}]}}\\n',\n",
       "   '{\"class\": \"ViolatedUnderwritingRule\", \"members\": {\"ViolatedUnderwritingRule\": []}}\\n']],\n",
       " 'uris': None,\n",
       " 'included': ['metadatas', 'documents', 'distances'],\n",
       " 'data': None,\n",
       " 'metadatas': [[{'category': 'classes'},\n",
       "   {'category': 'classes'},\n",
       "   {'category': 'classes'},\n",
       "   {'category': 'classes'},\n",
       "   {'category': 'classes'},\n",
       "   {'category': 'classes'},\n",
       "   {'category': 'classes'},\n",
       "   {'category': 'classes'},\n",
       "   {'category': 'classes'},\n",
       "   {'category': 'classes'},\n",
       "   {'category': 'classes'},\n",
       "   {'category': 'classes'},\n",
       "   {'category': 'classes'},\n",
       "   {'category': 'classes'},\n",
       "   {'category': 'classes'},\n",
       "   {'category': 'classes'},\n",
       "   {'category': 'classes'},\n",
       "   {'category': 'classes'},\n",
       "   {'category': 'classes'},\n",
       "   {'category': 'classes'}]],\n",
       " 'distances': [[0.8951108455657959,\n",
       "   0.8952617645263672,\n",
       "   0.9650859832763672,\n",
       "   0.965505838394165,\n",
       "   0.9683821797370911,\n",
       "   0.9808033108711243,\n",
       "   0.9864555597305298,\n",
       "   1.000884771347046,\n",
       "   1.000925898551941,\n",
       "   1.0199565887451172,\n",
       "   1.0227389335632324,\n",
       "   1.0273510217666626,\n",
       "   1.0277901887893677,\n",
       "   1.0312687158584595,\n",
       "   1.0319277048110962,\n",
       "   1.0372545719146729,\n",
       "   1.0418751239776611,\n",
       "   1.0448215007781982,\n",
       "   1.045135498046875,\n",
       "   1.0474423170089722]]}"
      ]
     },
     "execution_count": 19,
     "metadata": {},
     "output_type": "execute_result"
    }
   ],
   "execution_count": 19
  },
  {
   "metadata": {
    "ExecuteTime": {
     "end_time": "2025-08-17T21:28:06.272920Z",
     "start_time": "2025-08-17T21:27:55.546315Z"
    }
   },
   "cell_type": "code",
   "source": [
    "pairs = [[text, result['documents'][0][i]] for i in range(20)]\n",
    "new_scores = []\n",
    "\n",
    "new_scores = reranker.compute_score(pairs, normalize=True)\n",
    "\n",
    "\n",
    "new_result = list(zip(\n",
    "    result['ids'][0],\n",
    "    result['metadatas'][0],\n",
    "    result['documents'][0],\n",
    "    new_scores\n",
    "))\n",
    "\n",
    "new_result.sort(key=lambda x: x[3], reverse=True)"
   ],
   "id": "76429756b8d54a20",
   "outputs": [
    {
     "name": "stderr",
     "output_type": "stream",
     "text": [
      "You're using a XLMRobertaTokenizerFast tokenizer. Please note that with a fast tokenizer, using the `__call__` method is faster than using a method to encode the text followed by a call to the `pad` method to get a padded encoding.\n"
     ]
    }
   ],
   "execution_count": 20
  },
  {
   "metadata": {
    "ExecuteTime": {
     "end_time": "2025-08-17T21:28:08.985612Z",
     "start_time": "2025-08-17T21:28:08.976610Z"
    }
   },
   "cell_type": "code",
   "source": "new_result[0][2]",
   "id": "a5c3971924e46487",
   "outputs": [
    {
     "data": {
      "text/plain": [
       "'{\"class\": \"InsuranceObject\", \"members\": {\"InsuranceObject\": [{\"name\": \"Name\", \"type\": \"String\", \"description\": \"Страхова сума для об\\'єкта страхування\"}, {\"name\": \"Name\", \"type\": \"String\", \"description\": \"Страховий платіж за об\\'єктом страхування\"}, {\"name\": \"Name\", \"type\": \"String\", \"description\": \"Страховий тариф для об\\'єкта страхування\"}, {\"name\": \"Name\", \"type\": \"String\", \"description\": \"Назва страхового об\\'єкта\"}, {\"name\": \"Covers\", \"type\": \"List<Cover>\", \"description\": \"Покриття, що надаються для страхового об\\'єкта\"}, {\"name\": \"Object\", \"type\": \"Object\", \"description\": \"Об\\'єкт, що Виводить на друк страховий об\\'єкт\"}, {\"name\": \"Coefficients\", \"type\": \"List<Coefficient>\", \"description\": \"Коефіцієнти, що застосовуються до страхового об\\'єкта\"}, {\"name\": \"EntityAttributes\", \"type\": \"List<EntityAttribute>\", \"description\": \"Атрибути об\\'єкта страхування, що описують його характеристики та властивості\"}, {\"name\": \"_InsuranceObjectTypeName\", \"type\": \"string\", \"description\": \"Курс валют, який використовується для валюти страхової суми\"}]}}\\n'"
      ]
     },
     "execution_count": 21,
     "metadata": {},
     "output_type": "execute_result"
    }
   ],
   "execution_count": 21
  },
  {
   "metadata": {
    "ExecuteTime": {
     "end_time": "2025-08-17T21:28:20.226332Z",
     "start_time": "2025-08-17T21:28:20.207329Z"
    }
   },
   "cell_type": "code",
   "source": [
    "context = \"\\n\\n\".join(\n",
    "            f'Document {i+1}: \\n {doc}' for i, doc in enumerate(new_result)\n",
    "        )\n",
    "print(context)"
   ],
   "id": "fafe01868d30648d",
   "outputs": [
    {
     "name": "stdout",
     "output_type": "stream",
     "text": [
      "Document 1: \n",
      " ('CLASSid87', {'category': 'classes'}, '{\"class\": \"InsuranceObject\", \"members\": {\"InsuranceObject\": [{\"name\": \"Name\", \"type\": \"String\", \"description\": \"Страхова сума для об\\'єкта страхування\"}, {\"name\": \"Name\", \"type\": \"String\", \"description\": \"Страховий платіж за об\\'єктом страхування\"}, {\"name\": \"Name\", \"type\": \"String\", \"description\": \"Страховий тариф для об\\'єкта страхування\"}, {\"name\": \"Name\", \"type\": \"String\", \"description\": \"Назва страхового об\\'єкта\"}, {\"name\": \"Covers\", \"type\": \"List<Cover>\", \"description\": \"Покриття, що надаються для страхового об\\'єкта\"}, {\"name\": \"Object\", \"type\": \"Object\", \"description\": \"Об\\'єкт, що Виводить на друк страховий об\\'єкт\"}, {\"name\": \"Coefficients\", \"type\": \"List<Coefficient>\", \"description\": \"Коефіцієнти, що застосовуються до страхового об\\'єкта\"}, {\"name\": \"EntityAttributes\", \"type\": \"List<EntityAttribute>\", \"description\": \"Атрибути об\\'єкта страхування, що описують його характеристики та властивості\"}, {\"name\": \"_InsuranceObjectTypeName\", \"type\": \"string\", \"description\": \"Курс валют, який використовується для валюти страхової суми\"}]}}\\n', 0.002957902768249157)\n",
      "\n",
      "Document 2: \n",
      " ('CLASSid111', {'category': 'classes'}, '{\"class\": \"Product\", \"members\": {\"Product\": [{\"name\": \"PolisNumber\", \"type\": \"String\", \"description\": \"Номер полісу\"}, {\"name\": \"BranchGID\", \"type\": \"Guid\", \"description\": \"Унікальний ідентифікатор відділення продажу полісу\"}, {\"name\": \"BeginingDate\", \"type\": \"DateTime\", \"description\": \"Дата початку дії продукту\"}, {\"name\": \"EndingDate\", \"type\": \"DateTime\", \"description\": \"Дата завершення дії продукту\"}, {\"name\": \"RegisteredDate\", \"type\": \"DateTime\", \"description\": \"Дата реєстрації продукту\"}, {\"name\": \"AgentReportNumber\", \"type\": \"String\", \"description\": \"Номер звіту агента, пов\\'язаного з продуктом\"}, {\"name\": \"Comment\", \"type\": \"String\", \"description\": \"Страхова сума продукту в національній валюті\"}, {\"name\": \"Comment\", \"type\": \"String\", \"description\": \"Додаткові коментарі або примітки до продукту\"}, {\"name\": \"Blanks\", \"type\": \"List<Blank>\", \"description\": \"Дата створення продукту\"}, {\"name\": \"Blanks\", \"type\": \"List<Blank>\", \"description\": \"Список бланків, пов\\'язаних з продуктом\"}, {\"name\": \"PaymentPeriods\", \"type\": \"List<PaymentPeriod>\", \"description\": \"Платіжні періоди, пов\\'язані з продуктом\"}, {\"name\": \"Programs\", \"type\": \"List<Program>\", \"description\": \"Програми, пов\\'язані з продуктом\"}, {\"name\": \"Contract\", \"type\": \"Contract\", \"description\": \"Генеральний договір, пов\\'язаний з продуктом\"}, {\"name\": \"Insurer\", \"type\": \"Signer\", \"description\": \"Страховик, пов\\'язаний з продуктом\"}, {\"name\": \"Responsible\", \"type\": \"Signer\", \"description\": \"Відповідальна особа за продукт\"}, {\"name\": \"EntityAttributes\", \"type\": \"List<EntityAttribute>\", \"description\": \"Атрибути об\\'єкта продукту, що описують його характеристики та властивості\"}, {\"name\": \"_BranchName\", \"type\": \"string\", \"description\": \"Дата початку дії оригінального продукту\"}]}}\\n', 0.002844909664979501)\n",
      "\n",
      "Document 3: \n",
      " ('CLASSid59', {'category': 'classes'}, '{\"class\": \"DocumentsToInsuranceObject\", \"members\": {\"DocumentsToInsuranceObject\": []}}\\n', 0.002217013022947387)\n",
      "\n",
      "Document 4: \n",
      " ('CLASSid46', {'category': 'classes'}, '{\"class\": \"Contract\", \"members\": {\"Contract\": [{\"name\": \"ContractNumber\", \"type\": \"String\", \"description\": \"Унікальний номер генерального договору, що використовується для його ідентифікації\"}, {\"name\": \"Comment\", \"type\": \"String\", \"description\": \"Дата початку дії генерального договору, з якої він стає чинним\"}, {\"name\": \"Comment\", \"type\": \"String\", \"description\": \"Дата завершення дії генерального договору, після якої він втрачає чинність\"}, {\"name\": \"Contragent\", \"type\": \"Signer\", \"description\": \"Контрагент за генеральним договором, що є стороною угоди\"}, {\"name\": \"Responsible\", \"type\": \"Signer\", \"description\": \"Відповідальна особа за генеральним договором, яка підписує його зі сторони страхової компанії\"}]}}\\n', 0.0014550629385328433)\n",
      "\n",
      "Document 5: \n",
      " ('CLASSid84', {'category': 'classes'}, '{\"class\": \"InsuranceApplicationOperation\", \"members\": {\"InsuranceApplicationOperation\": []}}\\n', 0.001008343541656317)\n",
      "\n",
      "Document 6: \n",
      " ('CLASSid86', {'category': 'classes'}, '{\"class\": \"InsuranceCompany\", \"members\": {\"InsuranceCompany\": []}}\\n', 0.0005463420892147277)\n",
      "\n",
      "Document 7: \n",
      " ('CLASSid85', {'category': 'classes'}, '{\"class\": \"InsuranceApplicationStatusChange\", \"members\": {\"InsuranceApplicationStatusChange\": []}}\\n', 0.000509265714385189)\n",
      "\n",
      "Document 8: \n",
      " ('CLASSid92', {'category': 'classes'}, '{\"class\": \"InsuranceType\", \"members\": {\"InsuranceType\": []}}\\n', 0.0004601058612790196)\n",
      "\n",
      "Document 9: \n",
      " ('CLASSid91', {'category': 'classes'}, '{\"class\": \"InsuranceSumProgram\", \"members\": {\"InsuranceSumProgram\": []}}\\n', 0.00044248728198402416)\n",
      "\n",
      "Document 10: \n",
      " ('CLASSid90', {'category': 'classes'}, '{\"class\": \"InsuranceSumInsuranceObject\", \"members\": {\"InsuranceSumInsuranceObject\": []}}\\n', 0.00044076294791510137)\n",
      "\n",
      "Document 11: \n",
      " ('CLASSid147', {'category': 'classes'}, '{\"class\": \"Vehicle\", \"members\": {\"Vehicle\": [{\"name\": \"BodyNumber\", \"type\": \"String\", \"description\": \"Глобальний унікальний ідентифікатор власника\"}, {\"name\": \"BodyNumber\", \"type\": \"String\", \"description\": \"Номер кузова транспортного засобу\"}, {\"name\": \"RegistrationNumber\", \"type\": \"String\", \"description\": \"Реєстраційний номер транспортного засобу\"}, {\"name\": \"RegistrationCertificate\", \"type\": \"String\", \"description\": \"Дата виготовлення транспортного засобу\"}, {\"name\": \"AnticreepDevice\", \"type\": \"String\", \"description\": \"Дата реєстрації транспортного засобу\"}, {\"name\": \"AnticreepDevice\", \"type\": \"String\", \"description\": \"Вартість транспортного засобу\"}, {\"name\": \"AnticreepDevice\", \"type\": \"String\", \"description\": \"Кількість місць у транспортному засобі\"}, {\"name\": \"AnticreepDevice\", \"type\": \"String\", \"description\": \"Антикрадіжний пристрій, встановлений на транспортному засобі\"}, {\"name\": \"AdditionalEquipment\", \"type\": \"String\", \"description\": \"Додаткове обладнання, встановлене на транспортному засобі\"}, {\"name\": \"RegistrationPlace\", \"type\": \"String\", \"description\": \"Місце реєстрації транспортного засобу\"}, {\"name\": \"TechDocModel\", \"type\": \"String\", \"description\": \"Пробіг транспортного засобу\"}, {\"name\": \"TechDocModel\", \"type\": \"String\", \"description\": \"Місткість транспортного засобу\"}, {\"name\": \"TechDocModel\", \"type\": \"String\", \"description\": \"Технічна модель транспортного засобу за документами\"}, {\"name\": \"OwnerName\", \"type\": \"string\", \"description\": \"Ім\\'я або назва власника транспортного засобу\"}, {\"name\": \"SettlementObject\", \"type\": \"Settlement\", \"description\": \"Об\\'єкт населеного пункту, пов\\'язаний з транспортним засобом\"}, {\"name\": \"Address\", \"type\": \"String\", \"description\": \"Адреса, пов\\'язана з транспортним засобом\"}, {\"name\": \"PostAddressObject\", \"type\": \"PostAddress\", \"description\": \"Поштова адреса, пов\\'язана з транспортним засобом\"}, {\"name\": \"SettlementValue\", \"type\": \"string\", \"description\": \"Повна маса, кг\"}, {\"name\": \"SettlementValue\", \"type\": \"string\", \"description\": \"Маса без навантаження, кг\"}, {\"name\": \"SettlementValue\", \"type\": \"string\", \"description\": \"Потужність, кВт\"}, {\"name\": \"SettlementValue\", \"type\": \"string\", \"description\": \"Походження з Америки?\"}, {\"name\": \"SettlementValue\", \"type\": \"string\", \"description\": \"Тип гібриду\"}, {\"name\": \"SettlementValue\", \"type\": \"string\", \"description\": \"Тип приводу\"}, {\"name\": \"SettlementValue\", \"type\": \"string\", \"description\": \"Ємність батараеї\"}]}}\\n', 0.0004076525923157939)\n",
      "\n",
      "Document 12: \n",
      " ('CLASSid141', {'category': 'classes'}, '{\"class\": \"SettlementCode\", \"members\": {\"SettlementCode\": []}}\\n', 0.00039204178923762814)\n",
      "\n",
      "Document 13: \n",
      " ('CLASSid88', {'category': 'classes'}, '{\"class\": \"InsuranceObjectType\", \"members\": {\"InsuranceObjectType\": []}}\\n', 0.0003668625952400239)\n",
      "\n",
      "Document 14: \n",
      " ('CLASSid49', {'category': 'classes'}, '{\"class\": \"ContractApplicationProductData\", \"members\": {\"ContractApplicationProductData\": []}}\\n', 0.000355579433280323)\n",
      "\n",
      "Document 15: \n",
      " ('CLASSid89', {'category': 'classes'}, '{\"class\": \"InsuranceScope\", \"members\": {\"InsuranceScope\": []}}\\n', 0.000302973407808812)\n",
      "\n",
      "Document 16: \n",
      " ('CLASSid56', {'category': 'classes'}, '{\"class\": \"Cover\", \"members\": {\"Cover\": [{\"name\": \"Franchises\", \"type\": \"List<Franchise>\", \"description\": \"Ліміт покриття, що визначає максимальну суму, яку можна отримати за покриття\"}, {\"name\": \"Franchises\", \"type\": \"List<Franchise>\", \"description\": \"Франшизи покриття, що визначають умови та обмеження покриття\"}]}}\\n', 0.000302973407808812)\n",
      "\n",
      "Document 17: \n",
      " ('CLASSid47', {'category': 'classes'}, '{\"class\": \"ContractApplication\", \"members\": {\"ContractApplication\": []}}\\n', 0.000251186788490731)\n",
      "\n",
      "Document 18: \n",
      " ('CLASSid136', {'category': 'classes'}, '{\"class\": \"Risk\", \"members\": {\"Risk\": []}}\\n', 8.220189478350844e-05)\n",
      "\n",
      "Document 19: \n",
      " ('CLASSid149', {'category': 'classes'}, '{\"class\": \"ViolatedUnderwritingRule\", \"members\": {\"ViolatedUnderwritingRule\": []}}\\n', 7.602479448313689e-05)\n",
      "\n",
      "Document 20: \n",
      " ('CLASSid129', {'category': 'classes'}, '{\"class\": \"ProgramViolatedUnderwritingRule\", \"members\": {\"ProgramViolatedUnderwritingRule\": []}}\\n', 7.086326620752597e-05)\n"
     ]
    }
   ],
   "execution_count": 22
  }
 ],
 "metadata": {
  "kernelspec": {
   "display_name": "Python 3",
   "language": "python",
   "name": "python3"
  },
  "language_info": {
   "codemirror_mode": {
    "name": "ipython",
    "version": 2
   },
   "file_extension": ".py",
   "mimetype": "text/x-python",
   "name": "python",
   "nbconvert_exporter": "python",
   "pygments_lexer": "ipython2",
   "version": "2.7.6"
  }
 },
 "nbformat": 4,
 "nbformat_minor": 5
}
