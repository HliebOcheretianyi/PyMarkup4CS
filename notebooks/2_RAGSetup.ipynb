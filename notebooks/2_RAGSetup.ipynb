{
 "cells": [
  {
   "cell_type": "code",
   "id": "initial_id",
   "metadata": {
    "collapsed": true,
    "ExecuteTime": {
     "end_time": "2025-07-13T19:46:59.792025Z",
     "start_time": "2025-07-13T19:46:50.805287Z"
    }
   },
   "source": [
    "import pandas as pd\n",
    "import numpy as np\n",
    "import json\n",
    "import re\n",
    "import os\n",
    "\n",
    "from chromadb.errors import UniqueConstraintError\n",
    "from importlib_metadata import metadata\n",
    "from torch.cuda import device\n",
    "from transformers import AutoTokenizer, AutoModelForCausalLM\n",
    "from sentence_transformers import SentenceTransformer\n",
    "\n",
    "import torch\n",
    "from sklearn.preprocessing import normalize\n",
    "\n",
    "import chromadb\n",
    "import joblib"
   ],
   "outputs": [],
   "execution_count": 1
  },
  {
   "metadata": {
    "ExecuteTime": {
     "end_time": "2025-07-13T19:46:59.807028Z",
     "start_time": "2025-07-13T19:46:59.797028Z"
    }
   },
   "cell_type": "code",
   "source": [
    "DATA_FOLDER = '../data'\n",
    "PROCESSED_DATA_FOLDER = '../data/processed_data'\n",
    "MODELS_FOLDER = '../data/DocProperties/incore-exporter/Workflow.DTO/Models'\n",
    "ML_FOLDER = '../data/ML'\n",
    "MODEL_ID = \"BAAI/bge-m3\""
   ],
   "id": "398186b6e63d129e",
   "outputs": [],
   "execution_count": 2
  },
  {
   "metadata": {
    "ExecuteTime": {
     "end_time": "2025-07-13T19:47:00.137341Z",
     "start_time": "2025-07-13T19:47:00.107334Z"
    }
   },
   "cell_type": "code",
   "source": [
    "print(f\"PyTorch version: {torch.__version__}\")\n",
    "print(f\"CUDA available: {torch.cuda.is_available()}\")\n",
    "print(f\"CUDA version: {torch.version.cuda}\")\n",
    "print(f\"Device count: {torch.cuda.device_count()}\")\n",
    "if torch.cuda.is_available():\n",
    "    print(f\"Device name: {torch.cuda.get_device_name(0)}\")"
   ],
   "id": "b511a18fe92cf520",
   "outputs": [
    {
     "name": "stdout",
     "output_type": "stream",
     "text": [
      "PyTorch version: 2.7.1+cu128\n",
      "CUDA available: True\n",
      "CUDA version: 12.8\n",
      "Device count: 1\n",
      "Device name: NVIDIA GeForce RTX 3060\n"
     ]
    }
   ],
   "execution_count": 3
  },
  {
   "metadata": {},
   "cell_type": "markdown",
   "source": [
    "## We recommend to use the following pipeline: hybrid retrieval + re-ranking.\n",
    "\n",
    "- [ ] Hybrid retrieval leverages the strengths of various methods, offering higher accuracy and stronger generalization capabilities. A classic example: using both embedding retrieval and the BM25 algorithm. Now, you can try to use BGE-M3, which supports both embedding and sparse retrieval. This allows you to obtain token weights (similar to the BM25) without any additional cost when generate dense embeddings. To use hybrid retrieval, you can refer to Vespa and Milvus.\n",
    "\n",
    "- [ ] As cross-encoder models, re-ranker demonstrates higher accuracy than bi-encoder embedding model. Utilizing the re-ranking model (e.g., bge-reranker, bge-reranker-v2) after retrieval can further filter the selected text."
   ],
   "id": "c8fe56400e899a63"
  },
  {
   "metadata": {
    "ExecuteTime": {
     "end_time": "2025-07-13T19:47:33.739373Z",
     "start_time": "2025-07-13T19:47:00.170349Z"
    }
   },
   "cell_type": "code",
   "source": [
    "# model = SentenceTransformer(MODEL_ID)\n",
    "model = SentenceTransformer(f'{ML_FOLDER}/BGE-m3')"
   ],
   "id": "dc2b2753d3f7ba21",
   "outputs": [
    {
     "data": {
      "text/plain": [
       "modules.json:   0%|          | 0.00/349 [00:00<?, ?B/s]"
      ],
      "application/vnd.jupyter.widget-view+json": {
       "version_major": 2,
       "version_minor": 0,
       "model_id": "36e7b48e04cd439aab5daa4cf55cfd15"
      }
     },
     "metadata": {},
     "output_type": "display_data"
    },
    {
     "name": "stderr",
     "output_type": "stream",
     "text": [
      "D:\\WORK\\InCore\\PyMarkup4CS\\venv\\lib\\site-packages\\huggingface_hub\\file_download.py:143: UserWarning: `huggingface_hub` cache-system uses symlinks by default to efficiently store duplicated files but your machine does not support them in D:\\ML\\HFcache\\hub\\models--BAAI--bge-m3. Caching files will still work but in a degraded version that might require more space on your disk. This warning can be disabled by setting the `HF_HUB_DISABLE_SYMLINKS_WARNING` environment variable. For more details, see https://huggingface.co/docs/huggingface_hub/how-to-cache#limitations.\n",
      "To support symlinks on Windows, you either need to activate Developer Mode or to run Python as an administrator. In order to activate developer mode, see this article: https://docs.microsoft.com/en-us/windows/apps/get-started/enable-your-device-for-development\n",
      "  warnings.warn(message)\n"
     ]
    },
    {
     "data": {
      "text/plain": [
       "config_sentence_transformers.json:   0%|          | 0.00/123 [00:00<?, ?B/s]"
      ],
      "application/vnd.jupyter.widget-view+json": {
       "version_major": 2,
       "version_minor": 0,
       "model_id": "c8761e7cae704ac7afb9344e800a9cb7"
      }
     },
     "metadata": {},
     "output_type": "display_data"
    },
    {
     "data": {
      "text/plain": [
       "README.md: 0.00B [00:00, ?B/s]"
      ],
      "application/vnd.jupyter.widget-view+json": {
       "version_major": 2,
       "version_minor": 0,
       "model_id": "d933771f4d964a6abdeec4261ae9dadd"
      }
     },
     "metadata": {},
     "output_type": "display_data"
    },
    {
     "data": {
      "text/plain": [
       "sentence_bert_config.json:   0%|          | 0.00/54.0 [00:00<?, ?B/s]"
      ],
      "application/vnd.jupyter.widget-view+json": {
       "version_major": 2,
       "version_minor": 0,
       "model_id": "0ce304b21726479fbd0da18d13866afb"
      }
     },
     "metadata": {},
     "output_type": "display_data"
    },
    {
     "data": {
      "text/plain": [
       "config.json:   0%|          | 0.00/687 [00:00<?, ?B/s]"
      ],
      "application/vnd.jupyter.widget-view+json": {
       "version_major": 2,
       "version_minor": 0,
       "model_id": "6547b57d80024d83a4e85d27d22b26ad"
      }
     },
     "metadata": {},
     "output_type": "display_data"
    },
    {
     "data": {
      "text/plain": [
       "pytorch_model.bin:   0%|          | 0.00/2.27G [00:00<?, ?B/s]"
      ],
      "application/vnd.jupyter.widget-view+json": {
       "version_major": 2,
       "version_minor": 0,
       "model_id": "0f815915d0e54abf8432dcb2588fa70c"
      }
     },
     "metadata": {},
     "output_type": "display_data"
    },
    {
     "data": {
      "text/plain": [
       "model.safetensors:   0%|          | 0.00/2.27G [00:00<?, ?B/s]"
      ],
      "application/vnd.jupyter.widget-view+json": {
       "version_major": 2,
       "version_minor": 0,
       "model_id": "dab45a8df116431ba9b2b9d74d06854a"
      }
     },
     "metadata": {},
     "output_type": "display_data"
    },
    {
     "data": {
      "text/plain": [
       "tokenizer_config.json:   0%|          | 0.00/444 [00:00<?, ?B/s]"
      ],
      "application/vnd.jupyter.widget-view+json": {
       "version_major": 2,
       "version_minor": 0,
       "model_id": "667ae566090d4131a320294850a64032"
      }
     },
     "metadata": {},
     "output_type": "display_data"
    },
    {
     "data": {
      "text/plain": [
       "sentencepiece.bpe.model:   0%|          | 0.00/5.07M [00:00<?, ?B/s]"
      ],
      "application/vnd.jupyter.widget-view+json": {
       "version_major": 2,
       "version_minor": 0,
       "model_id": "f2337e06c3734f2099ac0007c052d894"
      }
     },
     "metadata": {},
     "output_type": "display_data"
    },
    {
     "data": {
      "text/plain": [
       "tokenizer.json:   0%|          | 0.00/17.1M [00:00<?, ?B/s]"
      ],
      "application/vnd.jupyter.widget-view+json": {
       "version_major": 2,
       "version_minor": 0,
       "model_id": "4dffc9ac7a5e4a91abc46922bfa5417b"
      }
     },
     "metadata": {},
     "output_type": "display_data"
    },
    {
     "data": {
      "text/plain": [
       "special_tokens_map.json:   0%|          | 0.00/964 [00:00<?, ?B/s]"
      ],
      "application/vnd.jupyter.widget-view+json": {
       "version_major": 2,
       "version_minor": 0,
       "model_id": "b2b950039f284c9896aad2b47c76650b"
      }
     },
     "metadata": {},
     "output_type": "display_data"
    },
    {
     "data": {
      "text/plain": [
       "config.json:   0%|          | 0.00/191 [00:00<?, ?B/s]"
      ],
      "application/vnd.jupyter.widget-view+json": {
       "version_major": 2,
       "version_minor": 0,
       "model_id": "c59e9efa33184120b8d3f4c0c0a72f34"
      }
     },
     "metadata": {},
     "output_type": "display_data"
    }
   ],
   "execution_count": 4
  },
  {
   "metadata": {
    "ExecuteTime": {
     "end_time": "2025-07-13T19:47:33.769642Z",
     "start_time": "2025-07-13T19:47:33.755963Z"
    }
   },
   "cell_type": "code",
   "source": [
    "class SentenceTransformerEmbeddingFunction:\n",
    "    def __init__(self, model_name_or_path):\n",
    "        self.model_name = model_name_or_path\n",
    "        self.model = SentenceTransformer(model_name_or_path)\n",
    "\n",
    "    def __call__(self, input):\n",
    "        embeddings = self.model.encode(input, normalize_embeddings=True, device='cuda:0')\n",
    "        return embeddings.tolist()\n",
    "\n",
    "    def name(self):\n",
    "        return self.model_name"
   ],
   "id": "51d87fcf731e71be",
   "outputs": [],
   "execution_count": 5
  },
  {
   "metadata": {
    "ExecuteTime": {
     "end_time": "2025-07-13T19:47:42.575199Z",
     "start_time": "2025-07-13T19:47:33.785773Z"
    }
   },
   "cell_type": "code",
   "source": "# model.save(f'{ML_FOLDER}/BGE-m3')",
   "id": "2f1eafbe12de748",
   "outputs": [],
   "execution_count": 6
  },
  {
   "metadata": {
    "ExecuteTime": {
     "end_time": "2025-07-13T19:47:44.395804Z",
     "start_time": "2025-07-13T19:47:42.592203Z"
    }
   },
   "cell_type": "code",
   "source": [
    "# embedding_func = SentenceTransformerEmbeddingFunction(MODEL_ID)\n",
    "embedding_func = SentenceTransformerEmbeddingFunction(f'{ML_FOLDER}/BGE-m3')"
   ],
   "id": "be8ff5d3668121a",
   "outputs": [],
   "execution_count": 7
  },
  {
   "metadata": {
    "ExecuteTime": {
     "end_time": "2025-07-13T19:47:49.195367Z",
     "start_time": "2025-07-13T19:47:44.411812Z"
    }
   },
   "cell_type": "code",
   "source": [
    "class_vectors_v2 = []\n",
    "for file in os.listdir(f'{PROCESSED_DATA_FOLDER}/classes'):\n",
    "    with open(f'{PROCESSED_DATA_FOLDER}/classes/{file}', 'r', encoding='utf-8') as f:\n",
    "        line = f.read()\n",
    "        results = embedding_func(line)\n",
    "        class_vectors_v2.append(results)"
   ],
   "id": "5ab0f3b5dce4184",
   "outputs": [],
   "execution_count": 8
  },
  {
   "metadata": {
    "ExecuteTime": {
     "end_time": "2025-07-13T19:47:49.285388Z",
     "start_time": "2025-07-13T19:47:49.226375Z"
    }
   },
   "cell_type": "code",
   "source": [
    "class_vectors_v3 = pd.DataFrame(class_vectors_v2)\n",
    "class_vectors_v3"
   ],
   "id": "1d7bb6eaf4236be5",
   "outputs": [
    {
     "data": {
      "text/plain": [
       "         0         1         2         3         4         5         6     \\\n",
       "0    0.013050 -0.046113 -0.044793 -0.020217 -0.027509 -0.062423  0.056399   \n",
       "1    0.022854 -0.026327 -0.039258  0.006260 -0.031888 -0.040422  0.049038   \n",
       "2   -0.020735 -0.031802 -0.033753 -0.010971 -0.004630 -0.059646  0.042915   \n",
       "3   -0.011113 -0.017807 -0.028216 -0.000887 -0.011821 -0.049197  0.059271   \n",
       "4   -0.017301 -0.039470 -0.017234 -0.016681 -0.004020 -0.027047  0.054245   \n",
       "..        ...       ...       ...       ...       ...       ...       ...   \n",
       "144 -0.035152 -0.020645 -0.040086 -0.005385 -0.018264 -0.076614  0.047513   \n",
       "145 -0.061301 -0.064885 -0.012513  0.014143 -0.014113 -0.071864  0.021862   \n",
       "146 -0.038642 -0.056093 -0.029700  0.010163 -0.035860 -0.045055  0.071626   \n",
       "147 -0.059275 -0.007700 -0.002304 -0.002497 -0.020237 -0.052844  0.051197   \n",
       "148 -0.057147 -0.012307  0.011101  0.010492 -0.025362 -0.068225  0.038083   \n",
       "\n",
       "         7         8         9     ...      1014      1015      1016  \\\n",
       "0   -0.013958  0.013406  0.021537  ... -0.006939  0.000181 -0.003332   \n",
       "1    0.009782 -0.002681  0.004728  ... -0.000326  0.033952 -0.015754   \n",
       "2   -0.000403  0.001488  0.001282  ... -0.012531  0.019758 -0.006215   \n",
       "3    0.018424  0.007300  0.011133  ... -0.022455  0.041278 -0.008923   \n",
       "4    0.006750 -0.033397  0.016934  ... -0.012752  0.074418 -0.030674   \n",
       "..        ...       ...       ...  ...       ...       ...       ...   \n",
       "144 -0.045873  0.016580 -0.019762  ...  0.000220  0.042256  0.044803   \n",
       "145  0.018736  0.008848  0.037936  ...  0.017766 -0.023936  0.000420   \n",
       "146  0.008817  0.008483 -0.004579  ... -0.011845  0.044878  0.017026   \n",
       "147  0.005195 -0.002260 -0.001404  ...  0.019614  0.047648 -0.005751   \n",
       "148  0.003932 -0.016294 -0.000421  ...  0.017391  0.043084 -0.025496   \n",
       "\n",
       "         1017      1018      1019      1020      1021      1022      1023  \n",
       "0   -0.006464  0.007276  0.012404  0.027708  0.023567  0.001088 -0.058475  \n",
       "1   -0.000359  0.007099 -0.016202  0.044074 -0.008473 -0.032029 -0.013290  \n",
       "2    0.033143 -0.035400 -0.019717  0.025555  0.038884 -0.048065 -0.028586  \n",
       "3    0.027074 -0.033528 -0.024717  0.018434  0.031478 -0.033236 -0.011449  \n",
       "4   -0.006302 -0.017996 -0.019397  0.027810 -0.000163 -0.011114 -0.039693  \n",
       "..        ...       ...       ...       ...       ...       ...       ...  \n",
       "144  0.011301 -0.000735 -0.013274  0.010037  0.005243 -0.005301 -0.036255  \n",
       "145  0.015518 -0.021489 -0.000902  0.056634  0.034710 -0.037585 -0.039298  \n",
       "146  0.051305  0.000876 -0.030292  0.009970  0.051302 -0.027545 -0.000510  \n",
       "147  0.025689 -0.037365 -0.031524  0.048221  0.048494  0.001617 -0.012174  \n",
       "148  0.030078 -0.032483 -0.040945  0.038050  0.059035 -0.018574 -0.012131  \n",
       "\n",
       "[149 rows x 1024 columns]"
      ],
      "text/html": [
       "<div>\n",
       "<style scoped>\n",
       "    .dataframe tbody tr th:only-of-type {\n",
       "        vertical-align: middle;\n",
       "    }\n",
       "\n",
       "    .dataframe tbody tr th {\n",
       "        vertical-align: top;\n",
       "    }\n",
       "\n",
       "    .dataframe thead th {\n",
       "        text-align: right;\n",
       "    }\n",
       "</style>\n",
       "<table border=\"1\" class=\"dataframe\">\n",
       "  <thead>\n",
       "    <tr style=\"text-align: right;\">\n",
       "      <th></th>\n",
       "      <th>0</th>\n",
       "      <th>1</th>\n",
       "      <th>2</th>\n",
       "      <th>3</th>\n",
       "      <th>4</th>\n",
       "      <th>5</th>\n",
       "      <th>6</th>\n",
       "      <th>7</th>\n",
       "      <th>8</th>\n",
       "      <th>9</th>\n",
       "      <th>...</th>\n",
       "      <th>1014</th>\n",
       "      <th>1015</th>\n",
       "      <th>1016</th>\n",
       "      <th>1017</th>\n",
       "      <th>1018</th>\n",
       "      <th>1019</th>\n",
       "      <th>1020</th>\n",
       "      <th>1021</th>\n",
       "      <th>1022</th>\n",
       "      <th>1023</th>\n",
       "    </tr>\n",
       "  </thead>\n",
       "  <tbody>\n",
       "    <tr>\n",
       "      <th>0</th>\n",
       "      <td>0.013050</td>\n",
       "      <td>-0.046113</td>\n",
       "      <td>-0.044793</td>\n",
       "      <td>-0.020217</td>\n",
       "      <td>-0.027509</td>\n",
       "      <td>-0.062423</td>\n",
       "      <td>0.056399</td>\n",
       "      <td>-0.013958</td>\n",
       "      <td>0.013406</td>\n",
       "      <td>0.021537</td>\n",
       "      <td>...</td>\n",
       "      <td>-0.006939</td>\n",
       "      <td>0.000181</td>\n",
       "      <td>-0.003332</td>\n",
       "      <td>-0.006464</td>\n",
       "      <td>0.007276</td>\n",
       "      <td>0.012404</td>\n",
       "      <td>0.027708</td>\n",
       "      <td>0.023567</td>\n",
       "      <td>0.001088</td>\n",
       "      <td>-0.058475</td>\n",
       "    </tr>\n",
       "    <tr>\n",
       "      <th>1</th>\n",
       "      <td>0.022854</td>\n",
       "      <td>-0.026327</td>\n",
       "      <td>-0.039258</td>\n",
       "      <td>0.006260</td>\n",
       "      <td>-0.031888</td>\n",
       "      <td>-0.040422</td>\n",
       "      <td>0.049038</td>\n",
       "      <td>0.009782</td>\n",
       "      <td>-0.002681</td>\n",
       "      <td>0.004728</td>\n",
       "      <td>...</td>\n",
       "      <td>-0.000326</td>\n",
       "      <td>0.033952</td>\n",
       "      <td>-0.015754</td>\n",
       "      <td>-0.000359</td>\n",
       "      <td>0.007099</td>\n",
       "      <td>-0.016202</td>\n",
       "      <td>0.044074</td>\n",
       "      <td>-0.008473</td>\n",
       "      <td>-0.032029</td>\n",
       "      <td>-0.013290</td>\n",
       "    </tr>\n",
       "    <tr>\n",
       "      <th>2</th>\n",
       "      <td>-0.020735</td>\n",
       "      <td>-0.031802</td>\n",
       "      <td>-0.033753</td>\n",
       "      <td>-0.010971</td>\n",
       "      <td>-0.004630</td>\n",
       "      <td>-0.059646</td>\n",
       "      <td>0.042915</td>\n",
       "      <td>-0.000403</td>\n",
       "      <td>0.001488</td>\n",
       "      <td>0.001282</td>\n",
       "      <td>...</td>\n",
       "      <td>-0.012531</td>\n",
       "      <td>0.019758</td>\n",
       "      <td>-0.006215</td>\n",
       "      <td>0.033143</td>\n",
       "      <td>-0.035400</td>\n",
       "      <td>-0.019717</td>\n",
       "      <td>0.025555</td>\n",
       "      <td>0.038884</td>\n",
       "      <td>-0.048065</td>\n",
       "      <td>-0.028586</td>\n",
       "    </tr>\n",
       "    <tr>\n",
       "      <th>3</th>\n",
       "      <td>-0.011113</td>\n",
       "      <td>-0.017807</td>\n",
       "      <td>-0.028216</td>\n",
       "      <td>-0.000887</td>\n",
       "      <td>-0.011821</td>\n",
       "      <td>-0.049197</td>\n",
       "      <td>0.059271</td>\n",
       "      <td>0.018424</td>\n",
       "      <td>0.007300</td>\n",
       "      <td>0.011133</td>\n",
       "      <td>...</td>\n",
       "      <td>-0.022455</td>\n",
       "      <td>0.041278</td>\n",
       "      <td>-0.008923</td>\n",
       "      <td>0.027074</td>\n",
       "      <td>-0.033528</td>\n",
       "      <td>-0.024717</td>\n",
       "      <td>0.018434</td>\n",
       "      <td>0.031478</td>\n",
       "      <td>-0.033236</td>\n",
       "      <td>-0.011449</td>\n",
       "    </tr>\n",
       "    <tr>\n",
       "      <th>4</th>\n",
       "      <td>-0.017301</td>\n",
       "      <td>-0.039470</td>\n",
       "      <td>-0.017234</td>\n",
       "      <td>-0.016681</td>\n",
       "      <td>-0.004020</td>\n",
       "      <td>-0.027047</td>\n",
       "      <td>0.054245</td>\n",
       "      <td>0.006750</td>\n",
       "      <td>-0.033397</td>\n",
       "      <td>0.016934</td>\n",
       "      <td>...</td>\n",
       "      <td>-0.012752</td>\n",
       "      <td>0.074418</td>\n",
       "      <td>-0.030674</td>\n",
       "      <td>-0.006302</td>\n",
       "      <td>-0.017996</td>\n",
       "      <td>-0.019397</td>\n",
       "      <td>0.027810</td>\n",
       "      <td>-0.000163</td>\n",
       "      <td>-0.011114</td>\n",
       "      <td>-0.039693</td>\n",
       "    </tr>\n",
       "    <tr>\n",
       "      <th>...</th>\n",
       "      <td>...</td>\n",
       "      <td>...</td>\n",
       "      <td>...</td>\n",
       "      <td>...</td>\n",
       "      <td>...</td>\n",
       "      <td>...</td>\n",
       "      <td>...</td>\n",
       "      <td>...</td>\n",
       "      <td>...</td>\n",
       "      <td>...</td>\n",
       "      <td>...</td>\n",
       "      <td>...</td>\n",
       "      <td>...</td>\n",
       "      <td>...</td>\n",
       "      <td>...</td>\n",
       "      <td>...</td>\n",
       "      <td>...</td>\n",
       "      <td>...</td>\n",
       "      <td>...</td>\n",
       "      <td>...</td>\n",
       "      <td>...</td>\n",
       "    </tr>\n",
       "    <tr>\n",
       "      <th>144</th>\n",
       "      <td>-0.035152</td>\n",
       "      <td>-0.020645</td>\n",
       "      <td>-0.040086</td>\n",
       "      <td>-0.005385</td>\n",
       "      <td>-0.018264</td>\n",
       "      <td>-0.076614</td>\n",
       "      <td>0.047513</td>\n",
       "      <td>-0.045873</td>\n",
       "      <td>0.016580</td>\n",
       "      <td>-0.019762</td>\n",
       "      <td>...</td>\n",
       "      <td>0.000220</td>\n",
       "      <td>0.042256</td>\n",
       "      <td>0.044803</td>\n",
       "      <td>0.011301</td>\n",
       "      <td>-0.000735</td>\n",
       "      <td>-0.013274</td>\n",
       "      <td>0.010037</td>\n",
       "      <td>0.005243</td>\n",
       "      <td>-0.005301</td>\n",
       "      <td>-0.036255</td>\n",
       "    </tr>\n",
       "    <tr>\n",
       "      <th>145</th>\n",
       "      <td>-0.061301</td>\n",
       "      <td>-0.064885</td>\n",
       "      <td>-0.012513</td>\n",
       "      <td>0.014143</td>\n",
       "      <td>-0.014113</td>\n",
       "      <td>-0.071864</td>\n",
       "      <td>0.021862</td>\n",
       "      <td>0.018736</td>\n",
       "      <td>0.008848</td>\n",
       "      <td>0.037936</td>\n",
       "      <td>...</td>\n",
       "      <td>0.017766</td>\n",
       "      <td>-0.023936</td>\n",
       "      <td>0.000420</td>\n",
       "      <td>0.015518</td>\n",
       "      <td>-0.021489</td>\n",
       "      <td>-0.000902</td>\n",
       "      <td>0.056634</td>\n",
       "      <td>0.034710</td>\n",
       "      <td>-0.037585</td>\n",
       "      <td>-0.039298</td>\n",
       "    </tr>\n",
       "    <tr>\n",
       "      <th>146</th>\n",
       "      <td>-0.038642</td>\n",
       "      <td>-0.056093</td>\n",
       "      <td>-0.029700</td>\n",
       "      <td>0.010163</td>\n",
       "      <td>-0.035860</td>\n",
       "      <td>-0.045055</td>\n",
       "      <td>0.071626</td>\n",
       "      <td>0.008817</td>\n",
       "      <td>0.008483</td>\n",
       "      <td>-0.004579</td>\n",
       "      <td>...</td>\n",
       "      <td>-0.011845</td>\n",
       "      <td>0.044878</td>\n",
       "      <td>0.017026</td>\n",
       "      <td>0.051305</td>\n",
       "      <td>0.000876</td>\n",
       "      <td>-0.030292</td>\n",
       "      <td>0.009970</td>\n",
       "      <td>0.051302</td>\n",
       "      <td>-0.027545</td>\n",
       "      <td>-0.000510</td>\n",
       "    </tr>\n",
       "    <tr>\n",
       "      <th>147</th>\n",
       "      <td>-0.059275</td>\n",
       "      <td>-0.007700</td>\n",
       "      <td>-0.002304</td>\n",
       "      <td>-0.002497</td>\n",
       "      <td>-0.020237</td>\n",
       "      <td>-0.052844</td>\n",
       "      <td>0.051197</td>\n",
       "      <td>0.005195</td>\n",
       "      <td>-0.002260</td>\n",
       "      <td>-0.001404</td>\n",
       "      <td>...</td>\n",
       "      <td>0.019614</td>\n",
       "      <td>0.047648</td>\n",
       "      <td>-0.005751</td>\n",
       "      <td>0.025689</td>\n",
       "      <td>-0.037365</td>\n",
       "      <td>-0.031524</td>\n",
       "      <td>0.048221</td>\n",
       "      <td>0.048494</td>\n",
       "      <td>0.001617</td>\n",
       "      <td>-0.012174</td>\n",
       "    </tr>\n",
       "    <tr>\n",
       "      <th>148</th>\n",
       "      <td>-0.057147</td>\n",
       "      <td>-0.012307</td>\n",
       "      <td>0.011101</td>\n",
       "      <td>0.010492</td>\n",
       "      <td>-0.025362</td>\n",
       "      <td>-0.068225</td>\n",
       "      <td>0.038083</td>\n",
       "      <td>0.003932</td>\n",
       "      <td>-0.016294</td>\n",
       "      <td>-0.000421</td>\n",
       "      <td>...</td>\n",
       "      <td>0.017391</td>\n",
       "      <td>0.043084</td>\n",
       "      <td>-0.025496</td>\n",
       "      <td>0.030078</td>\n",
       "      <td>-0.032483</td>\n",
       "      <td>-0.040945</td>\n",
       "      <td>0.038050</td>\n",
       "      <td>0.059035</td>\n",
       "      <td>-0.018574</td>\n",
       "      <td>-0.012131</td>\n",
       "    </tr>\n",
       "  </tbody>\n",
       "</table>\n",
       "<p>149 rows × 1024 columns</p>\n",
       "</div>"
      ]
     },
     "execution_count": 9,
     "metadata": {},
     "output_type": "execute_result"
    }
   ],
   "execution_count": 9
  },
  {
   "metadata": {
    "ExecuteTime": {
     "end_time": "2025-07-13T19:47:49.347403Z",
     "start_time": "2025-07-13T19:47:49.335399Z"
    }
   },
   "cell_type": "code",
   "source": "# vectors = model.encode_document(f'{DATA_FOLDER}/Models_doc.jsonl', show_progress_bar=True, device='cuda:0', normalize_embeddings=True)",
   "id": "b5dc715ce1f352bc",
   "outputs": [],
   "execution_count": 10
  },
  {
   "metadata": {
    "ExecuteTime": {
     "end_time": "2025-07-13T19:47:49.545447Z",
     "start_time": "2025-07-13T19:47:49.535445Z"
    }
   },
   "cell_type": "code",
   "source": [
    "# vectors = pd.DataFrame(vectors)\n",
    "# vectors"
   ],
   "id": "49c2254e4dff0276",
   "outputs": [],
   "execution_count": 11
  },
  {
   "metadata": {
    "ExecuteTime": {
     "end_time": "2025-07-13T19:47:49.560450Z",
     "start_time": "2025-07-13T19:47:49.554450Z"
    }
   },
   "cell_type": "code",
   "source": "# vectors.shape",
   "id": "dad6e1559e30baf8",
   "outputs": [],
   "execution_count": 12
  },
  {
   "metadata": {
    "ExecuteTime": {
     "end_time": "2025-07-13T19:48:40.659488Z",
     "start_time": "2025-07-13T19:47:49.570453Z"
    }
   },
   "cell_type": "code",
   "source": [
    "trainig_vectors_v1 = []\n",
    "for file in os.listdir(f'{PROCESSED_DATA_FOLDER}/training'):\n",
    "    with open(f'{PROCESSED_DATA_FOLDER}/training/{file}', 'r', encoding='utf-8') as f:\n",
    "        line = f.read()\n",
    "        results = embedding_func(line)\n",
    "        trainig_vectors_v1.append(results)"
   ],
   "id": "5a11be86109d5008",
   "outputs": [],
   "execution_count": 13
  },
  {
   "metadata": {
    "ExecuteTime": {
     "end_time": "2025-07-13T19:48:41.055578Z",
     "start_time": "2025-07-13T19:48:41.041576Z"
    }
   },
   "cell_type": "code",
   "source": "# vectors_2 = model.encode_document(f'{DATA_FOLDER}/DocProperties_JSONL.jsonl', show_progress_bar=True, device='cuda:0', normalize_embeddings=True)",
   "id": "f96058e7f47dcf0c",
   "outputs": [],
   "execution_count": 14
  },
  {
   "metadata": {
    "ExecuteTime": {
     "end_time": "2025-07-13T19:48:41.071582Z",
     "start_time": "2025-07-13T19:48:41.062580Z"
    }
   },
   "cell_type": "code",
   "source": [
    "# vectors_2 = pd.DataFrame(vectors_2)\n",
    "# vectors_2"
   ],
   "id": "82aeaff16b98e35a",
   "outputs": [],
   "execution_count": 15
  },
  {
   "metadata": {
    "ExecuteTime": {
     "end_time": "2025-07-13T19:48:41.086585Z",
     "start_time": "2025-07-13T19:48:41.075583Z"
    }
   },
   "cell_type": "code",
   "source": "# vectors_2.shape",
   "id": "e85d1c4140054e01",
   "outputs": [],
   "execution_count": 16
  },
  {
   "metadata": {
    "ExecuteTime": {
     "end_time": "2025-07-13T19:48:41.197610Z",
     "start_time": "2025-07-13T19:48:41.090587Z"
    }
   },
   "cell_type": "code",
   "source": "chrome_persistent_client = chromadb.PersistentClient(path=f'{DATA_FOLDER}/chromadb')",
   "id": "e1e8bb06923005a",
   "outputs": [],
   "execution_count": 17
  },
  {
   "metadata": {
    "ExecuteTime": {
     "end_time": "2025-07-13T19:48:41.213614Z",
     "start_time": "2025-07-13T19:48:41.203614Z"
    }
   },
   "cell_type": "code",
   "source": "# chrome_persistent_client.list_collections()",
   "id": "c0acdb72f9616401",
   "outputs": [],
   "execution_count": 18
  },
  {
   "metadata": {
    "ExecuteTime": {
     "end_time": "2025-07-13T19:48:41.229617Z",
     "start_time": "2025-07-13T19:48:41.219615Z"
    }
   },
   "cell_type": "code",
   "source": "# chrome_persistent_client.delete_collection('my_rag_v1')",
   "id": "7cf5d2af75eeda02",
   "outputs": [],
   "execution_count": 19
  },
  {
   "metadata": {
    "ExecuteTime": {
     "end_time": "2025-07-13T19:48:41.261625Z",
     "start_time": "2025-07-13T19:48:41.241621Z"
    }
   },
   "cell_type": "code",
   "source": [
    "# try:\n",
    "#     collection = chrome_persistent_client.create_collection(name='my_rag_v1', embedding_function=embedding_func)\n",
    "# finally:\n",
    "\n",
    "collection = chrome_persistent_client.get_collection(name='my_rag_v1', embedding_function=embedding_func)"
   ],
   "id": "f2052410e77be5ae",
   "outputs": [],
   "execution_count": 20
  },
  {
   "metadata": {
    "ExecuteTime": {
     "end_time": "2025-07-13T19:48:41.277628Z",
     "start_time": "2025-07-13T19:48:41.268628Z"
    }
   },
   "cell_type": "code",
   "source": "",
   "id": "88b4e7a91f6ee20a",
   "outputs": [],
   "execution_count": null
  },
  {
   "metadata": {
    "ExecuteTime": {
     "end_time": "2025-07-13T19:48:41.293632Z",
     "start_time": "2025-07-13T19:48:41.282630Z"
    }
   },
   "cell_type": "code",
   "source": [
    "documents = []\n",
    "metadatas =()\n",
    "ids = []\n",
    "embeddings = []\n",
    "\n",
    "class_folder = os.listdir(f'{PROCESSED_DATA_FOLDER}/classes')\n",
    "training_folder = os.listdir(f'{PROCESSED_DATA_FOLDER}/training')"
   ],
   "id": "3d0295ccb6292f0b",
   "outputs": [],
   "execution_count": 21
  },
  {
   "metadata": {
    "ExecuteTime": {
     "end_time": "2025-07-13T19:48:41.545700Z",
     "start_time": "2025-07-13T19:48:41.402657Z"
    }
   },
   "cell_type": "code",
   "source": [
    "for file in class_folder:\n",
    "    with open(f'{PROCESSED_DATA_FOLDER}/classes/{file}', 'r', encoding='utf-8') as f:\n",
    "        documents.append(f.read())\n",
    "\n",
    "for file in training_folder:\n",
    "    with open(f'{PROCESSED_DATA_FOLDER}/training/{file}', 'r', encoding='utf-8') as f:\n",
    "        documents.append(f.read())"
   ],
   "id": "e22bd89e04228a0c",
   "outputs": [],
   "execution_count": 22
  },
  {
   "metadata": {
    "ExecuteTime": {
     "end_time": "2025-07-13T19:48:41.577707Z",
     "start_time": "2025-07-13T19:48:41.562704Z"
    }
   },
   "cell_type": "code",
   "source": [
    "metadatas = (\n",
    "    [{'category': 'classes'} for _ in class_folder] +\n",
    "    [{'category': 'code + explanation'} for _ in training_folder]\n",
    ")"
   ],
   "id": "f0a8c0b2d222e972",
   "outputs": [],
   "execution_count": 23
  },
  {
   "metadata": {
    "ExecuteTime": {
     "end_time": "2025-07-13T19:48:41.609715Z",
     "start_time": "2025-07-13T19:48:41.594711Z"
    }
   },
   "cell_type": "code",
   "source": "ids = [f'id{i}' for i in range(1, len(class_folder) + len(training_folder) + 1)]",
   "id": "f2afc9ef537825b5",
   "outputs": [],
   "execution_count": 24
  },
  {
   "metadata": {
    "ExecuteTime": {
     "end_time": "2025-07-13T19:48:41.641724Z",
     "start_time": "2025-07-13T19:48:41.626718Z"
    }
   },
   "cell_type": "code",
   "source": [
    "embeddings.extend(class_vectors_v2)\n",
    "embeddings.extend(trainig_vectors_v1)"
   ],
   "id": "88f9ffc995559cb7",
   "outputs": [],
   "execution_count": 25
  },
  {
   "metadata": {
    "ExecuteTime": {
     "end_time": "2025-07-13T19:48:42.644221Z",
     "start_time": "2025-07-13T19:48:41.658732Z"
    }
   },
   "cell_type": "code",
   "source": [
    "collection.upsert(\n",
    "    documents=documents,\n",
    "    metadatas=metadatas,\n",
    "    ids=ids,\n",
    "    embeddings=embeddings,\n",
    ")"
   ],
   "id": "92aaec02eaa33522",
   "outputs": [],
   "execution_count": 26
  },
  {
   "metadata": {
    "ExecuteTime": {
     "end_time": "2025-07-13T19:49:21.813527Z",
     "start_time": "2025-07-13T19:49:21.762515Z"
    }
   },
   "cell_type": "code",
   "source": [
    "result = collection.query(\n",
    "    query_texts=['Write a codefor insurance with the document 207'],\n",
    "    n_results=7,\n",
    ")\n",
    "result"
   ],
   "id": "4faeb872d29570ea",
   "outputs": [
    {
     "data": {
      "text/plain": [
       "{'ids': [['id390', 'id331', 'id260', 'id991', 'id215', 'id288', 'id456']],\n",
       " 'embeddings': None,\n",
       " 'documents': [['{\"id\": 651, \"name\": \"721LetterSubject\", \"messages\": [{\"role\": \"user\", \"content\": \"Пояснення:\\\\nnan\"}, {\"role\": \"assistant\", \"content\": \"C# code:\\\\n__Result = \\\\\"Договір страхування \\\\\\\\\\\\\"Калібр\\\\\\\\\\\\\" номер \\\\\" + __Product.PolisNumber;\\\\n\"}]}\\n',\n",
       "   '{\"id\": 594, \"name\": \"716LetterSubject\", \"messages\": [{\"role\": \"user\", \"content\": \"Пояснення:\\\\nnan\"}, {\"role\": \"assistant\", \"content\": \"C# code:\\\\n__Result = \\\\\"Договір страхування \\\\\\\\\\\\\"Медичне страхування фізичних осіб\\\\\\\\\\\\\" номер \\\\\" + __Product.PolisNumber;\\\\n\"}]}\\n',\n",
       "   '{\"id\": 722, \"name\": \"702MiniCasko\", \"messages\": [{\"role\": \"user\", \"content\": \"Пояснення:\\\\nnan\"}, {\"role\": \"assistant\", \"content\": \"C# code:\\\\n__Result = \\\\\"Договір страхування МІНІ КАСКО номер \\\\\" + __Product.PolisNumber;\\\\n\"}]}\\n',\n",
       "   '{\"id\": 653, \"name\": \"SMS721\", \"messages\": [{\"role\": \"user\", \"content\": \"Пояснення:\\\\nnan\"}, {\"role\": \"assistant\", \"content\": \"C# code:\\\\n__Result = \\\\\"Разовий ідентифікатор для підписання договору \\\\\\\\\\\\\"Калібр\\\\\\\\\\\\\": {smscode}, посилання для оплати \\\\\" + __Context.GetSetting(\\\\\"PaymentURL\\\\\") + __InsuranceApplication.id.ToString() + \\\\\"-\\\\\" + __InsuranceApplication.gid.ToString().Substring(0, __InsuranceApplication.gid.ToString().IndexOf(\\\\\"-\\\\\"));\\\\n\"}]}\\n',\n",
       "   '{\"id\": 191, \"name\": \"219LetterSubject\", \"messages\": [{\"role\": \"user\", \"content\": \"Пояснення:\\\\nnan\"}, {\"role\": \"assistant\", \"content\": \"C# code:\\\\n__Result = \\\\\"Договір страхування \\\\\\\\\\\\\"Автопарасолька\\\\\\\\\\\\\" номер \\\\\" + __Product.PolisNumber;\\\\n\"}]}\\n',\n",
       "   '{\"id\": 582, \"name\": \"708InsuredActualAddress\", \"messages\": [{\"role\": \"user\", \"content\": \"Пояснення:\\\\nnan\"}, {\"role\": \"assistant\", \"content\": \"C# code:\\\\n__Result = \\\\\"---\\\\\";\\\\nWorkflow.DTO.Models.Program program = __Product.Programs.FirstOrDefault(p => p.GetInsuranceTypeCode() == \\\\\"102\\\\\");\\\\nif (program != null)\\\\n{\\\\n\\\\tint count = program.InsuranceObjects.Where(i => i.GetInsuranceObjectTypeName() == \\\\\"Об’єкт страхування\\\\\").Count();\\\\n\\\\tif (count >= 2)\\\\n\\\\t{\\\\n\\\\t\\\\t__Result = \\\\\"Згідно Додатку №1\\\\\";\\\\n\\\\t}\\\\n\\\\telse\\\\n\\\\t{\\\\n\\\\t\\\\t\\\\tWorkflow.DTO.Models.InsuranceObject insuranceObject = program.InsuranceObjects.FirstOrDefault(i => i.GetInsuranceObjectTypeName() == \\\\\"Об’єкт страхування\\\\\");\\\\n\\\\t\\\\tif (insuranceObject != null && insuranceObject.Object != null)\\\\n\\\\t\\\\t{\\\\n\\\\t\\\\t\\\\tWorkflow.DTO.Models.Face insuredFace = (Workflow.DTO.Models.Face)insuranceObject.Object;\\\\n\\\\t\\\\t\\\\tif (insuredFace != null && insuredFace.PostAddressObject != null)\\\\n\\\\t\\\\t\\\\t{\\\\n\\\\t\\\\t\\\\t\\\\tif (insuredFace.PostAddressObject.GetParentRegionName() == insuredFace.PostAddressObject.GetRegionName())\\\\n\\\\t\\\\t\\\\t\\\\t{\\\\n\\\\t\\\\t\\\\t\\\\t\\\\t__Result = insuredFace.PostAddressObject.PostCode + \\\\\" \\\\\" + insuredFace.PostAddressObject.GetParentRegionName() + \\\\\", \\\\\" + insuredFace.PostAddressObject.GetSettlementName() + \\\\\", \\\\\" + insuredFace.PostAddressObject.GetStreetTypeName() + \\\\\" \\\\\" + insuredFace.PostAddressObject.Street + \\\\\", б. \\\\\" + insuredFace.PostAddressObject.House + \\\\\", кв. \\\\\" + insuredFace.PostAddressObject.Flat;\\\\n\\\\t\\\\t\\\\t\\\\t}\\\\n\\\\t\\\\t\\\\t\\\\telse\\\\n\\\\t\\\\t\\\\t\\\\t{\\\\n\\\\t\\\\t\\\\t\\\\t\\\\t\\\\t\\\\t\\\\t\\\\t__Result = insuredFace.PostAddressObject.PostCode + \\\\\" \\\\\" + insuredFace.PostAddressObject.GetParentRegionName() + \\\\\", \\\\\" + insuredFace.PostAddressObject.GetRegionName() + \\\\\", \\\\\" + insuredFace.PostAddressObject.GetSettlementName() + \\\\\", \\\\\" + insuredFace.PostAddressObject.GetStreetTypeName() + \\\\\" \\\\\" + insuredFace.PostAddressObject.Street + \\\\\", б. \\\\\" + insuredFace.PostAddressObject.House + \\\\\", кв. \\\\\" + insuredFace.PostAddressObject.Flat;\\\\n\\\\t\\\\t\\\\t\\\\t}\\\\n\\\\t\\\\t\\\\t}\\\\n\\\\t\\\\t}\\\\n\\\\t}\\\\n}\\\\n\"}]}\\n',\n",
       "   '{\"id\": 357, \"name\": \"730Subject\", \"messages\": [{\"role\": \"user\", \"content\": \"Пояснення:\\\\nnan\"}, {\"role\": \"assistant\", \"content\": \"C# code:\\\\n__Result = \\\\\"Договір страхування \\\\\\\\\\\\\"Маєток. Маємо-дбаємо\\\\\\\\\\\\\" номер \\\\\" + __Product.PolisNumber;\\\\n\"}]}\\n']],\n",
       " 'uris': None,\n",
       " 'included': ['metadatas', 'documents', 'distances'],\n",
       " 'data': None,\n",
       " 'metadatas': [[{'category': 'code + explanation'},\n",
       "   {'category': 'code + explanation'},\n",
       "   {'category': 'code + explanation'},\n",
       "   {'category': 'code + explanation'},\n",
       "   {'category': 'code + explanation'},\n",
       "   {'category': 'code + explanation'},\n",
       "   {'category': 'code + explanation'}]],\n",
       " 'distances': [[0.7744050621986389,\n",
       "   0.8192708492279053,\n",
       "   0.8228539228439331,\n",
       "   0.8306537866592407,\n",
       "   0.8322550654411316,\n",
       "   0.8325232267379761,\n",
       "   0.8340964913368225]]}"
      ]
     },
     "execution_count": 28,
     "metadata": {},
     "output_type": "execute_result"
    }
   ],
   "execution_count": 28
  },
  {
   "metadata": {
    "ExecuteTime": {
     "end_time": "2025-07-13T19:48:42.740242Z",
     "start_time": "2025-07-13T19:48:42.725240Z"
    }
   },
   "cell_type": "code",
   "source": "",
   "id": "81f463073b40fa27",
   "outputs": [],
   "execution_count": null
  }
 ],
 "metadata": {
  "kernelspec": {
   "display_name": "Python 3",
   "language": "python",
   "name": "python3"
  },
  "language_info": {
   "codemirror_mode": {
    "name": "ipython",
    "version": 2
   },
   "file_extension": ".py",
   "mimetype": "text/x-python",
   "name": "python",
   "nbconvert_exporter": "python",
   "pygments_lexer": "ipython2",
   "version": "2.7.6"
  }
 },
 "nbformat": 4,
 "nbformat_minor": 5
}
