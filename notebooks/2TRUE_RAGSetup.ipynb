{
 "cells": [
  {
   "cell_type": "code",
   "id": "initial_id",
   "metadata": {
    "collapsed": true,
    "ExecuteTime": {
     "end_time": "2025-07-11T23:27:22.881771Z",
     "start_time": "2025-07-11T23:27:13.982438Z"
    }
   },
   "source": [
    "import pandas as pd\n",
    "import numpy as np\n",
    "import json\n",
    "import re\n",
    "import os\n",
    "\n",
    "from chromadb.errors import UniqueConstraintError\n",
    "from transformers import AutoTokenizer, AutoModelForCausalLM\n",
    "from sentence_transformers import SentenceTransformer\n",
    "\n",
    "import torch\n",
    "from sklearn.preprocessing import normalize\n",
    "\n",
    "import chromadb"
   ],
   "outputs": [],
   "execution_count": 1
  },
  {
   "metadata": {
    "ExecuteTime": {
     "end_time": "2025-07-11T23:27:22.897776Z",
     "start_time": "2025-07-11T23:27:22.885773Z"
    }
   },
   "cell_type": "code",
   "source": [
    "DATA_FOLDER = '../data'\n",
    "MODELS_FOLDER = '../data/DocProperties/incore-exporter/Workflow.DTO/Models'\n",
    "MODEL_ID = \"BAAI/bge-m3\""
   ],
   "id": "398186b6e63d129e",
   "outputs": [],
   "execution_count": 2
  },
  {
   "metadata": {
    "ExecuteTime": {
     "end_time": "2025-07-11T23:27:23.182452Z",
     "start_time": "2025-07-11T23:27:23.153549Z"
    }
   },
   "cell_type": "code",
   "source": [
    "print(f\"PyTorch version: {torch.__version__}\")\n",
    "print(f\"CUDA available: {torch.cuda.is_available()}\")\n",
    "print(f\"CUDA version: {torch.version.cuda}\")\n",
    "print(f\"Device count: {torch.cuda.device_count()}\")\n",
    "if torch.cuda.is_available():\n",
    "    print(f\"Device name: {torch.cuda.get_device_name(0)}\")"
   ],
   "id": "b511a18fe92cf520",
   "outputs": [
    {
     "name": "stdout",
     "output_type": "stream",
     "text": [
      "PyTorch version: 2.7.1+cu128\n",
      "CUDA available: True\n",
      "CUDA version: 12.8\n",
      "Device count: 1\n",
      "Device name: NVIDIA GeForce RTX 3060\n"
     ]
    }
   ],
   "execution_count": 3
  },
  {
   "metadata": {},
   "cell_type": "markdown",
   "source": [
    "## We recommend to use the following pipeline: hybrid retrieval + re-ranking.\n",
    "\n",
    "- [ ] Hybrid retrieval leverages the strengths of various methods, offering higher accuracy and stronger generalization capabilities. A classic example: using both embedding retrieval and the BM25 algorithm. Now, you can try to use BGE-M3, which supports both embedding and sparse retrieval. This allows you to obtain token weights (similar to the BM25) without any additional cost when generate dense embeddings. To use hybrid retrieval, you can refer to Vespa and Milvus.\n",
    "\n",
    "- [ ] As cross-encoder models, re-ranker demonstrates higher accuracy than bi-encoder embedding model. Utilizing the re-ranking model (e.g., bge-reranker, bge-reranker-v2) after retrieval can further filter the selected text."
   ],
   "id": "c8fe56400e899a63"
  },
  {
   "metadata": {
    "ExecuteTime": {
     "end_time": "2025-07-11T23:27:29.233680Z",
     "start_time": "2025-07-11T23:27:23.198459Z"
    }
   },
   "cell_type": "code",
   "source": "model = SentenceTransformer(MODEL_ID)",
   "id": "dc2b2753d3f7ba21",
   "outputs": [],
   "execution_count": 4
  },
  {
   "metadata": {
    "ExecuteTime": {
     "end_time": "2025-07-11T23:49:48.451811Z",
     "start_time": "2025-07-11T23:49:48.438178Z"
    }
   },
   "cell_type": "code",
   "source": [
    "class SentenceTransformerEmbeddingFunction:\n",
    "    def __init__(self, model_name_or_path):\n",
    "        self.model_name = model_name_or_path\n",
    "        self.model = SentenceTransformer(model_name_or_path)\n",
    "\n",
    "    def __call__(self, input):\n",
    "        embeddings = self.model.encode(input, normalize_embeddings=True)\n",
    "        return embeddings.tolist()\n",
    "\n",
    "    def name(self):\n",
    "        return self.model_name"
   ],
   "id": "51d87fcf731e71be",
   "outputs": [],
   "execution_count": 27
  },
  {
   "metadata": {
    "ExecuteTime": {
     "end_time": "2025-07-11T23:49:54.891874Z",
     "start_time": "2025-07-11T23:49:49.621727Z"
    }
   },
   "cell_type": "code",
   "source": "embedding_func = SentenceTransformerEmbeddingFunction(MODEL_ID)",
   "id": "be8ff5d3668121a",
   "outputs": [],
   "execution_count": 28
  },
  {
   "metadata": {
    "ExecuteTime": {
     "end_time": "2025-07-11T23:40:08.084589Z",
     "start_time": "2025-07-11T23:40:08.035579Z"
    }
   },
   "cell_type": "code",
   "source": "vectors = model.encode_document(f'{DATA_FOLDER}/Models_doc.jsonl', show_progress_bar=True, device='cuda:0', normalize_embeddings=True)",
   "id": "b5dc715ce1f352bc",
   "outputs": [
    {
     "data": {
      "text/plain": [
       "Batches:   0%|          | 0/1 [00:00<?, ?it/s]"
      ],
      "application/vnd.jupyter.widget-view+json": {
       "version_major": 2,
       "version_minor": 0,
       "model_id": "dc567e24a7a5405b857fb11c0837bedc"
      }
     },
     "metadata": {},
     "output_type": "display_data"
    }
   ],
   "execution_count": 18
  },
  {
   "metadata": {
    "ExecuteTime": {
     "end_time": "2025-07-11T23:27:29.505741Z",
     "start_time": "2025-07-11T23:27:29.490737Z"
    }
   },
   "cell_type": "code",
   "source": [
    "# vectors = pd.DataFrame(vectors)\n",
    "# vectors"
   ],
   "id": "49c2254e4dff0276",
   "outputs": [
    {
     "data": {
      "text/plain": [
       "             0\n",
       "0    -0.026871\n",
       "1    -0.032953\n",
       "2    -0.057616\n",
       "3    -0.030557\n",
       "4    -0.030781\n",
       "...        ...\n",
       "1019 -0.004025\n",
       "1020  0.035294\n",
       "1021  0.009350\n",
       "1022 -0.011672\n",
       "1023  0.001898\n",
       "\n",
       "[1024 rows x 1 columns]"
      ],
      "text/html": [
       "<div>\n",
       "<style scoped>\n",
       "    .dataframe tbody tr th:only-of-type {\n",
       "        vertical-align: middle;\n",
       "    }\n",
       "\n",
       "    .dataframe tbody tr th {\n",
       "        vertical-align: top;\n",
       "    }\n",
       "\n",
       "    .dataframe thead th {\n",
       "        text-align: right;\n",
       "    }\n",
       "</style>\n",
       "<table border=\"1\" class=\"dataframe\">\n",
       "  <thead>\n",
       "    <tr style=\"text-align: right;\">\n",
       "      <th></th>\n",
       "      <th>0</th>\n",
       "    </tr>\n",
       "  </thead>\n",
       "  <tbody>\n",
       "    <tr>\n",
       "      <th>0</th>\n",
       "      <td>-0.026871</td>\n",
       "    </tr>\n",
       "    <tr>\n",
       "      <th>1</th>\n",
       "      <td>-0.032953</td>\n",
       "    </tr>\n",
       "    <tr>\n",
       "      <th>2</th>\n",
       "      <td>-0.057616</td>\n",
       "    </tr>\n",
       "    <tr>\n",
       "      <th>3</th>\n",
       "      <td>-0.030557</td>\n",
       "    </tr>\n",
       "    <tr>\n",
       "      <th>4</th>\n",
       "      <td>-0.030781</td>\n",
       "    </tr>\n",
       "    <tr>\n",
       "      <th>...</th>\n",
       "      <td>...</td>\n",
       "    </tr>\n",
       "    <tr>\n",
       "      <th>1019</th>\n",
       "      <td>-0.004025</td>\n",
       "    </tr>\n",
       "    <tr>\n",
       "      <th>1020</th>\n",
       "      <td>0.035294</td>\n",
       "    </tr>\n",
       "    <tr>\n",
       "      <th>1021</th>\n",
       "      <td>0.009350</td>\n",
       "    </tr>\n",
       "    <tr>\n",
       "      <th>1022</th>\n",
       "      <td>-0.011672</td>\n",
       "    </tr>\n",
       "    <tr>\n",
       "      <th>1023</th>\n",
       "      <td>0.001898</td>\n",
       "    </tr>\n",
       "  </tbody>\n",
       "</table>\n",
       "<p>1024 rows × 1 columns</p>\n",
       "</div>"
      ]
     },
     "execution_count": 6,
     "metadata": {},
     "output_type": "execute_result"
    }
   ],
   "execution_count": 6
  },
  {
   "metadata": {
    "ExecuteTime": {
     "end_time": "2025-07-11T23:27:29.569162Z",
     "start_time": "2025-07-11T23:27:29.554159Z"
    }
   },
   "cell_type": "code",
   "source": "# vectors.shape",
   "id": "dad6e1559e30baf8",
   "outputs": [
    {
     "data": {
      "text/plain": [
       "(1024, 1)"
      ]
     },
     "execution_count": 7,
     "metadata": {},
     "output_type": "execute_result"
    }
   ],
   "execution_count": 7
  },
  {
   "metadata": {
    "ExecuteTime": {
     "end_time": "2025-07-11T23:40:26.701505Z",
     "start_time": "2025-07-11T23:40:26.651493Z"
    }
   },
   "cell_type": "code",
   "source": "vectors_2 = model.encode_document(f'{DATA_FOLDER}/DocProperties_JSONL.jsonl', show_progress_bar=True, device='cuda:0', normalize_embeddings=True)",
   "id": "f96058e7f47dcf0c",
   "outputs": [
    {
     "data": {
      "text/plain": [
       "Batches:   0%|          | 0/1 [00:00<?, ?it/s]"
      ],
      "application/vnd.jupyter.widget-view+json": {
       "version_major": 2,
       "version_minor": 0,
       "model_id": "1c9588fd137047caba70f6b6260d789d"
      }
     },
     "metadata": {},
     "output_type": "display_data"
    }
   ],
   "execution_count": 20
  },
  {
   "metadata": {
    "ExecuteTime": {
     "end_time": "2025-07-11T23:27:29.665184Z",
     "start_time": "2025-07-11T23:27:29.646181Z"
    }
   },
   "cell_type": "code",
   "source": [
    "# vectors_2 = pd.DataFrame(vectors_2)\n",
    "# vectors_2"
   ],
   "id": "82aeaff16b98e35a",
   "outputs": [
    {
     "data": {
      "text/plain": [
       "             0\n",
       "0    -0.051448\n",
       "1    -0.005251\n",
       "2    -0.040826\n",
       "3    -0.023159\n",
       "4    -0.039081\n",
       "...        ...\n",
       "1019  0.001224\n",
       "1020  0.066554\n",
       "1021 -0.028640\n",
       "1022 -0.005577\n",
       "1023  0.007497\n",
       "\n",
       "[1024 rows x 1 columns]"
      ],
      "text/html": [
       "<div>\n",
       "<style scoped>\n",
       "    .dataframe tbody tr th:only-of-type {\n",
       "        vertical-align: middle;\n",
       "    }\n",
       "\n",
       "    .dataframe tbody tr th {\n",
       "        vertical-align: top;\n",
       "    }\n",
       "\n",
       "    .dataframe thead th {\n",
       "        text-align: right;\n",
       "    }\n",
       "</style>\n",
       "<table border=\"1\" class=\"dataframe\">\n",
       "  <thead>\n",
       "    <tr style=\"text-align: right;\">\n",
       "      <th></th>\n",
       "      <th>0</th>\n",
       "    </tr>\n",
       "  </thead>\n",
       "  <tbody>\n",
       "    <tr>\n",
       "      <th>0</th>\n",
       "      <td>-0.051448</td>\n",
       "    </tr>\n",
       "    <tr>\n",
       "      <th>1</th>\n",
       "      <td>-0.005251</td>\n",
       "    </tr>\n",
       "    <tr>\n",
       "      <th>2</th>\n",
       "      <td>-0.040826</td>\n",
       "    </tr>\n",
       "    <tr>\n",
       "      <th>3</th>\n",
       "      <td>-0.023159</td>\n",
       "    </tr>\n",
       "    <tr>\n",
       "      <th>4</th>\n",
       "      <td>-0.039081</td>\n",
       "    </tr>\n",
       "    <tr>\n",
       "      <th>...</th>\n",
       "      <td>...</td>\n",
       "    </tr>\n",
       "    <tr>\n",
       "      <th>1019</th>\n",
       "      <td>0.001224</td>\n",
       "    </tr>\n",
       "    <tr>\n",
       "      <th>1020</th>\n",
       "      <td>0.066554</td>\n",
       "    </tr>\n",
       "    <tr>\n",
       "      <th>1021</th>\n",
       "      <td>-0.028640</td>\n",
       "    </tr>\n",
       "    <tr>\n",
       "      <th>1022</th>\n",
       "      <td>-0.005577</td>\n",
       "    </tr>\n",
       "    <tr>\n",
       "      <th>1023</th>\n",
       "      <td>0.007497</td>\n",
       "    </tr>\n",
       "  </tbody>\n",
       "</table>\n",
       "<p>1024 rows × 1 columns</p>\n",
       "</div>"
      ]
     },
     "execution_count": 9,
     "metadata": {},
     "output_type": "execute_result"
    }
   ],
   "execution_count": 9
  },
  {
   "metadata": {
    "ExecuteTime": {
     "end_time": "2025-07-11T23:27:29.729198Z",
     "start_time": "2025-07-11T23:27:29.714196Z"
    }
   },
   "cell_type": "code",
   "source": "# vectors_2.shape",
   "id": "e85d1c4140054e01",
   "outputs": [
    {
     "data": {
      "text/plain": [
       "(1024, 1)"
      ]
     },
     "execution_count": 10,
     "metadata": {},
     "output_type": "execute_result"
    }
   ],
   "execution_count": 10
  },
  {
   "metadata": {
    "ExecuteTime": {
     "end_time": "2025-07-11T23:27:29.871231Z",
     "start_time": "2025-07-11T23:27:29.778211Z"
    }
   },
   "cell_type": "code",
   "source": "chrome_persistent_client = chromadb.PersistentClient(path=f'{DATA_FOLDER}/chromadb')",
   "id": "e1e8bb06923005a",
   "outputs": [],
   "execution_count": 11
  },
  {
   "metadata": {
    "ExecuteTime": {
     "end_time": "2025-07-11T23:47:57.183957Z",
     "start_time": "2025-07-11T23:47:57.178957Z"
    }
   },
   "cell_type": "code",
   "source": [
    "def embedding_wrapper(text):\n",
    "    return model.encode_document(text, show_progress_bar=True, normalize_embeddings=True).tolist()"
   ],
   "id": "6431e3ded57d7dff",
   "outputs": [],
   "execution_count": 23
  },
  {
   "metadata": {
    "ExecuteTime": {
     "end_time": "2025-07-11T23:50:14.932662Z",
     "start_time": "2025-07-11T23:50:14.909962Z"
    }
   },
   "cell_type": "code",
   "source": [
    "try:\n",
    "    collection = chrome_persistent_client.create_collection(name='my_rag_v3', embedding_function=embedding_func)\n",
    "finally:\n",
    "    collection = chrome_persistent_client.get_collection(name='my_rag_v3', embedding_function=embedding_func)"
   ],
   "id": "f2052410e77be5ae",
   "outputs": [],
   "execution_count": 30
  },
  {
   "metadata": {
    "ExecuteTime": {
     "end_time": "2025-07-11T23:50:22.169481Z",
     "start_time": "2025-07-11T23:50:22.089064Z"
    }
   },
   "cell_type": "code",
   "source": [
    "collection.upsert(\n",
    "    documents=[\n",
    "        f'{DATA_FOLDER}/DocProperties_JSONL.jsonl',\n",
    "        f'{DATA_FOLDER}/Models_doc.jsonl'\n",
    "    ],\n",
    "    metadatas=[\n",
    "        {'category':'code + explanation'},\n",
    "        {'category':'classes'},\n",
    "    ],\n",
    "    ids=[\"id0\", \"id1\"],\n",
    "    embeddings=[vectors_2, vectors]\n",
    ")"
   ],
   "id": "92aaec02eaa33522",
   "outputs": [],
   "execution_count": 31
  },
  {
   "metadata": {
    "ExecuteTime": {
     "end_time": "2025-07-11T23:50:25.313739Z",
     "start_time": "2025-07-11T23:50:25.255124Z"
    }
   },
   "cell_type": "code",
   "source": [
    "result = collection.query(\n",
    "    query_texts=['write animal info'],\n",
    "    n_results=1,\n",
    ")\n",
    "result"
   ],
   "id": "4faeb872d29570ea",
   "outputs": [
    {
     "data": {
      "text/plain": [
       "{'ids': [['id1']],\n",
       " 'embeddings': None,\n",
       " 'documents': [['../data/Models_doc.jsonl']],\n",
       " 'uris': None,\n",
       " 'included': ['metadatas', 'documents', 'distances'],\n",
       " 'data': None,\n",
       " 'metadatas': [[{'category': 'classes'}]],\n",
       " 'distances': [[1.1367965936660767]]}"
      ]
     },
     "execution_count": 32,
     "metadata": {},
     "output_type": "execute_result"
    }
   ],
   "execution_count": 32
  },
  {
   "metadata": {},
   "cell_type": "code",
   "outputs": [],
   "execution_count": null,
   "source": "# TODO crack files to smaller pieces DocProperties_JSONL.jsonl and Models_doc.jsonl",
   "id": "81f463073b40fa27"
  }
 ],
 "metadata": {
  "kernelspec": {
   "display_name": "Python 3",
   "language": "python",
   "name": "python3"
  },
  "language_info": {
   "codemirror_mode": {
    "name": "ipython",
    "version": 2
   },
   "file_extension": ".py",
   "mimetype": "text/x-python",
   "name": "python",
   "nbconvert_exporter": "python",
   "pygments_lexer": "ipython2",
   "version": "2.7.6"
  }
 },
 "nbformat": 4,
 "nbformat_minor": 5
}
