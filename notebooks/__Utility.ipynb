{
 "cells": [
  {
   "cell_type": "code",
   "id": "initial_id",
   "metadata": {
    "collapsed": true,
    "ExecuteTime": {
     "end_time": "2025-08-21T19:04:43.289336Z",
     "start_time": "2025-08-21T19:04:36.058029Z"
    }
   },
   "source": [
    "import pickle\n",
    "from BasicClasses import SimpleGrammarNER"
   ],
   "outputs": [],
   "execution_count": 2
  },
  {
   "metadata": {
    "ExecuteTime": {
     "end_time": "2025-08-21T19:04:44.994267Z",
     "start_time": "2025-08-21T19:04:44.092307Z"
    }
   },
   "cell_type": "code",
   "source": "ner = SimpleGrammarNER()",
   "id": "43c0420f60b3f3d0",
   "outputs": [],
   "execution_count": 3
  },
  {
   "metadata": {
    "ExecuteTime": {
     "end_time": "2025-08-21T19:04:45.954324Z",
     "start_time": "2025-08-21T19:04:45.943324Z"
    }
   },
   "cell_type": "code",
   "source": "ner.save_to_pickle()",
   "id": "8b21d7c396c609ed",
   "outputs": [
    {
     "name": "stdout",
     "output_type": "stream",
     "text": [
      "Components saved to D:\\WORK\\InCore\\PyMarkup4CS\\data\\ML/NLPickles/ner_components.pkl\n"
     ]
    }
   ],
   "execution_count": 4
  }
 ],
 "metadata": {
  "kernelspec": {
   "display_name": "Python 3",
   "language": "python",
   "name": "python3"
  },
  "language_info": {
   "codemirror_mode": {
    "name": "ipython",
    "version": 2
   },
   "file_extension": ".py",
   "mimetype": "text/x-python",
   "name": "python",
   "nbconvert_exporter": "python",
   "pygments_lexer": "ipython2",
   "version": "2.7.6"
  }
 },
 "nbformat": 4,
 "nbformat_minor": 5
}
